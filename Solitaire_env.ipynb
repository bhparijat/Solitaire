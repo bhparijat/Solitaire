{
 "cells": [
  {
   "cell_type": "code",
   "execution_count": 1,
   "metadata": {},
   "outputs": [],
   "source": [
    "import numpy as np\n",
    "import pandas as pd\n",
    "import matplotlib.pyplot as plt\n",
    "import random\n",
    "import time\n",
    "import unittest\n",
    "from tqdm import tqdm"
   ]
  },
  {
   "cell_type": "code",
   "execution_count": 2,
   "metadata": {},
   "outputs": [],
   "source": [
    "class card:\n",
    "    \"\"\"\n",
    "    Defines structure for a card\n",
    "    \n",
    "    \"\"\"\n",
    "    def __init__(self,color,suit,number,speciality,face):\n",
    "        \"\"\"\n",
    "        Args:\n",
    "            color ==> red or black\n",
    "            suit ===> club, heart, diamond, spade\n",
    "            number ==> 1 to 13\n",
    "            speciality ==> None or Ace, King, Queen,Jack\n",
    "        \"\"\"\n",
    "        self.suit = suit\n",
    "        self.color = color\n",
    "        self.number = number\n",
    "        self.speciality = speciality\n",
    "        self.face = face"
   ]
  },
  {
   "cell_type": "code",
   "execution_count": 3,
   "metadata": {},
   "outputs": [],
   "source": [
    "class state:\n",
    "    \"\"\"\n",
    "    Defines the structure of a state. A state holds pile, foundation and tableau, cards to review. \n",
    "    \n",
    "    \"\"\"\n",
    "    def __init__(self):\n",
    "        \n",
    "        \"\"\"\n",
    "        A state comprises of :\n",
    "            4 foundations ==> club, heart, diamond, spade in that order\n",
    "        \n",
    "            7 tableaus ===> cards facing up or down\n",
    "            \n",
    "            1 pile ===> empty or has cards\n",
    "        \n",
    "        \"\"\"\n",
    "        \n",
    "        self.all_cards = []\n",
    "        self.pile = None\n",
    "        self.tableau = [[] for i in range(7)]\n",
    "        self.foundation = [[],[],[],[]]\n",
    "        \n",
    "        self.gen_non_special_cards('red','heart')\n",
    "        self.gen_non_special_cards('red','diamond')\n",
    "        self.gen_non_special_cards('black','spade')\n",
    "        self.gen_non_special_cards('black','club')\n",
    "        \n",
    "        \n",
    "        self.gen_special_cards('red','heart')\n",
    "        self.gen_special_cards('red','diamond')\n",
    "        self.gen_special_cards('black','spade')\n",
    "        self.gen_special_cards('black','club')\n",
    "        \n",
    "        #print(len(self.all_cards))\n",
    "        \n",
    "        random.shuffle(self.all_cards)\n",
    "        \n",
    "        pile_index = self.make_pile()\n",
    "        _ = self.make_tableau(pile_index)\n",
    "        \n",
    "        self.hashable_state = None\n",
    "    def make_pile(self):\n",
    "        \n",
    "        pile_index = random.sample(range(len(self.all_cards)),24 )\n",
    "        \n",
    "        pile_index.sort()\n",
    "        self.pile = [self.all_cards[i] for i in pile_index]\n",
    "        \n",
    "        for card in self.pile:\n",
    "            card.face = 'up'\n",
    "        #print(self.pile)\n",
    "        \n",
    "        return pile_index\n",
    "    \n",
    "   \n",
    "            \n",
    "    def make_tableau(self,pile_index):\n",
    "        \n",
    "        #print(pile_index)\n",
    "        tableau_index = [i for i in range(len(self.all_cards)) if i not in pile_index]\n",
    "        check1 = tableau_index[:]\n",
    "        check2 = []\n",
    "        #print(\"index of cards to be in tableau \", tableau_index)\n",
    "        \n",
    "        for i in range(1,8):\n",
    "            \n",
    "            all_cards_this_tableau_index = random.sample(range(len(tableau_index)),i)\n",
    "            \n",
    "            all_cards_this_tableau = [tableau_index[x] for x in all_cards_this_tableau_index]\n",
    "            #print(\"index of cards to be in {} tableau\".format(i),all_cards_this_tableau)\n",
    "            \n",
    "            tableau_index = [x for x in tableau_index if x not in all_cards_this_tableau]\n",
    "            \n",
    "            for card_index  in all_cards_this_tableau:\n",
    "                \n",
    "                \n",
    "                self.tableau[i-1].append(self.all_cards[card_index])\n",
    "                check2.append(card_index)\n",
    "        \n",
    "        \n",
    "        \n",
    "        for i in range(7):\n",
    "            self.tableau[i][-1].face = 'up'\n",
    "            \n",
    "        check1.sort()\n",
    "        check2.sort()\n",
    "        \n",
    "        #print(check1)\n",
    "        #print(check2)\n",
    "        \n",
    "        assert check1 == check2\n",
    "        #print(a)\n",
    "                \n",
    "    def gen_special_cards(self,color,suit,face = 'down'):\n",
    "        \n",
    "        self.all_cards.append(card(color,suit,1,'ACE',face))\n",
    "        self.all_cards.append(card(color,suit,13,'KING',face))\n",
    "        self.all_cards.append(card(color,suit,12,'QUEEN',face))\n",
    "        self.all_cards.append(card(color,suit,11,'JACK',face))\n",
    "        \n",
    "        \n",
    "    def gen_non_special_cards(self,color,suit,face = \"down\",speciality = None):\n",
    "        \n",
    "        for number in range(2,11):\n",
    "            self.all_cards.append(card(color,suit,number,speciality,face))"
   ]
  },
  {
   "cell_type": "code",
   "execution_count": 4,
   "metadata": {},
   "outputs": [],
   "source": [
    "\n",
    "class env:\n",
    "    \n",
    "    def __init__(self):\n",
    "        \n",
    "        self.state = state()\n",
    "        self.action_n = 6\n",
    "        self.hashable_state = None\n",
    "        #print(\"called\")\n",
    "        \n",
    "        self.hashable_map = {}\n",
    "        self.map = {}\n",
    "        self.number_of_states = 0\n",
    "        \n",
    "    def reset(self):\n",
    "        self.state = state()\n",
    "    \n",
    "    def generate_deep_copy_state(self,to_copy_state):\n",
    "        \n",
    "        deep_copy_state = state()\n",
    "        \n",
    "        deep_copy_state.pile = []\n",
    "        deep_copy_state.tableau = [[] for _ in range(7)]\n",
    "        deep_copy_state.foundation = [[] for _ in range(4)]\n",
    "        \n",
    "        for cd in to_copy_state.pile:\n",
    "            new_card = card(cd.color,cd.suit,cd.number,cd.speciality,cd.face)\n",
    "            deep_copy_state.pile.append(new_card)\n",
    "            \n",
    "            \n",
    "        for i in range(7):\n",
    "            \n",
    "            for cd in to_copy_state.tableau[i]:\n",
    "                new_card = card(cd.color,cd.suit,cd.number,cd.speciality,cd.face)\n",
    "\n",
    "                deep_copy_state.tableau[i].append(new_card)\n",
    "                \n",
    "                \n",
    "                \n",
    "                \n",
    "        for i  in range(4):\n",
    "            for cd in to_copy_state.foundation[i]:\n",
    "                new_card = card(cd.color,cd.suit,cd.number,cd.speciality,cd.face)\n",
    "\n",
    "                deep_copy_state.foundation[i].append(new_card)\n",
    "                \n",
    "                \n",
    "        \n",
    "        return deep_copy_state\n",
    "        \n",
    "    def current_state(self):\n",
    "        return self.state\n",
    "    \n",
    "    def generate_hashable_state(self,state):\n",
    "        \n",
    "        hashable_state = []\n",
    "        \n",
    "        #for card in self.state.pile:\n",
    "            \n",
    "        hashable_state.append(tuple(state.pile))\n",
    "            \n",
    "        \n",
    "        for i in range(7):\n",
    "            \n",
    "            \n",
    "            hashable_state.append(tuple(state.tableau[i]))\n",
    "                \n",
    "                \n",
    "        \n",
    "        for i in range(4):\n",
    "            \n",
    "            hashable_state.append(tuple(state.foundation[i]))\n",
    "            \n",
    "            \n",
    "         \n",
    "        \n",
    "        return tuple(hashable_state)\n",
    "        \n",
    "    def step(self,action):\n",
    "        \n",
    "        taken = None\n",
    "        if action == 0 :\n",
    "            taken = self.tableau_to_foundation_reveal()\n",
    "            \n",
    "        elif action == 1:\n",
    "            taken = self.to_foundation_stack()\n",
    "            \n",
    "        elif action == 2:\n",
    "            taken = self.tableau_to_tableau_reveal()\n",
    "            \n",
    "        elif action == 3:\n",
    "            taken = self.pile_to_tableau()\n",
    "            \n",
    "        elif action == 4:\n",
    "            taken = self.foundation_to_tableau()\n",
    "            \n",
    "        elif action == 5:\n",
    "            taken = self.tableau_to_tableau_not_reveal()\n",
    "    \n",
    "        \n",
    "        key = self.generate_hashable_state(self.state)\n",
    "        \n",
    "        #print(tuple(self.hashable_state))\n",
    "        \n",
    "        ##key = tuple(self.hashable_state)\n",
    "        if key not in self.map:\n",
    "            self.map[key] = 0\n",
    "            \n",
    "        self.map[key]+=1\n",
    "        \n",
    "        \n",
    "        return self.isterminal(),taken\n",
    "    \n",
    "    \n",
    "    \n",
    "    def print_card(self,card):\n",
    "        print(\"suit = {:10s} color = {:10s} number = {:5} speciality = {:10s} face = {:5s}\".format(card.suit,card.color,card.number,str(card.speciality),card.face))\n",
    "\n",
    "    def print_cards(self,cards):\n",
    "        \n",
    "        for card in cards:\n",
    "            self.print_card(card)\n",
    "    \n",
    "    def check_compatible(self,card):\n",
    "        \n",
    "        f = self.suit_number(card.suit)\n",
    "        \n",
    "        if card.number == 1 or (len(self.state.foundation[f])> 0 and card.number == self.state.foundation[f][-1].number+1):\n",
    "            return True\n",
    "                \n",
    "                \n",
    "        return False\n",
    "                \n",
    "        \n",
    "    def suit_number(self,suit):\n",
    "        \n",
    "        if suit == 'club':\n",
    "            return 0\n",
    "        elif suit == 'heart':\n",
    "            return 1 \n",
    "        elif suit == 'diamond':\n",
    "            return 2\n",
    "        else:\n",
    "            return 3\n",
    "    def highlight_movable_cards_pile(self):\n",
    "        \n",
    "        movable_where = []\n",
    "        \n",
    "        movable_indices_tableau = []\n",
    "        movable_indices_foundation = []\n",
    "        for i,card in enumerate(self.state.pile):\n",
    "            \n",
    "            movable_where.append([])\n",
    "            \n",
    "            movable_where[i] = {'tableau':[],'foundation':[]}\n",
    "            \n",
    "            for f in range(7):\n",
    "                \n",
    "                cond1 = len(self.state.tableau[f]) == 0 and  card.number == 13\n",
    "                \n",
    "                cond2 = len(self.state.tableau[f]) > 0 and self.state.tableau[f][-1].color != card.color and card.number+1 == self.state.tableau[f][-1].number\n",
    "                \n",
    "                if cond1 or cond2:\n",
    "                    movable_where[i]['tableau'].append(f)\n",
    "                    \n",
    "            \n",
    "            if self.check_compatible(card):\n",
    "                movable_where[i]['foundation'].append(self.suit_number(card.suit))\n",
    "             \n",
    "            \n",
    "            if len(movable_where[i]['tableau']) !=0 :\n",
    "                movable_indices_tableau.append(i)\n",
    "                \n",
    "            if len(movable_where[i]['foundation']) != 0:\n",
    "                movable_indices_foundation.append(i)\n",
    "                \n",
    "        return movable_where,movable_indices_tableau,movable_indices_foundation\n",
    "            \n",
    "        \n",
    "    def tableau_to_foundation_reveal(self):\n",
    "        \n",
    "        movable = []\n",
    "        moves = []\n",
    "        for i in range(7):\n",
    "            \n",
    "            movable.append([])\n",
    "            \n",
    "            if len(self.state.tableau[i]) <= 1 or self.state.tableau[i][-2].face == 'up': \n",
    "                continue\n",
    "            \n",
    "            to_move_card = self.state.tableau[i][-1]\n",
    "            \n",
    "            f_no = self.suit_number(to_move_card.suit)\n",
    "            \n",
    "            if to_move_card.number == 1:\n",
    "                moves.append(i)\n",
    "                \n",
    "            elif len(self.state.foundation[f_no])>0 and to_move_card.number == self.state.foundation[f_no][-1].number +1:\n",
    "                moves.append(i)\n",
    "            \n",
    "            \n",
    "        \n",
    "        \n",
    "        if len(moves) == 0:\n",
    "            return False\n",
    "        \n",
    "        \n",
    "        \n",
    "        \n",
    "        mp = {}\n",
    "        len_keys = 0\n",
    "        len_moves = len(moves)\n",
    "        while len_keys<len_moves:\n",
    "            deep_copy_state = self.generate_deep_copy_state(self.state)\n",
    "            ind = None\n",
    "            while True:\n",
    "                ind = random.sample(range(len_moves),1)[0]\n",
    "                if ind not in mp:\n",
    "                    mp[ind] = 1\n",
    "                    len_keys+=1\n",
    "                    break\n",
    "            from_tableau = moves[ind]\n",
    "\n",
    "            #print(\"tableau number \", from_tableau)\n",
    "\n",
    "            card = deep_copy_state.tableau[from_tableau][-1]\n",
    "\n",
    "            deep_copy_state.tableau[from_tableau].pop()\n",
    "\n",
    "            deep_copy_state.tableau[from_tableau][-1].face = 'up'\n",
    "\n",
    "            deep_copy_state.foundation[self.suit_number(card.suit)].append(card)\n",
    "            \n",
    "            hashable_state = self.generate_hashable_state(deep_copy_state)\n",
    "            \n",
    "            if hashable_state not in self.hashable_map:\n",
    "                \n",
    "                self.state = deep_copy_state\n",
    "                \n",
    "                self.hashable_map[hashable_state] = 1\n",
    "                \n",
    "                return True\n",
    "        \n",
    "        return False\n",
    "    def to_foundation_stack(self):\n",
    "        \n",
    "        \n",
    "        moves = []\n",
    "        \n",
    "        \n",
    "        for i,card in enumerate(self.state.pile):\n",
    "            \n",
    "            f_no = self.suit_number(card.suit)\n",
    "            \n",
    "            if card.number == 1 or (len(self.state.foundation[f_no]) > 0 and card.number == self.state.foundation[f_no][-1].number + 1):\n",
    "                moves.append((0,i))\n",
    "                \n",
    "            \n",
    "            \n",
    "        \n",
    "        for i in range(7):\n",
    "            \n",
    "            if len(self.state.tableau[i]) == 0:\n",
    "                continue\n",
    "                \n",
    "            card = self.state.tableau[i][-1]\n",
    "            \n",
    "            f_no = self.suit_number(card.suit)\n",
    "            \n",
    "            if card.number == 1 or (len(self.state.foundation[f_no]) > 0 and card.number == self.state.foundation[f_no][-1].number + 1):\n",
    "                moves.append((1,i))\n",
    "                \n",
    "                \n",
    "          \n",
    "        if len(moves) == 0:\n",
    "            return False\n",
    "        \n",
    "        \n",
    "        \n",
    "        mp = {}\n",
    "        len_keys = 0\n",
    "        len_moves = len(moves)\n",
    "        \n",
    "        \n",
    "        while len_keys <len_moves:\n",
    "            \n",
    "            \n",
    "            deep_copy_state = self.generate_deep_copy_state(self.state)\n",
    "            ind = None\n",
    "            while True:\n",
    "                ind = random.sample(range(len_moves),1)[0]\n",
    "                if ind not in mp:\n",
    "                    mp[ind] = 1\n",
    "                    len_keys+=1\n",
    "                    break\n",
    "                    \n",
    "                    \n",
    "            #ind = random.sample(range(len(moves)),1)[0]\n",
    "            \n",
    "            \n",
    "            \n",
    "            typ, i = moves[ind]\n",
    "\n",
    "            if typ == 0:\n",
    "\n",
    "                card = deep_copy_state.pile[i]\n",
    "                f_no = self.suit_number(card.suit)\n",
    "\n",
    "                deep_copy_state.pile.pop(i)\n",
    "\n",
    "\n",
    "                deep_copy_state.foundation[f_no].append(card)\n",
    "            else:\n",
    "\n",
    "                card = deep_copy_state.tableau[i][-1]\n",
    "\n",
    "                f_no = self.suit_number(card.suit)\n",
    "\n",
    "                deep_copy_state.tableau[i].pop()\n",
    "\n",
    "                if len(deep_copy_state.tableau[i]) >0:\n",
    "\n",
    "                    deep_copy_state.tableau[i][-1].face = 'up'\n",
    "\n",
    "                deep_copy_state.foundation[f_no].append(card)\n",
    "\n",
    "            \n",
    "            hashable_state = self.generate_hashable_state(deep_copy_state)\n",
    "            \n",
    "            if hashable_state not in self.hashable_map:\n",
    "                \n",
    "                self.state = deep_copy_state\n",
    "                \n",
    "                self.hashable_map[hashable_state] = 1\n",
    "                \n",
    "                return True\n",
    "            #return True\n",
    "        \n",
    "        return False\n",
    "    def tableau_to_tableau_reveal(self):\n",
    "        \n",
    "        movable = []\n",
    "        \n",
    "        for i in range(7):\n",
    "            \n",
    "            movable.append([])\n",
    "            if len(self.state.tableau[i])<=1:\n",
    "                continue\n",
    "            \n",
    "            prev = None\n",
    "            for j,card in enumerate(self.state.tableau[i]):\n",
    "                \n",
    "                if card.face == 'up' and prev is not None and prev.face == 'down':\n",
    "                    movable[i].append(j)\n",
    "                    break\n",
    "                    \n",
    "                prev = card \n",
    "                \n",
    "         \n",
    "        #print(\"In tableu to tableu\",movable)\n",
    "        \n",
    "        moves = []\n",
    "        \n",
    "        for i in range(7):\n",
    "            \n",
    "            for j in range(7):\n",
    "                \n",
    "                if i == j or len(movable[i])==0 or len(self.state.tableau[j])==0:\n",
    "                    continue\n",
    "                   \n",
    "                \n",
    "                to_move_card = self.state.tableau[i][movable[i][0]]\n",
    "                \n",
    "                last_card = self.state.tableau[j][-1]\n",
    "                    \n",
    "                \n",
    "                cond1 = to_move_card.color != last_card.color\n",
    "                \n",
    "                cond2 = to_move_card.number + 1 == last_card.number\n",
    "                \n",
    "                if cond1 and cond2:\n",
    "                    \n",
    "                    moves.append((i,movable[i][0],j))\n",
    "                    \n",
    "                    \n",
    "        \n",
    "        if len(moves)==0:\n",
    "            return False\n",
    "        \n",
    "        \n",
    "        \n",
    "        mp = {}\n",
    "        len_keys = 0\n",
    "        len_moves = len(moves)\n",
    "        \n",
    "        while len_keys < len_moves:\n",
    "            \n",
    "            deep_copy_state = self.generate_deep_copy_state(self.state)\n",
    "            ind = None\n",
    "            \n",
    "            while True:\n",
    "                ind = random.sample(range(len_moves),1)[0]\n",
    "                if ind not in mp:\n",
    "                    mp[ind] = 1\n",
    "                    len_keys+=1\n",
    "                    break\n",
    "        \n",
    "            #ind = random.sample(range(len(moves)),1)[0]\n",
    "           \n",
    "            from_tableau,i,to_tableau = moves[ind]\n",
    "\n",
    "            for card in deep_copy_state.tableau[from_tableau][i:]:\n",
    "\n",
    "                deep_copy_state.tableau[to_tableau].append(card)\n",
    "\n",
    "\n",
    "\n",
    "            deep_copy_state.tableau[from_tableau] = deep_copy_state.tableau[from_tableau][:i]\n",
    "\n",
    "            deep_copy_state.tableau[from_tableau][-1].face = 'up'\n",
    "            \n",
    "            \n",
    "            hashable_state = self.generate_hashable_state(deep_copy_state)\n",
    "            \n",
    "            if hashable_state not in self.hashable_map:\n",
    "                \n",
    "                self.state = deep_copy_state\n",
    "                \n",
    "                self.hashable_map[hashable_state] = 1\n",
    "                \n",
    "                return True\n",
    "\n",
    "            #return True\n",
    "        \n",
    "        return False\n",
    "    def pile_to_tableau(self):\n",
    "        \n",
    "        movable_where,movable_indices_tableau,movable_indices_foundation  = self.highlight_movable_cards_pile()\n",
    "        \n",
    "        if len(movable_indices_tableau) == 0:\n",
    "            return False\n",
    "        \n",
    "        \n",
    "        \n",
    "        mp1,mp2 = {},{}\n",
    "        len_keys = 0\n",
    "        len_moves = len(movable_indices_tableau)\n",
    "        \n",
    "        while len_keys < len_moves:\n",
    "            \n",
    "            deep_copy_state = self.generate_deep_copy_state(self.state)\n",
    "            ind = None\n",
    "            \n",
    "            while True:\n",
    "                ind = random.sample(range(len_moves),1)[0]\n",
    "                if ind not in mp1:\n",
    "                    mp1[ind] = 1\n",
    "                    len_keys+=1\n",
    "                    break\n",
    "        \n",
    "            #ind = random.sample(range(len(movable_indices_tableau)),1)[0]\n",
    "\n",
    "\n",
    "\n",
    "            to_move = movable_indices_tableau[ind]\n",
    "\n",
    "            card_to_move = deep_copy_state.pile[to_move]\n",
    "\n",
    "            \n",
    "            \n",
    "            tableau_index = random.sample(range(len(movable_where[to_move]['tableau'])),1)[0]\n",
    "\n",
    "            tableau_index = movable_where[to_move]['tableau'][tableau_index]\n",
    "\n",
    "            deep_copy_state.tableau[tableau_index].append(card_to_move)\n",
    "\n",
    "\n",
    "\n",
    "\n",
    "            deep_copy_state.pile.pop(to_move)\n",
    "        \n",
    "            hashable_state = self.generate_hashable_state(deep_copy_state)\n",
    "            \n",
    "            if hashable_state not in self.hashable_map:\n",
    "                \n",
    "                self.state = deep_copy_state\n",
    "                \n",
    "                self.hashable_map[hashable_state] = 1\n",
    "                \n",
    "                return True\n",
    "            \n",
    "        return True\n",
    "        \n",
    "    def foundation_to_tableau(self):\n",
    "        \n",
    "        moves = []\n",
    "        for i in range(4):\n",
    "            \n",
    "            if len(self.state.foundation[i]) == 0:\n",
    "                continue\n",
    "                \n",
    "            card = self.state.foundation[i][-1]\n",
    "            \n",
    "            for j in range(7):\n",
    "                \n",
    "                if len(self.state.tableau[j]) == 0:\n",
    "                    continue\n",
    "                    \n",
    "                \n",
    "                last_card = self.state.tableau[j][-1]\n",
    "                \n",
    "                if last_card.color != card.color and last_card.number == card.number+1:\n",
    "                    moves.append((i,j))\n",
    "        \n",
    "        \n",
    "        \n",
    "        if len(moves) == 0:\n",
    "            return False\n",
    "        \n",
    "        mp = {}\n",
    "        len_keys = 0\n",
    "        len_moves = len(moves)\n",
    "        \n",
    "        while len_keys < len_moves:\n",
    "            \n",
    "            deep_copy_state = self.generate_deep_copy_state(self.state)\n",
    "            #print(len(self.state.foundation[foundation]),len(deep_copy_state.foundation[foundation]))\n",
    "\n",
    "            ind = None\n",
    "            \n",
    "            while True:\n",
    "                ind = random.sample(range(len_moves),1)[0]\n",
    "                if ind not in mp:\n",
    "                    mp[ind] = 1\n",
    "                    len_keys+=1\n",
    "                    break\n",
    "                    \n",
    "            #ind = random.sample(range(len(moves)),1)[0]\n",
    "\n",
    "            foundation,tableau = moves[ind]\n",
    "            \n",
    "            #print(foundation,tableau)\n",
    "            #print(len(self.state.foundation[foundation]),len(deep_copy_state.foundation[foundation]))\n",
    "            card = deep_copy_state.foundation[foundation][-1]\n",
    "\n",
    "            deep_copy_state.foundation[foundation].pop()\n",
    "\n",
    "            deep_copy_state.tableau[tableau].append(card)\n",
    "\n",
    "\n",
    "\n",
    "            hashable_state = self.generate_hashable_state(deep_copy_state)\n",
    "\n",
    "            if hashable_state not in self.hashable_map:\n",
    "\n",
    "                self.state = deep_copy_state\n",
    "\n",
    "                self.hashable_map[hashable_state] = 1\n",
    "\n",
    "                return True\n",
    "        \n",
    "        return False\n",
    "    def tableau_to_tableau_not_reveal(self):\n",
    "        \n",
    "        \n",
    "        movable = []\n",
    "        \n",
    "        for i in range(7):\n",
    "            \n",
    "            first = False\n",
    "            movable.append([])\n",
    "            for j,card in enumerate(self.state.tableau[i]):\n",
    "                \n",
    "                if card.face == 'up' and i == 0:\n",
    "                    \n",
    "                    movable[i].extend(range(len(self.state.tableau[i])))\n",
    "                    \n",
    "                    break\n",
    "                elif card.face == 'up' and first == True:\n",
    "                    \n",
    "                    movable[i].append(j)\n",
    "                \n",
    "                elif card.face == 'up':\n",
    "                    first = True\n",
    "                    \n",
    "        #to_move = []\n",
    "        \n",
    "        where_to_move = []\n",
    "        \n",
    "        which_movable_tableaus = []\n",
    "        \n",
    "        \n",
    "        for i in range(7):\n",
    "            \n",
    "            #to_move.append([])\n",
    "            where_to_move.append([])\n",
    "            for j,to_move in enumerate(movable[i]):\n",
    "            \n",
    "                for k in range(7):\n",
    "\n",
    "                    if i == k:\n",
    "                        continue\n",
    "\n",
    "                        to_move_card = self.state.tableau[i][to_move]\n",
    "\n",
    "                        \n",
    "\n",
    "                        condition1 = len(self.state.tableau[k])>0 and to_move_card.color != self.state.tableau[k][-1].color  \n",
    "                        condition2 = len(self.state.tableau[k])>0 and to_move_card.number+1 == self.state.tableau[k][-1].number\n",
    "                        \n",
    "                        if condition1 and condition2:\n",
    "                            where_to_move[i].append(j)\n",
    "                            \n",
    "                            which_movable_tableaus.append((i,j,k))\n",
    "                        else:\n",
    "                            \n",
    "                            where_to_move[i].append(np.inf)\n",
    "                            \n",
    "                 \n",
    "        \n",
    "        if len(which_movable_tableaus) == 0:\n",
    "            return False\n",
    "        \n",
    "        mp = {}\n",
    "        len_keys = 0\n",
    "        len_moves = len(moves)\n",
    "        \n",
    "        while len_keys < len_moves:\n",
    "            \n",
    "            deep_copy_state = self.generate_deep_copy_state(self.state)\n",
    "            ind = None\n",
    "            \n",
    "            while True:\n",
    "                ind = random.sample(range(len_moves),1)[0]\n",
    "                if ind not in mp:\n",
    "                    mp[ind] = 1\n",
    "                    len_keys+=1\n",
    "                    break\n",
    "                    \n",
    "                    \n",
    "            #ind = random.sample(range(len(which_movable_tableaus)),1)[0]\n",
    "\n",
    "            from_tableau, cards_to_move,to_tableau = which_movable_tableaus[ind]\n",
    "\n",
    "\n",
    "\n",
    "\n",
    "\n",
    "            for card in deep_copy_state.tableau[from_tableau[cards_to_move:]]:\n",
    "\n",
    "                deep_copy_state.tableau[to_tableau].append(card)\n",
    "\n",
    "\n",
    "            deep_copy_state.tableau[from_tableau] = deep_copy_state.tableau[from_tableau[:cards_to_move]]\n",
    "\n",
    "\n",
    "            hashable_state = self.generate_hashable_state(deep_copy_state)\n",
    "\n",
    "            if hashable_state not in self.hashable_map:\n",
    "\n",
    "                self.state = deep_copy_state\n",
    "\n",
    "                self.hashable_map[hashable_state] = 1\n",
    "\n",
    "                return True\n",
    "        \n",
    "        return False\n",
    "        \n",
    "    def get_pile(self):\n",
    "        \n",
    "        self.print_cards(self.state.pile)\n",
    "        \n",
    "    def get_tableau(self):\n",
    "        \n",
    "        for i,tableau in enumerate(self.state.tableau):\n",
    "            print(\"printing tableau number {} ********************\".format(i+1))\n",
    "            self.print_cards(tableau)\n",
    "            \n",
    "    def get_foundation(self):\n",
    "        \n",
    "        for i,foundation in enumerate(self.state.foundation):\n",
    "            print(\"printing foundation number {} ********************\".format(i+1))\n",
    "            self.print_cards(foundation)\n",
    "        \n",
    "            \n",
    "    def isterminal(self):\n",
    "        \n",
    "        ans = (len(self.state.pile) == 0)\n",
    "        \n",
    "        #print(ans)\n",
    "        for i in range(len(self.state.tableau)):\n",
    "            ans = ans and (len(self.state.tableau[i]) == 0 )\n",
    "            \n",
    "            \n",
    "        #print(ans)\n",
    "        \n",
    "        for i in range(len(self.state.foundation)):\n",
    "            ans = ans and (len(self.state.foundation[i])==13)\n",
    "            \n",
    "            \n",
    "        #print(ans)   \n",
    "        return ans   \n",
    "        \n",
    "    "
   ]
  },
  {
   "cell_type": "code",
   "execution_count": 5,
   "metadata": {},
   "outputs": [],
   "source": [
    "#en = env()"
   ]
  },
  {
   "cell_type": "code",
   "execution_count": 6,
   "metadata": {
    "scrolled": true
   },
   "outputs": [],
   "source": [
    "#en.get_pile()"
   ]
  },
  {
   "cell_type": "code",
   "execution_count": 7,
   "metadata": {
    "scrolled": true
   },
   "outputs": [],
   "source": [
    "#en.get_tableau()"
   ]
  },
  {
   "cell_type": "code",
   "execution_count": 8,
   "metadata": {
    "scrolled": true
   },
   "outputs": [],
   "source": [
    "#en.get_foundation()"
   ]
  },
  {
   "cell_type": "code",
   "execution_count": 9,
   "metadata": {
    "scrolled": true
   },
   "outputs": [],
   "source": [
    "#en.step(1)"
   ]
  },
  {
   "cell_type": "code",
   "execution_count": 10,
   "metadata": {
    "scrolled": true
   },
   "outputs": [
    {
     "name": "stderr",
     "output_type": "stream",
     "text": [
      "100%|██████████| 1000/1000 [16:42<00:00,  1.01it/s]"
     ]
    },
    {
     "name": "stdout",
     "output_type": "stream",
     "text": [
      "9\n",
      "1002.5705687999725\n"
     ]
    },
    {
     "name": "stderr",
     "output_type": "stream",
     "text": [
      "\n"
     ]
    }
   ],
   "source": [
    "import time\n",
    "start = time.time()\n",
    "\n",
    "\n",
    "count = 0\n",
    "actions = [0]*6\n",
    "fail = [0]*6\n",
    "different_states = []\n",
    "for j in tqdm(range(1000)):\n",
    "    en = env()\n",
    "    for i in range(10000):\n",
    "\n",
    "        action = random.sample(range(6),1)[0]\n",
    "        \n",
    "        actions[action]+=1\n",
    "\n",
    "        won,failed = en.step(action)\n",
    "        \n",
    "        if failed:\n",
    "            fail[action]+=1\n",
    "        #print(i+1,action,won)\n",
    "        if won == True:\n",
    "            count+=1\n",
    "            break\n",
    "    different_states.append(len(en.hashable_map.keys()))\n",
    "\n",
    "print(count)\n",
    "print(time.time()-start)"
   ]
  },
  {
   "cell_type": "code",
   "execution_count": 11,
   "metadata": {
    "scrolled": true
   },
   "outputs": [
    {
     "data": {
      "text/plain": [
       "(2619, 10, 3375)"
      ]
     },
     "execution_count": 11,
     "metadata": {},
     "output_type": "execute_result"
    }
   ],
   "source": [
    "len(en.hashable_map.keys()),min(different_states),max(different_states)"
   ]
  },
  {
   "cell_type": "code",
   "execution_count": 17,
   "metadata": {},
   "outputs": [
    {
     "data": {
      "text/plain": [
       "(8901     57\n",
       " 10916    54\n",
       " 8899     49\n",
       " 10919    43\n",
       " 12314    41\n",
       "          ..\n",
       " 53        1\n",
       " 55        1\n",
       " 59        1\n",
       " 61        1\n",
       " 16285     1\n",
       " Length: 761, dtype: int64, 444456)"
      ]
     },
     "execution_count": 17,
     "metadata": {},
     "output_type": "execute_result"
    }
   ],
   "source": [
    "import pandas as pd \n",
    "pd.Series(different_states).value_counts(),max(different_states)"
   ]
  },
  {
   "cell_type": "code",
   "execution_count": 97,
   "metadata": {},
   "outputs": [
    {
     "name": "stdout",
     "output_type": "stream",
     "text": [
      "15\n",
      "1\n",
      "3\n",
      "7\n",
      "4\n",
      "4\n",
      "8\n",
      "7\n",
      "1\n",
      "0\n",
      "2\n",
      "0\n",
      "52\n"
     ]
    }
   ],
   "source": [
    "s = 0\n",
    "for i in range(12):\n",
    "    \n",
    "    print(len(en.hashable_state[i]))\n",
    "    s+= len(en.hashable_state[i])\n",
    "    \n",
    "print(s)"
   ]
  },
  {
   "cell_type": "code",
   "execution_count": 15,
   "metadata": {},
   "outputs": [
    {
     "data": {
      "text/plain": [
       "[112334, 5164648, 620370, 1303271, 4617087, 0]"
      ]
     },
     "execution_count": 15,
     "metadata": {},
     "output_type": "execute_result"
    }
   ],
   "source": [
    "fail"
   ]
  },
  {
   "cell_type": "code",
   "execution_count": 91,
   "metadata": {},
   "outputs": [
    {
     "name": "stdout",
     "output_type": "stream",
     "text": [
      "suit = diamond    color = red        number =    10 speciality = None       face = up   \n",
      "suit = spade      color = black      number =     4 speciality = None       face = up   \n",
      "suit = spade      color = black      number =     8 speciality = None       face = up   \n",
      "suit = club       color = black      number =     4 speciality = None       face = up   \n",
      "suit = club       color = black      number =    10 speciality = None       face = up   \n",
      "suit = heart      color = red        number =    12 speciality = QUEEN      face = up   \n",
      "suit = diamond    color = red        number =    13 speciality = KING       face = up   \n",
      "suit = diamond    color = red        number =    12 speciality = QUEEN      face = up   \n",
      "suit = club       color = black      number =    13 speciality = KING       face = up   \n"
     ]
    }
   ],
   "source": [
    "en.get_pile()"
   ]
  },
  {
   "cell_type": "code",
   "execution_count": 92,
   "metadata": {},
   "outputs": [
    {
     "name": "stdout",
     "output_type": "stream",
     "text": [
      "printing foundation number 1 ********************\n",
      "suit = club       color = black      number =     1 speciality = ACE        face = up   \n",
      "printing foundation number 2 ********************\n",
      "suit = heart      color = red        number =     1 speciality = ACE        face = up   \n",
      "printing foundation number 3 ********************\n",
      "suit = diamond    color = red        number =     1 speciality = ACE        face = up   \n",
      "suit = diamond    color = red        number =     2 speciality = None       face = up   \n",
      "suit = diamond    color = red        number =     3 speciality = None       face = up   \n",
      "printing foundation number 4 ********************\n",
      "suit = spade      color = black      number =     1 speciality = ACE        face = up   \n",
      "suit = spade      color = black      number =     2 speciality = None       face = up   \n"
     ]
    }
   ],
   "source": [
    "en.get_foundation()"
   ]
  },
  {
   "cell_type": "code",
   "execution_count": 93,
   "metadata": {},
   "outputs": [
    {
     "name": "stdout",
     "output_type": "stream",
     "text": [
      "printing tableau number 1 ********************\n",
      "suit = heart      color = red        number =     7 speciality = None       face = up   \n",
      "suit = spade      color = black      number =     6 speciality = None       face = up   \n",
      "printing tableau number 2 ********************\n",
      "suit = heart      color = red        number =    13 speciality = KING       face = up   \n",
      "suit = club       color = black      number =    12 speciality = QUEEN      face = up   \n",
      "printing tableau number 3 ********************\n",
      "suit = spade      color = black      number =     3 speciality = None       face = down \n",
      "suit = heart      color = red        number =    10 speciality = None       face = up   \n",
      "suit = club       color = black      number =     9 speciality = None       face = up   \n",
      "suit = heart      color = red        number =     8 speciality = None       face = up   \n",
      "suit = spade      color = black      number =     7 speciality = None       face = up   \n",
      "suit = heart      color = red        number =     6 speciality = None       face = up   \n",
      "suit = spade      color = black      number =     5 speciality = None       face = up   \n",
      "printing tableau number 4 ********************\n",
      "suit = heart      color = red        number =     9 speciality = None       face = down \n",
      "suit = diamond    color = red        number =     9 speciality = None       face = down \n",
      "suit = heart      color = red        number =     4 speciality = None       face = down \n",
      "suit = club       color = black      number =     8 speciality = None       face = up   \n",
      "suit = diamond    color = red        number =     7 speciality = None       face = up   \n",
      "printing tableau number 5 ********************\n",
      "suit = spade      color = black      number =    11 speciality = JACK       face = down \n",
      "suit = heart      color = red        number =     2 speciality = None       face = down \n",
      "suit = heart      color = red        number =     3 speciality = None       face = up   \n",
      "printing tableau number 6 ********************\n",
      "suit = spade      color = black      number =    13 speciality = KING       face = down \n",
      "suit = club       color = black      number =     6 speciality = None       face = down \n",
      "suit = diamond    color = red        number =     5 speciality = None       face = down \n",
      "suit = spade      color = black      number =    12 speciality = QUEEN      face = down \n",
      "suit = club       color = black      number =    11 speciality = JACK       face = down \n",
      "suit = spade      color = black      number =     9 speciality = None       face = up   \n",
      "suit = diamond    color = red        number =     8 speciality = None       face = up   \n",
      "suit = club       color = black      number =     7 speciality = None       face = up   \n",
      "suit = diamond    color = red        number =     6 speciality = None       face = up   \n",
      "suit = club       color = black      number =     5 speciality = None       face = up   \n",
      "suit = diamond    color = red        number =     4 speciality = None       face = up   \n",
      "suit = club       color = black      number =     3 speciality = None       face = up   \n",
      "printing tableau number 7 ********************\n",
      "suit = club       color = black      number =     2 speciality = None       face = down \n",
      "suit = heart      color = red        number =     5 speciality = None       face = down \n",
      "suit = diamond    color = red        number =    11 speciality = JACK       face = down \n",
      "suit = heart      color = red        number =    11 speciality = JACK       face = down \n",
      "suit = spade      color = black      number =    10 speciality = None       face = up   \n"
     ]
    }
   ],
   "source": [
    "en.get_tableau()"
   ]
  },
  {
   "cell_type": "code",
   "execution_count": null,
   "metadata": {
    "scrolled": true
   },
   "outputs": [
    {
     "name": "stderr",
     "output_type": "stream",
     "text": [
      "  0%|          | 1/10000 [00:00<1:23:31,  2.00it/s]"
     ]
    },
    {
     "name": "stdout",
     "output_type": "stream",
     "text": [
      "0 0\n"
     ]
    },
    {
     "name": "stderr",
     "output_type": "stream",
     "text": [
      "  1%|          | 101/10000 [05:35<7:27:31,  2.71s/it]"
     ]
    },
    {
     "name": "stdout",
     "output_type": "stream",
     "text": [
      "1 100\n"
     ]
    },
    {
     "name": "stderr",
     "output_type": "stream",
     "text": [
      "  2%|▏         | 201/10000 [11:19<10:49:34,  3.98s/it]"
     ]
    },
    {
     "name": "stdout",
     "output_type": "stream",
     "text": [
      "1 200\n"
     ]
    },
    {
     "name": "stderr",
     "output_type": "stream",
     "text": [
      "  3%|▎         | 301/10000 [16:24<5:58:28,  2.22s/it] "
     ]
    },
    {
     "name": "stdout",
     "output_type": "stream",
     "text": [
      "3 300\n"
     ]
    },
    {
     "name": "stderr",
     "output_type": "stream",
     "text": [
      "  4%|▍         | 401/10000 [22:23<11:52:18,  4.45s/it]"
     ]
    },
    {
     "name": "stdout",
     "output_type": "stream",
     "text": [
      "4 400\n"
     ]
    },
    {
     "name": "stderr",
     "output_type": "stream",
     "text": [
      "  5%|▌         | 501/10000 [28:10<7:09:19,  2.71s/it] "
     ]
    },
    {
     "name": "stdout",
     "output_type": "stream",
     "text": [
      "4 500\n"
     ]
    },
    {
     "name": "stderr",
     "output_type": "stream",
     "text": [
      "  6%|▌         | 601/10000 [33:50<6:30:25,  2.49s/it] "
     ]
    },
    {
     "name": "stdout",
     "output_type": "stream",
     "text": [
      "4 600\n"
     ]
    },
    {
     "name": "stderr",
     "output_type": "stream",
     "text": [
      "  7%|▋         | 701/10000 [39:05<8:50:05,  3.42s/it] "
     ]
    },
    {
     "name": "stdout",
     "output_type": "stream",
     "text": [
      "4 700\n"
     ]
    },
    {
     "name": "stderr",
     "output_type": "stream",
     "text": [
      "  8%|▊         | 801/10000 [44:32<8:07:58,  3.18s/it] "
     ]
    },
    {
     "name": "stdout",
     "output_type": "stream",
     "text": [
      "4 800\n"
     ]
    },
    {
     "name": "stderr",
     "output_type": "stream",
     "text": [
      "  9%|▉         | 901/10000 [50:00<6:09:17,  2.44s/it] "
     ]
    },
    {
     "name": "stdout",
     "output_type": "stream",
     "text": [
      "4 900\n"
     ]
    },
    {
     "name": "stderr",
     "output_type": "stream",
     "text": [
      " 10%|█         | 1001/10000 [55:15<8:31:59,  3.41s/it]"
     ]
    },
    {
     "name": "stdout",
     "output_type": "stream",
     "text": [
      "4 1000\n"
     ]
    },
    {
     "name": "stderr",
     "output_type": "stream",
     "text": [
      " 11%|█         | 1101/10000 [1:01:16<7:20:19,  2.97s/it] "
     ]
    },
    {
     "name": "stdout",
     "output_type": "stream",
     "text": [
      "4 1100\n"
     ]
    },
    {
     "name": "stderr",
     "output_type": "stream",
     "text": [
      " 12%|█▏        | 1201/10000 [1:06:48<9:46:12,  4.00s/it] "
     ]
    },
    {
     "name": "stdout",
     "output_type": "stream",
     "text": [
      "4 1200\n"
     ]
    },
    {
     "name": "stderr",
     "output_type": "stream",
     "text": [
      " 13%|█▎        | 1301/10000 [1:12:36<6:13:36,  2.58s/it] "
     ]
    },
    {
     "name": "stdout",
     "output_type": "stream",
     "text": [
      "5 1300\n"
     ]
    },
    {
     "name": "stderr",
     "output_type": "stream",
     "text": [
      " 14%|█▍        | 1401/10000 [1:18:21<5:28:08,  2.29s/it] "
     ]
    },
    {
     "name": "stdout",
     "output_type": "stream",
     "text": [
      "6 1400\n"
     ]
    },
    {
     "name": "stderr",
     "output_type": "stream",
     "text": [
      " 15%|█▌        | 1501/10000 [1:23:57<7:59:50,  3.39s/it] "
     ]
    },
    {
     "name": "stdout",
     "output_type": "stream",
     "text": [
      "6 1500\n"
     ]
    },
    {
     "name": "stderr",
     "output_type": "stream",
     "text": [
      " 16%|█▌        | 1601/10000 [1:29:35<6:52:33,  2.95s/it] "
     ]
    },
    {
     "name": "stdout",
     "output_type": "stream",
     "text": [
      "7 1600\n"
     ]
    },
    {
     "name": "stderr",
     "output_type": "stream",
     "text": [
      " 17%|█▋        | 1701/10000 [1:34:41<8:30:18,  3.69s/it] "
     ]
    },
    {
     "name": "stdout",
     "output_type": "stream",
     "text": [
      "9 1700\n"
     ]
    },
    {
     "name": "stderr",
     "output_type": "stream",
     "text": [
      " 18%|█▊        | 1801/10000 [1:39:50<9:16:01,  4.07s/it] "
     ]
    },
    {
     "name": "stdout",
     "output_type": "stream",
     "text": [
      "9 1800\n"
     ]
    },
    {
     "name": "stderr",
     "output_type": "stream",
     "text": [
      " 19%|█▉        | 1901/10000 [1:45:01<6:45:54,  3.01s/it] "
     ]
    },
    {
     "name": "stdout",
     "output_type": "stream",
     "text": [
      "9 1900\n"
     ]
    },
    {
     "name": "stderr",
     "output_type": "stream",
     "text": [
      " 20%|██        | 2001/10000 [1:50:09<5:48:23,  2.61s/it] "
     ]
    },
    {
     "name": "stdout",
     "output_type": "stream",
     "text": [
      "11 2000\n"
     ]
    },
    {
     "name": "stderr",
     "output_type": "stream",
     "text": [
      " 20%|██        | 2017/10000 [1:51:02<8:32:27,  3.85s/it]"
     ]
    }
   ],
   "source": [
    "import time\n",
    "start = time.time()\n",
    "\n",
    "\n",
    "count = 0\n",
    "actions = [0]*6\n",
    "fail = [0]*6\n",
    "\n",
    "number_of_games = 0\n",
    "\n",
    "for number_of_games in tqdm(range(10000)):\n",
    "    \n",
    "    \n",
    "    en = env()\n",
    "    tot = 20000\n",
    "\n",
    "    won,taken = False,True\n",
    "    number_of_actions = 0\n",
    "    while number_of_actions < tot and won == False:\n",
    "\n",
    "        action = 0\n",
    "        while taken == True and number_of_actions < tot and won == False:\n",
    "            won,taken = en.step(action)\n",
    "            number_of_actions+=1\n",
    "\n",
    "        action +=1\n",
    "        taken = True\n",
    "        \n",
    "        while taken == True and number_of_actions < tot and won == False:\n",
    "            won,taken = en.step(action)\n",
    "            number_of_actions+=1\n",
    "\n",
    "        action +=1\n",
    "        taken = True\n",
    "        while taken == True and number_of_actions < tot and won == False:\n",
    "            won,taken = en.step(action)\n",
    "            \n",
    "            number_of_actions+=1\n",
    "\n",
    "        action +=1\n",
    "        taken = True\n",
    "        while taken == True and number_of_actions < tot and won == False:\n",
    "            won,taken = en.step(action)\n",
    "            number_of_actions+=1\n",
    "\n",
    "        action +=1\n",
    "        taken = True\n",
    "        while taken == True and number_of_actions < tot and won == False:\n",
    "            won,taken = en.step(action)\n",
    "            number_of_actions+=1\n",
    "\n",
    "\n",
    "\n",
    "        action +=1\n",
    "        taken = True\n",
    "        while taken == True and number_of_actions < tot and won == False:\n",
    "            won,taken = en.step(action)\n",
    "            number_of_actions+=1\n",
    "\n",
    "\n",
    "        \n",
    "\n",
    "        if won:\n",
    "            count+=1\n",
    "         \n",
    "    different_states.append(len(en.hashable_map.keys()))\n",
    "    if number_of_games%100 == 0:\n",
    "        print(count,number_of_games)\n",
    "\n",
    "print(count/10)\n",
    "print(time.time()-start)"
   ]
  },
  {
   "cell_type": "code",
   "execution_count": 19,
   "metadata": {},
   "outputs": [
    {
     "data": {
      "text/plain": [
       "8901     57\n",
       "10916    54\n",
       "8899     49\n",
       "10919    43\n",
       "12314    41\n",
       "         ..\n",
       "53        1\n",
       "55        1\n",
       "59        1\n",
       "61        1\n",
       "16285     1\n",
       "Name: value, Length: 761, dtype: int64"
      ]
     },
     "execution_count": 19,
     "metadata": {},
     "output_type": "execute_result"
    }
   ],
   "source": [
    "pd.DataFrame(data={'value':different_states}).value.value_counts()"
   ]
  },
  {
   "cell_type": "code",
   "execution_count": 20,
   "metadata": {},
   "outputs": [
    {
     "data": {
      "text/plain": [
       "444456"
      ]
     },
     "execution_count": 20,
     "metadata": {},
     "output_type": "execute_result"
    }
   ],
   "source": [
    "max(different_states)"
   ]
  },
  {
   "cell_type": "code",
   "execution_count": null,
   "metadata": {},
   "outputs": [],
   "source": [
    "en.get_foundation()"
   ]
  },
  {
   "cell_type": "code",
   "execution_count": null,
   "metadata": {},
   "outputs": [],
   "source": [
    "en.get_tableau()"
   ]
  },
  {
   "cell_type": "code",
   "execution_count": 53,
   "metadata": {},
   "outputs": [
    {
     "name": "stdout",
     "output_type": "stream",
     "text": [
      "suit = heart      color = red        number =     2 speciality = None       face = up   \n",
      "suit = heart      color = red        number =     3 speciality = None       face = up   \n",
      "suit = heart      color = red        number =     4 speciality = None       face = up   \n",
      "suit = heart      color = red        number =     6 speciality = None       face = up   \n",
      "suit = heart      color = red        number =     7 speciality = None       face = up   \n",
      "suit = heart      color = red        number =     9 speciality = None       face = up   \n",
      "suit = diamond    color = red        number =     2 speciality = None       face = up   \n",
      "suit = diamond    color = red        number =     3 speciality = None       face = up   \n",
      "suit = diamond    color = red        number =     7 speciality = None       face = up   \n",
      "suit = diamond    color = red        number =    10 speciality = None       face = up   \n",
      "suit = spade      color = black      number =     3 speciality = None       face = up   \n",
      "suit = spade      color = black      number =     4 speciality = None       face = up   \n",
      "suit = spade      color = black      number =     6 speciality = None       face = up   \n",
      "suit = spade      color = black      number =     7 speciality = None       face = up   \n",
      "suit = spade      color = black      number =     8 speciality = None       face = up   \n",
      "suit = spade      color = black      number =    10 speciality = None       face = up   \n",
      "suit = club       color = black      number =     4 speciality = None       face = up   \n",
      "suit = club       color = black      number =     8 speciality = None       face = up   \n",
      "suit = club       color = black      number =     9 speciality = None       face = up   \n",
      "suit = heart      color = red        number =    13 speciality = JACK       face = up   \n",
      "suit = diamond    color = red        number =    13 speciality = JACK       face = up   \n",
      "suit = spade      color = black      number =     1 speciality = ACE        face = up   \n",
      "suit = spade      color = black      number =    12 speciality = QUEEN      face = up   \n",
      "suit = club       color = black      number =    11 speciality = KING       face = up   \n"
     ]
    }
   ],
   "source": [
    "en.get_pile()"
   ]
  },
  {
   "cell_type": "code",
   "execution_count": 76,
   "metadata": {},
   "outputs": [
    {
     "data": {
      "text/plain": [
       "()"
      ]
     },
     "execution_count": 76,
     "metadata": {},
     "output_type": "execute_result"
    }
   ],
   "source": [
    "tuple([])"
   ]
  },
  {
   "cell_type": "code",
   "execution_count": 48,
   "metadata": {},
   "outputs": [],
   "source": [
    "easy_game_1 = None\n",
    "\n",
    "easy_game_1 = state()\n",
    "\n",
    "suit = {0:'club',1:'heart',2:'diamond',3:'spade'}\n",
    "\n",
    "speciality = {1:'ACE',11:'KING',12:'QUEEN',13:'JACK'}\n",
    "\n",
    "color = {'club':'black','spade':'black','diamond':'red','heart':'red'}\n",
    "for i in range(2,11):\n",
    "    speciality[i]=None\n",
    "\n",
    "for j in range(4):\n",
    "    for i in range(1,14):\n",
    "        \n",
    "        easy_game_1.foundation[j].append(card(color[suit[j]],suit[j],i,speciality[i],'face-up'))\n",
    "\n",
    "        \n",
    "for i in range(7):\n",
    "    easy_game_1.tableau[i] = []\n",
    "    \n",
    "easy_game_1.pile = []\n",
    "\n",
    "for i in range(4):\n",
    "    easy_game_1.pile.append(easy_game_1.foundation[i].pop())\n",
    "    "
   ]
  },
  {
   "cell_type": "code",
   "execution_count": 49,
   "metadata": {},
   "outputs": [],
   "source": [
    "easy_en = env()"
   ]
  },
  {
   "cell_type": "code",
   "execution_count": 50,
   "metadata": {},
   "outputs": [],
   "source": [
    "easy_en.state = easy_game_1"
   ]
  },
  {
   "cell_type": "code",
   "execution_count": 51,
   "metadata": {},
   "outputs": [
    {
     "name": "stdout",
     "output_type": "stream",
     "text": [
      "printing foundation number 1 ********************\n",
      "suit = club       color = black      number =     1 speciality = ACE        face = face-up\n",
      "suit = club       color = black      number =     2 speciality = None       face = face-up\n",
      "suit = club       color = black      number =     3 speciality = None       face = face-up\n",
      "suit = club       color = black      number =     4 speciality = None       face = face-up\n",
      "suit = club       color = black      number =     5 speciality = None       face = face-up\n",
      "suit = club       color = black      number =     6 speciality = None       face = face-up\n",
      "suit = club       color = black      number =     7 speciality = None       face = face-up\n",
      "suit = club       color = black      number =     8 speciality = None       face = face-up\n",
      "suit = club       color = black      number =     9 speciality = None       face = face-up\n",
      "suit = club       color = black      number =    10 speciality = None       face = face-up\n",
      "suit = club       color = black      number =    11 speciality = KING       face = face-up\n",
      "suit = club       color = black      number =    12 speciality = QUEEN      face = face-up\n",
      "printing foundation number 2 ********************\n",
      "suit = heart      color = red        number =     1 speciality = ACE        face = face-up\n",
      "suit = heart      color = red        number =     2 speciality = None       face = face-up\n",
      "suit = heart      color = red        number =     3 speciality = None       face = face-up\n",
      "suit = heart      color = red        number =     4 speciality = None       face = face-up\n",
      "suit = heart      color = red        number =     5 speciality = None       face = face-up\n",
      "suit = heart      color = red        number =     6 speciality = None       face = face-up\n",
      "suit = heart      color = red        number =     7 speciality = None       face = face-up\n",
      "suit = heart      color = red        number =     8 speciality = None       face = face-up\n",
      "suit = heart      color = red        number =     9 speciality = None       face = face-up\n",
      "suit = heart      color = red        number =    10 speciality = None       face = face-up\n",
      "suit = heart      color = red        number =    11 speciality = KING       face = face-up\n",
      "suit = heart      color = red        number =    12 speciality = QUEEN      face = face-up\n",
      "printing foundation number 3 ********************\n",
      "suit = diamond    color = red        number =     1 speciality = ACE        face = face-up\n",
      "suit = diamond    color = red        number =     2 speciality = None       face = face-up\n",
      "suit = diamond    color = red        number =     3 speciality = None       face = face-up\n",
      "suit = diamond    color = red        number =     4 speciality = None       face = face-up\n",
      "suit = diamond    color = red        number =     5 speciality = None       face = face-up\n",
      "suit = diamond    color = red        number =     6 speciality = None       face = face-up\n",
      "suit = diamond    color = red        number =     7 speciality = None       face = face-up\n",
      "suit = diamond    color = red        number =     8 speciality = None       face = face-up\n",
      "suit = diamond    color = red        number =     9 speciality = None       face = face-up\n",
      "suit = diamond    color = red        number =    10 speciality = None       face = face-up\n",
      "suit = diamond    color = red        number =    11 speciality = KING       face = face-up\n",
      "suit = diamond    color = red        number =    12 speciality = QUEEN      face = face-up\n",
      "printing foundation number 4 ********************\n",
      "suit = spade      color = black      number =     1 speciality = ACE        face = face-up\n",
      "suit = spade      color = black      number =     2 speciality = None       face = face-up\n",
      "suit = spade      color = black      number =     3 speciality = None       face = face-up\n",
      "suit = spade      color = black      number =     4 speciality = None       face = face-up\n",
      "suit = spade      color = black      number =     5 speciality = None       face = face-up\n",
      "suit = spade      color = black      number =     6 speciality = None       face = face-up\n",
      "suit = spade      color = black      number =     7 speciality = None       face = face-up\n",
      "suit = spade      color = black      number =     8 speciality = None       face = face-up\n",
      "suit = spade      color = black      number =     9 speciality = None       face = face-up\n",
      "suit = spade      color = black      number =    10 speciality = None       face = face-up\n",
      "suit = spade      color = black      number =    11 speciality = KING       face = face-up\n",
      "suit = spade      color = black      number =    12 speciality = QUEEN      face = face-up\n"
     ]
    }
   ],
   "source": [
    "easy_en.get_foundation()"
   ]
  },
  {
   "cell_type": "code",
   "execution_count": 52,
   "metadata": {},
   "outputs": [
    {
     "name": "stdout",
     "output_type": "stream",
     "text": [
      "suit = club       color = black      number =    13 speciality = JACK       face = face-up\n",
      "suit = heart      color = red        number =    13 speciality = JACK       face = face-up\n",
      "suit = diamond    color = red        number =    13 speciality = JACK       face = face-up\n",
      "suit = spade      color = black      number =    13 speciality = JACK       face = face-up\n"
     ]
    }
   ],
   "source": [
    "easy_en.get_pile()"
   ]
  },
  {
   "cell_type": "code",
   "execution_count": 53,
   "metadata": {
    "scrolled": true
   },
   "outputs": [
    {
     "name": "stdout",
     "output_type": "stream",
     "text": [
      "False\n",
      "False\n",
      "False\n",
      "False\n",
      "False\n",
      "False\n",
      "False\n",
      "False\n",
      "False\n",
      "False\n",
      "False\n",
      "False\n",
      "False\n",
      "False\n",
      "False\n",
      "False\n",
      "False\n",
      "False\n",
      "False\n",
      "False\n",
      "False\n",
      "False\n",
      "False\n",
      "False\n",
      "False\n",
      "False\n",
      "False\n",
      "False\n",
      "False\n",
      "False\n",
      "False\n",
      "False\n",
      "False\n",
      "False\n",
      "False\n",
      "False\n",
      "False\n",
      "False\n",
      "False\n",
      "False\n",
      "False\n",
      "False\n",
      "False\n",
      "False\n",
      "False\n",
      "True\n",
      "False\n",
      "False\n",
      "True\n",
      "False\n",
      "False\n",
      "True\n",
      "False\n",
      "False\n",
      "True\n",
      "False\n",
      "False\n",
      "True\n",
      "False\n",
      "False\n",
      "True\n",
      "False\n",
      "False\n",
      "True\n",
      "False\n",
      "False\n",
      "True\n",
      "False\n",
      "False\n",
      "True\n",
      "True\n",
      "True\n",
      "True\n",
      "{0: 5, 1: 4, 2: 2, 3: 3, 4: 7, 5: 3}\n"
     ]
    }
   ],
   "source": [
    "\n",
    "action_type = {0:'tableau_to_foundation_reveal',\\\n",
    "               1:'to_foundation_stack',2:'tableau_to_tableau_reveal',\\\n",
    "               3:'pile_to_tableau',\\\n",
    "                4:'foundation_to_tableau',\\\n",
    "               5:'tableau_to_tableau_not_reveal'\\\n",
    "              }\n",
    "\n",
    "action_freq = {0:0,1:0,2:0,3:0,4:0,5:0}\n",
    "\n",
    "\n",
    "for steps in range(100):\n",
    "    \n",
    "    action = random.sample(range(6),1)[0]\n",
    "       \n",
    "    action_freq[action]+=1\n",
    "\n",
    "    won,failed = easy_en.step(action)\n",
    "        \n",
    "      \n",
    "    if won == True:\n",
    "        break\n",
    "        \n",
    "print(won)\n",
    "print(action_freq)"
   ]
  },
  {
   "cell_type": "code",
   "execution_count": 54,
   "metadata": {},
   "outputs": [],
   "source": [
    "easy_en.get_pile()"
   ]
  },
  {
   "cell_type": "code",
   "execution_count": 44,
   "metadata": {},
   "outputs": [
    {
     "name": "stdout",
     "output_type": "stream",
     "text": [
      "printing foundation number 1 ********************\n",
      "suit = club       color = black      number =     1 speciality = ACE        face = face-up\n",
      "suit = club       color = black      number =     2 speciality = None       face = face-up\n",
      "suit = club       color = black      number =     3 speciality = None       face = face-up\n",
      "suit = club       color = black      number =     4 speciality = None       face = face-up\n",
      "suit = club       color = black      number =     5 speciality = None       face = face-up\n",
      "suit = club       color = black      number =     6 speciality = None       face = face-up\n",
      "suit = club       color = black      number =     7 speciality = None       face = face-up\n",
      "suit = club       color = black      number =     8 speciality = None       face = face-up\n",
      "suit = club       color = black      number =     9 speciality = None       face = face-up\n",
      "suit = club       color = black      number =    10 speciality = None       face = face-up\n",
      "suit = club       color = black      number =    11 speciality = KING       face = face-up\n",
      "suit = club       color = black      number =    12 speciality = QUEEN      face = face-up\n",
      "suit = club       color = black      number =    13 speciality = JACK       face = face-up\n",
      "printing foundation number 2 ********************\n",
      "suit = heart      color = red        number =     1 speciality = ACE        face = face-up\n",
      "suit = heart      color = red        number =     2 speciality = None       face = face-up\n",
      "suit = heart      color = red        number =     3 speciality = None       face = face-up\n",
      "suit = heart      color = red        number =     4 speciality = None       face = face-up\n",
      "suit = heart      color = red        number =     5 speciality = None       face = face-up\n",
      "suit = heart      color = red        number =     6 speciality = None       face = face-up\n",
      "suit = heart      color = red        number =     7 speciality = None       face = face-up\n",
      "suit = heart      color = red        number =     8 speciality = None       face = face-up\n",
      "suit = heart      color = red        number =     9 speciality = None       face = face-up\n",
      "suit = heart      color = red        number =    10 speciality = None       face = face-up\n",
      "suit = heart      color = red        number =    11 speciality = KING       face = face-up\n",
      "suit = heart      color = red        number =    12 speciality = QUEEN      face = face-up\n",
      "suit = heart      color = red        number =    13 speciality = JACK       face = face-up\n",
      "printing foundation number 3 ********************\n",
      "suit = diamond    color = red        number =     1 speciality = ACE        face = face-up\n",
      "suit = diamond    color = red        number =     2 speciality = None       face = face-up\n",
      "suit = diamond    color = red        number =     3 speciality = None       face = face-up\n",
      "suit = diamond    color = red        number =     4 speciality = None       face = face-up\n",
      "suit = diamond    color = red        number =     5 speciality = None       face = face-up\n",
      "suit = diamond    color = red        number =     6 speciality = None       face = face-up\n",
      "suit = diamond    color = red        number =     7 speciality = None       face = face-up\n",
      "suit = diamond    color = red        number =     8 speciality = None       face = face-up\n",
      "suit = diamond    color = red        number =     9 speciality = None       face = face-up\n",
      "suit = diamond    color = red        number =    10 speciality = None       face = face-up\n",
      "suit = diamond    color = red        number =    11 speciality = KING       face = face-up\n",
      "suit = diamond    color = red        number =    12 speciality = QUEEN      face = face-up\n",
      "suit = diamond    color = red        number =    13 speciality = JACK       face = face-up\n",
      "printing foundation number 4 ********************\n",
      "suit = spade      color = black      number =     1 speciality = ACE        face = face-up\n",
      "suit = spade      color = black      number =     2 speciality = None       face = face-up\n",
      "suit = spade      color = black      number =     3 speciality = None       face = face-up\n",
      "suit = spade      color = black      number =     4 speciality = None       face = face-up\n",
      "suit = spade      color = black      number =     5 speciality = None       face = face-up\n",
      "suit = spade      color = black      number =     6 speciality = None       face = face-up\n",
      "suit = spade      color = black      number =     7 speciality = None       face = face-up\n",
      "suit = spade      color = black      number =     8 speciality = None       face = face-up\n",
      "suit = spade      color = black      number =     9 speciality = None       face = face-up\n",
      "suit = spade      color = black      number =    10 speciality = None       face = face-up\n",
      "suit = spade      color = black      number =    11 speciality = KING       face = face-up\n",
      "suit = spade      color = black      number =    12 speciality = QUEEN      face = face-up\n",
      "suit = spade      color = black      number =    13 speciality = JACK       face = face-up\n"
     ]
    }
   ],
   "source": [
    "easy_en.get_foundation()"
   ]
  },
  {
   "cell_type": "code",
   "execution_count": 45,
   "metadata": {},
   "outputs": [
    {
     "name": "stdout",
     "output_type": "stream",
     "text": [
      "printing tableau number 1 ********************\n",
      "printing tableau number 2 ********************\n",
      "printing tableau number 3 ********************\n",
      "printing tableau number 4 ********************\n",
      "printing tableau number 5 ********************\n",
      "printing tableau number 6 ********************\n",
      "printing tableau number 7 ********************\n"
     ]
    }
   ],
   "source": [
    "easy_en.get_tableau()"
   ]
  },
  {
   "cell_type": "code",
   "execution_count": 46,
   "metadata": {},
   "outputs": [
    {
     "data": {
      "text/plain": [
       "0"
      ]
     },
     "execution_count": 46,
     "metadata": {},
     "output_type": "execute_result"
    }
   ],
   "source": [
    "len(easy_en.state.pile)"
   ]
  },
  {
   "cell_type": "code",
   "execution_count": 47,
   "metadata": {},
   "outputs": [
    {
     "data": {
      "text/plain": [
       "False"
      ]
     },
     "execution_count": 47,
     "metadata": {},
     "output_type": "execute_result"
    }
   ],
   "source": [
    "easy_en.isterminal()"
   ]
  },
  {
   "cell_type": "code",
   "execution_count": null,
   "metadata": {},
   "outputs": [],
   "source": []
  }
 ],
 "metadata": {
  "kernelspec": {
   "display_name": "Python 3",
   "language": "python",
   "name": "python3"
  },
  "language_info": {
   "codemirror_mode": {
    "name": "ipython",
    "version": 3
   },
   "file_extension": ".py",
   "mimetype": "text/x-python",
   "name": "python",
   "nbconvert_exporter": "python",
   "pygments_lexer": "ipython3",
   "version": "3.7.5"
  }
 },
 "nbformat": 4,
 "nbformat_minor": 2
}
