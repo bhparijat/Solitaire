{
 "cells": [
  {
   "cell_type": "code",
   "execution_count": 2,
   "metadata": {},
   "outputs": [
    {
     "name": "stdout",
     "output_type": "stream",
     "text": [
      "Writing collect_data.py\n"
     ]
    }
   ],
   "source": [
    "%%writefile collect_data.py\n",
    "import numpy as np\n",
    "import pandas as pd\n",
    "import matplotlib.pyplot as plt\n",
    "import random\n",
    "import time\n",
    "import unittest\n",
    "import tqdm.notebook as tq\n",
    "import solitaire_env\n",
    "import sys\n",
    "import seaborn as sns\n",
    "import pickle as pkl\n",
    "import gp \n",
    "sys.setrecursionlimit(10**6)"
   ]
  },
  {
   "cell_type": "code",
   "execution_count": 5,
   "metadata": {},
   "outputs": [
    {
     "name": "stdout",
     "output_type": "stream",
     "text": [
      "Appending to collect_data.py\n"
     ]
    }
   ],
   "source": [
    "%%writefile -a collect_data.py\n",
    "number_of_runs = 100"
   ]
  },
  {
   "cell_type": "code",
   "execution_count": 32,
   "metadata": {},
   "outputs": [],
   "source": [
    "#%%writefile -a collect_data.py\n",
    "class Collect_data:\n",
    "    \n",
    "    def __init__(self,N,games_per_run=1000,fp_flag = True,debug=False,save_intermediate_states=False):\n",
    "        \n",
    "        self.number_of_runs = N\n",
    "        \n",
    "        self.games_per_run = games_per_run\n",
    "        \n",
    "        self.fp_flag = fp_flag\n",
    "        \n",
    "        self.debug = debug\n",
    "        \n",
    "        self.save_intermediate_states = save_intermediate_states\n",
    "        \n",
    "        self.all_runs = {}\n",
    "        \n",
    "        self.max_steps_per_game = 100000\n",
    "    \n",
    "        self.win_count = []\n",
    "    def run_one_episode(self):\n",
    "         \n",
    "        wins = 0\n",
    "        \n",
    "        \n",
    "        actions_for_each_game = [0]*self.games_per_run\n",
    "        iterations_used_per_game = [0]*self.games_per_run\n",
    "        different_states_per_game = [0]*self.games_per_run\n",
    "        \n",
    "        actions_matrix = [0]*self.games_per_run\n",
    "        \n",
    "        \n",
    "        \n",
    "        for this_game in range(self.games_per_run):\n",
    "            \n",
    "            env = solitaire_env.env()\n",
    "            action_freq = {0:0,1:0,2:0,3:0,4:0,5:0}\n",
    "            \n",
    "            step,won = gp.greedy_policy(env,self.max_steps_per_game,action_freq,actions_matrix,this_game,self.fp_flag)\n",
    "            \n",
    "            if won == True:\n",
    "                wins+=1\n",
    "                 \n",
    "            actions_for_each_game[this_game] = action_freq\n",
    "            different_states_per_game[this_game] = len(env.hashable_map.keys())\n",
    "            iterations_used_per_game[this_game] = step\n",
    "\n",
    "        return wins,actions_m\n",
    "    \n",
    "    \n",
    "    def run_all_episodes(self):\n",
    "        \n",
    "        \n",
    "        \n",
    "        for run in tq.tqdm(range(self.number_of_runs):\n",
    "            \n",
    "            this_run_data = {}\n",
    "            wins, actions_and_states = self.run_one_episode()\n",
    "            \n",
    "            this_run_data['number_of_wins'] = wins\n",
    "            this_run_data['actions_and_states'] = actions_and_states\n",
    "            \n",
    "            self.all_runs[run] = this_run_data\n",
    "            \n",
    "            self.win_count.append(wins)\n",
    "            \n",
    "            \n",
    "            \n",
    "            \n",
    "        \n",
    "        \n",
    "    def average_wins_for_runs(self):\n",
    "        \n",
    "        win_percentage = [x / self.games_per_run for x in self.win_count]\n",
    "        \n",
    "        \n",
    "        return \"avergae win percentage is {}\".format(( sum(win_percentage) / self.number_of_runs))\n",
    "        \n",
    "    def save_runs_data(self):\n",
    "        \n",
    "        name = \"all_runs/runs\"+ str(self.number_of_runs) + str(pd.Timestamp.now()) + \".pkl\"\n",
    "        \n",
    "        with open(name,\"wb\") as file:\n",
    "            pkl.dump(self.all_runs,file)\n",
    "            \n",
    "            \n",
    "        return \"Data for this run saved successfully...\"\n",
    "    \n",
    "    "
   ]
  },
  {
   "cell_type": "code",
   "execution_count": 31,
   "metadata": {},
   "outputs": [
    {
     "ename": "NameError",
     "evalue": "name 'en' is not defined",
     "output_type": "error",
     "traceback": [
      "\u001b[0;31m---------------------------------------------------------------------------\u001b[0m",
      "\u001b[0;31mNameError\u001b[0m                                 Traceback (most recent call last)",
      "\u001b[0;32m<ipython-input-31-ec31457f3a6e>\u001b[0m in \u001b[0;36m<module>\u001b[0;34m\u001b[0m\n\u001b[1;32m      1\u001b[0m \u001b[0;32mif\u001b[0m \u001b[0m__name__\u001b[0m \u001b[0;34m==\u001b[0m \u001b[0;34m\"__main__\"\u001b[0m\u001b[0;34m:\u001b[0m\u001b[0;34m\u001b[0m\u001b[0;34m\u001b[0m\u001b[0m\n\u001b[1;32m      2\u001b[0m     \u001b[0mcollect_data\u001b[0m \u001b[0;34m=\u001b[0m \u001b[0mCollect_data\u001b[0m\u001b[0;34m(\u001b[0m\u001b[0;36m10\u001b[0m\u001b[0;34m)\u001b[0m\u001b[0;34m\u001b[0m\u001b[0;34m\u001b[0m\u001b[0m\n\u001b[0;32m----> 3\u001b[0;31m     \u001b[0mcollect_data\u001b[0m\u001b[0;34m.\u001b[0m\u001b[0mrun_all_episodes\u001b[0m\u001b[0;34m(\u001b[0m\u001b[0;34m)\u001b[0m\u001b[0;34m\u001b[0m\u001b[0;34m\u001b[0m\u001b[0m\n\u001b[0m\u001b[1;32m      4\u001b[0m     \u001b[0mprint\u001b[0m\u001b[0;34m(\u001b[0m\u001b[0mcollect_data\u001b[0m\u001b[0;34m.\u001b[0m\u001b[0maverage_wins_for_runs\u001b[0m\u001b[0;34m(\u001b[0m\u001b[0;34m)\u001b[0m\u001b[0;34m)\u001b[0m\u001b[0;34m\u001b[0m\u001b[0;34m\u001b[0m\u001b[0m\n\u001b[1;32m      5\u001b[0m \u001b[0;34m\u001b[0m\u001b[0m\n",
      "\u001b[0;32m<ipython-input-30-db580bcf77d2>\u001b[0m in \u001b[0;36mrun_all_episodes\u001b[0;34m(self)\u001b[0m\n\u001b[1;32m     56\u001b[0m \u001b[0;34m\u001b[0m\u001b[0m\n\u001b[1;32m     57\u001b[0m             \u001b[0mthis_run_data\u001b[0m \u001b[0;34m=\u001b[0m \u001b[0;34m{\u001b[0m\u001b[0;34m}\u001b[0m\u001b[0;34m\u001b[0m\u001b[0;34m\u001b[0m\u001b[0m\n\u001b[0;32m---> 58\u001b[0;31m             \u001b[0mwins\u001b[0m\u001b[0;34m,\u001b[0m \u001b[0mactions_and_states\u001b[0m \u001b[0;34m=\u001b[0m \u001b[0mself\u001b[0m\u001b[0;34m.\u001b[0m\u001b[0mrun_one_episode\u001b[0m\u001b[0;34m(\u001b[0m\u001b[0;34m)\u001b[0m\u001b[0;34m\u001b[0m\u001b[0;34m\u001b[0m\u001b[0m\n\u001b[0m\u001b[1;32m     59\u001b[0m \u001b[0;34m\u001b[0m\u001b[0m\n\u001b[1;32m     60\u001b[0m             \u001b[0mthis_run_data\u001b[0m\u001b[0;34m[\u001b[0m\u001b[0;34m'number_of_wins'\u001b[0m\u001b[0;34m]\u001b[0m \u001b[0;34m=\u001b[0m \u001b[0mwins\u001b[0m\u001b[0;34m\u001b[0m\u001b[0;34m\u001b[0m\u001b[0m\n",
      "\u001b[0;32m<ipython-input-30-db580bcf77d2>\u001b[0m in \u001b[0;36mrun_one_episode\u001b[0;34m(self)\u001b[0m\n\u001b[1;32m     43\u001b[0m \u001b[0;34m\u001b[0m\u001b[0m\n\u001b[1;32m     44\u001b[0m             \u001b[0mactions_for_each_game\u001b[0m\u001b[0;34m[\u001b[0m\u001b[0mthis_game\u001b[0m\u001b[0;34m]\u001b[0m \u001b[0;34m=\u001b[0m \u001b[0maction_freq\u001b[0m\u001b[0;34m\u001b[0m\u001b[0;34m\u001b[0m\u001b[0m\n\u001b[0;32m---> 45\u001b[0;31m             \u001b[0mdifferent_states_per_game\u001b[0m\u001b[0;34m[\u001b[0m\u001b[0mthis_game\u001b[0m\u001b[0;34m]\u001b[0m \u001b[0;34m=\u001b[0m \u001b[0mlen\u001b[0m\u001b[0;34m(\u001b[0m\u001b[0men\u001b[0m\u001b[0;34m.\u001b[0m\u001b[0mhashable_map\u001b[0m\u001b[0;34m.\u001b[0m\u001b[0mkeys\u001b[0m\u001b[0;34m(\u001b[0m\u001b[0;34m)\u001b[0m\u001b[0;34m)\u001b[0m\u001b[0;34m\u001b[0m\u001b[0;34m\u001b[0m\u001b[0m\n\u001b[0m\u001b[1;32m     46\u001b[0m             \u001b[0miterations_used_per_game\u001b[0m\u001b[0;34m[\u001b[0m\u001b[0mthis_game\u001b[0m\u001b[0;34m]\u001b[0m \u001b[0;34m=\u001b[0m \u001b[0mstep\u001b[0m\u001b[0;34m\u001b[0m\u001b[0;34m\u001b[0m\u001b[0m\n\u001b[1;32m     47\u001b[0m \u001b[0;34m\u001b[0m\u001b[0m\n",
      "\u001b[0;31mNameError\u001b[0m: name 'en' is not defined"
     ]
    }
   ],
   "source": [
    "\n",
    "if __name__ == \"__main__\":\n",
    "    collect_data = Collect_data(10)\n",
    "    collect_data.run_all_episodes()\n",
    "    print(collect_data.average_wins_for_runs())\n",
    "    \n",
    "    print(collect_data.save_runs_data())"
   ]
  },
  {
   "cell_type": "code",
   "execution_count": null,
   "metadata": {},
   "outputs": [],
   "source": []
  }
 ],
 "metadata": {
  "kernelspec": {
   "display_name": "Python 3",
   "language": "python",
   "name": "python3"
  },
  "language_info": {
   "codemirror_mode": {
    "name": "ipython",
    "version": 3
   },
   "file_extension": ".py",
   "mimetype": "text/x-python",
   "name": "python",
   "nbconvert_exporter": "python",
   "pygments_lexer": "ipython3",
   "version": "3.6.10"
  }
 },
 "nbformat": 4,
 "nbformat_minor": 4
}
