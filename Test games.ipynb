{
 "cells": [
  {
   "cell_type": "code",
   "execution_count": 1,
   "metadata": {},
   "outputs": [],
   "source": [
    "import numpy as np\n",
    "import pandas as pd\n",
    "import matplotlib.pyplot as plt\n",
    "import random\n",
    "import time\n",
    "import unittest\n",
    "import tqdm.notebook as tq\n",
    "import solitaire_env_hard as solitaire_env_hard\n",
    "import sys\n",
    "import seaborn as sns\n",
    "import pickle as pkl\n",
    "import gp\n",
    "import test_env\n",
    "import tqdm.notebook as tq\n",
    "#sys.setrecursionlimit(10**6)"
   ]
  },
  {
   "cell_type": "code",
   "execution_count": 2,
   "metadata": {},
   "outputs": [],
   "source": [
    "with open(\"games/run_hardgame_2020-06-01 16:01:30.326416.pkl\",\"rb\") as file:\n",
    "    run_data = pkl.load(file)"
   ]
  },
  {
   "cell_type": "code",
   "execution_count": 3,
   "metadata": {},
   "outputs": [],
   "source": [
    "actions_matrix = run_data['actions_matrix']"
   ]
  },
  {
   "cell_type": "code",
   "execution_count": 4,
   "metadata": {},
   "outputs": [],
   "source": [
    "iterations_used_per_game = run_data['iterations_used_per_game']\n",
    "it = pd.DataFrame(data = {\"iterations\":iterations_used_per_game})['iterations'].value_counts()"
   ]
  },
  {
   "cell_type": "code",
   "execution_count": 5,
   "metadata": {},
   "outputs": [],
   "source": [
    "iterations_used_per_game = run_data['iterations_used_per_game']\n",
    "it = pd.DataFrame(data = {\"iterations\":iterations_used_per_game})['iterations'].value_counts()"
   ]
  },
  {
   "cell_type": "code",
   "execution_count": 6,
   "metadata": {},
   "outputs": [
    {
     "data": {
      "text/plain": [
       "869"
      ]
     },
     "execution_count": 6,
     "metadata": {},
     "output_type": "execute_result"
    }
   ],
   "source": [
    "max_action_take = max(it.index)\n",
    "max_action_take "
   ]
  },
  {
   "cell_type": "markdown",
   "metadata": {},
   "source": [
    "### Game that resulted into victory with longest action sequence"
   ]
  },
  {
   "cell_type": "code",
   "execution_count": 7,
   "metadata": {},
   "outputs": [
    {
     "name": "stdout",
     "output_type": "stream",
     "text": [
      "157 869\n"
     ]
    }
   ],
   "source": [
    "longest_action_seq_win_gno = None\n",
    "longest_action_seq_win_start_state = None\n",
    "longest_action_seq_win_steps = 0\n",
    "longest_action_seq_win_action_description = None\n",
    "longest_action_seq_win_action_sequence = None\n",
    "for game,actions,end_state,start_state,game_states,reason,action_description in actions_matrix:\n",
    "    \n",
    "    if reason =='won' and len(actions) > longest_action_seq_win_steps:\n",
    "        \n",
    "        longest_action_seq_win_steps = len(actions)\n",
    "        longest_action_seq_win_gno = game\n",
    "        \n",
    "        longest_action_seq_win_start_state = start_state\n",
    "        longest_action_seq_win_action_sequence = actions\n",
    "        longest_action_seq_win_action_description = action_description\n",
    "        \n",
    "        \n",
    "print(longest_action_seq_win_gno,longest_action_seq_win_steps)"
   ]
  },
  {
   "cell_type": "markdown",
   "metadata": {},
   "source": [
    "### Frequency of actions in the longest sequence won game"
   ]
  },
  {
   "cell_type": "code",
   "execution_count": 8,
   "metadata": {},
   "outputs": [
    {
     "data": {
      "text/plain": [
       "'02231332333333203223332003122445113201111111244134414144414144414141151111444115441514441414441414451111114444114441451111144441144441115144114415111344144411451114511444414111514414415114414441441144414411151441144144411441145115111144411511444411444144151114441441441414411154411511111444411511114414441151144144144411514144414144414411444411411511144414414414141151144151144441144144411451111144414441151111444115441444114414414415111114444114441414415111114441441415111444144144141445111111444411444411151111441514441144414441151114441441441151114444114444114141151144411444141411511111114414441154411444411451444141444141151114444114414441145111114441441441445111111444144154441511111444144411511144441144144144151111144441144411541444111511444414115114441145144441514411511144144411511441444141151111111441441441511111242451115515020111111111111111111111111111111'"
      ]
     },
     "execution_count": 8,
     "metadata": {},
     "output_type": "execute_result"
    }
   ],
   "source": [
    "\"\".join([str(x) for x in longest_action_seq_win_action_sequence])"
   ]
  },
  {
   "cell_type": "code",
   "execution_count": 9,
   "metadata": {},
   "outputs": [],
   "source": [
    "action_freq = {0:0,1:0,2:0,3:0,4:0,5:0}\n",
    "for a in longest_action_seq_win_action_sequence:\n",
    "    action_freq[a]+=1"
   ]
  },
  {
   "cell_type": "code",
   "execution_count": 10,
   "metadata": {},
   "outputs": [],
   "source": [
    "action_idx2des = {0:'tableau_to_foundation_reveal',\\\n",
    "               1:'to_foundation_stack',2:'tableau_to_tableau_reveal',\\\n",
    "               3:'pile_to_tableau',\\\n",
    "                4:'foundation_to_tableau',\\\n",
    "               5:'tableau_to_tableau_not_reveal'\\\n",
    "              }"
   ]
  },
  {
   "cell_type": "code",
   "execution_count": 11,
   "metadata": {},
   "outputs": [],
   "source": [
    "dic_items = list(action_freq.items())\n",
    "dic_items.sort(key = lambda x:x[1])\n",
    "keys = [action_idx2des[x[0]] for x in dic_items]\n",
    "values = [x[1] for x in dic_items]"
   ]
  },
  {
   "cell_type": "code",
   "execution_count": 12,
   "metadata": {},
   "outputs": [
    {
     "data": {
      "image/png": "[encoded data removed]",
      "text/plain": [
       "<Figure size 576x432 with 1 Axes>"
      ]
     },
     "metadata": {},
     "output_type": "display_data"
    }
   ],
   "source": [
    "sns.set()\n",
    "fig,ax = plt.subplots()\n",
    "d = pd.DataFrame(data={\"action\":keys,\"frequency\":values})\n",
    "ax.barh(width = 'frequency', y= 'action',data = d)\n",
    "ax.set_yticks(d['action'])\n",
    "fig.set_figheight(6)\n",
    "fig.set_figwidth(8)\n",
    "ax.set_xlabel(\"Frequency\")\n",
    "ax.set_ylabel(\"Actions\")\n",
    "plt.show()"
   ]
  },
  {
   "cell_type": "code",
   "execution_count": 13,
   "metadata": {},
   "outputs": [],
   "source": [
    "assert(len(longest_action_seq_win_action_description)==len(longest_action_seq_win_action_sequence))"
   ]
  },
  {
   "cell_type": "markdown",
   "metadata": {},
   "source": [
    "### Verify longest sequence won game"
   ]
  },
  {
   "cell_type": "code",
   "execution_count": 14,
   "metadata": {},
   "outputs": [
    {
     "name": "stdout",
     "output_type": "stream",
     "text": [
      "True 868\n"
     ]
    }
   ],
   "source": [
    "env = test_env.TestEnv(longest_action_seq_win_start_state)\n",
    "won = False\n",
    "for i,action_data in enumerate(longest_action_seq_win_action_description):\n",
    "    \n",
    "    action_type = action_data[0]\n",
    "    \n",
    "    won,taken = env.step(action=action_type,debug=False,action_data=action_data)\n",
    "    if taken == False:\n",
    "        \n",
    "        print(\"verifier failed\",action_data)\n",
    "        \n",
    "        break\n",
    "        \n",
    "print(won,i)\n",
    "    "
   ]
  },
  {
   "cell_type": "markdown",
   "metadata": {},
   "source": [
    "The test environment too results into terminal state for the longest sequence game that was won"
   ]
  },
  {
   "cell_type": "code",
   "execution_count": null,
   "metadata": {},
   "outputs": [],
   "source": []
  },
  {
   "cell_type": "markdown",
   "metadata": {},
   "source": [
    "### Verify each game"
   ]
  },
  {
   "cell_type": "code",
   "execution_count": 15,
   "metadata": {},
   "outputs": [
    {
     "name": "stdout",
     "output_type": "stream",
     "text": [
      "227\n"
     ]
    }
   ],
   "source": [
    "cnt = 0\n",
    "for game,action_seq,end_state,start_state,game_states,reason,action_description in actions_matrix:\n",
    "    if reason =='won':\n",
    "        en = test_env.TestEnv(start_state)\n",
    "        for k in range(len(action_seq)):\n",
    "            \n",
    "            action_data = action_description[k]\n",
    "            action = action_data[0]\n",
    "            #print(\"action type \",k,action,actions_seq[0][k])\n",
    "            w,t = en.step(action,False,action_data)\n",
    "\n",
    "            if t == False:\n",
    "                print(\"action not taken\",game,k)\n",
    "                break\n",
    "                \n",
    "            if w == True:\n",
    "                cnt+=1\n",
    "print(cnt)"
   ]
  },
  {
   "cell_type": "code",
   "execution_count": null,
   "metadata": {},
   "outputs": [],
   "source": []
  },
  {
   "cell_type": "markdown",
   "metadata": {},
   "source": [
    "### Check maximum number of states that can be  hashed"
   ]
  },
  {
   "cell_type": "code",
   "execution_count": 27,
   "metadata": {},
   "outputs": [],
   "source": [
    "env = solitaire_env_hard.env()\n",
    "\n",
    "for i in range(4):\n",
    "    env.state.foundation[i] = [0]*13\n",
    "                        \n",
    "for cd in env.state.pile:\n",
    "    \n",
    "    fno = cd.get_suit_number()\n",
    "    \n",
    "    position = cd.number-1\n",
    "    \n",
    "    env.state.foundation[fno][position] = cd\n",
    "    \n",
    "    \n",
    "env.state.pile = []\n",
    "\n",
    "for k in range(7):\n",
    "    \n",
    "    for cd in env.state.tableau[k]:\n",
    "    \n",
    "        fno = cd.get_suit_number()\n",
    "\n",
    "        position = cd.number-1\n",
    "\n",
    "        env.state.foundation[fno][position] = cd\n",
    "        \n",
    "    env.state.tableau[k] = []"
   ]
  },
  {
   "cell_type": "code",
   "execution_count": 28,
   "metadata": {},
   "outputs": [
    {
     "name": "stdout",
     "output_type": "stream",
     "text": [
      "printing tableau number 1 ********************\n",
      "printing tableau number 2 ********************\n",
      "printing tableau number 3 ********************\n",
      "printing tableau number 4 ********************\n",
      "printing tableau number 5 ********************\n",
      "printing tableau number 6 ********************\n",
      "printing tableau number 7 ********************\n"
     ]
    }
   ],
   "source": [
    "env.get_pile()\n",
    "env.get_tableau()"
   ]
  },
  {
   "cell_type": "code",
   "execution_count": 29,
   "metadata": {
    "scrolled": true
   },
   "outputs": [
    {
     "name": "stdout",
     "output_type": "stream",
     "text": [
      "printing foundation number 1 ********************\n",
      "position    0 suit = club       color = black      number =     1 speciality = ACE        face = down \n",
      "position    1 suit = club       color = black      number =     2 speciality = None       face = down \n",
      "position    2 suit = club       color = black      number =     3 speciality = None       face = down \n",
      "position    3 suit = club       color = black      number =     4 speciality = None       face = down \n",
      "position    4 suit = club       color = black      number =     5 speciality = None       face = up   \n",
      "position    5 suit = club       color = black      number =     6 speciality = None       face = up   \n",
      "position    6 suit = club       color = black      number =     7 speciality = None       face = up   \n",
      "position    7 suit = club       color = black      number =     8 speciality = None       face = up   \n",
      "position    8 suit = club       color = black      number =     9 speciality = None       face = up   \n",
      "position    9 suit = club       color = black      number =    10 speciality = None       face = up   \n",
      "position   10 suit = club       color = black      number =    11 speciality = JACK       face = up   \n",
      "position   11 suit = club       color = black      number =    12 speciality = QUEEN      face = down \n",
      "position   12 suit = club       color = black      number =    13 speciality = KING       face = down \n",
      "printing foundation number 2 ********************\n",
      "position    0 suit = heart      color = red        number =     1 speciality = ACE        face = down \n",
      "position    1 suit = heart      color = red        number =     2 speciality = None       face = up   \n",
      "position    2 suit = heart      color = red        number =     3 speciality = None       face = down \n",
      "position    3 suit = heart      color = red        number =     4 speciality = None       face = down \n",
      "position    4 suit = heart      color = red        number =     5 speciality = None       face = up   \n",
      "position    5 suit = heart      color = red        number =     6 speciality = None       face = up   \n",
      "position    6 suit = heart      color = red        number =     7 speciality = None       face = up   \n",
      "position    7 suit = heart      color = red        number =     8 speciality = None       face = up   \n",
      "position    8 suit = heart      color = red        number =     9 speciality = None       face = down \n",
      "position    9 suit = heart      color = red        number =    10 speciality = None       face = up   \n",
      "position   10 suit = heart      color = red        number =    11 speciality = JACK       face = down \n",
      "position   11 suit = heart      color = red        number =    12 speciality = QUEEN      face = up   \n",
      "position   12 suit = heart      color = red        number =    13 speciality = KING       face = down \n",
      "printing foundation number 3 ********************\n",
      "position    0 suit = diamond    color = red        number =     1 speciality = ACE        face = up   \n",
      "position    1 suit = diamond    color = red        number =     2 speciality = None       face = down \n",
      "position    2 suit = diamond    color = red        number =     3 speciality = None       face = down \n",
      "position    3 suit = diamond    color = red        number =     4 speciality = None       face = down \n",
      "position    4 suit = diamond    color = red        number =     5 speciality = None       face = down \n",
      "position    5 suit = diamond    color = red        number =     6 speciality = None       face = up   \n",
      "position    6 suit = diamond    color = red        number =     7 speciality = None       face = down \n",
      "position    7 suit = diamond    color = red        number =     8 speciality = None       face = up   \n",
      "position    8 suit = diamond    color = red        number =     9 speciality = None       face = up   \n",
      "position    9 suit = diamond    color = red        number =    10 speciality = None       face = up   \n",
      "position   10 suit = diamond    color = red        number =    11 speciality = JACK       face = up   \n",
      "position   11 suit = diamond    color = red        number =    12 speciality = QUEEN      face = down \n",
      "position   12 suit = diamond    color = red        number =    13 speciality = KING       face = up   \n",
      "printing foundation number 4 ********************\n",
      "position    0 suit = spade      color = black      number =     1 speciality = ACE        face = up   \n",
      "position    1 suit = spade      color = black      number =     2 speciality = None       face = up   \n",
      "position    2 suit = spade      color = black      number =     3 speciality = None       face = up   \n",
      "position    3 suit = spade      color = black      number =     4 speciality = None       face = up   \n",
      "position    4 suit = spade      color = black      number =     5 speciality = None       face = up   \n",
      "position    5 suit = spade      color = black      number =     6 speciality = None       face = up   \n",
      "position    6 suit = spade      color = black      number =     7 speciality = None       face = down \n",
      "position    7 suit = spade      color = black      number =     8 speciality = None       face = up   \n",
      "position    8 suit = spade      color = black      number =     9 speciality = None       face = up   \n",
      "position    9 suit = spade      color = black      number =    10 speciality = None       face = up   \n",
      "position   10 suit = spade      color = black      number =    11 speciality = JACK       face = up   \n",
      "position   11 suit = spade      color = black      number =    12 speciality = QUEEN      face = down \n",
      "position   12 suit = spade      color = black      number =    13 speciality = KING       face = down \n"
     ]
    }
   ],
   "source": [
    "env.get_foundation()"
   ]
  },
  {
   "cell_type": "code",
   "execution_count": 30,
   "metadata": {},
   "outputs": [],
   "source": [
    "tbl = {}\n",
    "    \n",
    "for i in range(4):\n",
    "    \n",
    "    cd = env.state.foundation[i].pop()\n",
    "    \n",
    "    t = 100\n",
    "    tbl[100] = 1\n",
    "    \n",
    "    while t  in tbl:\n",
    "        t = random.randint(0,6)\n",
    "     \n",
    "    \n",
    "    tbl[t] = 1\n",
    "    \n",
    "    env.state.tableau[t].append(cd)\n",
    "    "
   ]
  },
  {
   "cell_type": "code",
   "execution_count": 31,
   "metadata": {},
   "outputs": [],
   "source": [
    "count = 0\n",
    "\n",
    "def dfs(env):\n",
    "    \n",
    "    \n",
    "    if env.is_tableau_full() == True:\n",
    "        \n",
    "        count+=1\n",
    "        print(count)\n",
    "        return \n",
    "    \n",
    "    current = env.state\n",
    "    \n",
    "    \n",
    "    for i in range(4):\n",
    "        \n",
    "        if len(current.foundation[i]) == 0:\n",
    "            continue\n",
    "            \n",
    "        cd1 = current.foundation[i][-1]\n",
    "        \n",
    "        for j in range(7):\n",
    "            \n",
    "            \n",
    "            if len(current.tableau[j])>0:\n",
    "                \n",
    "                cd2 = current.tableau[j][-1]\n",
    "                \n",
    "                cond1 = cd1.color != cd2.color\n",
    "                cond2 = cd1.number == (cd2.number-1)\n",
    "                \n",
    "                #print(i,j,cond1,cond2)\n",
    "                #env.print_card(cd1,0)\n",
    "                #env.print_card(cd2,1)\n",
    "                if cond1 == True and cond2 == True:\n",
    "                    \n",
    "                    \n",
    "                    \n",
    "                    current.tableau[j].append(current.foundation[i].pop())\n",
    "                    \n",
    "                    \n",
    "                    dfs(env)\n",
    "                    \n",
    "                    \n",
    "                    current.foundation[i].append(current.tableau[j].pop())\n",
    "            \n",
    "            "
   ]
  },
  {
   "cell_type": "code",
   "execution_count": null,
   "metadata": {},
   "outputs": [],
   "source": [
    "dfs(env)"
   ]
  },
  {
   "cell_type": "code",
   "execution_count": null,
   "metadata": {},
   "outputs": [],
   "source": [
    "env.isterminal()"
   ]
  },
  {
   "cell_type": "code",
   "execution_count": 33,
   "metadata": {},
   "outputs": [
    {
     "data": {
      "text/plain": [
       "0"
      ]
     },
     "execution_count": 33,
     "metadata": {},
     "output_type": "execute_result"
    }
   ],
   "source": [
    "count"
   ]
  },
  {
   "cell_type": "code",
   "execution_count": null,
   "metadata": {},
   "outputs": [],
   "source": []
  },
  {
   "cell_type": "code",
   "execution_count": 62,
   "metadata": {},
   "outputs": [],
   "source": [
    "en = test_env.TestEnv(start_state)\n",
    "k = -1"
   ]
  },
  {
   "cell_type": "code",
   "execution_count": 25,
   "metadata": {},
   "outputs": [],
   "source": [
    "def goto_next_state():\n",
    "    \n",
    "    k +=1 \n",
    "\n",
    "    action_data = action_description[k]\n",
    "    action = action_data[0]\n",
    "    print(\"action type \",k,action,action_seq[k])\n",
    "\n",
    "    if action !=action_seq[k]:\n",
    "        print(\"False\")\n",
    "\n",
    "    w,t = en.step(action,False,action_data)\n",
    "    print(w,t)\n",
    "\n",
    "\n",
    "    en.get_pile()\n",
    "    print(\"************************************************************************************************\")\n",
    "    en.get_foundation()\n",
    "    print(\"**************************************************************************************************\")\n",
    "    en.get_tableau()"
   ]
  },
  {
   "cell_type": "code",
   "execution_count": null,
   "metadata": {},
   "outputs": [],
   "source": []
  },
  {
   "cell_type": "code",
   "execution_count": null,
   "metadata": {},
   "outputs": [],
   "source": []
  }
 ],
 "metadata": {
  "kernelspec": {
   "display_name": "Python 3",
   "language": "python",
   "name": "python3"
  },
  "language_info": {
   "codemirror_mode": {
    "name": "ipython",
    "version": 3
   },
   "file_extension": ".py",
   "mimetype": "text/x-python",
   "name": "python",
   "nbconvert_exporter": "python",
   "pygments_lexer": "ipython3",
   "version": "3.7.7"
  }
 },
 "nbformat": 4,
 "nbformat_minor": 4
}
