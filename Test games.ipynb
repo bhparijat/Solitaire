{
 "cells": [
  {
   "cell_type": "code",
   "execution_count": 3,
   "metadata": {},
   "outputs": [],
   "source": [
    "import numpy as np\n",
    "import pandas as pd\n",
    "import matplotlib.pyplot as plt\n",
    "import random\n",
    "import time\n",
    "import unittest\n",
    "import tqdm.notebook as tq\n",
    "import solitaire_env_hard as solitaire_env_hard\n",
    "import sys\n",
    "import seaborn as sns\n",
    "import pickle as pkl\n",
    "import gp\n",
    "import test_env\n",
    "import tqdm.notebook as tq\n",
    "#sys.setrecursionlimit(10**6)"
   ]
  },
  {
   "cell_type": "code",
   "execution_count": 4,
   "metadata": {},
   "outputs": [],
   "source": [
    "with open(\"games/run_hardgame_2020-05-30 00:48:11.622367.pkl\",\"rb\") as file:\n",
    "    run_data = pkl.load(file)"
   ]
  },
  {
   "cell_type": "code",
   "execution_count": 5,
   "metadata": {},
   "outputs": [],
   "source": [
    "actions_matrix = run_data['actions_matrix']"
   ]
  },
  {
   "cell_type": "code",
   "execution_count": 6,
   "metadata": {},
   "outputs": [],
   "source": [
    "iterations_used_per_game = run_data['iterations_used_per_game']\n",
    "it = pd.DataFrame(data = {\"iterations\":iterations_used_per_game})['iterations'].value_counts()"
   ]
  },
  {
   "cell_type": "code",
   "execution_count": 7,
   "metadata": {},
   "outputs": [],
   "source": [
    "iterations_used_per_game = run_data['iterations_used_per_game']\n",
    "it = pd.DataFrame(data = {\"iterations\":iterations_used_per_game})['iterations'].value_counts()"
   ]
  },
  {
   "cell_type": "code",
   "execution_count": 8,
   "metadata": {},
   "outputs": [
    {
     "data": {
      "text/plain": [
       "2670"
      ]
     },
     "execution_count": 8,
     "metadata": {},
     "output_type": "execute_result"
    }
   ],
   "source": [
    "max_action_take = max(it.index)\n",
    "max_action_take "
   ]
  },
  {
   "cell_type": "markdown",
   "metadata": {},
   "source": [
    "### Game that resulted into victory with longest action sequence"
   ]
  },
  {
   "cell_type": "code",
   "execution_count": 10,
   "metadata": {},
   "outputs": [
    {
     "name": "stdout",
     "output_type": "stream",
     "text": [
      "254 2670\n"
     ]
    }
   ],
   "source": [
    "longest_action_seq_win_gno = None\n",
    "longest_action_seq_win_start_state = None\n",
    "longest_action_seq_win_steps = 0\n",
    "longest_action_seq_win_action_description = None\n",
    "longest_action_seq_win_action_sequence = None\n",
    "for game,actions,end_state,start_state,game_states,reason,action_description in actions_matrix:\n",
    "    \n",
    "    if reason =='won' and len(actions) > longest_action_seq_win_steps:\n",
    "        \n",
    "        longest_action_seq_win_steps = len(actions)\n",
    "        longest_action_seq_win_gno = game\n",
    "        \n",
    "        longest_action_seq_win_start_state = start_state\n",
    "        longest_action_seq_win_action_sequence = actions\n",
    "        longest_action_seq_win_action_description = action_description\n",
    "        \n",
    "        \n",
    "print(longest_action_seq_win_gno,longest_action_seq_win_steps)"
   ]
  },
  {
   "cell_type": "markdown",
   "metadata": {},
   "source": [
    "### Frequency of actions in the longest sequence won game"
   ]
  },
  {
   "cell_type": "code",
   "execution_count": 8,
   "metadata": {},
   "outputs": [
    {
     "data": {
      "text/plain": [
       "'233222222333322223555553223335555555531123332201112111311134414441144415141411511114451111444141444141415114441414441144144411144414441114441511111111444411511444141441441511144144414144414141144441411445111111114441151444444111411144411511144441141511444141441441511114441414441414441414144411114115111144414441411151111444144115111144144411414441414144415111111444451114441144414411511144441411144441441414441441144111151111444141444141441151111444144411511144444111415114441444141141151144414144411451111444141444141511113441444114144414141444151111114441544411444411144414441411444141151111114441415114444115114441444111444411444114414414115111144414144414441114114444111144414441151111114441414414414411511144414414414115111444411411441511144414441144441114114115114444114144414114444141114414451445111144414145111111144414144415111111444411514441411444411444141411144144441411144144141455111111114441154441144441114441144411144414415111111444144444511111114441444151114444141144414511111444411411441444114144414141511111441441441411444411114444114511111444414111444115111444411441144414414115444141451111444144144151444111511511114441441144144144144141411411511114441444141144411411411511444141444114414114441414414154114415111111444144114441544111444411141444114511441445141444115141144514451141141144511111144414441114441411444411441144141511111144414441411444411411511114441414441414114415144414411441451445114515111111444144411144414141441441144141451111411511144144411511441444144414141144441145141151444111141144441144451111444141444111144111444144414141144514441511144415144511414151111144414444111114441414441414511111144441444141411114441444411151114444141414114414514441411551111114441144441151111444144411144511114441414414144414115414144414114414511111114441441144144414115415111111114441511444141441441511444141444441114141145111144441141511444151111445114444114144414144414144415111111114441511144411514414414414414111451114414441144144144151111444154414441154441114441414441441144115111111114441511114441444141115114441441144415111144414144414141444141444141441111544415111141451444141444141444141144441411114441445111144441144154514145111111151144415114441414441414441414141141114511114441414441511444144114441144144414111444511111114444114144415111144414411444151111444411444144115144141444141144145144414115114414111144441144415111414414115111144414441114441144144114445111111144414441411444144151111114444114441511144411444141414414414141511111444141144441114441141441144144141511111444414441451111114441144414114444111444151111444111444141411444144151111111144415114441414441414411145511111111444144115011231342111111111111111111111111111111111'"
      ]
     },
     "execution_count": 8,
     "metadata": {},
     "output_type": "execute_result"
    }
   ],
   "source": [
    "\"\".join([str(x) for x in longest_action_seq_win_action_sequence])"
   ]
  },
  {
   "cell_type": "code",
   "execution_count": 9,
   "metadata": {},
   "outputs": [],
   "source": [
    "action_freq = {0:0,1:0,2:0,3:0,4:0,5:0}\n",
    "for a in longest_action_seq_win_action_sequence:\n",
    "    action_freq[a]+=1"
   ]
  },
  {
   "cell_type": "code",
   "execution_count": 10,
   "metadata": {},
   "outputs": [],
   "source": [
    "action_idx2des = {0:'tableau_to_foundation_reveal',\\\n",
    "               1:'to_foundation_stack',2:'tableau_to_tableau_reveal',\\\n",
    "               3:'pile_to_tableau',\\\n",
    "                4:'foundation_to_tableau',\\\n",
    "               5:'tableau_to_tableau_not_reveal'\\\n",
    "              }"
   ]
  },
  {
   "cell_type": "code",
   "execution_count": 11,
   "metadata": {},
   "outputs": [],
   "source": [
    "dic_items = list(action_freq.items())\n",
    "dic_items.sort(key = lambda x:x[1])\n",
    "keys = [action_idx2des[x[0]] for x in dic_items]\n",
    "values = [x[1] for x in dic_items]"
   ]
  },
  {
   "cell_type": "code",
   "execution_count": 12,
   "metadata": {},
   "outputs": [
    {
     "data": {
      "image/png": "[encoded data removed]",
      "text/plain": [
       "<Figure size 576x432 with 1 Axes>"
      ]
     },
     "metadata": {},
     "output_type": "display_data"
    }
   ],
   "source": [
    "sns.set()\n",
    "fig,ax = plt.subplots()\n",
    "d = pd.DataFrame(data={\"action\":keys,\"frequency\":values})\n",
    "ax.barh(width = 'frequency', y= 'action',data = d)\n",
    "ax.set_yticks(d['action'])\n",
    "fig.set_figheight(6)\n",
    "fig.set_figwidth(8)\n",
    "ax.set_xlabel(\"Frequency\")\n",
    "ax.set_ylabel(\"Actions\")\n",
    "plt.show()"
   ]
  },
  {
   "cell_type": "code",
   "execution_count": 13,
   "metadata": {},
   "outputs": [],
   "source": [
    "assert(len(longest_action_seq_win_action_description)==len(longest_action_seq_win_action_sequence))"
   ]
  },
  {
   "cell_type": "markdown",
   "metadata": {},
   "source": [
    "### Verify longest sequence won game"
   ]
  },
  {
   "cell_type": "code",
   "execution_count": 14,
   "metadata": {},
   "outputs": [
    {
     "name": "stdout",
     "output_type": "stream",
     "text": [
      "True 2669\n"
     ]
    }
   ],
   "source": [
    "env = test_env.TestEnv(longest_action_seq_win_start_state)\n",
    "won = False\n",
    "for i,action_data in enumerate(longest_action_seq_win_action_description):\n",
    "    \n",
    "    action_type = action_data[0]\n",
    "    \n",
    "    won,taken = env.step(action=action_type,debug=False,action_data=action_data)\n",
    "    if taken == False:\n",
    "        \n",
    "        print(\"verifier failed\",action_data)\n",
    "        \n",
    "        break\n",
    "        \n",
    "print(won,i)\n",
    "    "
   ]
  },
  {
   "cell_type": "markdown",
   "metadata": {},
   "source": [
    "The test environment too results into terminal state for the longest sequence game that was won"
   ]
  },
  {
   "cell_type": "code",
   "execution_count": null,
   "metadata": {},
   "outputs": [],
   "source": []
  },
  {
   "cell_type": "markdown",
   "metadata": {},
   "source": [
    "### Verify each game"
   ]
  },
  {
   "cell_type": "code",
   "execution_count": 15,
   "metadata": {},
   "outputs": [
    {
     "name": "stdout",
     "output_type": "stream",
     "text": [
      "216\n"
     ]
    }
   ],
   "source": [
    "cnt = 0\n",
    "for game,action_seq,end_state,start_state,game_states,reason,action_description in actions_matrix:\n",
    "    if reason =='won':\n",
    "        en = test_env.TestEnv(start_state)\n",
    "        for k in range(len(action_seq)):\n",
    "            \n",
    "            action_data = action_description[k]\n",
    "            action = action_data[0]\n",
    "            #print(\"action type \",k,action,actions_seq[0][k])\n",
    "            w,t = en.step(action,False,action_data)\n",
    "\n",
    "            if t == False:\n",
    "                print(\"action not taken\",game,k)\n",
    "                break\n",
    "                \n",
    "            if w == True:\n",
    "                cnt+=1\n",
    "print(cnt)"
   ]
  },
  {
   "cell_type": "code",
   "execution_count": null,
   "metadata": {},
   "outputs": [],
   "source": []
  },
  {
   "cell_type": "code",
   "execution_count": null,
   "metadata": {},
   "outputs": [],
   "source": []
  },
  {
   "cell_type": "code",
   "execution_count": null,
   "metadata": {},
   "outputs": [],
   "source": []
  },
  {
   "cell_type": "code",
   "execution_count": null,
   "metadata": {},
   "outputs": [],
   "source": []
  },
  {
   "cell_type": "code",
   "execution_count": null,
   "metadata": {},
   "outputs": [],
   "source": []
  },
  {
   "cell_type": "code",
   "execution_count": 62,
   "metadata": {},
   "outputs": [],
   "source": [
    "en = test_env.TestEnv(start_state)\n",
    "k = -1"
   ]
  },
  {
   "cell_type": "code",
   "execution_count": 25,
   "metadata": {},
   "outputs": [],
   "source": [
    "def goto_next_state():\n",
    "    \n",
    "    k +=1 \n",
    "\n",
    "    action_data = action_description[k]\n",
    "    action = action_data[0]\n",
    "    print(\"action type \",k,action,action_seq[k])\n",
    "\n",
    "    if action !=action_seq[k]:\n",
    "        print(\"False\")\n",
    "\n",
    "    w,t = en.step(action,False,action_data)\n",
    "    print(w,t)\n",
    "\n",
    "\n",
    "    en.get_pile()\n",
    "    print(\"************************************************************************************************\")\n",
    "    en.get_foundation()\n",
    "    print(\"**************************************************************************************************\")\n",
    "    en.get_tableau()"
   ]
  },
  {
   "cell_type": "code",
   "execution_count": null,
   "metadata": {},
   "outputs": [],
   "source": []
  },
  {
   "cell_type": "code",
   "execution_count": null,
   "metadata": {},
   "outputs": [],
   "source": []
  }
 ],
 "metadata": {
  "kernelspec": {
   "display_name": "Python 3",
   "language": "python",
   "name": "python3"
  },
  "language_info": {
   "codemirror_mode": {
    "name": "ipython",
    "version": 3
   },
   "file_extension": ".py",
   "mimetype": "text/x-python",
   "name": "python",
   "nbconvert_exporter": "python",
   "pygments_lexer": "ipython3",
   "version": "3.7.7"
  }
 },
 "nbformat": 4,
 "nbformat_minor": 4
}
