{
 "cells": [
  {
   "cell_type": "code",
   "execution_count": 1,
   "metadata": {},
   "outputs": [],
   "source": [
    "import numpy as np\n",
    "import pandas as pd\n",
    "import matplotlib.pyplot as plt\n",
    "import random\n",
    "import time\n",
    "import unittest\n",
    "import tqdm.notebook as tq\n",
    "import solitaire_env_easy as solitaire_env_easy\n",
    "import solitaire_env_hard as solitaire_env_hard\n",
    "import sys\n",
    "import seaborn as sns\n",
    "import pickle as pkl\n",
    "sys.setrecursionlimit(10**6)"
   ]
  },
  {
   "cell_type": "code",
   "execution_count": 2,
   "metadata": {},
   "outputs": [],
   "source": [
    "def greedy_policy(en,tot,action_freq,actions_matrix,game,fp_flag=False,debug=False):\n",
    "    \n",
    "    actions_m = []\n",
    "    \n",
    "    start_state = en.copy_state()\n",
    "    \n",
    "    game_states = [start_state]\n",
    "    \n",
    "    for step in range(tot):\n",
    "        \n",
    "        for action in [0,1,2,3,4,5]:\n",
    "            \n",
    "            won,taken = en.step(action,fp_flag,debug)\n",
    "            \n",
    "             \n",
    "            if won == True:\n",
    "                action_freq[action]+=1\n",
    "                \n",
    "                actions_m.append(action)\n",
    "                \n",
    "                game_states.append(en.state)\n",
    "                \n",
    "                actions_matrix[game] = [game,actions_m,en.state,start_state,game_states,\"won\",en.action_description] \n",
    "                \n",
    "                \n",
    "                return len(actions_m),True\n",
    "            \n",
    "            if taken == True:\n",
    "                action_freq[action]+=1\n",
    "                \n",
    "                actions_m.append(action)\n",
    "                game_states.append(en.state)\n",
    "                \n",
    "                break\n",
    "\n",
    "        if taken == False:\n",
    "            \n",
    "            actions_matrix[game] = [game,actions_m,en.state,start_state,game_states,\"No action could be taken\",en.action_description] \n",
    "            \n",
    "            return len(actions_m),False\n",
    "        \n",
    "       \n",
    "    actions_matrix[game] = [game,actions_m,en.state,start_state,game_states,\"Steps exhausted\",en.action_description] \n",
    "    \n",
    "    return len(actions_m),False\n",
    "        "
   ]
  },
  {
   "cell_type": "code",
   "execution_count": 3,
   "metadata": {
    "scrolled": true
   },
   "outputs": [
    {
     "name": "stderr",
     "output_type": "stream",
     "text": [
      "/nfs/hpc/share/bhattpa/anaconda3/envs/Solitaire/lib/python3.7/site-packages/ipykernel_launcher.py:24: TqdmMonitorWarning: tqdm:disabling monitor support (monitor_interval = 0) due to:\n",
      "can't start new thread\n"
     ]
    },
    {
     "data": {
      "application/vnd.jupyter.widget-view+json": {
       "model_id": "83900e7f2f854ce9988d95faacb6b17d",
       "version_major": 2,
       "version_minor": 0
      },
      "text/plain": [
       "HBox(children=(FloatProgress(value=0.0, max=1000.0), HTML(value='')))"
      ]
     },
     "metadata": {},
     "output_type": "display_data"
    },
    {
     "name": "stdout",
     "output_type": "stream",
     "text": [
      "\n",
      "1.1685197035471597\n"
     ]
    }
   ],
   "source": [
    "\n",
    "start = time.time()\n",
    "\n",
    "\n",
    "count = 0\n",
    "\n",
    "number_of_games = 1000\n",
    "\n",
    "action_type = {0:'tableau_to_foundation_reveal',\\\n",
    "               1:'to_foundation_stack',2:'tableau_to_tableau_reveal',\\\n",
    "               3:'pile_to_tableau',\\\n",
    "                4:'foundation_to_tableau',\\\n",
    "               5:'tableau_to_tableau_not_reveal'\\\n",
    "              }\n",
    "\n",
    "\n",
    "actions_for_each_game = [0]*number_of_games\n",
    "iterations_used_per_game = [0]*number_of_games\n",
    "different_states_per_game = [0]*number_of_games\n",
    "\n",
    "\n",
    "        \n",
    "actions_matrix = [0]*number_of_games\n",
    "description = []\n",
    "for this_game in tq.tqdm(range(number_of_games)):\n",
    "    \n",
    "    \n",
    "    en = solitaire_env_hard.env()\n",
    "    tot = 20000\n",
    "    action_freq = {0:0,1:0,2:0,3:0,4:0,5:0}\n",
    "    \n",
    "    \n",
    "    step,won = greedy_policy(en,tot,action_freq,actions_matrix,this_game,fp_flag=True)\n",
    "    \n",
    "    \n",
    "        \n",
    "    if won == True:\n",
    "        count+=1\n",
    "        \n",
    "    actions_for_each_game[this_game] = action_freq\n",
    "    different_states_per_game[this_game] = len(en.hashable_map.keys())\n",
    "    iterations_used_per_game[this_game] = step\n",
    "    \n",
    "print((time.time()-start)/60)"
   ]
  },
  {
   "cell_type": "code",
   "execution_count": 4,
   "metadata": {},
   "outputs": [],
   "source": [
    "win_percent = (count*100) / number_of_games"
   ]
  },
  {
   "cell_type": "code",
   "execution_count": 5,
   "metadata": {},
   "outputs": [
    {
     "data": {
      "text/plain": [
       "31.4"
      ]
     },
     "execution_count": 5,
     "metadata": {},
     "output_type": "execute_result"
    }
   ],
   "source": [
    "win_percent"
   ]
  },
  {
   "cell_type": "code",
   "execution_count": 6,
   "metadata": {},
   "outputs": [
    {
     "data": {
      "text/plain": [
       "314"
      ]
     },
     "execution_count": 6,
     "metadata": {},
     "output_type": "execute_result"
    }
   ],
   "source": [
    "count"
   ]
  },
  {
   "cell_type": "code",
   "execution_count": 7,
   "metadata": {},
   "outputs": [],
   "source": [
    "it = pd.DataFrame(data = {\"iterations\":iterations_used_per_game}).sort_values(by=['iterations'],ascending=False)"
   ]
  },
  {
   "cell_type": "code",
   "execution_count": 8,
   "metadata": {},
   "outputs": [
    {
     "data": {
      "text/html": [
       "<div>\n",
       "<style scoped>\n",
       "    .dataframe tbody tr th:only-of-type {\n",
       "        vertical-align: middle;\n",
       "    }\n",
       "\n",
       "    .dataframe tbody tr th {\n",
       "        vertical-align: top;\n",
       "    }\n",
       "\n",
       "    .dataframe thead th {\n",
       "        text-align: right;\n",
       "    }\n",
       "</style>\n",
       "<table border=\"1\" class=\"dataframe\">\n",
       "  <thead>\n",
       "    <tr style=\"text-align: right;\">\n",
       "      <th></th>\n",
       "      <th>iterations</th>\n",
       "    </tr>\n",
       "  </thead>\n",
       "  <tbody>\n",
       "    <tr>\n",
       "      <th>295</th>\n",
       "      <td>603</td>\n",
       "    </tr>\n",
       "    <tr>\n",
       "      <th>99</th>\n",
       "      <td>600</td>\n",
       "    </tr>\n",
       "    <tr>\n",
       "      <th>308</th>\n",
       "      <td>559</td>\n",
       "    </tr>\n",
       "    <tr>\n",
       "      <th>492</th>\n",
       "      <td>547</td>\n",
       "    </tr>\n",
       "    <tr>\n",
       "      <th>836</th>\n",
       "      <td>540</td>\n",
       "    </tr>\n",
       "    <tr>\n",
       "      <th>985</th>\n",
       "      <td>510</td>\n",
       "    </tr>\n",
       "    <tr>\n",
       "      <th>780</th>\n",
       "      <td>482</td>\n",
       "    </tr>\n",
       "    <tr>\n",
       "      <th>855</th>\n",
       "      <td>435</td>\n",
       "    </tr>\n",
       "    <tr>\n",
       "      <th>684</th>\n",
       "      <td>433</td>\n",
       "    </tr>\n",
       "    <tr>\n",
       "      <th>203</th>\n",
       "      <td>430</td>\n",
       "    </tr>\n",
       "    <tr>\n",
       "      <th>155</th>\n",
       "      <td>414</td>\n",
       "    </tr>\n",
       "    <tr>\n",
       "      <th>650</th>\n",
       "      <td>408</td>\n",
       "    </tr>\n",
       "    <tr>\n",
       "      <th>657</th>\n",
       "      <td>407</td>\n",
       "    </tr>\n",
       "    <tr>\n",
       "      <th>800</th>\n",
       "      <td>401</td>\n",
       "    </tr>\n",
       "    <tr>\n",
       "      <th>264</th>\n",
       "      <td>395</td>\n",
       "    </tr>\n",
       "    <tr>\n",
       "      <th>62</th>\n",
       "      <td>390</td>\n",
       "    </tr>\n",
       "    <tr>\n",
       "      <th>193</th>\n",
       "      <td>385</td>\n",
       "    </tr>\n",
       "    <tr>\n",
       "      <th>129</th>\n",
       "      <td>381</td>\n",
       "    </tr>\n",
       "    <tr>\n",
       "      <th>351</th>\n",
       "      <td>376</td>\n",
       "    </tr>\n",
       "    <tr>\n",
       "      <th>338</th>\n",
       "      <td>360</td>\n",
       "    </tr>\n",
       "  </tbody>\n",
       "</table>\n",
       "</div>"
      ],
      "text/plain": [
       "     iterations\n",
       "295         603\n",
       "99          600\n",
       "308         559\n",
       "492         547\n",
       "836         540\n",
       "985         510\n",
       "780         482\n",
       "855         435\n",
       "684         433\n",
       "203         430\n",
       "155         414\n",
       "650         408\n",
       "657         407\n",
       "800         401\n",
       "264         395\n",
       "62          390\n",
       "193         385\n",
       "129         381\n",
       "351         376\n",
       "338         360"
      ]
     },
     "execution_count": 8,
     "metadata": {},
     "output_type": "execute_result"
    }
   ],
   "source": [
    "it.head(20)"
   ]
  },
  {
   "cell_type": "code",
   "execution_count": 9,
   "metadata": {},
   "outputs": [
    {
     "data": {
      "text/plain": [
       "(354, 1)"
      ]
     },
     "execution_count": 9,
     "metadata": {},
     "output_type": "execute_result"
    }
   ],
   "source": [
    "it[it.iterations>100].shape"
   ]
  },
  {
   "cell_type": "code",
   "execution_count": 10,
   "metadata": {},
   "outputs": [
    {
     "data": {
      "text/plain": [
       "603"
      ]
     },
     "execution_count": 10,
     "metadata": {},
     "output_type": "execute_result"
    }
   ],
   "source": [
    "max_step_taken = max(it.iterations)\n",
    "max_step_taken"
   ]
  },
  {
   "cell_type": "code",
   "execution_count": null,
   "metadata": {},
   "outputs": [],
   "source": []
  },
  {
   "cell_type": "code",
   "execution_count": 11,
   "metadata": {},
   "outputs": [
    {
     "name": "stdout",
     "output_type": "stream",
     "text": [
      "Int64Index([ 13,  10,   9,   3,  11,  15,   6,  14,  12,  18,\n",
      "            ...\n",
      "            224, 219, 218, 216, 214, 212, 209, 207, 206, 603],\n",
      "           dtype='int64', length=277)\n"
     ]
    },
    {
     "data": {
      "image/png": "[encoded data removed]",
      "text/plain": [
       "<Figure size 1008x576 with 1 Axes>"
      ]
     },
     "metadata": {
      "needs_background": "light"
     },
     "output_type": "display_data"
    }
   ],
   "source": [
    "v = it['iterations'].value_counts()\n",
    "print(v.index)\n",
    "plt.figure(figsize=(14,8))\n",
    "plt.xlabel(\"Number of steps\")\n",
    "plt.ylabel(\"Number of games\")\n",
    "sns.barplot(v.index,v.values)\n",
    "plt.savefig(\"Foundation_Progression_included.jpg\")"
   ]
  },
  {
   "cell_type": "markdown",
   "metadata": {},
   "source": [
    "### Save results from this run"
   ]
  },
  {
   "cell_type": "code",
   "execution_count": 12,
   "metadata": {},
   "outputs": [
    {
     "name": "stdout",
     "output_type": "stream",
     "text": [
      "games/run_hardgame_2020-05-28 14:04:35.844796.pkl\n"
     ]
    }
   ],
   "source": [
    "name = \"games/run_hardgame_\" + str(pd.Timestamp.now()) +\".pkl\"\n",
    "print(name)\n",
    "run_data = {\n",
    "    \"actions_matrix\":actions_matrix,\n",
    "    \"actions_for_each_game\":actions_for_each_game,\n",
    "    \"different_states_per_game\":different_states_per_game,\n",
    "    \"iterations_used_per_game\":iterations_used_per_game\n",
    "}\n",
    "with open(name,\"wb\") as file:\n",
    "    pkl.dump(run_data,file)"
   ]
  },
  {
   "cell_type": "code",
   "execution_count": null,
   "metadata": {},
   "outputs": [],
   "source": []
  },
  {
   "cell_type": "code",
   "execution_count": null,
   "metadata": {},
   "outputs": [],
   "source": []
  },
  {
   "cell_type": "code",
   "execution_count": 45,
   "metadata": {},
   "outputs": [
    {
     "data": {
      "text/plain": [
       "21"
      ]
     },
     "execution_count": 45,
     "metadata": {},
     "output_type": "execute_result"
    }
   ],
   "source": [
    "\n",
    "len(actions_matrix[0][1])"
   ]
  },
  {
   "cell_type": "code",
   "execution_count": 46,
   "metadata": {},
   "outputs": [],
   "source": [
    "action_count = [len(actions_matrix[i][1]) for i in range(number_of_games)]"
   ]
  },
  {
   "cell_type": "code",
   "execution_count": 11,
   "metadata": {},
   "outputs": [
    {
     "data": {
      "text/plain": [
       "[<matplotlib.lines.Line2D at 0x7fce1792e2b0>]"
      ]
     },
     "execution_count": 11,
     "metadata": {},
     "output_type": "execute_result"
    },
    {
     "data": {
      "image/png": "[encoded data removed]",
      "text/plain": [
       "<Figure size 1008x576 with 1 Axes>"
      ]
     },
     "metadata": {
      "needs_background": "light"
     },
     "output_type": "display_data"
    }
   ],
   "source": [
    "plt.figure(figsize=(14,8))\n",
    "plt.plot(range(number_of_games),action_count)"
   ]
  },
  {
   "cell_type": "code",
   "execution_count": 12,
   "metadata": {},
   "outputs": [],
   "source": [
    "actions_matrix.sort(key = lambda x:len(x[1]))"
   ]
  },
  {
   "cell_type": "code",
   "execution_count": 13,
   "metadata": {},
   "outputs": [
    {
     "data": {
      "text/plain": [
       "[572,\n",
       " [1, 1, 2, 2, 3, 3, 3, 3, 3],\n",
       " <solitaire_env.state at 0x7fce1d171c50>,\n",
       " <solitaire_env.state at 0x7fce1d244048>,\n",
       " False]"
      ]
     },
     "execution_count": 13,
     "metadata": {},
     "output_type": "execute_result"
    }
   ],
   "source": [
    "actions_matrix[0]"
   ]
  },
  {
   "cell_type": "code",
   "execution_count": 14,
   "metadata": {},
   "outputs": [
    {
     "name": "stdout",
     "output_type": "stream",
     "text": [
      "91\n",
      "92\n",
      "93\n",
      "93\n",
      "96\n"
     ]
    }
   ],
   "source": [
    "max_step_games = []\n",
    "for i in range(number_of_games):\n",
    "    \n",
    "    if len(actions_matrix[i][1])>90:\n",
    "        print(len(actions_matrix[i][1]))\n",
    "    if len(actions_matrix[i][1]) == max_step_taken:\n",
    "        action_string = \"\".join([str(x) for  x in actions_matrix[i][1]])\n",
    "        max_step_games.append([actions_matrix[i][0],action_string,actions_matrix[i][2]])\n",
    "        "
   ]
  },
  {
   "cell_type": "code",
   "execution_count": 96,
   "metadata": {},
   "outputs": [
    {
     "data": {
      "text/plain": [
       "1"
      ]
     },
     "execution_count": 96,
     "metadata": {},
     "output_type": "execute_result"
    }
   ],
   "source": [
    "len(max_step_games)"
   ]
  },
  {
   "cell_type": "code",
   "execution_count": 97,
   "metadata": {},
   "outputs": [],
   "source": [
    "k = 0\n",
    "game_no, game_action_seq, game_end_state = max_step_games[k]"
   ]
  },
  {
   "cell_type": "code",
   "execution_count": 98,
   "metadata": {},
   "outputs": [
    {
     "name": "stdout",
     "output_type": "stream",
     "text": [
      "[4, 48, 15, 16, 24, 0]\n"
     ]
    },
    {
     "data": {
      "text/plain": [
       "<BarContainer object of 6 artists>"
      ]
     },
     "execution_count": 98,
     "metadata": {},
     "output_type": "execute_result"
    },
    {
     "data": {
      "image/png": "[encoded data removed]",
      "text/plain": [
       "<Figure size 432x288 with 1 Axes>"
      ]
     },
     "metadata": {
      "needs_background": "light"
     },
     "output_type": "display_data"
    }
   ],
   "source": [
    "\n",
    "mp = actions_for_each_game[game_no]\n",
    "values = [mp[i] for i in range(6)]\n",
    "print(values)\n",
    "plt.bar([0,1,2,3,4,5],values)"
   ]
  },
  {
   "cell_type": "code",
   "execution_count": 99,
   "metadata": {},
   "outputs": [],
   "source": [
    "en.state = start_states[game_no]\n"
   ]
  },
  {
   "cell_type": "markdown",
   "metadata": {},
   "source": [
    "## Start of game "
   ]
  },
  {
   "cell_type": "code",
   "execution_count": 100,
   "metadata": {},
   "outputs": [
    {
     "name": "stdout",
     "output_type": "stream",
     "text": [
      "suit = spade      color = black      number =    12 speciality = QUEEN      face = up   \n",
      "suit = club       color = black      number =     3 speciality = None       face = up   \n",
      "suit = heart      color = red        number =     4 speciality = None       face = up   \n",
      "suit = spade      color = black      number =     8 speciality = None       face = up   \n",
      "suit = diamond    color = red        number =    10 speciality = None       face = up   \n",
      "suit = diamond    color = red        number =    12 speciality = QUEEN      face = up   \n",
      "suit = spade      color = black      number =     6 speciality = None       face = up   \n",
      "suit = heart      color = red        number =     5 speciality = None       face = up   \n",
      "suit = spade      color = black      number =    10 speciality = None       face = up   \n",
      "suit = diamond    color = red        number =     5 speciality = None       face = up   \n",
      "suit = diamond    color = red        number =     3 speciality = None       face = up   \n",
      "suit = spade      color = black      number =     4 speciality = None       face = up   \n",
      "suit = club       color = black      number =     1 speciality = ACE        face = up   \n",
      "suit = heart      color = red        number =    13 speciality = KING       face = up   \n",
      "suit = heart      color = red        number =    12 speciality = QUEEN      face = up   \n",
      "suit = club       color = black      number =    13 speciality = KING       face = up   \n",
      "suit = spade      color = black      number =     2 speciality = None       face = up   \n",
      "suit = club       color = black      number =     9 speciality = None       face = up   \n",
      "suit = spade      color = black      number =     1 speciality = ACE        face = up   \n",
      "suit = spade      color = black      number =    11 speciality = JACK       face = up   \n",
      "suit = heart      color = red        number =     7 speciality = None       face = up   \n",
      "suit = club       color = black      number =     8 speciality = None       face = up   \n",
      "suit = club       color = black      number =    10 speciality = None       face = up   \n",
      "suit = club       color = black      number =     4 speciality = None       face = up   \n"
     ]
    }
   ],
   "source": [
    "en.get_pile()"
   ]
  },
  {
   "cell_type": "code",
   "execution_count": 101,
   "metadata": {},
   "outputs": [
    {
     "name": "stdout",
     "output_type": "stream",
     "text": [
      "printing foundation number 1 ********************\n",
      "printing foundation number 2 ********************\n",
      "printing foundation number 3 ********************\n",
      "printing foundation number 4 ********************\n"
     ]
    }
   ],
   "source": [
    "en.get_foundation()"
   ]
  },
  {
   "cell_type": "code",
   "execution_count": 102,
   "metadata": {},
   "outputs": [
    {
     "name": "stdout",
     "output_type": "stream",
     "text": [
      "printing tableau number 1 ********************\n",
      "suit = diamond    color = red        number =    11 speciality = JACK       face = up   \n",
      "printing tableau number 2 ********************\n",
      "suit = heart      color = red        number =     1 speciality = ACE        face = down \n",
      "suit = club       color = black      number =    11 speciality = JACK       face = up   \n",
      "printing tableau number 3 ********************\n",
      "suit = diamond    color = red        number =     6 speciality = None       face = down \n",
      "suit = spade      color = black      number =    13 speciality = KING       face = down \n",
      "suit = heart      color = red        number =     2 speciality = None       face = up   \n",
      "printing tableau number 4 ********************\n",
      "suit = club       color = black      number =    12 speciality = QUEEN      face = down \n",
      "suit = club       color = black      number =     6 speciality = None       face = down \n",
      "suit = spade      color = black      number =     5 speciality = None       face = down \n",
      "suit = diamond    color = red        number =     4 speciality = None       face = up   \n",
      "printing tableau number 5 ********************\n",
      "suit = heart      color = red        number =     6 speciality = None       face = down \n",
      "suit = heart      color = red        number =     3 speciality = None       face = down \n",
      "suit = club       color = black      number =     2 speciality = None       face = down \n",
      "suit = diamond    color = red        number =     8 speciality = None       face = down \n",
      "suit = heart      color = red        number =    10 speciality = None       face = up   \n",
      "printing tableau number 6 ********************\n",
      "suit = diamond    color = red        number =     7 speciality = None       face = down \n",
      "suit = diamond    color = red        number =    13 speciality = KING       face = down \n",
      "suit = spade      color = black      number =     3 speciality = None       face = down \n",
      "suit = heart      color = red        number =     9 speciality = None       face = down \n",
      "suit = club       color = black      number =     7 speciality = None       face = down \n",
      "suit = spade      color = black      number =     9 speciality = None       face = up   \n",
      "printing tableau number 7 ********************\n",
      "suit = spade      color = black      number =     7 speciality = None       face = down \n",
      "suit = diamond    color = red        number =     9 speciality = None       face = down \n",
      "suit = diamond    color = red        number =     2 speciality = None       face = down \n",
      "suit = heart      color = red        number =     8 speciality = None       face = down \n",
      "suit = heart      color = red        number =    11 speciality = JACK       face = down \n",
      "suit = club       color = black      number =     5 speciality = None       face = down \n",
      "suit = diamond    color = red        number =     1 speciality = ACE        face = up   \n"
     ]
    }
   ],
   "source": [
    "en.get_tableau()"
   ]
  },
  {
   "cell_type": "code",
   "execution_count": null,
   "metadata": {},
   "outputs": [],
   "source": []
  },
  {
   "cell_type": "markdown",
   "metadata": {},
   "source": [
    "## After taking n number of steps"
   ]
  },
  {
   "cell_type": "code",
   "execution_count": 103,
   "metadata": {},
   "outputs": [
    {
     "name": "stdout",
     "output_type": "stream",
     "text": [
      "01112222011233320133334223423211111111111333333434244122201111111111111121144411444114441144441114144411411\n",
      "48 59\n"
     ]
    }
   ],
   "source": [
    "\n",
    "\n",
    "\n",
    "this_game_actions = game_action_seq[:]\n",
    "print(this_game_actions)\n",
    "count1 = 0\n",
    "for c in this_game_actions:\n",
    "    if c == '1':\n",
    "        count1+=1\n",
    "        \n",
    "print(count1,len(this_game_actions)-count1)"
   ]
  },
  {
   "cell_type": "code",
   "execution_count": 104,
   "metadata": {},
   "outputs": [],
   "source": [
    "en.state = start_states[game_no]\n",
    "for a in this_game_actions:\n",
    "    action = int(a)\n",
    "    w,t = en.step(action,fp_flag=True)"
   ]
  },
  {
   "cell_type": "code",
   "execution_count": 105,
   "metadata": {},
   "outputs": [
    {
     "name": "stdout",
     "output_type": "stream",
     "text": [
      "printing foundation number 1 ********************\n",
      "printing foundation number 2 ********************\n",
      "printing foundation number 3 ********************\n",
      "suit = diamond    color = red        number =     1 speciality = ACE        face = up   \n",
      "suit = diamond    color = red        number =     2 speciality = None       face = up   \n",
      "suit = diamond    color = red        number =     3 speciality = None       face = up   \n",
      "printing foundation number 4 ********************\n",
      "suit = spade      color = black      number =     1 speciality = ACE        face = up   \n",
      "suit = spade      color = black      number =     2 speciality = None       face = up   \n"
     ]
    }
   ],
   "source": [
    "en.get_foundation()"
   ]
  },
  {
   "cell_type": "code",
   "execution_count": null,
   "metadata": {},
   "outputs": [],
   "source": []
  },
  {
   "cell_type": "code",
   "execution_count": 106,
   "metadata": {},
   "outputs": [
    {
     "name": "stdout",
     "output_type": "stream",
     "text": [
      "suit = diamond    color = red        number =    12 speciality = QUEEN      face = up   \n",
      "suit = diamond    color = red        number =     5 speciality = None       face = up   \n",
      "suit = spade      color = black      number =     4 speciality = None       face = up   \n",
      "suit = heart      color = red        number =    13 speciality = KING       face = up   \n",
      "suit = club       color = black      number =    13 speciality = KING       face = up   \n",
      "suit = club       color = black      number =     8 speciality = None       face = up   \n"
     ]
    }
   ],
   "source": [
    "en.get_pile()"
   ]
  },
  {
   "cell_type": "code",
   "execution_count": 107,
   "metadata": {},
   "outputs": [
    {
     "name": "stdout",
     "output_type": "stream",
     "text": [
      "printing tableau number 1 ********************\n",
      "suit = diamond    color = red        number =    11 speciality = JACK       face = up   \n",
      "suit = spade      color = black      number =    10 speciality = None       face = up   \n",
      "suit = heart      color = red        number =     9 speciality = None       face = up   \n",
      "suit = spade      color = black      number =     8 speciality = None       face = up   \n",
      "suit = heart      color = red        number =     7 speciality = None       face = up   \n",
      "suit = spade      color = black      number =     6 speciality = None       face = up   \n",
      "suit = heart      color = red        number =     5 speciality = None       face = up   \n",
      "suit = club       color = black      number =     4 speciality = None       face = up   \n",
      "suit = heart      color = red        number =     3 speciality = None       face = up   \n",
      "suit = club       color = black      number =     2 speciality = None       face = up   \n",
      "printing tableau number 2 ********************\n",
      "suit = heart      color = red        number =     1 speciality = ACE        face = down \n",
      "suit = club       color = black      number =    11 speciality = JACK       face = up   \n",
      "suit = heart      color = red        number =    10 speciality = None       face = up   \n",
      "suit = spade      color = black      number =     9 speciality = None       face = up   \n",
      "suit = diamond    color = red        number =     8 speciality = None       face = up   \n",
      "suit = club       color = black      number =     7 speciality = None       face = up   \n",
      "printing tableau number 3 ********************\n",
      "suit = diamond    color = red        number =     6 speciality = None       face = down \n",
      "suit = spade      color = black      number =    13 speciality = KING       face = up   \n",
      "suit = heart      color = red        number =    12 speciality = QUEEN      face = up   \n",
      "suit = spade      color = black      number =    11 speciality = JACK       face = up   \n",
      "suit = diamond    color = red        number =    10 speciality = None       face = up   \n",
      "suit = club       color = black      number =     9 speciality = None       face = up   \n",
      "suit = heart      color = red        number =     8 speciality = None       face = up   \n",
      "printing tableau number 4 ********************\n",
      "suit = club       color = black      number =    12 speciality = QUEEN      face = down \n",
      "suit = club       color = black      number =     6 speciality = None       face = down \n",
      "suit = spade      color = black      number =     5 speciality = None       face = down \n",
      "suit = diamond    color = red        number =     4 speciality = None       face = up   \n",
      "suit = spade      color = black      number =     3 speciality = None       face = up   \n",
      "suit = heart      color = red        number =     2 speciality = None       face = up   \n",
      "suit = club       color = black      number =     1 speciality = ACE        face = up   \n",
      "printing tableau number 5 ********************\n",
      "suit = heart      color = red        number =     6 speciality = None       face = up   \n",
      "suit = club       color = black      number =     5 speciality = None       face = up   \n",
      "suit = heart      color = red        number =     4 speciality = None       face = up   \n",
      "suit = club       color = black      number =     3 speciality = None       face = up   \n",
      "printing tableau number 6 ********************\n",
      "suit = diamond    color = red        number =     7 speciality = None       face = down \n",
      "suit = diamond    color = red        number =    13 speciality = KING       face = up   \n",
      "suit = spade      color = black      number =    12 speciality = QUEEN      face = up   \n",
      "suit = heart      color = red        number =    11 speciality = JACK       face = up   \n",
      "suit = club       color = black      number =    10 speciality = None       face = up   \n",
      "suit = diamond    color = red        number =     9 speciality = None       face = up   \n",
      "printing tableau number 7 ********************\n",
      "suit = spade      color = black      number =     7 speciality = None       face = up   \n"
     ]
    }
   ],
   "source": [
    "en.get_tableau()"
   ]
  },
  {
   "cell_type": "code",
   "execution_count": null,
   "metadata": {},
   "outputs": [],
   "source": []
  },
  {
   "cell_type": "code",
   "execution_count": null,
   "metadata": {},
   "outputs": [],
   "source": []
  },
  {
   "cell_type": "markdown",
   "metadata": {},
   "source": [
    "## End state"
   ]
  },
  {
   "cell_type": "code",
   "execution_count": 108,
   "metadata": {},
   "outputs": [
    {
     "name": "stdout",
     "output_type": "stream",
     "text": [
      "printing foundation number 1 ********************\n",
      "suit = club       color = black      number =     1 speciality = ACE        face = up   \n",
      "suit = club       color = black      number =     2 speciality = None       face = up   \n",
      "suit = club       color = black      number =     3 speciality = None       face = up   \n",
      "suit = club       color = black      number =     4 speciality = None       face = up   \n",
      "suit = club       color = black      number =     5 speciality = None       face = up   \n",
      "suit = club       color = black      number =     6 speciality = None       face = up   \n",
      "suit = club       color = black      number =     7 speciality = None       face = up   \n",
      "suit = club       color = black      number =     8 speciality = None       face = up   \n",
      "suit = club       color = black      number =     9 speciality = None       face = up   \n",
      "printing foundation number 2 ********************\n",
      "suit = heart      color = red        number =     1 speciality = ACE        face = up   \n",
      "suit = heart      color = red        number =     2 speciality = None       face = up   \n",
      "suit = heart      color = red        number =     3 speciality = None       face = up   \n",
      "suit = heart      color = red        number =     4 speciality = None       face = up   \n",
      "suit = heart      color = red        number =     5 speciality = None       face = up   \n",
      "suit = heart      color = red        number =     6 speciality = None       face = up   \n",
      "suit = heart      color = red        number =     7 speciality = None       face = up   \n",
      "suit = heart      color = red        number =     8 speciality = None       face = up   \n",
      "printing foundation number 3 ********************\n",
      "suit = diamond    color = red        number =     1 speciality = ACE        face = up   \n",
      "suit = diamond    color = red        number =     2 speciality = None       face = up   \n",
      "suit = diamond    color = red        number =     3 speciality = None       face = up   \n",
      "suit = diamond    color = red        number =     4 speciality = None       face = up   \n",
      "suit = diamond    color = red        number =     5 speciality = None       face = up   \n",
      "printing foundation number 4 ********************\n",
      "suit = spade      color = black      number =     1 speciality = ACE        face = up   \n",
      "suit = spade      color = black      number =     2 speciality = None       face = up   \n",
      "suit = spade      color = black      number =     3 speciality = None       face = up   \n",
      "suit = spade      color = black      number =     4 speciality = None       face = up   \n",
      "suit = spade      color = black      number =     5 speciality = None       face = up   \n",
      "suit = spade      color = black      number =     6 speciality = None       face = up   \n"
     ]
    }
   ],
   "source": [
    "end_en = solitaire_env.env()\n",
    "end_en.state = game_end_state\n",
    "end_en.get_foundation()"
   ]
  },
  {
   "cell_type": "code",
   "execution_count": 109,
   "metadata": {},
   "outputs": [],
   "source": [
    "end_en.get_pile()"
   ]
  },
  {
   "cell_type": "code",
   "execution_count": 110,
   "metadata": {},
   "outputs": [
    {
     "name": "stdout",
     "output_type": "stream",
     "text": [
      "printing tableau number 1 ********************\n",
      "suit = diamond    color = red        number =    11 speciality = JACK       face = up   \n",
      "suit = spade      color = black      number =    10 speciality = None       face = up   \n",
      "suit = diamond    color = red        number =     9 speciality = None       face = up   \n",
      "suit = spade      color = black      number =     8 speciality = None       face = up   \n",
      "printing tableau number 2 ********************\n",
      "suit = heart      color = red        number =    13 speciality = KING       face = up   \n",
      "printing tableau number 3 ********************\n",
      "suit = diamond    color = red        number =     6 speciality = None       face = down \n",
      "suit = spade      color = black      number =    13 speciality = KING       face = up   \n",
      "suit = diamond    color = red        number =    12 speciality = QUEEN      face = up   \n",
      "suit = club       color = black      number =    11 speciality = JACK       face = up   \n",
      "suit = heart      color = red        number =    10 speciality = None       face = up   \n",
      "suit = spade      color = black      number =     9 speciality = None       face = up   \n",
      "suit = diamond    color = red        number =     8 speciality = None       face = up   \n",
      "suit = spade      color = black      number =     7 speciality = None       face = up   \n",
      "printing tableau number 4 ********************\n",
      "suit = club       color = black      number =    12 speciality = QUEEN      face = up   \n",
      "suit = heart      color = red        number =    11 speciality = JACK       face = up   \n",
      "suit = club       color = black      number =    10 speciality = None       face = up   \n",
      "suit = heart      color = red        number =     9 speciality = None       face = up   \n",
      "printing tableau number 5 ********************\n",
      "suit = club       color = black      number =    13 speciality = KING       face = up   \n",
      "suit = heart      color = red        number =    12 speciality = QUEEN      face = up   \n",
      "suit = spade      color = black      number =    11 speciality = JACK       face = up   \n",
      "suit = diamond    color = red        number =    10 speciality = None       face = up   \n",
      "printing tableau number 6 ********************\n",
      "suit = diamond    color = red        number =     7 speciality = None       face = down \n",
      "suit = diamond    color = red        number =    13 speciality = KING       face = up   \n",
      "suit = spade      color = black      number =    12 speciality = QUEEN      face = up   \n",
      "printing tableau number 7 ********************\n"
     ]
    }
   ],
   "source": [
    "end_en.get_tableau()"
   ]
  },
  {
   "cell_type": "code",
   "execution_count": 73,
   "metadata": {},
   "outputs": [],
   "source": [
    "w,t = end_en.step(1,fp_flag=True)"
   ]
  },
  {
   "cell_type": "code",
   "execution_count": 74,
   "metadata": {},
   "outputs": [
    {
     "data": {
      "text/plain": [
       "(False, True)"
      ]
     },
     "execution_count": 74,
     "metadata": {},
     "output_type": "execute_result"
    }
   ],
   "source": [
    "w,t"
   ]
  },
  {
   "cell_type": "code",
   "execution_count": 75,
   "metadata": {},
   "outputs": [
    {
     "name": "stdout",
     "output_type": "stream",
     "text": [
      "printing foundation number 1 ********************\n",
      "suit = club       color = black      number =     1 speciality = ACE        face = up   \n",
      "suit = club       color = black      number =     2 speciality = None       face = up   \n",
      "suit = club       color = black      number =     3 speciality = None       face = up   \n",
      "suit = club       color = black      number =     4 speciality = None       face = up   \n",
      "suit = club       color = black      number =     5 speciality = None       face = up   \n",
      "suit = club       color = black      number =     6 speciality = None       face = up   \n",
      "suit = club       color = black      number =     7 speciality = None       face = up   \n",
      "suit = club       color = black      number =     8 speciality = None       face = up   \n",
      "suit = club       color = black      number =     9 speciality = None       face = up   \n",
      "printing foundation number 2 ********************\n",
      "suit = heart      color = red        number =     1 speciality = ACE        face = up   \n",
      "suit = heart      color = red        number =     2 speciality = None       face = up   \n",
      "suit = heart      color = red        number =     3 speciality = None       face = up   \n",
      "suit = heart      color = red        number =     4 speciality = None       face = up   \n",
      "suit = heart      color = red        number =     5 speciality = None       face = up   \n",
      "suit = heart      color = red        number =     6 speciality = None       face = up   \n",
      "suit = heart      color = red        number =     7 speciality = None       face = up   \n",
      "suit = heart      color = red        number =     8 speciality = None       face = up   \n",
      "suit = heart      color = red        number =     9 speciality = None       face = up   \n",
      "printing foundation number 3 ********************\n",
      "suit = diamond    color = red        number =     1 speciality = ACE        face = up   \n",
      "suit = diamond    color = red        number =     2 speciality = None       face = up   \n",
      "suit = diamond    color = red        number =     3 speciality = None       face = up   \n",
      "suit = diamond    color = red        number =     4 speciality = None       face = up   \n",
      "suit = diamond    color = red        number =     5 speciality = None       face = up   \n",
      "printing foundation number 4 ********************\n",
      "suit = spade      color = black      number =     1 speciality = ACE        face = up   \n",
      "suit = spade      color = black      number =     2 speciality = None       face = up   \n",
      "suit = spade      color = black      number =     3 speciality = None       face = up   \n",
      "suit = spade      color = black      number =     4 speciality = None       face = up   \n",
      "suit = spade      color = black      number =     5 speciality = None       face = up   \n",
      "suit = spade      color = black      number =     6 speciality = None       face = up   \n"
     ]
    }
   ],
   "source": [
    "end_en.get_foundation()"
   ]
  },
  {
   "cell_type": "code",
   "execution_count": null,
   "metadata": {},
   "outputs": [],
   "source": []
  },
  {
   "cell_type": "code",
   "execution_count": 76,
   "metadata": {},
   "outputs": [
    {
     "name": "stdout",
     "output_type": "stream",
     "text": [
      "printing tableau number 1 ********************\n",
      "suit = diamond    color = red        number =    11 speciality = JACK       face = up   \n",
      "suit = spade      color = black      number =    10 speciality = None       face = up   \n",
      "suit = diamond    color = red        number =     9 speciality = None       face = up   \n",
      "suit = spade      color = black      number =     8 speciality = None       face = up   \n",
      "printing tableau number 2 ********************\n",
      "suit = heart      color = red        number =    13 speciality = KING       face = up   \n",
      "printing tableau number 3 ********************\n",
      "suit = diamond    color = red        number =     6 speciality = None       face = down \n",
      "suit = spade      color = black      number =    13 speciality = KING       face = up   \n",
      "suit = diamond    color = red        number =    12 speciality = QUEEN      face = up   \n",
      "suit = club       color = black      number =    11 speciality = JACK       face = up   \n",
      "suit = heart      color = red        number =    10 speciality = None       face = up   \n",
      "suit = spade      color = black      number =     9 speciality = None       face = up   \n",
      "suit = diamond    color = red        number =     8 speciality = None       face = up   \n",
      "suit = spade      color = black      number =     7 speciality = None       face = up   \n",
      "printing tableau number 4 ********************\n",
      "suit = club       color = black      number =    12 speciality = QUEEN      face = up   \n",
      "suit = heart      color = red        number =    11 speciality = JACK       face = up   \n",
      "suit = club       color = black      number =    10 speciality = None       face = up   \n",
      "printing tableau number 5 ********************\n",
      "suit = club       color = black      number =    13 speciality = KING       face = up   \n",
      "suit = heart      color = red        number =    12 speciality = QUEEN      face = up   \n",
      "suit = spade      color = black      number =    11 speciality = JACK       face = up   \n",
      "suit = diamond    color = red        number =    10 speciality = None       face = up   \n",
      "printing tableau number 6 ********************\n",
      "suit = diamond    color = red        number =     7 speciality = None       face = down \n",
      "suit = diamond    color = red        number =    13 speciality = KING       face = up   \n",
      "suit = spade      color = black      number =    12 speciality = QUEEN      face = up   \n",
      "printing tableau number 7 ********************\n"
     ]
    }
   ],
   "source": [
    "end_en.get_tableau()"
   ]
  },
  {
   "cell_type": "code",
   "execution_count": null,
   "metadata": {},
   "outputs": [],
   "source": []
  },
  {
   "cell_type": "code",
   "execution_count": 83,
   "metadata": {},
   "outputs": [
    {
     "data": {
      "text/plain": [
       "(False, True)"
      ]
     },
     "execution_count": 83,
     "metadata": {},
     "output_type": "execute_result"
    }
   ],
   "source": [
    "w,t = end_en.step(1,fp_flag=True)\n",
    "w,t"
   ]
  },
  {
   "cell_type": "code",
   "execution_count": 84,
   "metadata": {},
   "outputs": [
    {
     "name": "stdout",
     "output_type": "stream",
     "text": [
      "printing foundation number 1 ********************\n",
      "suit = club       color = black      number =     1 speciality = ACE        face = up   \n",
      "suit = club       color = black      number =     2 speciality = None       face = up   \n",
      "suit = club       color = black      number =     3 speciality = None       face = up   \n",
      "suit = club       color = black      number =     4 speciality = None       face = up   \n",
      "suit = club       color = black      number =     5 speciality = None       face = up   \n",
      "suit = club       color = black      number =     6 speciality = None       face = up   \n",
      "suit = club       color = black      number =     7 speciality = None       face = up   \n",
      "suit = club       color = black      number =     8 speciality = None       face = up   \n",
      "suit = club       color = black      number =     9 speciality = None       face = up   \n",
      "suit = club       color = black      number =    10 speciality = None       face = up   \n",
      "printing foundation number 2 ********************\n",
      "suit = heart      color = red        number =     1 speciality = ACE        face = up   \n",
      "suit = heart      color = red        number =     2 speciality = None       face = up   \n",
      "suit = heart      color = red        number =     3 speciality = None       face = up   \n",
      "suit = heart      color = red        number =     4 speciality = None       face = up   \n",
      "suit = heart      color = red        number =     5 speciality = None       face = up   \n",
      "suit = heart      color = red        number =     6 speciality = None       face = up   \n",
      "suit = heart      color = red        number =     7 speciality = None       face = up   \n",
      "suit = heart      color = red        number =     8 speciality = None       face = up   \n",
      "suit = heart      color = red        number =     9 speciality = None       face = up   \n",
      "printing foundation number 3 ********************\n",
      "suit = diamond    color = red        number =     1 speciality = ACE        face = up   \n",
      "suit = diamond    color = red        number =     2 speciality = None       face = up   \n",
      "suit = diamond    color = red        number =     3 speciality = None       face = up   \n",
      "suit = diamond    color = red        number =     4 speciality = None       face = up   \n",
      "suit = diamond    color = red        number =     5 speciality = None       face = up   \n",
      "printing foundation number 4 ********************\n",
      "suit = spade      color = black      number =     1 speciality = ACE        face = up   \n",
      "suit = spade      color = black      number =     2 speciality = None       face = up   \n",
      "suit = spade      color = black      number =     3 speciality = None       face = up   \n",
      "suit = spade      color = black      number =     4 speciality = None       face = up   \n",
      "suit = spade      color = black      number =     5 speciality = None       face = up   \n",
      "suit = spade      color = black      number =     6 speciality = None       face = up   \n",
      "suit = spade      color = black      number =     7 speciality = None       face = up   \n",
      "suit = spade      color = black      number =     8 speciality = None       face = up   \n"
     ]
    }
   ],
   "source": [
    "end_en.get_foundation()"
   ]
  },
  {
   "cell_type": "code",
   "execution_count": 85,
   "metadata": {},
   "outputs": [
    {
     "name": "stdout",
     "output_type": "stream",
     "text": [
      "printing tableau number 1 ********************\n",
      "suit = diamond    color = red        number =    11 speciality = JACK       face = up   \n",
      "suit = spade      color = black      number =    10 speciality = None       face = up   \n",
      "suit = diamond    color = red        number =     9 speciality = None       face = up   \n",
      "printing tableau number 2 ********************\n",
      "suit = heart      color = red        number =    13 speciality = KING       face = up   \n",
      "printing tableau number 3 ********************\n",
      "suit = diamond    color = red        number =     6 speciality = None       face = down \n",
      "suit = spade      color = black      number =    13 speciality = KING       face = up   \n",
      "suit = diamond    color = red        number =    12 speciality = QUEEN      face = up   \n",
      "suit = club       color = black      number =    11 speciality = JACK       face = up   \n",
      "suit = heart      color = red        number =    10 speciality = None       face = up   \n",
      "suit = spade      color = black      number =     9 speciality = None       face = up   \n",
      "suit = diamond    color = red        number =     8 speciality = None       face = up   \n",
      "printing tableau number 4 ********************\n",
      "suit = club       color = black      number =    12 speciality = QUEEN      face = up   \n",
      "suit = heart      color = red        number =    11 speciality = JACK       face = up   \n",
      "printing tableau number 5 ********************\n",
      "suit = club       color = black      number =    13 speciality = KING       face = up   \n",
      "suit = heart      color = red        number =    12 speciality = QUEEN      face = up   \n",
      "suit = spade      color = black      number =    11 speciality = JACK       face = up   \n",
      "suit = diamond    color = red        number =    10 speciality = None       face = up   \n",
      "printing tableau number 6 ********************\n",
      "suit = diamond    color = red        number =     7 speciality = None       face = down \n",
      "suit = diamond    color = red        number =    13 speciality = KING       face = up   \n",
      "suit = spade      color = black      number =    12 speciality = QUEEN      face = up   \n",
      "printing tableau number 7 ********************\n"
     ]
    }
   ],
   "source": [
    "end_en.get_tableau()"
   ]
  },
  {
   "cell_type": "code",
   "execution_count": null,
   "metadata": {},
   "outputs": [],
   "source": []
  },
  {
   "cell_type": "code",
   "execution_count": 87,
   "metadata": {},
   "outputs": [
    {
     "data": {
      "text/plain": [
       "(False, False)"
      ]
     },
     "execution_count": 87,
     "metadata": {},
     "output_type": "execute_result"
    }
   ],
   "source": [
    "w,t = end_en.step(5, fp_flag = True)\n",
    "w,t"
   ]
  },
  {
   "cell_type": "code",
   "execution_count": null,
   "metadata": {},
   "outputs": [],
   "source": []
  },
  {
   "cell_type": "code",
   "execution_count": 88,
   "metadata": {},
   "outputs": [
    {
     "name": "stdout",
     "output_type": "stream",
     "text": [
      "printing tableau number 1 ********************\n",
      "suit = diamond    color = red        number =    11 speciality = JACK       face = up   \n",
      "suit = spade      color = black      number =    10 speciality = None       face = up   \n",
      "suit = diamond    color = red        number =     9 speciality = None       face = up   \n",
      "printing tableau number 2 ********************\n",
      "suit = heart      color = red        number =    13 speciality = KING       face = up   \n",
      "printing tableau number 3 ********************\n",
      "suit = diamond    color = red        number =     6 speciality = None       face = down \n",
      "suit = spade      color = black      number =    13 speciality = KING       face = up   \n",
      "suit = diamond    color = red        number =    12 speciality = QUEEN      face = up   \n",
      "suit = club       color = black      number =    11 speciality = JACK       face = up   \n",
      "suit = heart      color = red        number =    10 speciality = None       face = up   \n",
      "suit = spade      color = black      number =     9 speciality = None       face = up   \n",
      "suit = diamond    color = red        number =     8 speciality = None       face = up   \n",
      "printing tableau number 4 ********************\n",
      "suit = club       color = black      number =    12 speciality = QUEEN      face = up   \n",
      "suit = heart      color = red        number =    11 speciality = JACK       face = up   \n",
      "printing tableau number 5 ********************\n",
      "suit = club       color = black      number =    13 speciality = KING       face = up   \n",
      "suit = heart      color = red        number =    12 speciality = QUEEN      face = up   \n",
      "suit = spade      color = black      number =    11 speciality = JACK       face = up   \n",
      "suit = diamond    color = red        number =    10 speciality = None       face = up   \n",
      "printing tableau number 6 ********************\n",
      "suit = diamond    color = red        number =     7 speciality = None       face = down \n",
      "suit = diamond    color = red        number =    13 speciality = KING       face = up   \n",
      "suit = spade      color = black      number =    12 speciality = QUEEN      face = up   \n",
      "printing tableau number 7 ********************\n"
     ]
    }
   ],
   "source": [
    "end_en.get_tableau()"
   ]
  },
  {
   "cell_type": "code",
   "execution_count": null,
   "metadata": {},
   "outputs": [],
   "source": []
  },
  {
   "cell_type": "code",
   "execution_count": 89,
   "metadata": {},
   "outputs": [
    {
     "name": "stdout",
     "output_type": "stream",
     "text": [
      "printing foundation number 1 ********************\n",
      "suit = club       color = black      number =     1 speciality = ACE        face = up   \n",
      "suit = club       color = black      number =     2 speciality = None       face = up   \n",
      "suit = club       color = black      number =     3 speciality = None       face = up   \n",
      "suit = club       color = black      number =     4 speciality = None       face = up   \n",
      "suit = club       color = black      number =     5 speciality = None       face = up   \n",
      "suit = club       color = black      number =     6 speciality = None       face = up   \n",
      "suit = club       color = black      number =     7 speciality = None       face = up   \n",
      "suit = club       color = black      number =     8 speciality = None       face = up   \n",
      "suit = club       color = black      number =     9 speciality = None       face = up   \n",
      "suit = club       color = black      number =    10 speciality = None       face = up   \n",
      "printing foundation number 2 ********************\n",
      "suit = heart      color = red        number =     1 speciality = ACE        face = up   \n",
      "suit = heart      color = red        number =     2 speciality = None       face = up   \n",
      "suit = heart      color = red        number =     3 speciality = None       face = up   \n",
      "suit = heart      color = red        number =     4 speciality = None       face = up   \n",
      "suit = heart      color = red        number =     5 speciality = None       face = up   \n",
      "suit = heart      color = red        number =     6 speciality = None       face = up   \n",
      "suit = heart      color = red        number =     7 speciality = None       face = up   \n",
      "suit = heart      color = red        number =     8 speciality = None       face = up   \n",
      "suit = heart      color = red        number =     9 speciality = None       face = up   \n",
      "printing foundation number 3 ********************\n",
      "suit = diamond    color = red        number =     1 speciality = ACE        face = up   \n",
      "suit = diamond    color = red        number =     2 speciality = None       face = up   \n",
      "suit = diamond    color = red        number =     3 speciality = None       face = up   \n",
      "suit = diamond    color = red        number =     4 speciality = None       face = up   \n",
      "suit = diamond    color = red        number =     5 speciality = None       face = up   \n",
      "printing foundation number 4 ********************\n",
      "suit = spade      color = black      number =     1 speciality = ACE        face = up   \n",
      "suit = spade      color = black      number =     2 speciality = None       face = up   \n",
      "suit = spade      color = black      number =     3 speciality = None       face = up   \n",
      "suit = spade      color = black      number =     4 speciality = None       face = up   \n",
      "suit = spade      color = black      number =     5 speciality = None       face = up   \n",
      "suit = spade      color = black      number =     6 speciality = None       face = up   \n",
      "suit = spade      color = black      number =     7 speciality = None       face = up   \n",
      "suit = spade      color = black      number =     8 speciality = None       face = up   \n"
     ]
    }
   ],
   "source": [
    "end_en.get_foundation()"
   ]
  },
  {
   "cell_type": "code",
   "execution_count": null,
   "metadata": {},
   "outputs": [],
   "source": []
  },
  {
   "cell_type": "code",
   "execution_count": null,
   "metadata": {},
   "outputs": [],
   "source": []
  },
  {
   "cell_type": "code",
   "execution_count": null,
   "metadata": {},
   "outputs": [],
   "source": [
    "\n",
    "with open(\"games/important_game1_end.pkl\",\"wb\") as file:\n",
    "    pkl.dump(file)"
   ]
  },
  {
   "cell_type": "markdown",
   "metadata": {},
   "source": [
    "## Check result of single action"
   ]
  },
  {
   "cell_type": "code",
   "execution_count": 52,
   "metadata": {},
   "outputs": [],
   "source": [
    "e1 = end_en.state\n",
    "w,t = end_en.step(4,fp_flag=True)"
   ]
  },
  {
   "cell_type": "code",
   "execution_count": 53,
   "metadata": {},
   "outputs": [
    {
     "data": {
      "text/plain": [
       "(False, True)"
      ]
     },
     "execution_count": 53,
     "metadata": {},
     "output_type": "execute_result"
    }
   ],
   "source": [
    "w,t"
   ]
  },
  {
   "cell_type": "code",
   "execution_count": 54,
   "metadata": {},
   "outputs": [
    {
     "data": {
      "text/plain": [
       "0"
      ]
     },
     "execution_count": 54,
     "metadata": {},
     "output_type": "execute_result"
    }
   ],
   "source": [
    "len(end_en.state.pile)"
   ]
  },
  {
   "cell_type": "code",
   "execution_count": 55,
   "metadata": {},
   "outputs": [],
   "source": [
    "end_en.get_pile()"
   ]
  },
  {
   "cell_type": "code",
   "execution_count": 56,
   "metadata": {},
   "outputs": [
    {
     "name": "stdout",
     "output_type": "stream",
     "text": [
      "printing foundation number 1 ********************\n",
      "suit = club       color = black      number =     1 speciality = ACE        face = up   \n",
      "suit = club       color = black      number =     2 speciality = None       face = up   \n",
      "suit = club       color = black      number =     3 speciality = None       face = up   \n",
      "suit = club       color = black      number =     4 speciality = None       face = up   \n",
      "suit = club       color = black      number =     5 speciality = None       face = up   \n",
      "suit = club       color = black      number =     6 speciality = None       face = up   \n",
      "suit = club       color = black      number =     7 speciality = None       face = up   \n",
      "suit = club       color = black      number =     8 speciality = None       face = up   \n",
      "printing foundation number 2 ********************\n",
      "suit = heart      color = red        number =     1 speciality = ACE        face = up   \n",
      "suit = heart      color = red        number =     2 speciality = None       face = up   \n",
      "suit = heart      color = red        number =     3 speciality = None       face = up   \n",
      "suit = heart      color = red        number =     4 speciality = None       face = up   \n",
      "suit = heart      color = red        number =     5 speciality = None       face = up   \n",
      "suit = heart      color = red        number =     6 speciality = None       face = up   \n",
      "suit = heart      color = red        number =     7 speciality = None       face = up   \n",
      "suit = heart      color = red        number =     8 speciality = None       face = up   \n",
      "printing foundation number 3 ********************\n",
      "suit = diamond    color = red        number =     1 speciality = ACE        face = up   \n",
      "suit = diamond    color = red        number =     2 speciality = None       face = up   \n",
      "suit = diamond    color = red        number =     3 speciality = None       face = up   \n",
      "suit = diamond    color = red        number =     4 speciality = None       face = up   \n",
      "suit = diamond    color = red        number =     5 speciality = None       face = up   \n",
      "printing foundation number 4 ********************\n",
      "suit = spade      color = black      number =     1 speciality = ACE        face = up   \n",
      "suit = spade      color = black      number =     2 speciality = None       face = up   \n",
      "suit = spade      color = black      number =     3 speciality = None       face = up   \n",
      "suit = spade      color = black      number =     4 speciality = None       face = up   \n",
      "suit = spade      color = black      number =     5 speciality = None       face = up   \n",
      "suit = spade      color = black      number =     6 speciality = None       face = up   \n"
     ]
    }
   ],
   "source": [
    "end_en.get_foundation()"
   ]
  },
  {
   "cell_type": "code",
   "execution_count": 57,
   "metadata": {},
   "outputs": [
    {
     "name": "stdout",
     "output_type": "stream",
     "text": [
      "printing tableau number 1 ********************\n",
      "suit = diamond    color = red        number =    11 speciality = JACK       face = up   \n",
      "suit = spade      color = black      number =    10 speciality = None       face = up   \n",
      "suit = diamond    color = red        number =     9 speciality = None       face = up   \n",
      "suit = spade      color = black      number =     8 speciality = None       face = up   \n",
      "printing tableau number 2 ********************\n",
      "suit = heart      color = red        number =    13 speciality = KING       face = up   \n",
      "printing tableau number 3 ********************\n",
      "suit = diamond    color = red        number =     6 speciality = None       face = down \n",
      "suit = spade      color = black      number =    13 speciality = KING       face = up   \n",
      "suit = diamond    color = red        number =    12 speciality = QUEEN      face = up   \n",
      "suit = club       color = black      number =    11 speciality = JACK       face = up   \n",
      "suit = heart      color = red        number =    10 speciality = None       face = up   \n",
      "suit = spade      color = black      number =     9 speciality = None       face = up   \n",
      "suit = diamond    color = red        number =     8 speciality = None       face = up   \n",
      "suit = spade      color = black      number =     7 speciality = None       face = up   \n",
      "printing tableau number 4 ********************\n",
      "suit = club       color = black      number =    12 speciality = QUEEN      face = up   \n",
      "suit = heart      color = red        number =    11 speciality = JACK       face = up   \n",
      "suit = club       color = black      number =    10 speciality = None       face = up   \n",
      "suit = heart      color = red        number =     9 speciality = None       face = up   \n",
      "printing tableau number 5 ********************\n",
      "suit = club       color = black      number =    13 speciality = KING       face = up   \n",
      "suit = heart      color = red        number =    12 speciality = QUEEN      face = up   \n",
      "suit = spade      color = black      number =    11 speciality = JACK       face = up   \n",
      "suit = diamond    color = red        number =    10 speciality = None       face = up   \n",
      "suit = club       color = black      number =     9 speciality = None       face = up   \n",
      "printing tableau number 6 ********************\n",
      "suit = diamond    color = red        number =     7 speciality = None       face = down \n",
      "suit = diamond    color = red        number =    13 speciality = KING       face = up   \n",
      "suit = spade      color = black      number =    12 speciality = QUEEN      face = up   \n",
      "printing tableau number 7 ********************\n"
     ]
    }
   ],
   "source": [
    "end_en.get_tableau()"
   ]
  },
  {
   "cell_type": "code",
   "execution_count": 58,
   "metadata": {},
   "outputs": [],
   "source": [
    "e2 = end_en.state"
   ]
  },
  {
   "cell_type": "markdown",
   "metadata": {},
   "source": [
    "#### Second Action"
   ]
  },
  {
   "cell_type": "code",
   "execution_count": 59,
   "metadata": {},
   "outputs": [],
   "source": [
    "w,t = end_en.step(1,fp_flag=True)"
   ]
  },
  {
   "cell_type": "code",
   "execution_count": 60,
   "metadata": {},
   "outputs": [
    {
     "data": {
      "text/plain": [
       "(False, True)"
      ]
     },
     "execution_count": 60,
     "metadata": {},
     "output_type": "execute_result"
    }
   ],
   "source": [
    "w,t"
   ]
  },
  {
   "cell_type": "code",
   "execution_count": 61,
   "metadata": {},
   "outputs": [],
   "source": [
    "end_en.get_pile()"
   ]
  },
  {
   "cell_type": "code",
   "execution_count": 62,
   "metadata": {},
   "outputs": [
    {
     "name": "stdout",
     "output_type": "stream",
     "text": [
      "printing foundation number 1 ********************\n",
      "suit = club       color = black      number =     1 speciality = ACE        face = up   \n",
      "suit = club       color = black      number =     2 speciality = None       face = up   \n",
      "suit = club       color = black      number =     3 speciality = None       face = up   \n",
      "suit = club       color = black      number =     4 speciality = None       face = up   \n",
      "suit = club       color = black      number =     5 speciality = None       face = up   \n",
      "suit = club       color = black      number =     6 speciality = None       face = up   \n",
      "suit = club       color = black      number =     7 speciality = None       face = up   \n",
      "suit = club       color = black      number =     8 speciality = None       face = up   \n",
      "printing foundation number 2 ********************\n",
      "suit = heart      color = red        number =     1 speciality = ACE        face = up   \n",
      "suit = heart      color = red        number =     2 speciality = None       face = up   \n",
      "suit = heart      color = red        number =     3 speciality = None       face = up   \n",
      "suit = heart      color = red        number =     4 speciality = None       face = up   \n",
      "suit = heart      color = red        number =     5 speciality = None       face = up   \n",
      "suit = heart      color = red        number =     6 speciality = None       face = up   \n",
      "suit = heart      color = red        number =     7 speciality = None       face = up   \n",
      "suit = heart      color = red        number =     8 speciality = None       face = up   \n",
      "printing foundation number 3 ********************\n",
      "suit = diamond    color = red        number =     1 speciality = ACE        face = up   \n",
      "suit = diamond    color = red        number =     2 speciality = None       face = up   \n",
      "suit = diamond    color = red        number =     3 speciality = None       face = up   \n",
      "suit = diamond    color = red        number =     4 speciality = None       face = up   \n",
      "suit = diamond    color = red        number =     5 speciality = None       face = up   \n",
      "printing foundation number 4 ********************\n",
      "suit = spade      color = black      number =     1 speciality = ACE        face = up   \n",
      "suit = spade      color = black      number =     2 speciality = None       face = up   \n",
      "suit = spade      color = black      number =     3 speciality = None       face = up   \n",
      "suit = spade      color = black      number =     4 speciality = None       face = up   \n",
      "suit = spade      color = black      number =     5 speciality = None       face = up   \n",
      "suit = spade      color = black      number =     6 speciality = None       face = up   \n",
      "suit = spade      color = black      number =     7 speciality = None       face = up   \n"
     ]
    }
   ],
   "source": [
    "end_en.get_foundation()"
   ]
  },
  {
   "cell_type": "code",
   "execution_count": 63,
   "metadata": {},
   "outputs": [
    {
     "name": "stdout",
     "output_type": "stream",
     "text": [
      "printing tableau number 1 ********************\n",
      "suit = diamond    color = red        number =    11 speciality = JACK       face = up   \n",
      "suit = spade      color = black      number =    10 speciality = None       face = up   \n",
      "suit = diamond    color = red        number =     9 speciality = None       face = up   \n",
      "suit = spade      color = black      number =     8 speciality = None       face = up   \n",
      "printing tableau number 2 ********************\n",
      "suit = heart      color = red        number =    13 speciality = KING       face = up   \n",
      "printing tableau number 3 ********************\n",
      "suit = diamond    color = red        number =     6 speciality = None       face = down \n",
      "suit = spade      color = black      number =    13 speciality = KING       face = up   \n",
      "suit = diamond    color = red        number =    12 speciality = QUEEN      face = up   \n",
      "suit = club       color = black      number =    11 speciality = JACK       face = up   \n",
      "suit = heart      color = red        number =    10 speciality = None       face = up   \n",
      "suit = spade      color = black      number =     9 speciality = None       face = up   \n",
      "suit = diamond    color = red        number =     8 speciality = None       face = up   \n",
      "printing tableau number 4 ********************\n",
      "suit = club       color = black      number =    12 speciality = QUEEN      face = up   \n",
      "suit = heart      color = red        number =    11 speciality = JACK       face = up   \n",
      "suit = club       color = black      number =    10 speciality = None       face = up   \n",
      "suit = heart      color = red        number =     9 speciality = None       face = up   \n",
      "printing tableau number 5 ********************\n",
      "suit = club       color = black      number =    13 speciality = KING       face = up   \n",
      "suit = heart      color = red        number =    12 speciality = QUEEN      face = up   \n",
      "suit = spade      color = black      number =    11 speciality = JACK       face = up   \n",
      "suit = diamond    color = red        number =    10 speciality = None       face = up   \n",
      "suit = club       color = black      number =     9 speciality = None       face = up   \n",
      "printing tableau number 6 ********************\n",
      "suit = diamond    color = red        number =     7 speciality = None       face = down \n",
      "suit = diamond    color = red        number =    13 speciality = KING       face = up   \n",
      "suit = spade      color = black      number =    12 speciality = QUEEN      face = up   \n",
      "printing tableau number 7 ********************\n"
     ]
    }
   ],
   "source": [
    "end_en.get_tableau()"
   ]
  },
  {
   "cell_type": "code",
   "execution_count": 64,
   "metadata": {},
   "outputs": [],
   "source": [
    "e3 = end_en.state"
   ]
  },
  {
   "cell_type": "code",
   "execution_count": 65,
   "metadata": {},
   "outputs": [],
   "source": [
    "def compare_states(state1,state2):\n",
    "\n",
    "    def compare_cards(card1,card2):\n",
    "        \n",
    "        if card1.number == card2.number and card1.face == card2.face and card1.suit == card2.suit:\n",
    "            return True\n",
    "        \n",
    "        return False\n",
    "    \n",
    "    \n",
    "    def check_pile(p1,p2):\n",
    "\n",
    "        if len(p1) != len(p2):\n",
    "            return False\n",
    "\n",
    "        for cd1,cd2 in zip(p1,p2):\n",
    "            \n",
    "            if compare_cards(cd1,cd2) is False:\n",
    "                return False\n",
    "            \n",
    "            \n",
    "        return True\n",
    "    \n",
    "    def check_tableau(t1,t2):\n",
    "        \n",
    "        for i in range(7):\n",
    "            if len(t1[i]) != len(t2[i]):\n",
    "                return False\n",
    "            for cd1,cd2 in zip(t1[i],t2[i]):\n",
    "                if compare_cards(cd1,cd2) is False:\n",
    "                    return False\n",
    "    \n",
    "        return True\n",
    "    \n",
    "    def check_foundation(f1,f2):\n",
    "        \n",
    "        for i in range(4):\n",
    "                if len(f1[i]) != len(f2[i]):\n",
    "                    return False\n",
    "                for cd1,cd2 in zip(f1[i],f2[i]):\n",
    "                    if compare_cards(cd1,cd2) is False:\n",
    "                        return False\n",
    "\n",
    "        return True\n",
    "    \n",
    "    \n",
    "    \n",
    "    comp =  check_foundation(state1.foundation,state2.foundation) and check_pile(state1.pile,state2.pile) and \\\n",
    "            check_tableau(state1.tableau,state2.tableau)\n",
    "    \n",
    "    return comp"
   ]
  },
  {
   "cell_type": "code",
   "execution_count": 66,
   "metadata": {},
   "outputs": [
    {
     "data": {
      "text/plain": [
       "False"
      ]
     },
     "execution_count": 66,
     "metadata": {},
     "output_type": "execute_result"
    }
   ],
   "source": [
    "compare_states(e1,e3)"
   ]
  },
  {
   "cell_type": "code",
   "execution_count": 67,
   "metadata": {},
   "outputs": [
    {
     "data": {
      "text/plain": [
       "False"
      ]
     },
     "execution_count": 67,
     "metadata": {},
     "output_type": "execute_result"
    }
   ],
   "source": [
    "temp_en = solitaire_env.env()\n",
    "temp_en.state = e1\n",
    "temp_en.step(4,fp_flag=True)\n",
    "temp_en.step(1,fp_flag=True)\n",
    "e4 = temp_en.state\n",
    "compare_states(e1,e4)"
   ]
  },
  {
   "cell_type": "code",
   "execution_count": 68,
   "metadata": {},
   "outputs": [],
   "source": [
    "#import pickle as pkl"
   ]
  },
  {
   "cell_type": "code",
   "execution_count": 13,
   "metadata": {},
   "outputs": [],
   "source": []
  },
  {
   "cell_type": "code",
   "execution_count": 14,
   "metadata": {},
   "outputs": [],
   "source": []
  },
  {
   "cell_type": "code",
   "execution_count": null,
   "metadata": {},
   "outputs": [],
   "source": []
  },
  {
   "cell_type": "code",
   "execution_count": 15,
   "metadata": {},
   "outputs": [],
   "source": []
  },
  {
   "cell_type": "code",
   "execution_count": 48,
   "metadata": {},
   "outputs": [
    {
     "name": "stdout",
     "output_type": "stream",
     "text": [
      "suit = spade      color = black      number =     4 speciality = None       face = up   \n",
      "suit = spade      color = black      number =     5 speciality = None       face = up   \n",
      "suit = spade      color = black      number =     3 speciality = None       face = up   \n",
      "suit = spade      color = black      number =    12 speciality = QUEEN      face = up   \n",
      "suit = spade      color = black      number =    10 speciality = None       face = up   \n",
      "***************************************************************************************************\n",
      "printing tableau number 1 ********************\n",
      "suit = spade      color = black      number =    13 speciality = KING       face = up   \n",
      "suit = heart      color = red        number =    12 speciality = QUEEN      face = up   \n",
      "suit = spade      color = black      number =    11 speciality = JACK       face = up   \n",
      "printing tableau number 2 ********************\n",
      "suit = diamond    color = red        number =    13 speciality = KING       face = up   \n",
      "suit = club       color = black      number =    12 speciality = QUEEN      face = up   \n",
      "suit = heart      color = red        number =    11 speciality = JACK       face = up   \n",
      "suit = club       color = black      number =    10 speciality = None       face = up   \n",
      "printing tableau number 3 ********************\n",
      "suit = spade      color = black      number =     8 speciality = None       face = up   \n",
      "printing tableau number 4 ********************\n",
      "suit = spade      color = black      number =     6 speciality = None       face = up   \n",
      "printing tableau number 5 ********************\n",
      "suit = heart      color = red        number =     9 speciality = None       face = down \n",
      "suit = club       color = black      number =     7 speciality = None       face = down \n",
      "suit = spade      color = black      number =     7 speciality = None       face = up   \n",
      "printing tableau number 6 ********************\n",
      "suit = club       color = black      number =    13 speciality = KING       face = up   \n",
      "suit = diamond    color = red        number =    12 speciality = QUEEN      face = up   \n",
      "suit = club       color = black      number =    11 speciality = JACK       face = up   \n",
      "suit = heart      color = red        number =    10 speciality = None       face = up   \n",
      "suit = club       color = black      number =     9 speciality = None       face = up   \n",
      "printing tableau number 7 ********************\n",
      "suit = spade      color = black      number =     1 speciality = ACE        face = down \n",
      "suit = heart      color = red        number =    13 speciality = KING       face = down \n",
      "suit = spade      color = black      number =     9 speciality = None       face = down \n",
      "suit = spade      color = black      number =     2 speciality = None       face = down \n",
      "suit = club       color = black      number =     8 speciality = None       face = up   \n",
      "***************************************************************************************************\n",
      "printing foundation number 1 ********************\n",
      "suit = club       color = black      number =     1 speciality = ACE        face = up   \n",
      "suit = club       color = black      number =     2 speciality = None       face = up   \n",
      "suit = club       color = black      number =     3 speciality = None       face = up   \n",
      "suit = club       color = black      number =     4 speciality = None       face = up   \n",
      "suit = club       color = black      number =     5 speciality = None       face = up   \n",
      "suit = club       color = black      number =     6 speciality = None       face = up   \n",
      "printing foundation number 2 ********************\n",
      "suit = heart      color = red        number =     1 speciality = ACE        face = up   \n",
      "suit = heart      color = red        number =     2 speciality = None       face = up   \n",
      "suit = heart      color = red        number =     3 speciality = None       face = up   \n",
      "suit = heart      color = red        number =     4 speciality = None       face = up   \n",
      "suit = heart      color = red        number =     5 speciality = None       face = up   \n",
      "suit = heart      color = red        number =     6 speciality = None       face = up   \n",
      "suit = heart      color = red        number =     7 speciality = None       face = up   \n",
      "suit = heart      color = red        number =     8 speciality = None       face = up   \n",
      "printing foundation number 3 ********************\n",
      "suit = diamond    color = red        number =     1 speciality = ACE        face = up   \n",
      "suit = diamond    color = red        number =     2 speciality = None       face = up   \n",
      "suit = diamond    color = red        number =     3 speciality = None       face = up   \n",
      "suit = diamond    color = red        number =     4 speciality = None       face = up   \n",
      "suit = diamond    color = red        number =     5 speciality = None       face = up   \n",
      "suit = diamond    color = red        number =     6 speciality = None       face = up   \n",
      "suit = diamond    color = red        number =     7 speciality = None       face = up   \n",
      "suit = diamond    color = red        number =     8 speciality = None       face = up   \n",
      "suit = diamond    color = red        number =     9 speciality = None       face = up   \n",
      "suit = diamond    color = red        number =    10 speciality = None       face = up   \n",
      "suit = diamond    color = red        number =    11 speciality = JACK       face = up   \n",
      "printing foundation number 4 ********************\n"
     ]
    }
   ],
   "source": [
    "temp_en = solitaire_env.env()\n",
    "temp_en.state = e1\n",
    "temp_en.get_pile()\n",
    "print('***************************************************************************************************')\n",
    "temp_en.get_tableau()\n",
    "print(\"***************************************************************************************************\")\n",
    "temp_en.get_foundation()\n",
    "# temp_en.step(4,fp_flag=True)\n",
    "# temp_en.step(1,fp_flag=True)\n",
    "# e4 = temp_en.state\n",
    "# compare_states(e1,e4)"
   ]
  },
  {
   "cell_type": "code",
   "execution_count": 49,
   "metadata": {},
   "outputs": [
    {
     "data": {
      "text/plain": [
       "((<solitaire_env.card at 0x7f97ae9ccbe0>,\n",
       "  <solitaire_env.card at 0x7f97ae9ccc18>,\n",
       "  <solitaire_env.card at 0x7f97ae9ccc50>,\n",
       "  <solitaire_env.card at 0x7f97ae9ccc88>,\n",
       "  <solitaire_env.card at 0x7f97ae9cccc0>),\n",
       " (<solitaire_env.card at 0x7f97ae9cccf8>,\n",
       "  <solitaire_env.card at 0x7f97ae9ccd30>,\n",
       "  <solitaire_env.card at 0x7f97ae9ccd68>),\n",
       " (<solitaire_env.card at 0x7f97ae9ccda0>,\n",
       "  <solitaire_env.card at 0x7f97ae9ccdd8>,\n",
       "  <solitaire_env.card at 0x7f97ae9cce10>,\n",
       "  <solitaire_env.card at 0x7f97ae9cce48>),\n",
       " (<solitaire_env.card at 0x7f97ae9cce80>,),\n",
       " (<solitaire_env.card at 0x7f97ae9cceb8>,),\n",
       " (<solitaire_env.card at 0x7f97ae9ccef0>,\n",
       "  <solitaire_env.card at 0x7f97ae9ccf28>,\n",
       "  <solitaire_env.card at 0x7f97ae9ccf60>),\n",
       " (<solitaire_env.card at 0x7f97ae9ccf98>,\n",
       "  <solitaire_env.card at 0x7f97ae9ccfd0>,\n",
       "  <solitaire_env.card at 0x7f97ae9ce048>,\n",
       "  <solitaire_env.card at 0x7f97ae9ce080>,\n",
       "  <solitaire_env.card at 0x7f97ae9ce0b8>),\n",
       " (<solitaire_env.card at 0x7f97ae9ce128>,\n",
       "  <solitaire_env.card at 0x7f97ae9ce160>,\n",
       "  <solitaire_env.card at 0x7f97ae9ce198>,\n",
       "  <solitaire_env.card at 0x7f97ae9ce1d0>,\n",
       "  <solitaire_env.card at 0x7f97ae9ce208>),\n",
       " (<solitaire_env.card at 0x7f97ae9ce240>,\n",
       "  <solitaire_env.card at 0x7f97ae9ce278>,\n",
       "  <solitaire_env.card at 0x7f97ae9ce2b0>,\n",
       "  <solitaire_env.card at 0x7f97ae9ce2e8>,\n",
       "  <solitaire_env.card at 0x7f97ae9ce320>,\n",
       "  <solitaire_env.card at 0x7f97ae9ce358>),\n",
       " (<solitaire_env.card at 0x7f97ae9ce390>,\n",
       "  <solitaire_env.card at 0x7f97ae9ce3c8>,\n",
       "  <solitaire_env.card at 0x7f97ae9ce400>,\n",
       "  <solitaire_env.card at 0x7f97ae9ce438>,\n",
       "  <solitaire_env.card at 0x7f97ae9ce470>,\n",
       "  <solitaire_env.card at 0x7f97ae9ce4a8>,\n",
       "  <solitaire_env.card at 0x7f97ae9ce4e0>,\n",
       "  <solitaire_env.card at 0x7f97ae9ce0f0>),\n",
       " (<solitaire_env.card at 0x7f97ae9ce518>,\n",
       "  <solitaire_env.card at 0x7f97ae9ce550>,\n",
       "  <solitaire_env.card at 0x7f97ae9ce588>,\n",
       "  <solitaire_env.card at 0x7f97ae9ce5c0>,\n",
       "  <solitaire_env.card at 0x7f97ae9ce5f8>,\n",
       "  <solitaire_env.card at 0x7f97ae9ce630>,\n",
       "  <solitaire_env.card at 0x7f97ae9ce668>,\n",
       "  <solitaire_env.card at 0x7f97ae9ce6a0>,\n",
       "  <solitaire_env.card at 0x7f97ae9ce6d8>,\n",
       "  <solitaire_env.card at 0x7f97ae9ce710>,\n",
       "  <solitaire_env.card at 0x7f97ae9ce748>),\n",
       " ())"
      ]
     },
     "execution_count": 49,
     "metadata": {},
     "output_type": "execute_result"
    }
   ],
   "source": [
    "temp_en.generate_hashable_state(e1)"
   ]
  },
  {
   "cell_type": "code",
   "execution_count": null,
   "metadata": {},
   "outputs": [],
   "source": []
  },
  {
   "cell_type": "code",
   "execution_count": null,
   "metadata": {},
   "outputs": [],
   "source": []
  },
  {
   "cell_type": "code",
   "execution_count": null,
   "metadata": {},
   "outputs": [],
   "source": []
  },
  {
   "cell_type": "code",
   "execution_count": null,
   "metadata": {},
   "outputs": [],
   "source": []
  },
  {
   "cell_type": "code",
   "execution_count": null,
   "metadata": {},
   "outputs": [],
   "source": []
  }
 ],
 "metadata": {
  "kernelspec": {
   "display_name": "Python 3",
   "language": "python",
   "name": "python3"
  },
  "language_info": {
   "codemirror_mode": {
    "name": "ipython",
    "version": 3
   },
   "file_extension": ".py",
   "mimetype": "text/x-python",
   "name": "python",
   "nbconvert_exporter": "python",
   "pygments_lexer": "ipython3",
   "version": "3.7.7"
  }
 },
 "nbformat": 4,
 "nbformat_minor": 2
}
