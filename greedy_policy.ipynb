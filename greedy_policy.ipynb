{
 "cells": [
  {
   "cell_type": "code",
   "execution_count": 48,
   "metadata": {},
   "outputs": [],
   "source": [
    "import numpy as np\n",
    "import pandas as pd\n",
    "import matplotlib.pyplot as plt\n",
    "import random\n",
    "import time\n",
    "import unittest\n",
    "import tqdm.notebook as tq\n",
    "import solitaire_env"
   ]
  },
  {
   "cell_type": "code",
   "execution_count": 13,
   "metadata": {
    "scrolled": true
   },
   "outputs": [],
   "source": [
    "# import time\n",
    "# start = time.time()\n",
    "\n",
    "\n",
    "# count = 0\n",
    "# actions = [0]*6\n",
    "# fail = [0]*6\n",
    "# different_states = []\n",
    "# for j in tqdm(range(1000)):\n",
    "#     en = solitaire_env.env()\n",
    "#     for i in range(10000):\n",
    "\n",
    "#         action = random.sample(range(6),1)[0]\n",
    "        \n",
    "#         actions[action]+=1\n",
    "\n",
    "#         won,failed = en.step(action)\n",
    "        \n",
    "#         if failed:\n",
    "#             fail[action]+=1\n",
    "#         #print(i+1,action,won)\n",
    "#         if won == True:\n",
    "#             count+=1\n",
    "#             break\n",
    "#     different_states.append(len(en.hashable_map.keys()))\n",
    "\n",
    "# print(count)\n",
    "#print(time.time()-start)"
   ]
  },
  {
   "cell_type": "code",
   "execution_count": 15,
   "metadata": {},
   "outputs": [],
   "source": [
    "#en.get_pile()"
   ]
  },
  {
   "cell_type": "code",
   "execution_count": 14,
   "metadata": {},
   "outputs": [],
   "source": [
    "#en.get_foundation()"
   ]
  },
  {
   "cell_type": "code",
   "execution_count": 16,
   "metadata": {},
   "outputs": [],
   "source": [
    "#en.get_tableau()"
   ]
  },
  {
   "cell_type": "code",
   "execution_count": 78,
   "metadata": {
    "scrolled": true
   },
   "outputs": [
    {
     "data": {
      "application/vnd.jupyter.widget-view+json": {
       "model_id": "b49b006476214669891b37e45e1350e3",
       "version_major": 2,
       "version_minor": 0
      },
      "text/plain": [
       "HBox(children=(FloatProgress(value=0.0, max=800.0), HTML(value='')))"
      ]
     },
     "metadata": {},
     "output_type": "display_data"
    },
    {
     "name": "stdout",
     "output_type": "stream",
     "text": [
      "\n",
      "2006.2336061000824\n"
     ]
    }
   ],
   "source": [
    "\n",
    "start = time.time()\n",
    "\n",
    "\n",
    "count = 0\n",
    "\n",
    "number_of_games = 800\n",
    "\n",
    "action_type = {0:'tableau_to_foundation_reveal',\\\n",
    "               1:'to_foundation_stack',2:'tableau_to_tableau_reveal',\\\n",
    "               3:'pile_to_tableau',\\\n",
    "                4:'foundation_to_tableau',\\\n",
    "               5:'tableau_to_tableau_not_reveal'\\\n",
    "              }\n",
    "\n",
    "\n",
    "actions_for_each_game = [0]*number_of_games\n",
    "iterations_used_per_game = [0]*number_of_games\n",
    "different_states_per_game = [0]*number_of_games\n",
    "\n",
    "for this_game in tq.tqdm(range(number_of_games)):\n",
    "    \n",
    "    \n",
    "    en = solitaire_env.env()\n",
    "    tot = 20000\n",
    "    action_freq = {0:0,1:0,2:0,3:0,4:0,5:0}\n",
    "    won,taken = False,True\n",
    "    number_of_actions = 0\n",
    "    this_game_iter = 1\n",
    "    total_iter = 0 \n",
    "    while number_of_actions < tot and won == False and this_game_iter > 0:\n",
    "\n",
    "        action = 0\n",
    "        this_game_iter = 0 \n",
    "        \n",
    "        while taken == True and number_of_actions < tot and won == False:\n",
    "            won,taken = en.step(action)\n",
    "            number_of_actions+=1\n",
    "            action_freq[action]+=1\n",
    "            if taken:\n",
    "                this_game_iter +=1\n",
    "            \n",
    "        action +=1\n",
    "        taken = True\n",
    "        \n",
    "        while taken == True and number_of_actions < tot and won == False:\n",
    "            won,taken = en.step(action)\n",
    "            number_of_actions+=1\n",
    "            action_freq[action]+=1\n",
    "            \n",
    "            if taken:\n",
    "                this_game_iter +=1\n",
    "            \n",
    "            \n",
    "            \n",
    "        action +=1\n",
    "        taken = True\n",
    "        while taken == True and number_of_actions < tot and won == False:\n",
    "            won,taken = en.step(action)\n",
    "            action_freq[action]+=1\n",
    "            \n",
    "            number_of_actions+=1\n",
    "            \n",
    "            if taken:\n",
    "                this_game_iter +=1\n",
    "            \n",
    "            \n",
    "            \n",
    "            \n",
    "        action +=1\n",
    "        taken = True\n",
    "        while taken == True and number_of_actions < tot and won == False:\n",
    "            won,taken = en.step(action)\n",
    "            number_of_actions+=1\n",
    "            action_freq[action]+=1\n",
    "            \n",
    "            if taken:\n",
    "                this_game_iter +=1\n",
    "            \n",
    "            \n",
    "            \n",
    "        action +=1\n",
    "        taken = True\n",
    "        while taken == True and number_of_actions < tot and won == False:\n",
    "            won,taken = en.step(action)\n",
    "            number_of_actions+=1\n",
    "            action_freq[action]+=1\n",
    "            \n",
    "            if taken:\n",
    "                this_game_iter +=1\n",
    "            \n",
    "            \n",
    "            \n",
    "\n",
    "\n",
    "        action +=1\n",
    "        taken = True\n",
    "        while taken == True and number_of_actions < tot and won == False:\n",
    "            won,taken = en.step(action)\n",
    "            number_of_actions+=1\n",
    "            action_freq[action]+=1\n",
    "            \n",
    "            if taken:\n",
    "                this_game_iter +=1\n",
    "            \n",
    "            \n",
    "        \n",
    "\n",
    "        if won:\n",
    "            count+=1\n",
    "            \n",
    "            \n",
    "        total_iter += this_game_iter\n",
    "        \n",
    "        \n",
    "        \n",
    "    actions_for_each_game[this_game] = action_freq\n",
    "    \n",
    "    different_states[this_game] = len(en.hashable_map.keys())\n",
    "    \n",
    "    iterations_used_per_game[this_game] = total_iter\n",
    "    \n",
    "print(time.time()-start)"
   ]
  },
  {
   "cell_type": "code",
   "execution_count": 79,
   "metadata": {},
   "outputs": [
    {
     "data": {
      "text/plain": [
       "0"
      ]
     },
     "execution_count": 79,
     "metadata": {},
     "output_type": "execute_result"
    }
   ],
   "source": [
    "count"
   ]
  },
  {
   "cell_type": "code",
   "execution_count": 81,
   "metadata": {},
   "outputs": [
    {
     "data": {
      "text/plain": [
       "<BarContainer object of 800 artists>"
      ]
     },
     "execution_count": 81,
     "metadata": {},
     "output_type": "execute_result"
    },
    {
     "data": {
      "image/png": "[encoded data removed]",
      "text/plain": [
       "<Figure size 720x576 with 1 Axes>"
      ]
     },
     "metadata": {
      "needs_background": "light"
     },
     "output_type": "display_data"
    }
   ],
   "source": [
    "plt.figure(figsize=(10,8))\n",
    "plt.bar(range(len(iterations_used_per_game)),iterations_used_per_game)"
   ]
  },
  {
   "cell_type": "code",
   "execution_count": 30,
   "metadata": {},
   "outputs": [
    {
     "data": {
      "text/plain": [
       "{0: 1, 1: 5712, 2: 2855, 3: 2867, 4: 5710, 5: 2855}"
      ]
     },
     "execution_count": 30,
     "metadata": {},
     "output_type": "execute_result"
    }
   ],
   "source": [
    "actions_for_each_game[number_of_games+5]"
   ]
  },
  {
   "cell_type": "code",
   "execution_count": 76,
   "metadata": {},
   "outputs": [
    {
     "name": "stdout",
     "output_type": "stream",
     "text": [
      "[1, 6673, 2220, 2227, 6660, 2219]\n"
     ]
    },
    {
     "data": {
      "text/plain": [
       "<BarContainer object of 6 artists>"
      ]
     },
     "execution_count": 76,
     "metadata": {},
     "output_type": "execute_result"
    },
    {
     "data": {
      "image/png": "[encoded data removed]",
      "text/plain": [
       "<Figure size 432x288 with 1 Axes>"
      ]
     },
     "metadata": {
      "needs_background": "light"
     },
     "output_type": "display_data"
    }
   ],
   "source": [
    "x = 22\n",
    "mp = actions_for_each_game[x]\n",
    "values = [mp[i] for i in range(6)]\n",
    "print(values)\n",
    "plt.bar([0,1,2,3,4,5],values)"
   ]
  },
  {
   "cell_type": "code",
   "execution_count": 43,
   "metadata": {},
   "outputs": [
    {
     "name": "stdout",
     "output_type": "stream",
     "text": [
      "printing foundation number 1 ********************\n",
      "suit = club       color = black      number =     1 speciality = ACE        face = up   \n",
      "printing foundation number 2 ********************\n",
      "printing foundation number 3 ********************\n",
      "suit = diamond    color = red        number =     1 speciality = ACE        face = up   \n",
      "printing foundation number 4 ********************\n"
     ]
    }
   ],
   "source": [
    "en.get_foundation()"
   ]
  },
  {
   "cell_type": "code",
   "execution_count": null,
   "metadata": {},
   "outputs": [],
   "source": []
  }
 ],
 "metadata": {
  "kernelspec": {
   "display_name": "Python 3",
   "language": "python",
   "name": "python3"
  },
  "language_info": {
   "codemirror_mode": {
    "name": "ipython",
    "version": 3
   },
   "file_extension": ".py",
   "mimetype": "text/x-python",
   "name": "python",
   "nbconvert_exporter": "python",
   "pygments_lexer": "ipython3",
   "version": "3.6.10"
  }
 },
 "nbformat": 4,
 "nbformat_minor": 2
}
