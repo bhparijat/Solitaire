{
 "cells": [
  {
   "cell_type": "code",
   "execution_count": 1,
   "metadata": {},
   "outputs": [],
   "source": [
    "import numpy as np\n",
    "import pandas as pd\n",
    "import matplotlib.pyplot as plt\n",
    "import random\n",
    "import time\n",
    "import unittest\n",
    "import tqdm.notebook as tq\n",
    "import solitaire_env\n",
    "import sys\n",
    "sys.setrecursionlimit(10**6)"
   ]
  },
  {
   "cell_type": "code",
   "execution_count": 2,
   "metadata": {
    "scrolled": true
   },
   "outputs": [],
   "source": [
    "# import time\n",
    "# start = time.time()\n",
    "\n",
    "\n",
    "# count = 0\n",
    "# actions = [0]*6\n",
    "# fail = [0]*6\n",
    "# different_states = []\n",
    "# for j in tqdm(range(1000)):\n",
    "#     en = solitaire_env.env()\n",
    "#     for i in range(10000):\n",
    "\n",
    "#         action = random.sample(range(6),1)[0]\n",
    "        \n",
    "#         actions[action]+=1\n",
    "\n",
    "#         won,failed = en.step(action)\n",
    "        \n",
    "#         if failed:\n",
    "#             fail[action]+=1\n",
    "#         #print(i+1,action,won)\n",
    "#         if won == True:\n",
    "#             count+=1\n",
    "#             break\n",
    "#     different_states.append(len(en.hashable_map.keys()))\n",
    "\n",
    "# print(count)\n",
    "#print(time.time()-start)"
   ]
  },
  {
   "cell_type": "code",
   "execution_count": 3,
   "metadata": {},
   "outputs": [],
   "source": [
    "#en.get_pile()"
   ]
  },
  {
   "cell_type": "code",
   "execution_count": 4,
   "metadata": {},
   "outputs": [],
   "source": [
    "#en.get_foundation()"
   ]
  },
  {
   "cell_type": "code",
   "execution_count": 5,
   "metadata": {},
   "outputs": [],
   "source": [
    "#en.get_tableau()"
   ]
  },
  {
   "cell_type": "code",
   "execution_count": 6,
   "metadata": {
    "scrolled": true
   },
   "outputs": [
    {
     "data": {
      "application/vnd.jupyter.widget-view+json": {
       "model_id": "c30103b815af4ca7883620bb59e488a6",
       "version_major": 2,
       "version_minor": 0
      },
      "text/plain": [
       "HBox(children=(FloatProgress(value=0.0, max=800.0), HTML(value='')))"
      ]
     },
     "metadata": {},
     "output_type": "display_data"
    },
    {
     "name": "stdout",
     "output_type": "stream",
     "text": [
      "\n",
      "1650.9261684417725\n"
     ]
    }
   ],
   "source": [
    "\n",
    "start = time.time()\n",
    "\n",
    "\n",
    "count = 0\n",
    "\n",
    "number_of_games = 800\n",
    "\n",
    "action_type = {0:'tableau_to_foundation_reveal',\\\n",
    "               1:'to_foundation_stack',2:'tableau_to_tableau_reveal',\\\n",
    "               3:'pile_to_tableau',\\\n",
    "                4:'foundation_to_tableau',\\\n",
    "               5:'tableau_to_tableau_not_reveal'\\\n",
    "              }\n",
    "\n",
    "\n",
    "actions_for_each_game = [0]*number_of_games\n",
    "iterations_used_per_game = [0]*number_of_games\n",
    "different_states_per_game = [0]*number_of_games\n",
    "\n",
    "def greedy_policy(en,action_number,tot,action_freq):\n",
    "    \n",
    "    if action_number >= tot:\n",
    "        return False\n",
    "    \n",
    "    for step in range(tot):\n",
    "        \n",
    "        for action in range(6):\n",
    "            \n",
    "            won,taken = en.step(action)\n",
    "            \n",
    "            if won == True:\n",
    "                action_freq[action]+=1\n",
    "                return step,True\n",
    "            if taken == True:\n",
    "                action_freq[action]+=1\n",
    "                \n",
    "                break\n",
    "\n",
    "        if taken == False:\n",
    "            return step,False\n",
    "        \n",
    "        \n",
    "    return step,False\n",
    "        \n",
    "        \n",
    "\n",
    "for this_game in tq.tqdm(range(number_of_games)):\n",
    "    \n",
    "    \n",
    "    en = solitaire_env.env()\n",
    "    tot = 20000\n",
    "    action_freq = {0:0,1:0,2:0,3:0,4:0,5:0}\n",
    "    \n",
    "    step,won = greedy_policy(en,1,tot,action_freq)\n",
    "             \n",
    "    if won == True:\n",
    "        count+=1\n",
    "        \n",
    "    actions_for_each_game[this_game] = action_freq\n",
    "    different_states_per_game[this_game] = len(en.hashable_map.keys())\n",
    "    iterations_used_per_game[this_game] = step\n",
    "    \n",
    "print(time.time()-start)"
   ]
  },
  {
   "cell_type": "code",
   "execution_count": 7,
   "metadata": {},
   "outputs": [],
   "source": [
    "count\n",
    "import seaborn as sns"
   ]
  },
  {
   "cell_type": "code",
   "execution_count": 8,
   "metadata": {},
   "outputs": [],
   "source": [
    "it = pd.DataFrame(data = {\"iterations\":iterations_used_per_game})['iterations'].value_counts()"
   ]
  },
  {
   "cell_type": "code",
   "execution_count": 9,
   "metadata": {},
   "outputs": [
    {
     "data": {
      "text/plain": [
       "19999    181\n",
       "15        80\n",
       "14        74\n",
       "12        59\n",
       "13        58\n",
       "16        51\n",
       "11        42\n",
       "10        41\n",
       "17        38\n",
       "19        35\n",
       "18        31\n",
       "9         23\n",
       "20        20\n",
       "8         17\n",
       "7         11\n",
       "21        11\n",
       "22         6\n",
       "5          6\n",
       "24         4\n",
       "25         3\n",
       "23         3\n",
       "6          2\n",
       "4          1\n",
       "26         1\n",
       "34         1\n",
       "3          1\n",
       "Name: iterations, dtype: int64"
      ]
     },
     "execution_count": 9,
     "metadata": {},
     "output_type": "execute_result"
    }
   ],
   "source": [
    "it"
   ]
  },
  {
   "cell_type": "code",
   "execution_count": 10,
   "metadata": {},
   "outputs": [
    {
     "data": {
      "image/png": "[encoded data removed]",
      "text/plain": [
       "<Figure size 1008x576 with 1 Axes>"
      ]
     },
     "metadata": {
      "needs_background": "light"
     },
     "output_type": "display_data"
    }
   ],
   "source": [
    "plt.figure(figsize=(14,8))\n",
    "plt.xlabel(\"Number of steps\")\n",
    "plt.ylabel(\"Number of games\")\n",
    "sns.barplot(it.index,it.values)\n",
    "plt.savefig(\"Foundation_Progression_included.jpg\")"
   ]
  },
  {
   "cell_type": "code",
   "execution_count": 24,
   "metadata": {},
   "outputs": [
    {
     "name": "stdout",
     "output_type": "stream",
     "text": [
      "[1, 9, 2, 15, 2, 2]\n"
     ]
    },
    {
     "data": {
      "text/plain": [
       "<BarContainer object of 6 artists>"
      ]
     },
     "execution_count": 24,
     "metadata": {},
     "output_type": "execute_result"
    },
    {
     "data": {
      "image/png": "[encoded data removed]",
      "text/plain": [
       "<Figure size 432x288 with 1 Axes>"
      ]
     },
     "metadata": {
      "needs_background": "light"
     },
     "output_type": "display_data"
    }
   ],
   "source": [
    "x = 10\n",
    "mp = actions_for_each_game[x]\n",
    "values = [mp[i] for i in range(6)]\n",
    "print(values)\n",
    "plt.bar([0,1,2,3,4,5],values)"
   ]
  },
  {
   "cell_type": "code",
   "execution_count": 43,
   "metadata": {},
   "outputs": [
    {
     "name": "stdout",
     "output_type": "stream",
     "text": [
      "printing foundation number 1 ********************\n",
      "suit = club       color = black      number =     1 speciality = ACE        face = up   \n",
      "printing foundation number 2 ********************\n",
      "printing foundation number 3 ********************\n",
      "suit = diamond    color = red        number =     1 speciality = ACE        face = up   \n",
      "printing foundation number 4 ********************\n"
     ]
    }
   ],
   "source": [
    "en.get_foundation()"
   ]
  },
  {
   "cell_type": "code",
   "execution_count": null,
   "metadata": {},
   "outputs": [],
   "source": []
  }
 ],
 "metadata": {
  "kernelspec": {
   "display_name": "Python 3",
   "language": "python",
   "name": "python3"
  },
  "language_info": {
   "codemirror_mode": {
    "name": "ipython",
    "version": 3
   },
   "file_extension": ".py",
   "mimetype": "text/x-python",
   "name": "python",
   "nbconvert_exporter": "python",
   "pygments_lexer": "ipython3",
   "version": "3.6.10"
  }
 },
 "nbformat": 4,
 "nbformat_minor": 2
}
