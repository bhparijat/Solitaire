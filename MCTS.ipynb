{
 "cells": [
  {
   "cell_type": "code",
   "execution_count": 2,
   "metadata": {},
   "outputs": [],
   "source": [
    "import numpy as np\n",
    "import pandas as pd\n",
    "import matplotlib.pyplot as plt\n",
    "import random\n",
    "import time\n",
    "import unittest\n",
    "import tqdm.notebook as tq\n",
    "import solitaire_env_hard as solitaire_env_hard\n",
    "import sys\n",
    "import seaborn as sns\n",
    "import pickle as pkl\n",
    "import gp\n",
    "import tqdm.notebook as tq\n",
    "#sys.setrecursionlimit(10**6)"
   ]
  },
  {
   "cell_type": "code",
   "execution_count": 3,
   "metadata": {},
   "outputs": [],
   "source": [
    "class Node:\n",
    "    def __init__(self,state=None):\n",
    "        self.visits = 0\n",
    "        self.children = []\n",
    "        self.state = state\n",
    "        self.action_scores = np.array([np.inf for _ in range(6)])\n",
    "        self.parent = None"
   ]
  },
  {
   "cell_type": "code",
   "execution_count": 4,
   "metadata": {},
   "outputs": [],
   "source": [
    "class MCTS:\n",
    "    def __init__(self,c=0,d=100):\n",
    "        self.c = c\n",
    "        self.max_depth = d\n",
    "        self.TreeMap = {}\n",
    "        self.env = None\n",
    "        \n",
    "        self.current = env.state\n",
    "     \n",
    "        self.debug = [False for _ in range(6)]\n",
    "    def isterminal(self):\n",
    "        \n",
    "        ans = (len(self.current.pile) == 0)\n",
    "        \n",
    "        #print(ans)\n",
    "        for i in range(len(self.current.tableau)):\n",
    "            ans = ans and (len(self.current.tableau[i]) == 0 )\n",
    "            \n",
    "            \n",
    "        #print(ans)\n",
    "        \n",
    "        for i in range(len(self.current.foundation)):\n",
    "            ans = ans and (len(self.current.foundation[i])==13)\n",
    "            \n",
    "            \n",
    "        #print(ans)   \n",
    "        return ans   \n",
    "    \n",
    "    def next_best_action(self):\n",
    "            \n",
    "        if max(self.current.action_scores) != np.inf:\n",
    "            return self.current.action.argmax()\n",
    "\n",
    "\n",
    "        for action in range(6):\n",
    "            \n",
    "            if self.current.action_scores[action] == np.inf:\n",
    "                \n",
    "                w = self.rollout(action)\n",
    "                \n",
    "                if w == \"won\":\n",
    "                    \n",
    "            \n",
    "    def rollout():\n",
    "        pass"
   ]
  },
  {
   "cell_type": "code",
   "execution_count": 5,
   "metadata": {},
   "outputs": [],
   "source": [
    "env = solitaire_env_hard.env()"
   ]
  },
  {
   "cell_type": "code",
   "execution_count": 6,
   "metadata": {},
   "outputs": [],
   "source": [
    "tree = MCTS()"
   ]
  },
  {
   "cell_type": "code",
   "execution_count": null,
   "metadata": {},
   "outputs": [],
   "source": [
    "\n",
    "tree.env = env\n",
    "if tree.current.isterminal():\n",
    "    return "
   ]
  }
 ],
 "metadata": {
  "kernelspec": {
   "display_name": "Python 3",
   "language": "python",
   "name": "python3"
  },
  "language_info": {
   "codemirror_mode": {
    "name": "ipython",
    "version": 3
   },
   "file_extension": ".py",
   "mimetype": "text/x-python",
   "name": "python",
   "nbconvert_exporter": "python",
   "pygments_lexer": "ipython3",
   "version": "3.7.7"
  }
 },
 "nbformat": 4,
 "nbformat_minor": 4
}
