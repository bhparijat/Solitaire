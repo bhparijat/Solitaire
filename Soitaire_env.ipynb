{
 "cells": [
  {
   "cell_type": "code",
   "execution_count": 2,
   "metadata": {},
   "outputs": [],
   "source": [
    "import numpy as np\n",
    "import matplotlib.pyplot as plt"
   ]
  },
  {
   "cell_type": "code",
   "execution_count": 69,
   "metadata": {},
   "outputs": [],
   "source": [
    "class card:\n",
    "    \"\"\"\n",
    "    Defines structure for a card\n",
    "    \n",
    "    \"\"\"\n",
    "    def __init__(self,color,suit,number,speciality,face):\n",
    "        \"\"\"\n",
    "        Args:\n",
    "            color ==> red or black\n",
    "            suit ===> club, heart, diamond, spade\n",
    "            number ==> 1 to 13\n",
    "            specialiry ==> None or Ace, King, Queen,Jack\n",
    "        \"\"\"\n",
    "        self.suit = suit\n",
    "        self.color = color\n",
    "        self.number = number\n",
    "        self.speciality = speciality\n",
    "        self.face = face"
   ]
  },
  {
   "cell_type": "code",
   "execution_count": 70,
   "metadata": {},
   "outputs": [],
   "source": [
    "class state:\n",
    "    \"\"\"\n",
    "    Defines the structure of a state. A state holds pile, foundation and tableau, cards to review. \n",
    "    \n",
    "    \"\"\"\n",
    "    def __init__(self):\n",
    "        \n",
    "        \n",
    "        self.all_cards = []\n",
    "        self.pile = None\n",
    "        self.tableau = [[] for i in range(7)]\n",
    "        self.foundation = [[],[],[],[]]\n",
    "        \n",
    "        self.gen_non_special_cards('red','heart')\n",
    "        self.gen_non_special_cards('red','diamond')\n",
    "        self.gen_non_special_cards('black','spade')\n",
    "        self.gen_non_special_cards('black','club')\n",
    "        \n",
    "        \n",
    "        \n",
    "        \n",
    "        \n",
    "        self.gen_special_cards('red','heart')\n",
    "        self.gen_special_cards('red','diamond')\n",
    "        self.gen_special_cards('black','spade')\n",
    "        self.gen_special_cards('black','club')\n",
    "        \n",
    "        print(len(self.all_cards))\n",
    "        \n",
    "        pile_index = self.make_pile()\n",
    "        _ = self.make_tableau(pile_index)\n",
    "    def make_pile(self):\n",
    "        \n",
    "        pile_index = np.random.randint(low= 0,high = len(self.all_cards),size = 24 )\n",
    "        \n",
    "        pile_index.sort()\n",
    "        self.pile = [self.all_cards[i] for i in pile_index]\n",
    "        #print(self.pile)\n",
    "        \n",
    "        return pile_index\n",
    "    def make_tableau(self,pile_index):\n",
    "        \n",
    "        print(pile_index)\n",
    "        tableau_index = [i for i in range(len(self.all_cards)) if i not in pile_index]\n",
    "        print(tableau_index)\n",
    "        cur = 0\n",
    "        for i in range(7):\n",
    "            for j in range(i+1):\n",
    "                self.tableau[i].append(self.all_cards[tableau_index[cur]])\n",
    "                cur+=1\n",
    "                \n",
    "    def gen_special_cards(self,color,suit,face = 'face down'):\n",
    "        \n",
    "        self.all_cards.append(card(color,suit,1,'ACE',face))\n",
    "        self.all_cards.append(card(color,suit,11,'KING',face))\n",
    "        self.all_cards.append(card(color,suit,12,'QUEEN',face))\n",
    "        self.all_cards.append(card(color,suit,13,'JACK',face))\n",
    "        \n",
    "        \n",
    "    def gen_non_special_cards(self,color,suit,face = \"face down\",speciality = None):\n",
    "        \n",
    "        for number in range(2,11):\n",
    "            self.all_cards.append(card(color,suit,number,speciality,face))"
   ]
  },
  {
   "cell_type": "code",
   "execution_count": 71,
   "metadata": {},
   "outputs": [],
   "source": [
    "class env:\n",
    "    \n",
    "    def __init__(self):\n",
    "        \n",
    "        self.state = state()\n",
    "    \n",
    "    def reset(self):\n",
    "        self.state = state()\n",
    "        \n",
    "    def step(action):\n",
    "        pass\n",
    "    \n",
    "    \n",
    "        next_state, terminal\n",
    "    \n",
    "    def isterminal(state):\n",
    "        pass"
   ]
  },
  {
   "cell_type": "code",
   "execution_count": 72,
   "metadata": {},
   "outputs": [
    {
     "name": "stdout",
     "output_type": "stream",
     "text": [
      "52\n",
      "[ 0  0 14 16 17 19 21 25 27 29 29 29 34 34 36 38 38 39 41 47 50 50 50 51]\n",
      "[1, 2, 3, 4, 5, 6, 7, 8, 9, 10, 11, 12, 13, 15, 18, 20, 22, 23, 24, 26, 28, 30, 31, 32, 33, 35, 37, 40, 42, 43, 44, 45, 46, 48, 49]\n"
     ]
    }
   ],
   "source": [
    "env = env()"
   ]
  },
  {
   "cell_type": "code",
   "execution_count": null,
   "metadata": {},
   "outputs": [],
   "source": []
  }
 ],
 "metadata": {
  "kernelspec": {
   "display_name": "Python 3",
   "language": "python",
   "name": "python3"
  },
  "language_info": {
   "codemirror_mode": {
    "name": "ipython",
    "version": 3
   },
   "file_extension": ".py",
   "mimetype": "text/x-python",
   "name": "python",
   "nbconvert_exporter": "python",
   "pygments_lexer": "ipython3",
   "version": "3.6.5"
  }
 },
 "nbformat": 4,
 "nbformat_minor": 2
}
