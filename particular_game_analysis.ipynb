{
 "cells": [
  {
   "cell_type": "code",
   "execution_count": 2,
   "metadata": {},
   "outputs": [],
   "source": [
    "import numpy as np\n",
    "import pandas as pd\n",
    "import matplotlib.pyplot as plt\n",
    "import random\n",
    "import time\n",
    "import unittest\n",
    "import tqdm.notebook as tq\n",
    "import solitaire_env\n",
    "import sys\n",
    "import seaborn as sns\n",
    "import pickle as pkl\n",
    "import gp\n",
    "sys.setrecursionlimit(10**6)"
   ]
  },
  {
   "cell_type": "code",
   "execution_count": 3,
   "metadata": {},
   "outputs": [],
   "source": [
    "with open(\"games/run_hardgame_2020-05-11 01:18:55.416668.pkl\",\"rb\") as file:\n",
    "    run_data = pkl.load(file)"
   ]
  },
  {
   "cell_type": "code",
   "execution_count": 4,
   "metadata": {},
   "outputs": [],
   "source": [
    "actions_matrix = run_data['actions_matrix']"
   ]
  },
  {
   "cell_type": "code",
   "execution_count": 5,
   "metadata": {},
   "outputs": [],
   "source": [
    "iterations_used_per_game = run_data['iterations_used_per_game']\n",
    "it = pd.DataFrame(data = {\"iterations\":iterations_used_per_game})['iterations'].value_counts()"
   ]
  },
  {
   "cell_type": "code",
   "execution_count": 6,
   "metadata": {},
   "outputs": [
    {
     "data": {
      "text/plain": [
       "93"
      ]
     },
     "execution_count": 6,
     "metadata": {},
     "output_type": "execute_result"
    }
   ],
   "source": [
    "max_action_take = max(it.index)\n",
    "max_action_take "
   ]
  },
  {
   "cell_type": "code",
   "execution_count": 7,
   "metadata": {},
   "outputs": [
    {
     "data": {
      "text/plain": [
       "12"
      ]
     },
     "execution_count": 7,
     "metadata": {},
     "output_type": "execute_result"
    }
   ],
   "source": [
    "w = 0\n",
    "for game,actions,end_state,start_state,game_states,reason in actions_matrix:\n",
    "    if len(actions) >60 and reason !='won':\n",
    "        gno = game\n",
    "        break\n",
    "    if reason == 'won':\n",
    "        w+=1\n",
    "        #break\n",
    "        \n",
    "w"
   ]
  },
  {
   "cell_type": "code",
   "execution_count": 8,
   "metadata": {},
   "outputs": [
    {
     "data": {
      "text/plain": [
       "(634, 'No action could be taken', 62)"
      ]
     },
     "execution_count": 8,
     "metadata": {},
     "output_type": "execute_result"
    }
   ],
   "source": [
    "gno,reason,len(actions)"
   ]
  },
  {
   "cell_type": "code",
   "execution_count": 9,
   "metadata": {},
   "outputs": [],
   "source": [
    "class replay_game:\n",
    "    \n",
    "    def __init__(self,gno=0):\n",
    "        \n",
    "        self.temp_en = solitaire_env.env()\n",
    "        self.action_number = 0\n",
    "        action_type = {0:'tableau_to_foundation_reveal',\\\n",
    "               1:'to_foundation_stack',2:'tableau_to_tableau_reveal',\\\n",
    "               3:'pile_to_tableau',\\\n",
    "                4:'foundation_to_tableau',\\\n",
    "               5:'tableau_to_tableau_not_reveal'\\\n",
    "              }\n",
    "    \n",
    "        for game_no,action_seq,end_state,start_state,state_seq,how_ends in actions_matrix:\n",
    "            if game_no == gno:\n",
    "                break;\n",
    "        print(\"Reason game ended...   \",how_ends)\n",
    "        print(\"Length of action sequence is.. \",len(action_seq))\n",
    "        action_replay = \"\".join([str(x) for x in action_seq])\n",
    "        \n",
    "        self.action_replay = [int(x) for x in action_replay]\n",
    "        \n",
    "        self.temp_en.state = start_state\n",
    "        self.start_state = start_state\n",
    "        \n",
    "        self.end_state = end_state\n",
    "        \n",
    "        \n",
    "        self.temp_en.state = self.temp_en.copy_state()\n",
    "        \n",
    "        self.state_seq = state_seq\n",
    "        \n",
    "        self.action_seq = [action_type[int(x)] for x in action_replay]\n",
    "        \n",
    "        print(\"starting state.. \\n\")\n",
    "        \n",
    "        print(\"***********************************pile*****************************************\")\n",
    "        self.temp_en.get_pile()\n",
    "        print(\"\\n\\n\\n\\n\\n\\n\\n\\n\")\n",
    "        print(\"*****************************foundation*****************************************\")\n",
    "        \n",
    "        self.temp_en.get_foundation()\n",
    "        print(\"\\n\\n\\n\\n\\n\\n\\n\\n\")\n",
    "        print(\"******************************tableau*******************************************\")\n",
    "        \n",
    "        self.temp_en.get_tableau()\n",
    "        print(\"\\n\\n\\n\\n\\n\\n\\n\\n\")\n",
    "        \n",
    "    def next_state(self):\n",
    "        \n",
    "        print(\"action number..  \", self.action_number)\n",
    "        \n",
    "        print(\"action taken {} : description {} \".format(self.action_replay[self.action_number],self.action_seq[self.action_number]))\n",
    "        self.action_number +=1\n",
    "        self.temp_en = solitaire_env.env()\n",
    "        \n",
    "        self.temp_en.state = self.state_seq[self.action_number]\n",
    "        \n",
    "        self.temp_en.state = self.temp_en.copy_state()\n",
    "        \n",
    "        print(\"starting state.. \\n\")\n",
    "        \n",
    "        print(\"***********************************pile*****************************************\")\n",
    "        self.temp_en.get_pile()\n",
    "        print(\"\\n\\n\\n\\n\\n\\n\\n\\n\")\n",
    "        \n",
    "        \n",
    "        print(\"*****************************foundation*****************************************\")\n",
    "        \n",
    "        self.temp_en.get_foundation()\n",
    "        print(\"\\n\\n\\n\\n\\n\\n\\n\\n\")\n",
    "            \n",
    "            \n",
    "        print(\"******************************tableau*******************************************\")\n",
    "        \n",
    "        self.temp_en.get_tableau()\n",
    "        print(\"\\n\\n\\n\\n\\n\\n\\n\\n\")\n",
    "        \n",
    "        \n",
    "        \n",
    "        \n",
    "    def goto_state(self,n):\n",
    "        self.action_number = n"
   ]
  },
  {
   "cell_type": "code",
   "execution_count": null,
   "metadata": {},
   "outputs": [],
   "source": []
  },
  {
   "cell_type": "code",
   "execution_count": null,
   "metadata": {},
   "outputs": [],
   "source": []
  },
  {
   "cell_type": "code",
   "execution_count": null,
   "metadata": {},
   "outputs": [],
   "source": []
  },
  {
   "cell_type": "code",
   "execution_count": 10,
   "metadata": {
    "scrolled": true
   },
   "outputs": [
    {
     "name": "stdout",
     "output_type": "stream",
     "text": [
      "Reason game ended...    No action could be taken\n",
      "Length of action sequence is..  62\n",
      "starting state.. \n",
      "\n",
      "***********************************pile*****************************************\n",
      "position    0 suit = diamond    color = red        number =     1 speciality = ACE        face = up   \n",
      "position    1 suit = spade      color = black      number =     2 speciality = None       face = up   \n",
      "position    2 suit = club       color = black      number =    11 speciality = JACK       face = up   \n",
      "position    3 suit = heart      color = red        number =     1 speciality = ACE        face = up   \n",
      "position    4 suit = diamond    color = red        number =     5 speciality = None       face = up   \n",
      "position    5 suit = heart      color = red        number =    11 speciality = JACK       face = up   \n",
      "position    6 suit = heart      color = red        number =     8 speciality = None       face = up   \n",
      "position    7 suit = heart      color = red        number =     4 speciality = None       face = up   \n",
      "position    8 suit = club       color = black      number =    13 speciality = KING       face = up   \n",
      "position    9 suit = club       color = black      number =     4 speciality = None       face = up   \n",
      "position   10 suit = diamond    color = red        number =     3 speciality = None       face = up   \n",
      "position   11 suit = diamond    color = red        number =     8 speciality = None       face = up   \n",
      "position   12 suit = spade      color = black      number =    10 speciality = None       face = up   \n",
      "position   13 suit = heart      color = red        number =     2 speciality = None       face = up   \n",
      "position   14 suit = spade      color = black      number =    11 speciality = JACK       face = up   \n",
      "position   15 suit = spade      color = black      number =     7 speciality = None       face = up   \n",
      "position   16 suit = heart      color = red        number =    12 speciality = QUEEN      face = up   \n",
      "position   17 suit = club       color = black      number =     3 speciality = None       face = up   \n",
      "position   18 suit = club       color = black      number =     2 speciality = None       face = up   \n",
      "position   19 suit = spade      color = black      number =    13 speciality = KING       face = up   \n",
      "position   20 suit = heart      color = red        number =    10 speciality = None       face = up   \n",
      "position   21 suit = spade      color = black      number =    12 speciality = QUEEN      face = up   \n",
      "position   22 suit = heart      color = red        number =     6 speciality = None       face = up   \n",
      "position   23 suit = heart      color = red        number =     7 speciality = None       face = up   \n",
      "\n",
      "\n",
      "\n",
      "\n",
      "\n",
      "\n",
      "\n",
      "\n",
      "\n",
      "*****************************foundation*****************************************\n",
      "printing foundation number 1 ********************\n",
      "printing foundation number 2 ********************\n",
      "printing foundation number 3 ********************\n",
      "printing foundation number 4 ********************\n",
      "\n",
      "\n",
      "\n",
      "\n",
      "\n",
      "\n",
      "\n",
      "\n",
      "\n",
      "******************************tableau*******************************************\n",
      "printing tableau number 1 ********************\n",
      "position    0 suit = spade      color = black      number =     4 speciality = None       face = up   \n",
      "printing tableau number 2 ********************\n",
      "position    0 suit = spade      color = black      number =     9 speciality = None       face = down \n",
      "position    1 suit = heart      color = red        number =     9 speciality = None       face = up   \n",
      "printing tableau number 3 ********************\n",
      "position    0 suit = club       color = black      number =     7 speciality = None       face = down \n",
      "position    1 suit = diamond    color = red        number =    12 speciality = QUEEN      face = down \n",
      "position    2 suit = club       color = black      number =     1 speciality = ACE        face = up   \n",
      "printing tableau number 4 ********************\n",
      "position    0 suit = spade      color = black      number =     3 speciality = None       face = down \n",
      "position    1 suit = club       color = black      number =    12 speciality = QUEEN      face = down \n",
      "position    2 suit = heart      color = red        number =     3 speciality = None       face = down \n",
      "position    3 suit = club       color = black      number =    10 speciality = None       face = up   \n",
      "printing tableau number 5 ********************\n",
      "position    0 suit = spade      color = black      number =     6 speciality = None       face = down \n",
      "position    1 suit = heart      color = red        number =     5 speciality = None       face = down \n",
      "position    2 suit = club       color = black      number =     6 speciality = None       face = down \n",
      "position    3 suit = diamond    color = red        number =    13 speciality = KING       face = down \n",
      "position    4 suit = spade      color = black      number =     1 speciality = ACE        face = up   \n",
      "printing tableau number 6 ********************\n",
      "position    0 suit = club       color = black      number =     8 speciality = None       face = down \n",
      "position    1 suit = diamond    color = red        number =     7 speciality = None       face = down \n",
      "position    2 suit = diamond    color = red        number =     9 speciality = None       face = down \n",
      "position    3 suit = diamond    color = red        number =     6 speciality = None       face = down \n",
      "position    4 suit = diamond    color = red        number =    10 speciality = None       face = down \n",
      "position    5 suit = club       color = black      number =     5 speciality = None       face = up   \n",
      "printing tableau number 7 ********************\n",
      "position    0 suit = spade      color = black      number =     8 speciality = None       face = down \n",
      "position    1 suit = diamond    color = red        number =     4 speciality = None       face = down \n",
      "position    2 suit = diamond    color = red        number =     2 speciality = None       face = down \n",
      "position    3 suit = heart      color = red        number =    13 speciality = KING       face = down \n",
      "position    4 suit = spade      color = black      number =     5 speciality = None       face = down \n",
      "position    5 suit = club       color = black      number =     9 speciality = None       face = down \n",
      "position    6 suit = diamond    color = red        number =    11 speciality = JACK       face = up   \n",
      "\n",
      "\n",
      "\n",
      "\n",
      "\n",
      "\n",
      "\n",
      "\n",
      "\n"
     ]
    }
   ],
   "source": [
    "game_replay = replay_game(gno = 634)"
   ]
  },
  {
   "cell_type": "code",
   "execution_count": 12,
   "metadata": {
    "scrolled": true
   },
   "outputs": [
    {
     "name": "stdout",
     "output_type": "stream",
     "text": [
      "action number..   61\n",
      "action taken 1 : description to_foundation_stack \n",
      "starting state.. \n",
      "\n",
      "***********************************pile*****************************************\n",
      "position    0 suit = heart      color = red        number =    12 speciality = QUEEN      face = up   \n",
      "position    1 suit = spade      color = black      number =    13 speciality = KING       face = up   \n",
      "position    2 suit = heart      color = red        number =    10 speciality = None       face = up   \n",
      "\n",
      "\n",
      "\n",
      "\n",
      "\n",
      "\n",
      "\n",
      "\n",
      "\n",
      "*****************************foundation*****************************************\n",
      "printing foundation number 1 ********************\n",
      "position    0 suit = club       color = black      number =     1 speciality = ACE        face = up   \n",
      "position    1 suit = club       color = black      number =     2 speciality = None       face = up   \n",
      "position    2 suit = club       color = black      number =     3 speciality = None       face = up   \n",
      "position    3 suit = club       color = black      number =     4 speciality = None       face = up   \n",
      "position    4 suit = club       color = black      number =     5 speciality = None       face = up   \n",
      "position    5 suit = club       color = black      number =     6 speciality = None       face = up   \n",
      "position    6 suit = club       color = black      number =     7 speciality = None       face = up   \n",
      "position    7 suit = club       color = black      number =     8 speciality = None       face = up   \n",
      "position    8 suit = club       color = black      number =     9 speciality = None       face = up   \n",
      "position    9 suit = club       color = black      number =    10 speciality = None       face = up   \n",
      "position   10 suit = club       color = black      number =    11 speciality = JACK       face = up   \n",
      "position   11 suit = club       color = black      number =    12 speciality = QUEEN      face = up   \n",
      "position   12 suit = club       color = black      number =    13 speciality = KING       face = up   \n",
      "printing foundation number 2 ********************\n",
      "position    0 suit = heart      color = red        number =     1 speciality = ACE        face = up   \n",
      "position    1 suit = heart      color = red        number =     2 speciality = None       face = up   \n",
      "position    2 suit = heart      color = red        number =     3 speciality = None       face = up   \n",
      "position    3 suit = heart      color = red        number =     4 speciality = None       face = up   \n",
      "position    4 suit = heart      color = red        number =     5 speciality = None       face = up   \n",
      "position    5 suit = heart      color = red        number =     6 speciality = None       face = up   \n",
      "position    6 suit = heart      color = red        number =     7 speciality = None       face = up   \n",
      "position    7 suit = heart      color = red        number =     8 speciality = None       face = up   \n",
      "position    8 suit = heart      color = red        number =     9 speciality = None       face = up   \n",
      "printing foundation number 3 ********************\n",
      "position    0 suit = diamond    color = red        number =     1 speciality = ACE        face = up   \n",
      "position    1 suit = diamond    color = red        number =     2 speciality = None       face = up   \n",
      "position    2 suit = diamond    color = red        number =     3 speciality = None       face = up   \n",
      "position    3 suit = diamond    color = red        number =     4 speciality = None       face = up   \n",
      "position    4 suit = diamond    color = red        number =     5 speciality = None       face = up   \n",
      "position    5 suit = diamond    color = red        number =     6 speciality = None       face = up   \n",
      "position    6 suit = diamond    color = red        number =     7 speciality = None       face = up   \n",
      "position    7 suit = diamond    color = red        number =     8 speciality = None       face = up   \n",
      "position    8 suit = diamond    color = red        number =     9 speciality = None       face = up   \n",
      "position    9 suit = diamond    color = red        number =    10 speciality = None       face = up   \n",
      "position   10 suit = diamond    color = red        number =    11 speciality = JACK       face = up   \n",
      "position   11 suit = diamond    color = red        number =    12 speciality = QUEEN      face = up   \n",
      "position   12 suit = diamond    color = red        number =    13 speciality = KING       face = up   \n",
      "printing foundation number 4 ********************\n",
      "position    0 suit = spade      color = black      number =     1 speciality = ACE        face = up   \n",
      "position    1 suit = spade      color = black      number =     2 speciality = None       face = up   \n",
      "position    2 suit = spade      color = black      number =     3 speciality = None       face = up   \n",
      "position    3 suit = spade      color = black      number =     4 speciality = None       face = up   \n",
      "position    4 suit = spade      color = black      number =     5 speciality = None       face = up   \n",
      "position    5 suit = spade      color = black      number =     6 speciality = None       face = up   \n",
      "position    6 suit = spade      color = black      number =     7 speciality = None       face = up   \n",
      "position    7 suit = spade      color = black      number =     8 speciality = None       face = up   \n",
      "position    8 suit = spade      color = black      number =     9 speciality = None       face = up   \n",
      "position    9 suit = spade      color = black      number =    10 speciality = None       face = up   \n",
      "position   10 suit = spade      color = black      number =    11 speciality = JACK       face = up   \n",
      "\n",
      "\n",
      "\n",
      "\n",
      "\n",
      "\n",
      "\n",
      "\n",
      "\n",
      "******************************tableau*******************************************\n",
      "printing tableau number 1 ********************\n",
      "position    0 suit = heart      color = red        number =    13 speciality = KING       face = up   \n",
      "position    1 suit = spade      color = black      number =    12 speciality = QUEEN      face = up   \n",
      "position    2 suit = heart      color = red        number =    11 speciality = JACK       face = up   \n",
      "printing tableau number 2 ********************\n",
      "printing tableau number 3 ********************\n",
      "printing tableau number 4 ********************\n",
      "printing tableau number 5 ********************\n",
      "printing tableau number 6 ********************\n",
      "printing tableau number 7 ********************\n",
      "\n",
      "\n",
      "\n",
      "\n",
      "\n",
      "\n",
      "\n",
      "\n",
      "\n"
     ]
    }
   ],
   "source": [
    "game_replay.goto_state(61)\n",
    "game_replay.next_state()\n",
    "#foundation progression"
   ]
  },
  {
   "cell_type": "code",
   "execution_count": 145,
   "metadata": {
    "scrolled": true
   },
   "outputs": [
    {
     "name": "stdout",
     "output_type": "stream",
     "text": [
      "action number..   61\n",
      "action taken 1 : description to_foundation_stack \n",
      "starting state.. \n",
      "\n",
      "***********************************pile*****************************************\n",
      "position    0 suit = heart      color = red        number =    12 speciality = QUEEN      face = up   \n",
      "position    1 suit = spade      color = black      number =    13 speciality = KING       face = up   \n",
      "position    2 suit = heart      color = red        number =    10 speciality = None       face = up   \n",
      "\n",
      "\n",
      "\n",
      "\n",
      "\n",
      "\n",
      "\n",
      "\n",
      "\n",
      "*****************************foundation*****************************************\n",
      "printing foundation number 1 ********************\n",
      "position    0 suit = club       color = black      number =     1 speciality = ACE        face = up   \n",
      "position    1 suit = club       color = black      number =     2 speciality = None       face = up   \n",
      "position    2 suit = club       color = black      number =     3 speciality = None       face = up   \n",
      "position    3 suit = club       color = black      number =     4 speciality = None       face = up   \n",
      "position    4 suit = club       color = black      number =     5 speciality = None       face = up   \n",
      "position    5 suit = club       color = black      number =     6 speciality = None       face = up   \n",
      "position    6 suit = club       color = black      number =     7 speciality = None       face = up   \n",
      "position    7 suit = club       color = black      number =     8 speciality = None       face = up   \n",
      "position    8 suit = club       color = black      number =     9 speciality = None       face = up   \n",
      "position    9 suit = club       color = black      number =    10 speciality = None       face = up   \n",
      "position   10 suit = club       color = black      number =    11 speciality = JACK       face = up   \n",
      "position   11 suit = club       color = black      number =    12 speciality = QUEEN      face = up   \n",
      "position   12 suit = club       color = black      number =    13 speciality = KING       face = up   \n",
      "printing foundation number 2 ********************\n",
      "position    0 suit = heart      color = red        number =     1 speciality = ACE        face = up   \n",
      "position    1 suit = heart      color = red        number =     2 speciality = None       face = up   \n",
      "position    2 suit = heart      color = red        number =     3 speciality = None       face = up   \n",
      "position    3 suit = heart      color = red        number =     4 speciality = None       face = up   \n",
      "position    4 suit = heart      color = red        number =     5 speciality = None       face = up   \n",
      "position    5 suit = heart      color = red        number =     6 speciality = None       face = up   \n",
      "position    6 suit = heart      color = red        number =     7 speciality = None       face = up   \n",
      "position    7 suit = heart      color = red        number =     8 speciality = None       face = up   \n",
      "position    8 suit = heart      color = red        number =     9 speciality = None       face = up   \n",
      "printing foundation number 3 ********************\n",
      "position    0 suit = diamond    color = red        number =     1 speciality = ACE        face = up   \n",
      "position    1 suit = diamond    color = red        number =     2 speciality = None       face = up   \n",
      "position    2 suit = diamond    color = red        number =     3 speciality = None       face = up   \n",
      "position    3 suit = diamond    color = red        number =     4 speciality = None       face = up   \n",
      "position    4 suit = diamond    color = red        number =     5 speciality = None       face = up   \n",
      "position    5 suit = diamond    color = red        number =     6 speciality = None       face = up   \n",
      "position    6 suit = diamond    color = red        number =     7 speciality = None       face = up   \n",
      "position    7 suit = diamond    color = red        number =     8 speciality = None       face = up   \n",
      "position    8 suit = diamond    color = red        number =     9 speciality = None       face = up   \n",
      "position    9 suit = diamond    color = red        number =    10 speciality = None       face = up   \n",
      "position   10 suit = diamond    color = red        number =    11 speciality = JACK       face = up   \n",
      "position   11 suit = diamond    color = red        number =    12 speciality = QUEEN      face = up   \n",
      "position   12 suit = diamond    color = red        number =    13 speciality = KING       face = up   \n",
      "printing foundation number 4 ********************\n",
      "position    0 suit = spade      color = black      number =     1 speciality = ACE        face = up   \n",
      "position    1 suit = spade      color = black      number =     2 speciality = None       face = up   \n",
      "position    2 suit = spade      color = black      number =     3 speciality = None       face = up   \n",
      "position    3 suit = spade      color = black      number =     4 speciality = None       face = up   \n",
      "position    4 suit = spade      color = black      number =     5 speciality = None       face = up   \n",
      "position    5 suit = spade      color = black      number =     6 speciality = None       face = up   \n",
      "position    6 suit = spade      color = black      number =     7 speciality = None       face = up   \n",
      "position    7 suit = spade      color = black      number =     8 speciality = None       face = up   \n",
      "position    8 suit = spade      color = black      number =     9 speciality = None       face = up   \n",
      "position    9 suit = spade      color = black      number =    10 speciality = None       face = up   \n",
      "position   10 suit = spade      color = black      number =    11 speciality = JACK       face = up   \n",
      "\n",
      "\n",
      "\n",
      "\n",
      "\n",
      "\n",
      "\n",
      "\n",
      "\n",
      "******************************tableau*******************************************\n",
      "printing tableau number 1 ********************\n",
      "position    0 suit = heart      color = red        number =    13 speciality = KING       face = up   \n",
      "position    1 suit = spade      color = black      number =    12 speciality = QUEEN      face = up   \n",
      "position    2 suit = heart      color = red        number =    11 speciality = JACK       face = up   \n",
      "printing tableau number 2 ********************\n",
      "printing tableau number 3 ********************\n",
      "printing tableau number 4 ********************\n",
      "printing tableau number 5 ********************\n",
      "printing tableau number 6 ********************\n",
      "printing tableau number 7 ********************\n",
      "\n",
      "\n",
      "\n",
      "\n",
      "\n",
      "\n",
      "\n",
      "\n",
      "\n"
     ]
    }
   ],
   "source": [
    "game_replay.next_state()"
   ]
  },
  {
   "cell_type": "code",
   "execution_count": null,
   "metadata": {},
   "outputs": [],
   "source": [
    "# Tableau to foundation reveal #gamestate"
   ]
  },
  {
   "cell_type": "code",
   "execution_count": 13,
   "metadata": {},
   "outputs": [],
   "source": [
    "temp_en = solitaire_env.env()\n",
    "\n",
    "temp_en.state = game_replay.temp_en.state"
   ]
  },
  {
   "cell_type": "code",
   "execution_count": 19,
   "metadata": {},
   "outputs": [
    {
     "name": "stdout",
     "output_type": "stream",
     "text": [
      "position    0 suit = heart      color = red        number =    12 speciality = QUEEN      face = up   \n",
      "position    1 suit = spade      color = black      number =    13 speciality = KING       face = up   \n",
      "position    2 suit = heart      color = red        number =    10 speciality = None       face = up   \n"
     ]
    }
   ],
   "source": [
    "temp_en.get_pile()"
   ]
  },
  {
   "cell_type": "code",
   "execution_count": 20,
   "metadata": {},
   "outputs": [
    {
     "name": "stdout",
     "output_type": "stream",
     "text": [
      "printing foundation number 1 ********************\n",
      "position    0 suit = club       color = black      number =     1 speciality = ACE        face = up   \n",
      "position    1 suit = club       color = black      number =     2 speciality = None       face = up   \n",
      "position    2 suit = club       color = black      number =     3 speciality = None       face = up   \n",
      "position    3 suit = club       color = black      number =     4 speciality = None       face = up   \n",
      "position    4 suit = club       color = black      number =     5 speciality = None       face = up   \n",
      "position    5 suit = club       color = black      number =     6 speciality = None       face = up   \n",
      "position    6 suit = club       color = black      number =     7 speciality = None       face = up   \n",
      "position    7 suit = club       color = black      number =     8 speciality = None       face = up   \n",
      "position    8 suit = club       color = black      number =     9 speciality = None       face = up   \n",
      "position    9 suit = club       color = black      number =    10 speciality = None       face = up   \n",
      "position   10 suit = club       color = black      number =    11 speciality = JACK       face = up   \n",
      "position   11 suit = club       color = black      number =    12 speciality = QUEEN      face = up   \n",
      "position   12 suit = club       color = black      number =    13 speciality = KING       face = up   \n",
      "printing foundation number 2 ********************\n",
      "position    0 suit = heart      color = red        number =     1 speciality = ACE        face = up   \n",
      "position    1 suit = heart      color = red        number =     2 speciality = None       face = up   \n",
      "position    2 suit = heart      color = red        number =     3 speciality = None       face = up   \n",
      "position    3 suit = heart      color = red        number =     4 speciality = None       face = up   \n",
      "position    4 suit = heart      color = red        number =     5 speciality = None       face = up   \n",
      "position    5 suit = heart      color = red        number =     6 speciality = None       face = up   \n",
      "position    6 suit = heart      color = red        number =     7 speciality = None       face = up   \n",
      "position    7 suit = heart      color = red        number =     8 speciality = None       face = up   \n",
      "position    8 suit = heart      color = red        number =     9 speciality = None       face = up   \n",
      "printing foundation number 3 ********************\n",
      "position    0 suit = diamond    color = red        number =     1 speciality = ACE        face = up   \n",
      "position    1 suit = diamond    color = red        number =     2 speciality = None       face = up   \n",
      "position    2 suit = diamond    color = red        number =     3 speciality = None       face = up   \n",
      "position    3 suit = diamond    color = red        number =     4 speciality = None       face = up   \n",
      "position    4 suit = diamond    color = red        number =     5 speciality = None       face = up   \n",
      "position    5 suit = diamond    color = red        number =     6 speciality = None       face = up   \n",
      "position    6 suit = diamond    color = red        number =     7 speciality = None       face = up   \n",
      "position    7 suit = diamond    color = red        number =     8 speciality = None       face = up   \n",
      "position    8 suit = diamond    color = red        number =     9 speciality = None       face = up   \n",
      "position    9 suit = diamond    color = red        number =    10 speciality = None       face = up   \n",
      "position   10 suit = diamond    color = red        number =    11 speciality = JACK       face = up   \n",
      "position   11 suit = diamond    color = red        number =    12 speciality = QUEEN      face = up   \n",
      "position   12 suit = diamond    color = red        number =    13 speciality = KING       face = up   \n",
      "printing foundation number 4 ********************\n",
      "position    0 suit = spade      color = black      number =     1 speciality = ACE        face = up   \n",
      "position    1 suit = spade      color = black      number =     2 speciality = None       face = up   \n",
      "position    2 suit = spade      color = black      number =     3 speciality = None       face = up   \n",
      "position    3 suit = spade      color = black      number =     4 speciality = None       face = up   \n",
      "position    4 suit = spade      color = black      number =     5 speciality = None       face = up   \n",
      "position    5 suit = spade      color = black      number =     6 speciality = None       face = up   \n",
      "position    6 suit = spade      color = black      number =     7 speciality = None       face = up   \n",
      "position    7 suit = spade      color = black      number =     8 speciality = None       face = up   \n",
      "position    8 suit = spade      color = black      number =     9 speciality = None       face = up   \n",
      "position    9 suit = spade      color = black      number =    10 speciality = None       face = up   \n",
      "position   10 suit = spade      color = black      number =    11 speciality = JACK       face = up   \n",
      "printing tableau number 1 ********************\n",
      "position    0 suit = heart      color = red        number =    13 speciality = KING       face = up   \n",
      "position    1 suit = spade      color = black      number =    12 speciality = QUEEN      face = up   \n",
      "position    2 suit = heart      color = red        number =    11 speciality = JACK       face = up   \n",
      "printing tableau number 2 ********************\n",
      "printing tableau number 3 ********************\n",
      "printing tableau number 4 ********************\n",
      "printing tableau number 5 ********************\n",
      "printing tableau number 6 ********************\n",
      "printing tableau number 7 ********************\n"
     ]
    }
   ],
   "source": [
    "temp_en.get_foundation()\n",
    "temp_en.get_tableau()"
   ]
  },
  {
   "cell_type": "code",
   "execution_count": 17,
   "metadata": {},
   "outputs": [
    {
     "name": "stdout",
     "output_type": "stream",
     "text": [
      "Debug is True\n"
     ]
    }
   ],
   "source": [
    "w,t = temp_en.step(4,debug=True,fp_flag=True)"
   ]
  },
  {
   "cell_type": "code",
   "execution_count": 18,
   "metadata": {},
   "outputs": [
    {
     "data": {
      "text/plain": [
       "(False, False)"
      ]
     },
     "execution_count": 18,
     "metadata": {},
     "output_type": "execute_result"
    }
   ],
   "source": [
    "w,t"
   ]
  },
  {
   "cell_type": "code",
   "execution_count": null,
   "metadata": {},
   "outputs": [],
   "source": []
  }
 ],
 "metadata": {
  "kernelspec": {
   "display_name": "Python 3",
   "language": "python",
   "name": "python3"
  },
  "language_info": {
   "codemirror_mode": {
    "name": "ipython",
    "version": 3
   },
   "file_extension": ".py",
   "mimetype": "text/x-python",
   "name": "python",
   "nbconvert_exporter": "python",
   "pygments_lexer": "ipython3",
   "version": "3.7.7"
  }
 },
 "nbformat": 4,
 "nbformat_minor": 4
}
