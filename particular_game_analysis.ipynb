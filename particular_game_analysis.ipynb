{
 "cells": [
  {
   "cell_type": "code",
   "execution_count": 18,
   "metadata": {},
   "outputs": [],
   "source": [
    "import numpy as np\n",
    "import pandas as pd\n",
    "import matplotlib.pyplot as plt\n",
    "import random\n",
    "import time\n",
    "import unittest\n",
    "import tqdm.notebook as tq\n",
    "import solitaire_env_hard as solitaire_env_hard\n",
    "import sys\n",
    "import seaborn as sns\n",
    "import pickle as pkl\n",
    "import gp\n",
    "import tqdm.notebook as tq\n",
    "sys.setrecursionlimit(10**6)"
   ]
  },
  {
   "cell_type": "code",
   "execution_count": 17,
   "metadata": {},
   "outputs": [],
   "source": [
    "with open(\"games/run_hardgame_2020-05-28 14:04:35.844796.pkl\",\"rb\") as file:\n",
    "    run_data = pkl.load(file)"
   ]
  },
  {
   "cell_type": "code",
   "execution_count": 19,
   "metadata": {},
   "outputs": [],
   "source": [
    "actions_matrix = run_data['actions_matrix']"
   ]
  },
  {
   "cell_type": "code",
   "execution_count": 20,
   "metadata": {},
   "outputs": [],
   "source": [
    "iterations_used_per_game = run_data['iterations_used_per_game']\n",
    "it = pd.DataFrame(data = {\"iterations\":iterations_used_per_game})['iterations'].value_counts()"
   ]
  },
  {
   "cell_type": "markdown",
   "metadata": {},
   "source": [
    "## Maximum number of steps completed for any game"
   ]
  },
  {
   "cell_type": "code",
   "execution_count": 21,
   "metadata": {},
   "outputs": [
    {
     "data": {
      "text/plain": [
       "603"
      ]
     },
     "execution_count": 21,
     "metadata": {},
     "output_type": "execute_result"
    }
   ],
   "source": [
    "max_action_take = max(it.index)\n",
    "max_action_take "
   ]
  },
  {
   "cell_type": "markdown",
   "metadata": {},
   "source": [
    "## Game that resulted into victory with smallest number of steps"
   ]
  },
  {
   "cell_type": "code",
   "execution_count": 7,
   "metadata": {},
   "outputs": [
    {
     "data": {
      "text/plain": [
       "(829, 69)"
      ]
     },
     "execution_count": 7,
     "metadata": {},
     "output_type": "execute_result"
    }
   ],
   "source": [
    "smallest_steps = 20000\n",
    "smallest_action_seq = None\n",
    "smallest_gno = None\n",
    "for game,actions,end_state,start_state,game_states,reason,ad in actions_matrix:\n",
    "    if reason =='won' and len(actions)<smallest_steps:\n",
    "        smallest_gno = game\n",
    "        smallest_steps = len(actions)\n",
    "        smallest_action_seq = actions\n",
    "smallest_gno,smallest_steps"
   ]
  },
  {
   "cell_type": "markdown",
   "metadata": {},
   "source": [
    "### Smallest Action Sequence for a Win"
   ]
  },
  {
   "cell_type": "code",
   "execution_count": 9,
   "metadata": {},
   "outputs": [
    {
     "data": {
      "text/plain": [
       "'011101331332003200002311113122000011311111111111210221311111111111111'"
      ]
     },
     "execution_count": 9,
     "metadata": {},
     "output_type": "execute_result"
    }
   ],
   "source": [
    "\"\".join([str(x) for x in smallest_action_seq])"
   ]
  },
  {
   "cell_type": "code",
   "execution_count": 10,
   "metadata": {},
   "outputs": [
    {
     "data": {
      "text/plain": [
       "{0: 13, 1: 39, 2: 8, 3: 9, 4: 0, 5: 0}"
      ]
     },
     "execution_count": 10,
     "metadata": {},
     "output_type": "execute_result"
    }
   ],
   "source": [
    "action_freq = {0:0,1:0,2:0,3:0,4:0,5:0}\n",
    "for x in smallest_action_seq:\n",
    "    action_freq[x]+=1\n",
    "    \n",
    "action_freq"
   ]
  },
  {
   "cell_type": "markdown",
   "metadata": {},
   "source": [
    "## Game that resulted into victory with maximum number of steps"
   ]
  },
  {
   "cell_type": "code",
   "execution_count": 11,
   "metadata": {},
   "outputs": [
    {
     "data": {
      "text/plain": [
       "(113, 537)"
      ]
     },
     "execution_count": 11,
     "metadata": {},
     "output_type": "execute_result"
    }
   ],
   "source": [
    "longest_steps = 0\n",
    "longest_action_seq = None\n",
    "longest_gno = None\n",
    "longest_start_state = None\n",
    "for game,actions,end_state,start_state,game_states,reason,ad in actions_matrix:\n",
    "    if reason =='won' and len(actions)>longest_steps:\n",
    "        longest_gno = game\n",
    "        longest_steps = len(actions)\n",
    "        longest_action_seq = actions\n",
    "        longest_start_state = start_state\n",
    "longest_gno,longest_steps"
   ]
  },
  {
   "cell_type": "markdown",
   "metadata": {},
   "source": [
    "### Longest Action Sequence for a Win"
   ]
  },
  {
   "cell_type": "code",
   "execution_count": 12,
   "metadata": {},
   "outputs": [
    {
     "data": {
      "text/plain": [
       "'031111233322222223113111323212322234444511112444451111144444151111343344451451115444511144414144414115111444144151114444511114445111444415451111444415144145111145144441141445111544451115144441141445151114444511451114441445111544451451115441444141514451111111111444144441141444141414441414144401111111111444141444411414144441141414441414144414151111111111444144411441444144411141444151151111114444441111415114444114441414444114141444141444141511111111114444144411511511101104311111444411445114441151111124445111511311111111111011111111111'"
      ]
     },
     "execution_count": 12,
     "metadata": {},
     "output_type": "execute_result"
    }
   ],
   "source": [
    "\"\".join([str(x) for x in longest_action_seq])"
   ]
  },
  {
   "cell_type": "code",
   "execution_count": 13,
   "metadata": {},
   "outputs": [
    {
     "data": {
      "text/plain": [
       "{0: 5, 1: 253, 2: 16, 3: 15, 4: 206, 5: 42}"
      ]
     },
     "execution_count": 13,
     "metadata": {},
     "output_type": "execute_result"
    }
   ],
   "source": [
    "action_freq = {0:0,1:0,2:0,3:0,4:0,5:0}\n",
    "for x in longest_action_seq:\n",
    "    action_freq[x]+=1\n",
    "    \n",
    "action_freq"
   ]
  },
  {
   "cell_type": "markdown",
   "metadata": {},
   "source": [
    "## Replay games that were won"
   ]
  },
  {
   "cell_type": "code",
   "execution_count": 15,
   "metadata": {},
   "outputs": [
    {
     "name": "stdout",
     "output_type": "stream",
     "text": [
      "256\n"
     ]
    }
   ],
   "source": [
    "games_won_start_state = []\n",
    "for game,actions,end_state,start_state,game_states,reason,ad in actions_matrix:\n",
    "    if reason =='won':\n",
    "        games_won_start_state.append(start_state)\n",
    "number_of_wins =  len(games_won_start_state)      \n",
    "print(number_of_wins)"
   ]
  },
  {
   "cell_type": "code",
   "execution_count": 16,
   "metadata": {},
   "outputs": [
    {
     "name": "stderr",
     "output_type": "stream",
     "text": [
      "/nfs/hpc/share/bhattpa/anaconda3/envs/Solitaire/lib/python3.7/site-packages/ipykernel_launcher.py:5: TqdmMonitorWarning: tqdm:disabling monitor support (monitor_interval = 0) due to:\n",
      "can't start new thread\n",
      "  \"\"\"\n"
     ]
    },
    {
     "data": {
      "application/vnd.jupyter.widget-view+json": {
       "model_id": "8c67c026591b47789cef8c4150711764",
       "version_major": 2,
       "version_minor": 0
      },
      "text/plain": [
       "HBox(children=(FloatProgress(value=0.0, max=256.0), HTML(value='')))"
      ]
     },
     "metadata": {},
     "output_type": "display_data"
    },
    {
     "name": "stdout",
     "output_type": "stream",
     "text": [
      "\n",
      "115\n"
     ]
    }
   ],
   "source": [
    "win_actions_matrix = [[] for _ in range(number_of_wins)]\n",
    "\n",
    "count = 0\n",
    "\n",
    "for i in tq.tqdm(range(number_of_wins)):\n",
    "    \n",
    "    game_start_state = games_won_start_state[i]\n",
    "    env = solitaire_env_hard.env()\n",
    "    \n",
    "    env.state = game_start_state\n",
    "    action_freq = {0:0,1:0,2:0,3:0,4:0,5:0}\n",
    "    \n",
    "    _,won = gp.greedy_policy(en=env,game=i,action_freq=action_freq,actions_matrix=win_actions_matrix,fp_flag=True)\n",
    "    \n",
    "    if won == True:\n",
    "        count+=1\n",
    "        \n",
    "print(count)\n",
    "        "
   ]
  },
  {
   "cell_type": "markdown",
   "metadata": {},
   "source": [
    "### Percentage of Re-wins"
   ]
  },
  {
   "cell_type": "code",
   "execution_count": 17,
   "metadata": {},
   "outputs": [
    {
     "data": {
      "text/plain": [
       "44.921875"
      ]
     },
     "execution_count": 17,
     "metadata": {},
     "output_type": "execute_result"
    }
   ],
   "source": [
    "count*100/number_of_wins"
   ]
  },
  {
   "cell_type": "markdown",
   "metadata": {},
   "source": [
    "## Replay games that were Lost"
   ]
  },
  {
   "cell_type": "code",
   "execution_count": 20,
   "metadata": {},
   "outputs": [
    {
     "name": "stdout",
     "output_type": "stream",
     "text": [
      "744\n",
      "{'No action could be taken': 744}\n"
     ]
    }
   ],
   "source": [
    "games_lost_start_state = []\n",
    "reasons = {}\n",
    "for game,actions,end_state,start_state,game_states,reason,ad in actions_matrix:\n",
    "    if reason !='won':\n",
    "        if reason not in reasons:\n",
    "            reasons[reason] = 0\n",
    "            \n",
    "        reasons[reason]+=1\n",
    "        games_lost_start_state.append(start_state)\n",
    "number_of_losses =  len(games_lost_start_state)      \n",
    "print(number_of_losses)\n",
    "print(reasons)"
   ]
  },
  {
   "cell_type": "code",
   "execution_count": 21,
   "metadata": {},
   "outputs": [
    {
     "data": {
      "application/vnd.jupyter.widget-view+json": {
       "model_id": "4408365db98f4f919dd25540273e0d8e",
       "version_major": 2,
       "version_minor": 0
      },
      "text/plain": [
       "HBox(children=(FloatProgress(value=0.0, max=744.0), HTML(value='')))"
      ]
     },
     "metadata": {},
     "output_type": "display_data"
    },
    {
     "name": "stdout",
     "output_type": "stream",
     "text": [
      "\n",
      "146\n"
     ]
    }
   ],
   "source": [
    "lost_actions_matrix = [[] for _ in range(number_of_losses)]\n",
    "\n",
    "count = 0\n",
    "\n",
    "for i in tq.tqdm(range(number_of_losses)):\n",
    "    \n",
    "    game_start_state = games_lost_start_state[i]\n",
    "    env = solitaire_env_hard.env()\n",
    "    \n",
    "    env.state = game_start_state\n",
    "    action_freq = {0:0,1:0,2:0,3:0,4:0,5:0}\n",
    "    \n",
    "    _,won = gp.greedy_policy(en=env,game=i,action_freq=action_freq,actions_matrix=lost_actions_matrix,fp_flag=True)\n",
    "    \n",
    "    if won == True:\n",
    "        count+=1\n",
    "        \n",
    "print(count)\n",
    "        "
   ]
  },
  {
   "cell_type": "markdown",
   "metadata": {},
   "source": [
    "### Wins after Retry"
   ]
  },
  {
   "cell_type": "code",
   "execution_count": 22,
   "metadata": {},
   "outputs": [
    {
     "data": {
      "text/plain": [
       "19.623655913978496"
      ]
     },
     "execution_count": 22,
     "metadata": {},
     "output_type": "execute_result"
    }
   ],
   "source": [
    "count*100/number_of_losses"
   ]
  },
  {
   "cell_type": "code",
   "execution_count": null,
   "metadata": {},
   "outputs": [],
   "source": []
  },
  {
   "cell_type": "markdown",
   "metadata": {},
   "source": [
    "### Retry won Game with Longest sequence of actions"
   ]
  },
  {
   "cell_type": "code",
   "execution_count": 23,
   "metadata": {},
   "outputs": [
    {
     "data": {
      "application/vnd.jupyter.widget-view+json": {
       "model_id": "3d891bcb0eeb459791dadc57cca66276",
       "version_major": 2,
       "version_minor": 0
      },
      "text/plain": [
       "HBox(children=(FloatProgress(value=0.0, max=20.0), HTML(value='')))"
      ]
     },
     "metadata": {},
     "output_type": "display_data"
    },
    {
     "name": "stdout",
     "output_type": "stream",
     "text": [
      "\n"
     ]
    }
   ],
   "source": [
    "retry_output = []\n",
    "number_of_retries = 20\n",
    "retry_actions_matrix = [[] for _ in range(number_of_retries)]\n",
    "\n",
    "for i in tq.tqdm(range(number_of_retries)):\n",
    "    env = solitaire_env_hard.env()\n",
    "    env.state = longest_start_state\n",
    "    action_freq = {0:0,1:0,2:0,3:0,4:0,5:0}\n",
    "    \n",
    "    _,won = gp.greedy_policy(en=env,game=i,action_freq=action_freq,actions_matrix=retry_actions_matrix,fp_flag=True)\n",
    "    \n",
    "    retry_output.append(int(won))"
   ]
  },
  {
   "cell_type": "code",
   "execution_count": 24,
   "metadata": {},
   "outputs": [
    {
     "name": "stdout",
     "output_type": "stream",
     "text": [
      "11\n"
     ]
    }
   ],
   "source": [
    "print(sum(retry_output))"
   ]
  },
  {
   "cell_type": "markdown",
   "metadata": {},
   "source": [
    "### Retry Lost Game with Longest sequence of actions"
   ]
  },
  {
   "cell_type": "code",
   "execution_count": 27,
   "metadata": {},
   "outputs": [
    {
     "data": {
      "text/plain": [
       "(715, 644)"
      ]
     },
     "execution_count": 27,
     "metadata": {},
     "output_type": "execute_result"
    }
   ],
   "source": [
    "longest_steps_for_loss = 0\n",
    "longest_action_seq_for_loss = None\n",
    "longest_gno_for_loss = None\n",
    "longest_start_state_for_loss = None\n",
    "for game,actions,end_state,start_state,game_states,reason,ad in actions_matrix:\n",
    "    if reason !='won' and len(actions)>longest_steps_for_loss:\n",
    "        longest_gno_for_loss = game\n",
    "        longest_steps_for_loss = len(actions)\n",
    "        longest_action_seq_for_loss = actions\n",
    "        longest_start_state_for_loss = start_state\n",
    "longest_gno_for_loss,longest_steps_for_loss"
   ]
  },
  {
   "cell_type": "code",
   "execution_count": 28,
   "metadata": {},
   "outputs": [
    {
     "data": {
      "application/vnd.jupyter.widget-view+json": {
       "model_id": "40100bfef116478c8d1048e59707e995",
       "version_major": 2,
       "version_minor": 0
      },
      "text/plain": [
       "HBox(children=(FloatProgress(value=0.0), HTML(value='')))"
      ]
     },
     "metadata": {},
     "output_type": "display_data"
    },
    {
     "name": "stdout",
     "output_type": "stream",
     "text": [
      "\n",
      "70\n"
     ]
    }
   ],
   "source": [
    "retry_output = []\n",
    "number_of_retries = 100\n",
    "retry_actions_matrix = [[] for _ in range(number_of_retries)]\n",
    "\n",
    "for i in tq.tqdm(range(number_of_retries)):\n",
    "    env = solitaire_env_hard.env()\n",
    "    env.state = longest_start_state_for_loss\n",
    "    action_freq = {0:0,1:0,2:0,3:0,4:0,5:0}\n",
    "    \n",
    "    _,won = gp.greedy_policy(en=env,game=i,action_freq=action_freq,actions_matrix=retry_actions_matrix,fp_flag=True)\n",
    "    \n",
    "    retry_output.append(int(won))\n",
    "    \n",
    "print(sum(retry_output))"
   ]
  },
  {
   "cell_type": "code",
   "execution_count": null,
   "metadata": {},
   "outputs": [],
   "source": []
  },
  {
   "cell_type": "markdown",
   "metadata": {},
   "source": [
    "### Retry Every Game Game X number of times"
   ]
  },
  {
   "cell_type": "code",
   "execution_count": 32,
   "metadata": {},
   "outputs": [],
   "source": [
    "import tqdm\n",
    "def replay_each_game(actions_matrix = None,max_steps=100):\n",
    "\n",
    "    results_for_each_game = [[] for _ in range(len(actions_matrix))]\n",
    "\n",
    "    for k  in tqdm.tqdm(range(len(actions_matrix))):\n",
    "\n",
    "        game,actions,end_state,start_state,game_states,reason,ad = actions_matrix[k]\n",
    "\n",
    "        not_won = True\n",
    "\n",
    "        i = 0\n",
    "        game_actions_matrix = [[] for _ in range(max_steps)]\n",
    "        while not_won and i<max_steps:\n",
    "\n",
    "            env = solitaire_env_hard.env()\n",
    "            env.state = start_state\n",
    "            action_freq = {0:0,1:0,2:0,3:0,4:0,5:0}\n",
    "\n",
    "            _,won = gp.greedy_policy(en=env,game=i,action_freq=action_freq,actions_matrix=game_actions_matrix,fp_flag=True)\n",
    "\n",
    "            results_for_each_game[k].append(won)\n",
    "            not_won = (won == False)\n",
    "            i+=1\n",
    "       \n",
    "    \n",
    "    times_tried = [len(x) for x in results_for_each_game]\n",
    "    games_won = [x for x in times_tried if x<max_steps-1]\n",
    "    print(\"games won\",len(games_won))\n",
    "    sns.lineplot(x=range(len(times_tried)),y=times_tried)\n",
    "    \n",
    "    return results_for_each_game\n",
    "    "
   ]
  },
  {
   "cell_type": "code",
   "execution_count": 33,
   "metadata": {},
   "outputs": [],
   "source": [
    "#res = replay_each_game(actions_matrix[:500],max_steps=150)\n"
   ]
  },
  {
   "cell_type": "code",
   "execution_count": null,
   "metadata": {},
   "outputs": [],
   "source": []
  },
  {
   "cell_type": "code",
   "execution_count": 34,
   "metadata": {},
   "outputs": [
    {
     "name": "stderr",
     "output_type": "stream",
     "text": [
      "  8%|▊         | 40/500 [00:23<04:25,  1.73it/s]\n"
     ]
    },
    {
     "ename": "KeyboardInterrupt",
     "evalue": "",
     "output_type": "error",
     "traceback": [
      "\u001b[0;31m---------------------------------------------------------------------------\u001b[0m",
      "\u001b[0;31mKeyboardInterrupt\u001b[0m                         Traceback (most recent call last)",
      "\u001b[0;32m<ipython-input-34-f34ef3938079>\u001b[0m in \u001b[0;36m<module>\u001b[0;34m\u001b[0m\n\u001b[0;32m----> 1\u001b[0;31m \u001b[0mres\u001b[0m \u001b[0;34m=\u001b[0m \u001b[0mreplay_each_game\u001b[0m\u001b[0;34m(\u001b[0m\u001b[0mactions_matrix\u001b[0m\u001b[0;34m[\u001b[0m\u001b[0;36m500\u001b[0m\u001b[0;34m:\u001b[0m\u001b[0;34m]\u001b[0m\u001b[0;34m,\u001b[0m\u001b[0mmax_steps\u001b[0m\u001b[0;34m=\u001b[0m\u001b[0;36m150\u001b[0m\u001b[0;34m)\u001b[0m\u001b[0;34m\u001b[0m\u001b[0;34m\u001b[0m\u001b[0m\n\u001b[0m",
      "\u001b[0;32m<ipython-input-32-b4d28b6a4f35>\u001b[0m in \u001b[0;36mreplay_each_game\u001b[0;34m(actions_matrix, max_steps)\u001b[0m\n\u001b[1;32m     15\u001b[0m \u001b[0;34m\u001b[0m\u001b[0m\n\u001b[1;32m     16\u001b[0m             \u001b[0menv\u001b[0m \u001b[0;34m=\u001b[0m \u001b[0msolitaire_env_hard\u001b[0m\u001b[0;34m.\u001b[0m\u001b[0menv\u001b[0m\u001b[0;34m(\u001b[0m\u001b[0;34m)\u001b[0m\u001b[0;34m\u001b[0m\u001b[0;34m\u001b[0m\u001b[0m\n\u001b[0;32m---> 17\u001b[0;31m             \u001b[0menv\u001b[0m\u001b[0;34m.\u001b[0m\u001b[0mstate\u001b[0m \u001b[0;34m=\u001b[0m \u001b[0mstart_state\u001b[0m\u001b[0;34m\u001b[0m\u001b[0;34m\u001b[0m\u001b[0m\n\u001b[0m\u001b[1;32m     18\u001b[0m             \u001b[0maction_freq\u001b[0m \u001b[0;34m=\u001b[0m \u001b[0;34m{\u001b[0m\u001b[0;36m0\u001b[0m\u001b[0;34m:\u001b[0m\u001b[0;36m0\u001b[0m\u001b[0;34m,\u001b[0m\u001b[0;36m1\u001b[0m\u001b[0;34m:\u001b[0m\u001b[0;36m0\u001b[0m\u001b[0;34m,\u001b[0m\u001b[0;36m2\u001b[0m\u001b[0;34m:\u001b[0m\u001b[0;36m0\u001b[0m\u001b[0;34m,\u001b[0m\u001b[0;36m3\u001b[0m\u001b[0;34m:\u001b[0m\u001b[0;36m0\u001b[0m\u001b[0;34m,\u001b[0m\u001b[0;36m4\u001b[0m\u001b[0;34m:\u001b[0m\u001b[0;36m0\u001b[0m\u001b[0;34m,\u001b[0m\u001b[0;36m5\u001b[0m\u001b[0;34m:\u001b[0m\u001b[0;36m0\u001b[0m\u001b[0;34m}\u001b[0m\u001b[0;34m\u001b[0m\u001b[0;34m\u001b[0m\u001b[0m\n\u001b[1;32m     19\u001b[0m \u001b[0;34m\u001b[0m\u001b[0m\n",
      "\u001b[0;31mKeyboardInterrupt\u001b[0m: "
     ]
    }
   ],
   "source": [
    "res = replay_each_game(actions_matrix[500:],max_steps=150)\n"
   ]
  },
  {
   "cell_type": "code",
   "execution_count": null,
   "metadata": {},
   "outputs": [],
   "source": []
  },
  {
   "cell_type": "code",
   "execution_count": null,
   "metadata": {},
   "outputs": [],
   "source": []
  },
  {
   "cell_type": "markdown",
   "metadata": {},
   "source": [
    "### Replay a particular game"
   ]
  },
  {
   "cell_type": "code",
   "execution_count": 22,
   "metadata": {},
   "outputs": [],
   "source": [
    "class replay_game:\n",
    "    \n",
    "    def __init__(self,gno=0):\n",
    "        \n",
    "        self.temp_en = solitaire_env_hard.env()\n",
    "        self.action_number = 0\n",
    "        action_type = {0:'tableau_to_foundation_reveal',\\\n",
    "               1:'to_foundation_stack',2:'tableau_to_tableau_reveal',\\\n",
    "               3:'pile_to_tableau',\\\n",
    "                4:'foundation_to_tableau',\\\n",
    "               5:'tableau_to_tableau_not_reveal'\\\n",
    "              }\n",
    "    \n",
    "        for game_no,action_seq,end_state,start_state,state_seq,how_ends,ad in actions_matrix:\n",
    "            if game_no == gno:\n",
    "                break;\n",
    "        print(\"Reason game ended...   \",how_ends)\n",
    "        print(\"Length of action sequence is.. \",len(action_seq))\n",
    "        action_replay = \"\".join([str(x) for x in action_seq])\n",
    "        \n",
    "        self.action_replay = [int(x) for x in action_replay]\n",
    "        \n",
    "        self.temp_en.state = start_state\n",
    "        self.start_state = start_state\n",
    "        \n",
    "        self.end_state = end_state\n",
    "        \n",
    "        \n",
    "        self.temp_en.state = self.temp_en.copy_state()\n",
    "        \n",
    "        self.state_seq = state_seq\n",
    "        \n",
    "        self.action_seq = [action_type[int(x)] for x in action_replay]\n",
    "        \n",
    "        print(\"starting state.. \\n\")\n",
    "        \n",
    "        print(\"***********************************pile*****************************************\")\n",
    "        self.temp_en.get_pile()\n",
    "        print(\"\\n\\n\\n\\n\\n\\n\\n\\n\")\n",
    "        print(\"*****************************foundation*****************************************\")\n",
    "        \n",
    "        self.temp_en.get_foundation()\n",
    "        print(\"\\n\\n\\n\\n\\n\\n\\n\\n\")\n",
    "        print(\"******************************tableau*******************************************\")\n",
    "        \n",
    "        self.temp_en.get_tableau()\n",
    "        print(\"\\n\\n\\n\\n\\n\\n\\n\\n\")\n",
    "        \n",
    "    def next_state(self):\n",
    "        \n",
    "        print(\"action number..  \", self.action_number)\n",
    "        \n",
    "        print(\"action taken {} : description {} \".format(self.action_replay[self.action_number],self.action_seq[self.action_number]))\n",
    "        self.action_number +=1\n",
    "        self.temp_en = solitaire_env_hard.env()\n",
    "        \n",
    "        self.temp_en.state = self.state_seq[self.action_number]\n",
    "        \n",
    "        self.temp_en.state = self.temp_en.copy_state()\n",
    "        \n",
    "        print(\"starting state.. \\n\")\n",
    "        \n",
    "        print(\"***********************************pile*****************************************\")\n",
    "        self.temp_en.get_pile()\n",
    "        print(\"\\n\\n\\n\\n\\n\\n\\n\\n\")\n",
    "        \n",
    "        \n",
    "        print(\"*****************************foundation*****************************************\")\n",
    "        \n",
    "        self.temp_en.get_foundation()\n",
    "        print(\"\\n\\n\\n\\n\\n\\n\\n\\n\")\n",
    "            \n",
    "            \n",
    "        print(\"******************************tableau*******************************************\")\n",
    "        \n",
    "        self.temp_en.get_tableau()\n",
    "        print(\"\\n\\n\\n\\n\\n\\n\\n\\n\")\n",
    "        \n",
    "        \n",
    "        \n",
    "        \n",
    "    def goto_state(self,n):\n",
    "        self.action_number = n"
   ]
  },
  {
   "cell_type": "code",
   "execution_count": null,
   "metadata": {},
   "outputs": [],
   "source": []
  },
  {
   "cell_type": "code",
   "execution_count": null,
   "metadata": {},
   "outputs": [],
   "source": []
  },
  {
   "cell_type": "code",
   "execution_count": null,
   "metadata": {},
   "outputs": [],
   "source": []
  },
  {
   "cell_type": "code",
   "execution_count": 30,
   "metadata": {
    "scrolled": true
   },
   "outputs": [
    {
     "name": "stdout",
     "output_type": "stream",
     "text": [
      "Reason game ended...    won\n",
      "Length of action sequence is..  172\n",
      "starting state.. \n",
      "\n",
      "***********************************pile*****************************************\n",
      "position    0 suit = club       color = black      number =     2 speciality = None       face = up   \n",
      "position    1 suit = club       color = black      number =     3 speciality = None       face = up   \n",
      "position    2 suit = heart      color = red        number =     6 speciality = None       face = up   \n",
      "position    3 suit = club       color = black      number =     4 speciality = None       face = up   \n",
      "position    4 suit = club       color = black      number =     7 speciality = None       face = up   \n",
      "position    5 suit = heart      color = red        number =     7 speciality = None       face = up   \n",
      "position    6 suit = spade      color = black      number =     4 speciality = None       face = up   \n",
      "position    7 suit = spade      color = black      number =    10 speciality = None       face = up   \n",
      "position    8 suit = club       color = black      number =    11 speciality = JACK       face = up   \n",
      "position    9 suit = diamond    color = red        number =     6 speciality = None       face = up   \n",
      "position   10 suit = diamond    color = red        number =    13 speciality = KING       face = up   \n",
      "position   11 suit = diamond    color = red        number =     7 speciality = None       face = up   \n",
      "position   12 suit = diamond    color = red        number =     8 speciality = None       face = up   \n",
      "position   13 suit = club       color = black      number =     1 speciality = ACE        face = up   \n",
      "position   14 suit = club       color = black      number =    13 speciality = KING       face = up   \n",
      "position   15 suit = heart      color = red        number =    13 speciality = KING       face = up   \n",
      "position   16 suit = spade      color = black      number =     2 speciality = None       face = up   \n",
      "position   17 suit = diamond    color = red        number =    12 speciality = QUEEN      face = up   \n",
      "position   18 suit = spade      color = black      number =     8 speciality = None       face = up   \n",
      "position   19 suit = spade      color = black      number =     7 speciality = None       face = up   \n",
      "position   20 suit = diamond    color = red        number =     4 speciality = None       face = up   \n",
      "position   21 suit = heart      color = red        number =     4 speciality = None       face = up   \n",
      "position   22 suit = diamond    color = red        number =     1 speciality = ACE        face = up   \n",
      "position   23 suit = club       color = black      number =     5 speciality = None       face = up   \n",
      "\n",
      "\n",
      "\n",
      "\n",
      "\n",
      "\n",
      "\n",
      "\n",
      "\n",
      "*****************************foundation*****************************************\n",
      "printing foundation number 1 ********************\n",
      "printing foundation number 2 ********************\n",
      "printing foundation number 3 ********************\n",
      "printing foundation number 4 ********************\n",
      "\n",
      "\n",
      "\n",
      "\n",
      "\n",
      "\n",
      "\n",
      "\n",
      "\n",
      "******************************tableau*******************************************\n",
      "printing tableau number 1 ********************\n",
      "position    0 suit = diamond    color = red        number =    10 speciality = None       face = up   \n",
      "printing tableau number 2 ********************\n",
      "position    0 suit = spade      color = black      number =     9 speciality = None       face = down \n",
      "position    1 suit = diamond    color = red        number =     3 speciality = None       face = up   \n",
      "printing tableau number 3 ********************\n",
      "position    0 suit = spade      color = black      number =    11 speciality = JACK       face = down \n",
      "position    1 suit = heart      color = red        number =     1 speciality = ACE        face = down \n",
      "position    2 suit = heart      color = red        number =     8 speciality = None       face = up   \n",
      "printing tableau number 4 ********************\n",
      "position    0 suit = spade      color = black      number =     3 speciality = None       face = down \n",
      "position    1 suit = heart      color = red        number =     2 speciality = None       face = down \n",
      "position    2 suit = club       color = black      number =     6 speciality = None       face = down \n",
      "position    3 suit = heart      color = red        number =     9 speciality = None       face = up   \n",
      "printing tableau number 5 ********************\n",
      "position    0 suit = spade      color = black      number =     5 speciality = None       face = down \n",
      "position    1 suit = spade      color = black      number =    12 speciality = QUEEN      face = down \n",
      "position    2 suit = club       color = black      number =     8 speciality = None       face = down \n",
      "position    3 suit = club       color = black      number =     9 speciality = None       face = down \n",
      "position    4 suit = spade      color = black      number =     6 speciality = None       face = up   \n",
      "printing tableau number 6 ********************\n",
      "position    0 suit = spade      color = black      number =     1 speciality = ACE        face = down \n",
      "position    1 suit = club       color = black      number =    10 speciality = None       face = down \n",
      "position    2 suit = heart      color = red        number =    12 speciality = QUEEN      face = down \n",
      "position    3 suit = heart      color = red        number =     3 speciality = None       face = down \n",
      "position    4 suit = diamond    color = red        number =     9 speciality = None       face = down \n",
      "position    5 suit = diamond    color = red        number =    11 speciality = JACK       face = up   \n",
      "printing tableau number 7 ********************\n",
      "position    0 suit = heart      color = red        number =    10 speciality = None       face = down \n",
      "position    1 suit = spade      color = black      number =    13 speciality = KING       face = down \n",
      "position    2 suit = heart      color = red        number =    11 speciality = JACK       face = down \n",
      "position    3 suit = diamond    color = red        number =     5 speciality = None       face = down \n",
      "position    4 suit = club       color = black      number =    12 speciality = QUEEN      face = down \n",
      "position    5 suit = diamond    color = red        number =     2 speciality = None       face = down \n",
      "position    6 suit = heart      color = red        number =     5 speciality = None       face = up   \n",
      "\n",
      "\n",
      "\n",
      "\n",
      "\n",
      "\n",
      "\n",
      "\n",
      "\n"
     ]
    }
   ],
   "source": [
    "game_replay = replay_game(gno = 23)"
   ]
  },
  {
   "cell_type": "code",
   "execution_count": 50,
   "metadata": {
    "scrolled": false
   },
   "outputs": [
    {
     "name": "stdout",
     "output_type": "stream",
     "text": [
      "action number..   5\n",
      "action taken 2 : description tableau_to_tableau_reveal \n",
      "starting state.. \n",
      "\n",
      "***********************************pile*****************************************\n",
      "position    0 suit = club       color = black      number =     2 speciality = None       face = up   \n",
      "position    1 suit = club       color = black      number =     3 speciality = None       face = up   \n",
      "position    2 suit = heart      color = red        number =     6 speciality = None       face = up   \n",
      "position    3 suit = club       color = black      number =     4 speciality = None       face = up   \n",
      "position    4 suit = club       color = black      number =     7 speciality = None       face = up   \n",
      "position    5 suit = heart      color = red        number =     7 speciality = None       face = up   \n",
      "position    6 suit = spade      color = black      number =     4 speciality = None       face = up   \n",
      "position    7 suit = spade      color = black      number =    10 speciality = None       face = up   \n",
      "position    8 suit = club       color = black      number =    11 speciality = JACK       face = up   \n",
      "position    9 suit = diamond    color = red        number =     6 speciality = None       face = up   \n",
      "position   10 suit = diamond    color = red        number =    13 speciality = KING       face = up   \n",
      "position   11 suit = diamond    color = red        number =     7 speciality = None       face = up   \n",
      "position   12 suit = diamond    color = red        number =     8 speciality = None       face = up   \n",
      "position   13 suit = club       color = black      number =     1 speciality = ACE        face = up   \n",
      "position   14 suit = club       color = black      number =    13 speciality = KING       face = up   \n",
      "position   15 suit = heart      color = red        number =    13 speciality = KING       face = up   \n",
      "position   16 suit = spade      color = black      number =     2 speciality = None       face = up   \n",
      "position   17 suit = diamond    color = red        number =    12 speciality = QUEEN      face = up   \n",
      "position   18 suit = spade      color = black      number =     7 speciality = None       face = up   \n",
      "position   19 suit = diamond    color = red        number =     4 speciality = None       face = up   \n",
      "position   20 suit = heart      color = red        number =     4 speciality = None       face = up   \n",
      "position   21 suit = club       color = black      number =     5 speciality = None       face = up   \n",
      "\n",
      "\n",
      "\n",
      "\n",
      "\n",
      "\n",
      "\n",
      "\n",
      "\n",
      "*****************************foundation*****************************************\n",
      "printing foundation number 1 ********************\n",
      "printing foundation number 2 ********************\n",
      "printing foundation number 3 ********************\n",
      "position    0 suit = diamond    color = red        number =     1 speciality = ACE        face = up   \n",
      "position    1 suit = diamond    color = red        number =     2 speciality = None       face = up   \n",
      "position    2 suit = diamond    color = red        number =     3 speciality = None       face = up   \n",
      "printing foundation number 4 ********************\n",
      "\n",
      "\n",
      "\n",
      "\n",
      "\n",
      "\n",
      "\n",
      "\n",
      "\n",
      "******************************tableau*******************************************\n",
      "printing tableau number 1 ********************\n",
      "position    0 suit = diamond    color = red        number =    10 speciality = None       face = up   \n",
      "printing tableau number 2 ********************\n",
      "position    0 suit = spade      color = black      number =     9 speciality = None       face = up   \n",
      "position    1 suit = heart      color = red        number =     8 speciality = None       face = up   \n",
      "printing tableau number 3 ********************\n",
      "position    0 suit = spade      color = black      number =    11 speciality = JACK       face = down \n",
      "position    1 suit = heart      color = red        number =     1 speciality = ACE        face = up   \n",
      "printing tableau number 4 ********************\n",
      "position    0 suit = spade      color = black      number =     3 speciality = None       face = down \n",
      "position    1 suit = heart      color = red        number =     2 speciality = None       face = down \n",
      "position    2 suit = club       color = black      number =     6 speciality = None       face = down \n",
      "position    3 suit = heart      color = red        number =     9 speciality = None       face = up   \n",
      "position    4 suit = spade      color = black      number =     8 speciality = None       face = up   \n",
      "printing tableau number 5 ********************\n",
      "position    0 suit = spade      color = black      number =     5 speciality = None       face = down \n",
      "position    1 suit = spade      color = black      number =    12 speciality = QUEEN      face = down \n",
      "position    2 suit = club       color = black      number =     8 speciality = None       face = down \n",
      "position    3 suit = club       color = black      number =     9 speciality = None       face = down \n",
      "position    4 suit = spade      color = black      number =     6 speciality = None       face = up   \n",
      "position    5 suit = heart      color = red        number =     5 speciality = None       face = up   \n",
      "printing tableau number 6 ********************\n",
      "position    0 suit = spade      color = black      number =     1 speciality = ACE        face = down \n",
      "position    1 suit = club       color = black      number =    10 speciality = None       face = down \n",
      "position    2 suit = heart      color = red        number =    12 speciality = QUEEN      face = down \n",
      "position    3 suit = heart      color = red        number =     3 speciality = None       face = down \n",
      "position    4 suit = diamond    color = red        number =     9 speciality = None       face = down \n",
      "position    5 suit = diamond    color = red        number =    11 speciality = JACK       face = up   \n",
      "printing tableau number 7 ********************\n",
      "position    0 suit = heart      color = red        number =    10 speciality = None       face = down \n",
      "position    1 suit = spade      color = black      number =    13 speciality = KING       face = down \n",
      "position    2 suit = heart      color = red        number =    11 speciality = JACK       face = down \n",
      "position    3 suit = diamond    color = red        number =     5 speciality = None       face = down \n",
      "position    4 suit = club       color = black      number =    12 speciality = QUEEN      face = up   \n",
      "\n",
      "\n",
      "\n",
      "\n",
      "\n",
      "\n",
      "\n",
      "\n",
      "\n"
     ]
    }
   ],
   "source": [
    "#game_replay.goto_state(5)\n",
    "game_replay.next_state()\n",
    "#foundation progression"
   ]
  },
  {
   "cell_type": "code",
   "execution_count": 25,
   "metadata": {
    "scrolled": true
   },
   "outputs": [
    {
     "name": "stdout",
     "output_type": "stream",
     "text": [
      "action number..   30\n",
      "action taken 4 : description foundation_to_tableau \n",
      "starting state.. \n",
      "\n",
      "***********************************pile*****************************************\n",
      "position    0 suit = club       color = black      number =    11 speciality = JACK       face = up   \n",
      "position    1 suit = diamond    color = red        number =    13 speciality = KING       face = up   \n",
      "position    2 suit = club       color = black      number =    13 speciality = KING       face = up   \n",
      "position    3 suit = heart      color = red        number =    13 speciality = KING       face = up   \n",
      "position    4 suit = spade      color = black      number =     2 speciality = None       face = up   \n",
      "position    5 suit = diamond    color = red        number =    12 speciality = QUEEN      face = up   \n",
      "position    6 suit = heart      color = red        number =     4 speciality = None       face = up   \n",
      "\n",
      "\n",
      "\n",
      "\n",
      "\n",
      "\n",
      "\n",
      "\n",
      "\n",
      "*****************************foundation*****************************************\n",
      "printing foundation number 1 ********************\n",
      "position    0 suit = club       color = black      number =     1 speciality = ACE        face = up   \n",
      "position    1 suit = club       color = black      number =     2 speciality = None       face = up   \n",
      "position    2 suit = club       color = black      number =     3 speciality = None       face = up   \n",
      "position    3 suit = club       color = black      number =     4 speciality = None       face = up   \n",
      "position    4 suit = club       color = black      number =     5 speciality = None       face = up   \n",
      "position    5 suit = club       color = black      number =     6 speciality = None       face = up   \n",
      "printing foundation number 2 ********************\n",
      "position    0 suit = heart      color = red        number =     1 speciality = ACE        face = up   \n",
      "printing foundation number 3 ********************\n",
      "position    0 suit = diamond    color = red        number =     1 speciality = ACE        face = up   \n",
      "position    1 suit = diamond    color = red        number =     2 speciality = None       face = up   \n",
      "position    2 suit = diamond    color = red        number =     3 speciality = None       face = up   \n",
      "position    3 suit = diamond    color = red        number =     4 speciality = None       face = up   \n",
      "printing foundation number 4 ********************\n",
      "\n",
      "\n",
      "\n",
      "\n",
      "\n",
      "\n",
      "\n",
      "\n",
      "\n",
      "******************************tableau*******************************************\n",
      "printing tableau number 1 ********************\n",
      "position    0 suit = diamond    color = red        number =    10 speciality = None       face = up   \n",
      "position    1 suit = club       color = black      number =     9 speciality = None       face = up   \n",
      "position    2 suit = diamond    color = red        number =     8 speciality = None       face = up   \n",
      "position    3 suit = club       color = black      number =     7 speciality = None       face = up   \n",
      "position    4 suit = diamond    color = red        number =     6 speciality = None       face = up   \n",
      "printing tableau number 2 ********************\n",
      "position    0 suit = spade      color = black      number =     9 speciality = None       face = up   \n",
      "position    1 suit = heart      color = red        number =     8 speciality = None       face = up   \n",
      "position    2 suit = spade      color = black      number =     7 speciality = None       face = up   \n",
      "position    3 suit = heart      color = red        number =     6 speciality = None       face = up   \n",
      "printing tableau number 3 ********************\n",
      "position    0 suit = spade      color = black      number =    11 speciality = JACK       face = up   \n",
      "printing tableau number 4 ********************\n",
      "position    0 suit = spade      color = black      number =     3 speciality = None       face = up   \n",
      "position    1 suit = heart      color = red        number =     2 speciality = None       face = up   \n",
      "printing tableau number 5 ********************\n",
      "position    0 suit = spade      color = black      number =     5 speciality = None       face = down \n",
      "position    1 suit = spade      color = black      number =    12 speciality = QUEEN      face = up   \n",
      "printing tableau number 6 ********************\n",
      "position    0 suit = spade      color = black      number =     1 speciality = ACE        face = down \n",
      "position    1 suit = club       color = black      number =    10 speciality = None       face = down \n",
      "position    2 suit = heart      color = red        number =    12 speciality = QUEEN      face = down \n",
      "position    3 suit = heart      color = red        number =     3 speciality = None       face = down \n",
      "position    4 suit = diamond    color = red        number =     9 speciality = None       face = up   \n",
      "position    5 suit = club       color = black      number =     8 speciality = None       face = up   \n",
      "position    6 suit = heart      color = red        number =     7 speciality = None       face = up   \n",
      "printing tableau number 7 ********************\n",
      "position    0 suit = heart      color = red        number =    10 speciality = None       face = down \n",
      "position    1 suit = spade      color = black      number =    13 speciality = KING       face = down \n",
      "position    2 suit = heart      color = red        number =    11 speciality = JACK       face = down \n",
      "position    3 suit = diamond    color = red        number =     5 speciality = None       face = down \n",
      "position    4 suit = club       color = black      number =    12 speciality = QUEEN      face = up   \n",
      "position    5 suit = diamond    color = red        number =    11 speciality = JACK       face = up   \n",
      "position    6 suit = spade      color = black      number =    10 speciality = None       face = up   \n",
      "position    7 suit = heart      color = red        number =     9 speciality = None       face = up   \n",
      "position    8 suit = spade      color = black      number =     8 speciality = None       face = up   \n",
      "position    9 suit = diamond    color = red        number =     7 speciality = None       face = up   \n",
      "position   10 suit = spade      color = black      number =     6 speciality = None       face = up   \n",
      "position   11 suit = heart      color = red        number =     5 speciality = None       face = up   \n",
      "position   12 suit = spade      color = black      number =     4 speciality = None       face = up   \n",
      "\n",
      "\n",
      "\n",
      "\n",
      "\n",
      "\n",
      "\n",
      "\n",
      "\n"
     ]
    }
   ],
   "source": [
    "game_replay.next_state()"
   ]
  },
  {
   "cell_type": "code",
   "execution_count": 29,
   "metadata": {},
   "outputs": [],
   "source": [
    "# Tableau to foundation reveal #gamestate"
   ]
  },
  {
   "cell_type": "code",
   "execution_count": null,
   "metadata": {},
   "outputs": [],
   "source": []
  },
  {
   "cell_type": "code",
   "execution_count": null,
   "metadata": {},
   "outputs": [],
   "source": []
  },
  {
   "cell_type": "code",
   "execution_count": null,
   "metadata": {},
   "outputs": [],
   "source": []
  },
  {
   "cell_type": "code",
   "execution_count": null,
   "metadata": {},
   "outputs": [],
   "source": []
  },
  {
   "cell_type": "code",
   "execution_count": null,
   "metadata": {},
   "outputs": [],
   "source": []
  },
  {
   "cell_type": "code",
   "execution_count": 13,
   "metadata": {},
   "outputs": [],
   "source": [
    "temp_en = solitaire_env_hard.env()\n",
    "\n",
    "temp_en.state = game_replay.temp_en.state"
   ]
  },
  {
   "cell_type": "code",
   "execution_count": 14,
   "metadata": {},
   "outputs": [
    {
     "name": "stdout",
     "output_type": "stream",
     "text": [
      "position    0 suit = heart      color = red        number =    13 speciality = KING       face = up   \n",
      "position    1 suit = diamond    color = red        number =     2 speciality = None       face = up   \n",
      "position    2 suit = diamond    color = red        number =    13 speciality = KING       face = up   \n",
      "position    3 suit = spade      color = black      number =     7 speciality = None       face = up   \n",
      "position    4 suit = heart      color = red        number =     3 speciality = None       face = up   \n",
      "position    5 suit = club       color = black      number =     4 speciality = None       face = up   \n",
      "position    6 suit = spade      color = black      number =    13 speciality = KING       face = up   \n",
      "position    7 suit = club       color = black      number =     5 speciality = None       face = up   \n",
      "position    8 suit = spade      color = black      number =    12 speciality = QUEEN      face = up   \n",
      "position    9 suit = club       color = black      number =    12 speciality = QUEEN      face = up   \n",
      "position   10 suit = diamond    color = red        number =     3 speciality = None       face = up   \n",
      "position   11 suit = diamond    color = red        number =     7 speciality = None       face = up   \n",
      "position   12 suit = heart      color = red        number =     8 speciality = None       face = up   \n",
      "position   13 suit = heart      color = red        number =     9 speciality = None       face = up   \n"
     ]
    }
   ],
   "source": [
    "temp_en.get_pile()"
   ]
  },
  {
   "cell_type": "code",
   "execution_count": 15,
   "metadata": {},
   "outputs": [
    {
     "name": "stdout",
     "output_type": "stream",
     "text": [
      "printing foundation number 1 ********************\n",
      "position    0 suit = club       color = black      number =     1 speciality = ACE        face = up   \n",
      "position    1 suit = club       color = black      number =     2 speciality = None       face = up   \n",
      "printing foundation number 2 ********************\n",
      "position    0 suit = heart      color = red        number =     1 speciality = ACE        face = up   \n",
      "printing foundation number 3 ********************\n",
      "printing foundation number 4 ********************\n",
      "position    0 suit = spade      color = black      number =     1 speciality = ACE        face = up   \n",
      "position    1 suit = spade      color = black      number =     2 speciality = None       face = up   \n",
      "********************************************************************************************************\n",
      "printing tableau number 1 ********************\n",
      "position    0 suit = heart      color = red        number =    10 speciality = None       face = up   \n",
      "printing tableau number 2 ********************\n",
      "position    0 suit = diamond    color = red        number =     9 speciality = None       face = up   \n",
      "position    1 suit = club       color = black      number =     8 speciality = None       face = up   \n",
      "position    2 suit = heart      color = red        number =     7 speciality = None       face = up   \n",
      "position    3 suit = spade      color = black      number =     6 speciality = None       face = up   \n",
      "position    4 suit = diamond    color = red        number =     5 speciality = None       face = up   \n",
      "position    5 suit = spade      color = black      number =     4 speciality = None       face = up   \n",
      "printing tableau number 3 ********************\n",
      "position    0 suit = heart      color = red        number =     2 speciality = None       face = down \n",
      "position    1 suit = heart      color = red        number =    11 speciality = JACK       face = up   \n",
      "printing tableau number 4 ********************\n",
      "position    0 suit = club       color = black      number =     6 speciality = None       face = up   \n",
      "printing tableau number 5 ********************\n",
      "position    0 suit = heart      color = red        number =    12 speciality = QUEEN      face = down \n",
      "position    1 suit = heart      color = red        number =     5 speciality = None       face = down \n",
      "position    2 suit = club       color = black      number =    13 speciality = KING       face = down \n",
      "position    3 suit = club       color = black      number =     3 speciality = None       face = down \n",
      "position    4 suit = diamond    color = red        number =    10 speciality = None       face = up   \n",
      "position    5 suit = spade      color = black      number =     9 speciality = None       face = up   \n",
      "position    6 suit = diamond    color = red        number =     8 speciality = None       face = up   \n",
      "position    7 suit = club       color = black      number =     7 speciality = None       face = up   \n",
      "position    8 suit = heart      color = red        number =     6 speciality = None       face = up   \n",
      "position    9 suit = spade      color = black      number =     5 speciality = None       face = up   \n",
      "position   10 suit = diamond    color = red        number =     4 speciality = None       face = up   \n",
      "position   11 suit = spade      color = black      number =     3 speciality = None       face = up   \n",
      "printing tableau number 6 ********************\n",
      "position    0 suit = spade      color = black      number =    11 speciality = JACK       face = down \n",
      "position    1 suit = club       color = black      number =     9 speciality = None       face = down \n",
      "position    2 suit = spade      color = black      number =    10 speciality = None       face = down \n",
      "position    3 suit = diamond    color = red        number =    11 speciality = JACK       face = up   \n",
      "position    4 suit = club       color = black      number =    10 speciality = None       face = up   \n",
      "printing tableau number 7 ********************\n",
      "position    0 suit = club       color = black      number =    11 speciality = JACK       face = down \n",
      "position    1 suit = diamond    color = red        number =     6 speciality = None       face = down \n",
      "position    2 suit = spade      color = black      number =     8 speciality = None       face = down \n",
      "position    3 suit = heart      color = red        number =     4 speciality = None       face = down \n",
      "position    4 suit = diamond    color = red        number =     1 speciality = ACE        face = down \n",
      "position    5 suit = diamond    color = red        number =    12 speciality = QUEEN      face = up   \n"
     ]
    }
   ],
   "source": [
    "temp_en.get_foundation()\n",
    "print(\"********************************************************************************************************\")\n",
    "temp_en.get_tableau()"
   ]
  },
  {
   "cell_type": "code",
   "execution_count": null,
   "metadata": {},
   "outputs": [],
   "source": []
  },
  {
   "cell_type": "code",
   "execution_count": 16,
   "metadata": {},
   "outputs": [
    {
     "name": "stdout",
     "output_type": "stream",
     "text": [
      "Debug is True\n",
      "cards movable in tableau 0 \n",
      " [0]\n",
      "cards movable in tableau 1 \n",
      " [0, 1, 2, 3, 4, 5]\n",
      "cards movable in tableau 2 \n",
      " [1]\n",
      "cards movable in tableau 3 \n",
      " [0]\n",
      "cards movable in tableau 4 \n",
      " [4, 5, 6, 7, 8, 9, 10, 11]\n",
      "cards movable in tableau 5 \n",
      " [3, 4]\n",
      "cards movable in tableau 6 \n",
      " [5]\n",
      "True False\n",
      "False True\n",
      "True False\n",
      "True False\n",
      "True False\n",
      "False False\n",
      "False True\n",
      "False False\n",
      "True False\n",
      "True False\n",
      "True True\n",
      "False False\n",
      "True False\n",
      "True False\n",
      "False False\n",
      "False False\n",
      "False False\n",
      "True False\n",
      "False False\n",
      "False False\n",
      "True False\n",
      "True False\n",
      "True False\n",
      "False False\n",
      "True False\n",
      "True False\n",
      "False False\n",
      "False False\n",
      "False False\n",
      "True False\n",
      "False False\n",
      "False False\n",
      "True True\n",
      "True False\n",
      "True False\n",
      "False False\n",
      "True False\n",
      "True False\n",
      "False False\n",
      "False False\n",
      "False False\n",
      "True False\n",
      "False False\n",
      "True False\n",
      "True False\n",
      "True False\n",
      "True False\n",
      "False True\n",
      "True False\n",
      "False False\n",
      "True False\n",
      "False False\n",
      "False False\n",
      "True False\n",
      "False False\n",
      "True False\n",
      "False True\n",
      "True False\n",
      "True False\n",
      "False False\n",
      "True True\n",
      "False False\n",
      "True False\n",
      "False False\n",
      "False True\n",
      "True False\n",
      "False False\n",
      "True False\n",
      "False False\n",
      "True False\n",
      "True False\n",
      "False False\n",
      "True False\n",
      "False False\n",
      "True False\n",
      "False False\n",
      "False False\n",
      "True False\n",
      "False False\n",
      "True False\n",
      "False False\n",
      "True False\n",
      "True False\n",
      "False False\n",
      "True False\n",
      "False False\n",
      "True False\n",
      "False True\n",
      "False False\n",
      "True False\n",
      "False False\n",
      "True False\n",
      "False False\n",
      "True False\n",
      "True False\n",
      "False False\n",
      "True False\n",
      "False True\n",
      "True False\n",
      "False False\n",
      "False False\n",
      "True False\n",
      "False False\n",
      "True False\n",
      "False False\n",
      "True False\n",
      "True False\n",
      "False True\n",
      "True False\n",
      "False False\n",
      "True True\n",
      "False False\n",
      "False False\n",
      "True False\n",
      "False False\n",
      "True False\n",
      "False False\n",
      "True False\n",
      "True False\n",
      "True False\n",
      "4\n",
      " from tableau 1 to tableau 5, card 0\n",
      " from tableau 1 to tableau 3, card 4\n",
      " from tableau 4 to tableau 0, card 1\n",
      " from tableau 5 to tableau 2, card 1\n"
     ]
    }
   ],
   "source": [
    "w,t = temp_en.step(5,debug=True,fp_flag=True)"
   ]
  },
  {
   "cell_type": "code",
   "execution_count": 65,
   "metadata": {},
   "outputs": [
    {
     "data": {
      "text/plain": [
       "(False, False)"
      ]
     },
     "execution_count": 65,
     "metadata": {},
     "output_type": "execute_result"
    }
   ],
   "source": [
    "w,t"
   ]
  },
  {
   "cell_type": "code",
   "execution_count": 35,
   "metadata": {},
   "outputs": [],
   "source": [
    "#foundation progression is not correct"
   ]
  },
  {
   "cell_type": "code",
   "execution_count": 36,
   "metadata": {},
   "outputs": [],
   "source": [
    "#\n",
    "#l = [1,2,3]"
   ]
  },
  {
   "cell_type": "code",
   "execution_count": 37,
   "metadata": {},
   "outputs": [],
   "source": [
    "#l[:0]"
   ]
  },
  {
   "cell_type": "markdown",
   "metadata": {},
   "source": [
    "## Action Types"
   ]
  },
  {
   "cell_type": "markdown",
   "metadata": {},
   "source": [
    "## 1. Tableau to Foundation Reveal   \n",
    "from_tableau_number   \n",
    "to_foundation_number   \n",
    "moved card"
   ]
  },
  {
   "cell_type": "markdown",
   "metadata": {},
   "source": [
    "## 2. To Foundation Stack\n",
    "Type pile:   \n",
    "from_pile_position    \n",
    "to_foundation_number     \n",
    "moved card     \n",
    "     \n",
    "Type tableau:   \n",
    "from_tableau_number    \n",
    "to_foundation_number     \n",
    "moved_card    "
   ]
  },
  {
   "cell_type": "markdown",
   "metadata": {},
   "source": [
    "## 3. Tableau To Tableau Reveal\n",
    "from_tableau_number    \n",
    "to_tableau_number     \n",
    "from_tableau_position     \n",
    "card_stack_moved     "
   ]
  },
  {
   "cell_type": "markdown",
   "metadata": {},
   "source": [
    "## 4. Pile to Tableau     \n",
    "\n",
    "from_pile_position    \n",
    "to_tableau_number    \n",
    "moved_card     "
   ]
  },
  {
   "cell_type": "markdown",
   "metadata": {},
   "source": [
    "## 5. Foundation to Tableau\n",
    "from_foundation_number    \n",
    "to_tableau_number     \n",
    "moved_card      "
   ]
  },
  {
   "cell_type": "markdown",
   "metadata": {},
   "source": [
    "## 6. Tableau to Tableau Reveal\n",
    "from_tableau_number   \n",
    "to_tableau_number    \n",
    "from_tableau_position    \n",
    "card_stack_moved     "
   ]
  },
  {
   "cell_type": "code",
   "execution_count": null,
   "metadata": {},
   "outputs": [],
   "source": []
  }
 ],
 "metadata": {
  "kernelspec": {
   "display_name": "Python 3",
   "language": "python",
   "name": "python3"
  }
 },
 "nbformat": 4,
 "nbformat_minor": 4
}
