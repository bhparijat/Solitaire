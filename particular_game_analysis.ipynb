{
 "cells": [
  {
   "cell_type": "code",
   "execution_count": 26,
   "metadata": {},
   "outputs": [],
   "source": [
    "import numpy as np\n",
    "import pandas as pd\n",
    "import matplotlib.pyplot as plt\n",
    "import random\n",
    "import time\n",
    "import unittest\n",
    "import tqdm.notebook as tq\n",
    "import solitaire_env_hard as solitaire_env_hard\n",
    "import sys\n",
    "import seaborn as sns\n",
    "import pickle as pkl\n",
    "import gp\n",
    "import tqdm.notebook as tq\n",
    "sys.setrecursionlimit(10**6)"
   ]
  },
  {
   "cell_type": "code",
   "execution_count": 27,
   "metadata": {},
   "outputs": [],
   "source": [
    "with open(\"games/run_hardgame_2020-05-25 21:06:04.113807.pkl\",\"rb\") as file:\n",
    "    run_data = pkl.load(file)"
   ]
  },
  {
   "cell_type": "code",
   "execution_count": 28,
   "metadata": {},
   "outputs": [],
   "source": [
    "actions_matrix = run_data['actions_matrix']"
   ]
  },
  {
   "cell_type": "code",
   "execution_count": 29,
   "metadata": {},
   "outputs": [],
   "source": [
    "iterations_used_per_game = run_data['iterations_used_per_game']\n",
    "it = pd.DataFrame(data = {\"iterations\":iterations_used_per_game})['iterations'].value_counts()"
   ]
  },
  {
   "cell_type": "markdown",
   "metadata": {},
   "source": [
    "## Maximum number of steps completed for any game"
   ]
  },
  {
   "cell_type": "code",
   "execution_count": 30,
   "metadata": {},
   "outputs": [
    {
     "data": {
      "text/plain": [
       "492"
      ]
     },
     "execution_count": 30,
     "metadata": {},
     "output_type": "execute_result"
    }
   ],
   "source": [
    "max_action_take = max(it.index)\n",
    "max_action_take "
   ]
  },
  {
   "cell_type": "markdown",
   "metadata": {},
   "source": [
    "## Game that resulted into victory with smallest number of steps"
   ]
  },
  {
   "cell_type": "code",
   "execution_count": 31,
   "metadata": {},
   "outputs": [
    {
     "data": {
      "text/plain": [
       "(959, 61)"
      ]
     },
     "execution_count": 31,
     "metadata": {},
     "output_type": "execute_result"
    }
   ],
   "source": [
    "smallest_steps = 20000\n",
    "smallest_action_seq = None\n",
    "smallest_gno = None\n",
    "for game,actions,end_state,start_state,game_states,reason in actions_matrix:\n",
    "    if reason =='won' and len(actions)<smallest_steps:\n",
    "        smallest_gno = game\n",
    "        smallest_steps = len(actions)\n",
    "        smallest_action_seq = actions\n",
    "smallest_gno,smallest_steps"
   ]
  },
  {
   "cell_type": "markdown",
   "metadata": {},
   "source": [
    "### Smallest Action Sequence for a Win"
   ]
  },
  {
   "cell_type": "code",
   "execution_count": 32,
   "metadata": {},
   "outputs": [
    {
     "data": {
      "text/plain": [
       "'0011101011220111323320010011120010001101111111110111131111111'"
      ]
     },
     "execution_count": 32,
     "metadata": {},
     "output_type": "execute_result"
    }
   ],
   "source": [
    "\"\".join([str(x) for x in smallest_action_seq])"
   ]
  },
  {
   "cell_type": "markdown",
   "metadata": {},
   "source": [
    "## Game that resulted into victory with maximum number of steps"
   ]
  },
  {
   "cell_type": "code",
   "execution_count": 33,
   "metadata": {},
   "outputs": [
    {
     "data": {
      "text/plain": [
       "(60, 442)"
      ]
     },
     "execution_count": 33,
     "metadata": {},
     "output_type": "execute_result"
    }
   ],
   "source": [
    "largest_steps = 0\n",
    "largest_action_seq = None\n",
    "largest_gno = None\n",
    "for game,actions,end_state,start_state,game_states,reason in actions_matrix:\n",
    "    if reason =='won' and len(actions)>largest_steps:\n",
    "        largest_gno = game\n",
    "        largest_steps = len(actions)\n",
    "        largest_action_seq = actions\n",
    "\n",
    "largest_gno,largest_steps"
   ]
  },
  {
   "cell_type": "markdown",
   "metadata": {},
   "source": [
    "### Longest Action Sequence for a Win"
   ]
  },
  {
   "cell_type": "code",
   "execution_count": 34,
   "metadata": {},
   "outputs": [
    {
     "data": {
      "text/plain": [
       "'1111123223103313320445112244511244511323324451140233334441144511144415011424414144415111444114414451114415144144141514451545151114044411414441411144411511244141444114415451524515111444451111444511114444144511114414451114414414451111441514414414411511444115144144144141151144144411451113441444141114451144451114511441514441144411514441411451445111451444151144451545151144451114441151144144415111322111111111111231111111111111111111111111111111'"
      ]
     },
     "execution_count": 34,
     "metadata": {},
     "output_type": "execute_result"
    }
   ],
   "source": [
    "\"\".join([str(x) for x in largest_action_seq])"
   ]
  },
  {
   "cell_type": "markdown",
   "metadata": {},
   "source": [
    "## Replay games that were won"
   ]
  },
  {
   "cell_type": "code",
   "execution_count": 35,
   "metadata": {},
   "outputs": [
    {
     "name": "stdout",
     "output_type": "stream",
     "text": [
      "272\n"
     ]
    }
   ],
   "source": [
    "games_won_start_state = []\n",
    "for game,actions,end_state,start_state,game_states,reason in actions_matrix:\n",
    "    if reason =='won':\n",
    "        games_won_start_state.append(start_state)\n",
    "number_of_wins =  len(games_won_start_state)      \n",
    "print(number_of_wins)"
   ]
  },
  {
   "cell_type": "code",
   "execution_count": 36,
   "metadata": {},
   "outputs": [
    {
     "data": {
      "application/vnd.jupyter.widget-view+json": {
       "model_id": "65a21fb16a15494d96673b2328849dbf",
       "version_major": 2,
       "version_minor": 0
      },
      "text/plain": [
       "HBox(children=(FloatProgress(value=0.0, max=272.0), HTML(value='')))"
      ]
     },
     "metadata": {},
     "output_type": "display_data"
    },
    {
     "name": "stdout",
     "output_type": "stream",
     "text": [
      "\n",
      "135\n"
     ]
    }
   ],
   "source": [
    "win_actions_matrix = [[] for _ in range(number_of_wins)]\n",
    "\n",
    "count = 0\n",
    "\n",
    "for i in tq.tqdm(range(number_of_wins)):\n",
    "    \n",
    "    game_start_state = games_won_start_state[i]\n",
    "    env = solitaire_env_hard.env()\n",
    "    \n",
    "    env.state = game_start_state\n",
    "    action_freq = {0:0,1:0,2:0,3:0,4:0,5:0}\n",
    "    \n",
    "    _,won = gp.greedy_policy(en=env,game=i,action_freq=action_freq,actions_matrix=win_actions_matrix,fp_flag=True)\n",
    "    \n",
    "    if won == True:\n",
    "        count+=1\n",
    "        \n",
    "print(count)\n",
    "        "
   ]
  },
  {
   "cell_type": "markdown",
   "metadata": {},
   "source": [
    "### Percentage of Re-wins"
   ]
  },
  {
   "cell_type": "code",
   "execution_count": 24,
   "metadata": {},
   "outputs": [
    {
     "data": {
      "text/plain": [
       "0.4963235294117647"
      ]
     },
     "execution_count": 24,
     "metadata": {},
     "output_type": "execute_result"
    }
   ],
   "source": [
    "count*100/number_of_wins"
   ]
  },
  {
   "cell_type": "markdown",
   "metadata": {},
   "source": [
    "## Replay games that were Lost"
   ]
  },
  {
   "cell_type": "code",
   "execution_count": 38,
   "metadata": {},
   "outputs": [
    {
     "name": "stdout",
     "output_type": "stream",
     "text": [
      "728\n",
      "{'No action could be taken': 728}\n"
     ]
    }
   ],
   "source": [
    "games_lost_start_state = []\n",
    "reasons = {}\n",
    "for game,actions,end_state,start_state,game_states,reason in actions_matrix:\n",
    "    if reason !='won':\n",
    "        if reason not in reasons:\n",
    "            reasons[reason] = 0\n",
    "            \n",
    "        reasons[reason]+=1\n",
    "        games_lost_start_state.append(start_state)\n",
    "number_of_losses =  len(games_lost_start_state)      \n",
    "print(number_of_losses)\n",
    "print(reasons)"
   ]
  },
  {
   "cell_type": "code",
   "execution_count": 40,
   "metadata": {},
   "outputs": [
    {
     "data": {
      "application/vnd.jupyter.widget-view+json": {
       "model_id": "19de50ddd4b64430bed280cb5e748d89",
       "version_major": 2,
       "version_minor": 0
      },
      "text/plain": [
       "HBox(children=(FloatProgress(value=0.0, max=728.0), HTML(value='')))"
      ]
     },
     "metadata": {},
     "output_type": "display_data"
    },
    {
     "name": "stdout",
     "output_type": "stream",
     "text": [
      "\n",
      "130\n"
     ]
    }
   ],
   "source": [
    "lost_actions_matrix = [[] for _ in range(number_of_losses)]\n",
    "\n",
    "count = 0\n",
    "\n",
    "for i in tq.tqdm(range(number_of_losses)):\n",
    "    \n",
    "    game_start_state = games_lost_start_state[i]\n",
    "    env = solitaire_env_hard.env()\n",
    "    \n",
    "    env.state = game_start_state\n",
    "    action_freq = {0:0,1:0,2:0,3:0,4:0,5:0}\n",
    "    \n",
    "    _,won = gp.greedy_policy(en=env,game=i,action_freq=action_freq,actions_matrix=lost_actions_matrix,fp_flag=True)\n",
    "    \n",
    "    if won == True:\n",
    "        count+=1\n",
    "        \n",
    "print(count)\n",
    "        "
   ]
  },
  {
   "cell_type": "markdown",
   "metadata": {},
   "source": [
    "### Wins after Retry"
   ]
  },
  {
   "cell_type": "code",
   "execution_count": 41,
   "metadata": {},
   "outputs": [
    {
     "data": {
      "text/plain": [
       "17.857142857142858"
      ]
     },
     "execution_count": 41,
     "metadata": {},
     "output_type": "execute_result"
    }
   ],
   "source": [
    "count*100/number_of_losses"
   ]
  },
  {
   "cell_type": "code",
   "execution_count": null,
   "metadata": {},
   "outputs": [],
   "source": []
  },
  {
   "cell_type": "code",
   "execution_count": null,
   "metadata": {},
   "outputs": [],
   "source": []
  },
  {
   "cell_type": "code",
   "execution_count": null,
   "metadata": {},
   "outputs": [],
   "source": []
  },
  {
   "cell_type": "markdown",
   "metadata": {},
   "source": [
    "### Replay a particular game"
   ]
  },
  {
   "cell_type": "code",
   "execution_count": 44,
   "metadata": {},
   "outputs": [],
   "source": [
    "class replay_game:\n",
    "    \n",
    "    def __init__(self,gno=0):\n",
    "        \n",
    "        self.temp_en = solitaire_env_hard.env()\n",
    "        self.action_number = 0\n",
    "        action_type = {0:'tableau_to_foundation_reveal',\\\n",
    "               1:'to_foundation_stack',2:'tableau_to_tableau_reveal',\\\n",
    "               3:'pile_to_tableau',\\\n",
    "                4:'foundation_to_tableau',\\\n",
    "               5:'tableau_to_tableau_not_reveal'\\\n",
    "              }\n",
    "    \n",
    "        for game_no,action_seq,end_state,start_state,state_seq,how_ends in actions_matrix:\n",
    "            if game_no == gno:\n",
    "                break;\n",
    "        print(\"Reason game ended...   \",how_ends)\n",
    "        print(\"Length of action sequence is.. \",len(action_seq))\n",
    "        action_replay = \"\".join([str(x) for x in action_seq])\n",
    "        \n",
    "        self.action_replay = [int(x) for x in action_replay]\n",
    "        \n",
    "        self.temp_en.state = start_state\n",
    "        self.start_state = start_state\n",
    "        \n",
    "        self.end_state = end_state\n",
    "        \n",
    "        \n",
    "        self.temp_en.state = self.temp_en.copy_state()\n",
    "        \n",
    "        self.state_seq = state_seq\n",
    "        \n",
    "        self.action_seq = [action_type[int(x)] for x in action_replay]\n",
    "        \n",
    "        print(\"starting state.. \\n\")\n",
    "        \n",
    "        print(\"***********************************pile*****************************************\")\n",
    "        self.temp_en.get_pile()\n",
    "        print(\"\\n\\n\\n\\n\\n\\n\\n\\n\")\n",
    "        print(\"*****************************foundation*****************************************\")\n",
    "        \n",
    "        self.temp_en.get_foundation()\n",
    "        print(\"\\n\\n\\n\\n\\n\\n\\n\\n\")\n",
    "        print(\"******************************tableau*******************************************\")\n",
    "        \n",
    "        self.temp_en.get_tableau()\n",
    "        print(\"\\n\\n\\n\\n\\n\\n\\n\\n\")\n",
    "        \n",
    "    def next_state(self):\n",
    "        \n",
    "        print(\"action number..  \", self.action_number)\n",
    "        \n",
    "        print(\"action taken {} : description {} \".format(self.action_replay[self.action_number],self.action_seq[self.action_number]))\n",
    "        self.action_number +=1\n",
    "        self.temp_en = solitaire_env.env()\n",
    "        \n",
    "        self.temp_en.state = self.state_seq[self.action_number]\n",
    "        \n",
    "        self.temp_en.state = self.temp_en.copy_state()\n",
    "        \n",
    "        print(\"starting state.. \\n\")\n",
    "        \n",
    "        print(\"***********************************pile*****************************************\")\n",
    "        self.temp_en.get_pile()\n",
    "        print(\"\\n\\n\\n\\n\\n\\n\\n\\n\")\n",
    "        \n",
    "        \n",
    "        print(\"*****************************foundation*****************************************\")\n",
    "        \n",
    "        self.temp_en.get_foundation()\n",
    "        print(\"\\n\\n\\n\\n\\n\\n\\n\\n\")\n",
    "            \n",
    "            \n",
    "        print(\"******************************tableau*******************************************\")\n",
    "        \n",
    "        self.temp_en.get_tableau()\n",
    "        print(\"\\n\\n\\n\\n\\n\\n\\n\\n\")\n",
    "        \n",
    "        \n",
    "        \n",
    "        \n",
    "    def goto_state(self,n):\n",
    "        self.action_number = n"
   ]
  },
  {
   "cell_type": "code",
   "execution_count": null,
   "metadata": {},
   "outputs": [],
   "source": []
  },
  {
   "cell_type": "code",
   "execution_count": null,
   "metadata": {},
   "outputs": [],
   "source": []
  },
  {
   "cell_type": "code",
   "execution_count": null,
   "metadata": {},
   "outputs": [],
   "source": []
  },
  {
   "cell_type": "code",
   "execution_count": 45,
   "metadata": {
    "scrolled": true
   },
   "outputs": [
    {
     "name": "stdout",
     "output_type": "stream",
     "text": [
      "Reason game ended...    won\n",
      "Length of action sequence is..  61\n",
      "starting state.. \n",
      "\n",
      "***********************************pile*****************************************\n",
      "position    0 suit = club       color = black      number =     9 speciality = None       face = up   \n",
      "position    1 suit = spade      color = black      number =     2 speciality = None       face = up   \n",
      "position    2 suit = spade      color = black      number =    12 speciality = QUEEN      face = up   \n",
      "position    3 suit = spade      color = black      number =    10 speciality = None       face = up   \n",
      "position    4 suit = diamond    color = red        number =     2 speciality = None       face = up   \n",
      "position    5 suit = spade      color = black      number =     3 speciality = None       face = up   \n",
      "position    6 suit = heart      color = red        number =     2 speciality = None       face = up   \n",
      "position    7 suit = club       color = black      number =     4 speciality = None       face = up   \n",
      "position    8 suit = diamond    color = red        number =     6 speciality = None       face = up   \n",
      "position    9 suit = heart      color = red        number =    11 speciality = JACK       face = up   \n",
      "position   10 suit = heart      color = red        number =    10 speciality = None       face = up   \n",
      "position   11 suit = club       color = black      number =     7 speciality = None       face = up   \n",
      "position   12 suit = diamond    color = red        number =     9 speciality = None       face = up   \n",
      "position   13 suit = diamond    color = red        number =    13 speciality = KING       face = up   \n",
      "position   14 suit = diamond    color = red        number =    11 speciality = JACK       face = up   \n",
      "position   15 suit = spade      color = black      number =     6 speciality = None       face = up   \n",
      "position   16 suit = club       color = black      number =    11 speciality = JACK       face = up   \n",
      "position   17 suit = spade      color = black      number =     9 speciality = None       face = up   \n",
      "position   18 suit = spade      color = black      number =     8 speciality = None       face = up   \n",
      "position   19 suit = club       color = black      number =     2 speciality = None       face = up   \n",
      "position   20 suit = club       color = black      number =    13 speciality = KING       face = up   \n",
      "position   21 suit = club       color = black      number =     6 speciality = None       face = up   \n",
      "position   22 suit = diamond    color = red        number =     1 speciality = ACE        face = up   \n",
      "position   23 suit = diamond    color = red        number =     3 speciality = None       face = up   \n",
      "\n",
      "\n",
      "\n",
      "\n",
      "\n",
      "\n",
      "\n",
      "\n",
      "\n",
      "*****************************foundation*****************************************\n",
      "printing foundation number 1 ********************\n",
      "printing foundation number 2 ********************\n",
      "printing foundation number 3 ********************\n",
      "printing foundation number 4 ********************\n",
      "\n",
      "\n",
      "\n",
      "\n",
      "\n",
      "\n",
      "\n",
      "\n",
      "\n",
      "******************************tableau*******************************************\n",
      "printing tableau number 1 ********************\n",
      "position    0 suit = heart      color = red        number =     4 speciality = None       face = up   \n",
      "printing tableau number 2 ********************\n",
      "position    0 suit = heart      color = red        number =    12 speciality = QUEEN      face = down \n",
      "position    1 suit = heart      color = red        number =     5 speciality = None       face = up   \n",
      "printing tableau number 3 ********************\n",
      "position    0 suit = spade      color = black      number =     1 speciality = ACE        face = down \n",
      "position    1 suit = diamond    color = red        number =     5 speciality = None       face = down \n",
      "position    2 suit = club       color = black      number =    10 speciality = None       face = up   \n",
      "printing tableau number 4 ********************\n",
      "position    0 suit = spade      color = black      number =     5 speciality = None       face = down \n",
      "position    1 suit = heart      color = red        number =     7 speciality = None       face = down \n",
      "position    2 suit = diamond    color = red        number =     7 speciality = None       face = down \n",
      "position    3 suit = heart      color = red        number =     1 speciality = ACE        face = up   \n",
      "printing tableau number 5 ********************\n",
      "position    0 suit = spade      color = black      number =    11 speciality = JACK       face = down \n",
      "position    1 suit = diamond    color = red        number =    12 speciality = QUEEN      face = down \n",
      "position    2 suit = club       color = black      number =     8 speciality = None       face = down \n",
      "position    3 suit = heart      color = red        number =     9 speciality = None       face = down \n",
      "position    4 suit = club       color = black      number =    12 speciality = QUEEN      face = up   \n",
      "printing tableau number 6 ********************\n",
      "position    0 suit = spade      color = black      number =    13 speciality = KING       face = down \n",
      "position    1 suit = spade      color = black      number =     7 speciality = None       face = down \n",
      "position    2 suit = heart      color = red        number =     6 speciality = None       face = down \n",
      "position    3 suit = diamond    color = red        number =     8 speciality = None       face = down \n",
      "position    4 suit = diamond    color = red        number =     4 speciality = None       face = down \n",
      "position    5 suit = diamond    color = red        number =    10 speciality = None       face = up   \n",
      "printing tableau number 7 ********************\n",
      "position    0 suit = heart      color = red        number =     8 speciality = None       face = down \n",
      "position    1 suit = spade      color = black      number =     4 speciality = None       face = down \n",
      "position    2 suit = heart      color = red        number =     3 speciality = None       face = down \n",
      "position    3 suit = heart      color = red        number =    13 speciality = KING       face = down \n",
      "position    4 suit = club       color = black      number =     5 speciality = None       face = down \n",
      "position    5 suit = club       color = black      number =     3 speciality = None       face = down \n",
      "position    6 suit = club       color = black      number =     1 speciality = ACE        face = up   \n",
      "\n",
      "\n",
      "\n",
      "\n",
      "\n",
      "\n",
      "\n",
      "\n",
      "\n"
     ]
    }
   ],
   "source": [
    "game_replay = replay_game(gno = smallest_gno)"
   ]
  },
  {
   "cell_type": "code",
   "execution_count": 12,
   "metadata": {
    "scrolled": true
   },
   "outputs": [
    {
     "name": "stdout",
     "output_type": "stream",
     "text": [
      "action number..   73\n",
      "action taken 1 : description to_foundation_stack \n",
      "starting state.. \n",
      "\n",
      "***********************************pile*****************************************\n",
      "position    0 suit = heart      color = red        number =    13 speciality = KING       face = up   \n",
      "position    1 suit = heart      color = red        number =     6 speciality = None       face = up   \n",
      "position    2 suit = heart      color = red        number =     8 speciality = None       face = up   \n",
      "\n",
      "\n",
      "\n",
      "\n",
      "\n",
      "\n",
      "\n",
      "\n",
      "\n",
      "*****************************foundation*****************************************\n",
      "printing foundation number 1 ********************\n",
      "position    0 suit = club       color = black      number =     1 speciality = ACE        face = up   \n",
      "position    1 suit = club       color = black      number =     2 speciality = None       face = up   \n",
      "position    2 suit = club       color = black      number =     3 speciality = None       face = up   \n",
      "position    3 suit = club       color = black      number =     4 speciality = None       face = up   \n",
      "position    4 suit = club       color = black      number =     5 speciality = None       face = up   \n",
      "position    5 suit = club       color = black      number =     6 speciality = None       face = up   \n",
      "position    6 suit = club       color = black      number =     7 speciality = None       face = up   \n",
      "printing foundation number 2 ********************\n",
      "position    0 suit = heart      color = red        number =     1 speciality = ACE        face = up   \n",
      "position    1 suit = heart      color = red        number =     2 speciality = None       face = up   \n",
      "position    2 suit = heart      color = red        number =     3 speciality = None       face = up   \n",
      "position    3 suit = heart      color = red        number =     4 speciality = None       face = up   \n",
      "position    4 suit = heart      color = red        number =     5 speciality = None       face = up   \n",
      "printing foundation number 3 ********************\n",
      "position    0 suit = diamond    color = red        number =     1 speciality = ACE        face = up   \n",
      "position    1 suit = diamond    color = red        number =     2 speciality = None       face = up   \n",
      "position    2 suit = diamond    color = red        number =     3 speciality = None       face = up   \n",
      "position    3 suit = diamond    color = red        number =     4 speciality = None       face = up   \n",
      "position    4 suit = diamond    color = red        number =     5 speciality = None       face = up   \n",
      "position    5 suit = diamond    color = red        number =     6 speciality = None       face = up   \n",
      "position    6 suit = diamond    color = red        number =     7 speciality = None       face = up   \n",
      "printing foundation number 4 ********************\n",
      "position    0 suit = spade      color = black      number =     1 speciality = ACE        face = up   \n",
      "position    1 suit = spade      color = black      number =     2 speciality = None       face = up   \n",
      "position    2 suit = spade      color = black      number =     3 speciality = None       face = up   \n",
      "position    3 suit = spade      color = black      number =     4 speciality = None       face = up   \n",
      "position    4 suit = spade      color = black      number =     5 speciality = None       face = up   \n",
      "position    5 suit = spade      color = black      number =     6 speciality = None       face = up   \n",
      "\n",
      "\n",
      "\n",
      "\n",
      "\n",
      "\n",
      "\n",
      "\n",
      "\n",
      "******************************tableau*******************************************\n",
      "printing tableau number 1 ********************\n",
      "position    0 suit = heart      color = red        number =    12 speciality = QUEEN      face = up   \n",
      "position    1 suit = spade      color = black      number =    11 speciality = JACK       face = up   \n",
      "position    2 suit = heart      color = red        number =    10 speciality = None       face = up   \n",
      "position    3 suit = club       color = black      number =     9 speciality = None       face = up   \n",
      "position    4 suit = diamond    color = red        number =     8 speciality = None       face = up   \n",
      "position    5 suit = spade      color = black      number =     7 speciality = None       face = up   \n",
      "printing tableau number 2 ********************\n",
      "position    0 suit = spade      color = black      number =    13 speciality = KING       face = up   \n",
      "position    1 suit = diamond    color = red        number =    12 speciality = QUEEN      face = up   \n",
      "position    2 suit = club       color = black      number =    11 speciality = JACK       face = up   \n",
      "position    3 suit = diamond    color = red        number =    10 speciality = None       face = up   \n",
      "position    4 suit = spade      color = black      number =     9 speciality = None       face = up   \n",
      "printing tableau number 3 ********************\n",
      "position    0 suit = diamond    color = red        number =    13 speciality = KING       face = up   \n",
      "position    1 suit = spade      color = black      number =    12 speciality = QUEEN      face = up   \n",
      "position    2 suit = heart      color = red        number =    11 speciality = JACK       face = up   \n",
      "position    3 suit = spade      color = black      number =    10 speciality = None       face = up   \n",
      "position    4 suit = diamond    color = red        number =     9 speciality = None       face = up   \n",
      "position    5 suit = spade      color = black      number =     8 speciality = None       face = up   \n",
      "position    6 suit = heart      color = red        number =     7 speciality = None       face = up   \n",
      "printing tableau number 4 ********************\n",
      "position    0 suit = club       color = black      number =    12 speciality = QUEEN      face = up   \n",
      "printing tableau number 5 ********************\n",
      "position    0 suit = club       color = black      number =    13 speciality = KING       face = up   \n",
      "printing tableau number 6 ********************\n",
      "position    0 suit = diamond    color = red        number =    11 speciality = JACK       face = up   \n",
      "position    1 suit = club       color = black      number =    10 speciality = None       face = up   \n",
      "printing tableau number 7 ********************\n",
      "position    0 suit = heart      color = red        number =     9 speciality = None       face = up   \n",
      "position    1 suit = club       color = black      number =     8 speciality = None       face = up   \n",
      "\n",
      "\n",
      "\n",
      "\n",
      "\n",
      "\n",
      "\n",
      "\n",
      "\n"
     ]
    }
   ],
   "source": [
    "game_replay.goto_state(73)\n",
    "game_replay.next_state()\n",
    "#foundation progression"
   ]
  },
  {
   "cell_type": "code",
   "execution_count": 11,
   "metadata": {
    "scrolled": true
   },
   "outputs": [
    {
     "name": "stdout",
     "output_type": "stream",
     "text": [
      "action number..   74\n"
     ]
    },
    {
     "ename": "IndexError",
     "evalue": "list index out of range",
     "output_type": "error",
     "traceback": [
      "\u001b[0;31m---------------------------------------------------------------------------\u001b[0m",
      "\u001b[0;31mIndexError\u001b[0m                                Traceback (most recent call last)",
      "\u001b[0;32m<ipython-input-11-b9ea2d1c0f56>\u001b[0m in \u001b[0;36m<module>\u001b[0;34m\u001b[0m\n\u001b[0;32m----> 1\u001b[0;31m \u001b[0mgame_replay\u001b[0m\u001b[0;34m.\u001b[0m\u001b[0mnext_state\u001b[0m\u001b[0;34m(\u001b[0m\u001b[0;34m)\u001b[0m\u001b[0;34m\u001b[0m\u001b[0;34m\u001b[0m\u001b[0m\n\u001b[0m",
      "\u001b[0;32m<ipython-input-8-48b7b102bc2e>\u001b[0m in \u001b[0;36mnext_state\u001b[0;34m(self)\u001b[0m\n\u001b[1;32m     51\u001b[0m         \u001b[0mprint\u001b[0m\u001b[0;34m(\u001b[0m\u001b[0;34m\"action number..  \"\u001b[0m\u001b[0;34m,\u001b[0m \u001b[0mself\u001b[0m\u001b[0;34m.\u001b[0m\u001b[0maction_number\u001b[0m\u001b[0;34m)\u001b[0m\u001b[0;34m\u001b[0m\u001b[0;34m\u001b[0m\u001b[0m\n\u001b[1;32m     52\u001b[0m \u001b[0;34m\u001b[0m\u001b[0m\n\u001b[0;32m---> 53\u001b[0;31m         \u001b[0mprint\u001b[0m\u001b[0;34m(\u001b[0m\u001b[0;34m\"action taken {} : description {} \"\u001b[0m\u001b[0;34m.\u001b[0m\u001b[0mformat\u001b[0m\u001b[0;34m(\u001b[0m\u001b[0mself\u001b[0m\u001b[0;34m.\u001b[0m\u001b[0maction_replay\u001b[0m\u001b[0;34m[\u001b[0m\u001b[0mself\u001b[0m\u001b[0;34m.\u001b[0m\u001b[0maction_number\u001b[0m\u001b[0;34m]\u001b[0m\u001b[0;34m,\u001b[0m\u001b[0mself\u001b[0m\u001b[0;34m.\u001b[0m\u001b[0maction_seq\u001b[0m\u001b[0;34m[\u001b[0m\u001b[0mself\u001b[0m\u001b[0;34m.\u001b[0m\u001b[0maction_number\u001b[0m\u001b[0;34m]\u001b[0m\u001b[0;34m)\u001b[0m\u001b[0;34m)\u001b[0m\u001b[0;34m\u001b[0m\u001b[0;34m\u001b[0m\u001b[0m\n\u001b[0m\u001b[1;32m     54\u001b[0m         \u001b[0mself\u001b[0m\u001b[0;34m.\u001b[0m\u001b[0maction_number\u001b[0m \u001b[0;34m+=\u001b[0m\u001b[0;36m1\u001b[0m\u001b[0;34m\u001b[0m\u001b[0;34m\u001b[0m\u001b[0m\n\u001b[1;32m     55\u001b[0m         \u001b[0mself\u001b[0m\u001b[0;34m.\u001b[0m\u001b[0mtemp_en\u001b[0m \u001b[0;34m=\u001b[0m \u001b[0msolitaire_env\u001b[0m\u001b[0;34m.\u001b[0m\u001b[0menv\u001b[0m\u001b[0;34m(\u001b[0m\u001b[0;34m)\u001b[0m\u001b[0;34m\u001b[0m\u001b[0;34m\u001b[0m\u001b[0m\n",
      "\u001b[0;31mIndexError\u001b[0m: list index out of range"
     ]
    }
   ],
   "source": [
    "game_replay.next_state()"
   ]
  },
  {
   "cell_type": "code",
   "execution_count": 73,
   "metadata": {},
   "outputs": [],
   "source": [
    "# Tableau to foundation reveal #gamestate"
   ]
  },
  {
   "cell_type": "code",
   "execution_count": null,
   "metadata": {},
   "outputs": [],
   "source": []
  },
  {
   "cell_type": "code",
   "execution_count": null,
   "metadata": {},
   "outputs": [],
   "source": []
  },
  {
   "cell_type": "code",
   "execution_count": null,
   "metadata": {},
   "outputs": [],
   "source": []
  },
  {
   "cell_type": "code",
   "execution_count": null,
   "metadata": {},
   "outputs": [],
   "source": []
  },
  {
   "cell_type": "code",
   "execution_count": null,
   "metadata": {},
   "outputs": [],
   "source": []
  },
  {
   "cell_type": "code",
   "execution_count": 13,
   "metadata": {},
   "outputs": [],
   "source": [
    "temp_en = solitaire_env.env()\n",
    "\n",
    "temp_en.state = game_replay.temp_en.state"
   ]
  },
  {
   "cell_type": "code",
   "execution_count": 45,
   "metadata": {},
   "outputs": [],
   "source": [
    "temp_en.get_pile()"
   ]
  },
  {
   "cell_type": "code",
   "execution_count": 46,
   "metadata": {},
   "outputs": [
    {
     "name": "stdout",
     "output_type": "stream",
     "text": [
      "printing foundation number 1 ********************\n",
      "position    0 suit = club       color = black      number =     1 speciality = ACE        face = up   \n",
      "position    1 suit = club       color = black      number =     2 speciality = None       face = up   \n",
      "position    2 suit = club       color = black      number =     3 speciality = None       face = up   \n",
      "position    3 suit = club       color = black      number =     4 speciality = None       face = up   \n",
      "position    4 suit = club       color = black      number =     5 speciality = None       face = up   \n",
      "position    5 suit = club       color = black      number =     6 speciality = None       face = up   \n",
      "position    6 suit = club       color = black      number =     7 speciality = None       face = up   \n",
      "printing foundation number 2 ********************\n",
      "position    0 suit = heart      color = red        number =     1 speciality = ACE        face = up   \n",
      "position    1 suit = heart      color = red        number =     2 speciality = None       face = up   \n",
      "position    2 suit = heart      color = red        number =     3 speciality = None       face = up   \n",
      "position    3 suit = heart      color = red        number =     4 speciality = None       face = up   \n",
      "position    4 suit = heart      color = red        number =     5 speciality = None       face = up   \n",
      "printing foundation number 3 ********************\n",
      "position    0 suit = diamond    color = red        number =     1 speciality = ACE        face = up   \n",
      "position    1 suit = diamond    color = red        number =     2 speciality = None       face = up   \n",
      "position    2 suit = diamond    color = red        number =     3 speciality = None       face = up   \n",
      "position    3 suit = diamond    color = red        number =     4 speciality = None       face = up   \n",
      "position    4 suit = diamond    color = red        number =     5 speciality = None       face = up   \n",
      "position    5 suit = diamond    color = red        number =     6 speciality = None       face = up   \n",
      "position    6 suit = diamond    color = red        number =     7 speciality = None       face = up   \n",
      "printing foundation number 4 ********************\n",
      "position    0 suit = spade      color = black      number =     1 speciality = ACE        face = up   \n",
      "position    1 suit = spade      color = black      number =     2 speciality = None       face = up   \n",
      "position    2 suit = spade      color = black      number =     3 speciality = None       face = up   \n",
      "position    3 suit = spade      color = black      number =     4 speciality = None       face = up   \n",
      "position    4 suit = spade      color = black      number =     5 speciality = None       face = up   \n",
      "position    5 suit = spade      color = black      number =     6 speciality = None       face = up   \n",
      "********************************************************************************************************\n",
      "printing tableau number 1 ********************\n",
      "printing tableau number 2 ********************\n",
      "position    0 suit = spade      color = black      number =    13 speciality = KING       face = up   \n",
      "position    1 suit = diamond    color = red        number =    12 speciality = QUEEN      face = up   \n",
      "position    2 suit = club       color = black      number =    11 speciality = JACK       face = up   \n",
      "position    3 suit = diamond    color = red        number =    10 speciality = None       face = up   \n",
      "position    4 suit = spade      color = black      number =     9 speciality = None       face = up   \n",
      "position    5 suit = heart      color = red        number =     8 speciality = None       face = up   \n",
      "printing tableau number 3 ********************\n",
      "position    0 suit = diamond    color = red        number =    13 speciality = KING       face = up   \n",
      "position    1 suit = spade      color = black      number =    12 speciality = QUEEN      face = up   \n",
      "position    2 suit = diamond    color = red        number =    11 speciality = JACK       face = up   \n",
      "position    3 suit = club       color = black      number =    10 speciality = None       face = up   \n",
      "position    4 suit = diamond    color = red        number =     9 speciality = None       face = up   \n",
      "position    5 suit = spade      color = black      number =     8 speciality = None       face = up   \n",
      "position    6 suit = heart      color = red        number =     7 speciality = None       face = up   \n",
      "printing tableau number 4 ********************\n",
      "printing tableau number 5 ********************\n",
      "position    0 suit = club       color = black      number =    13 speciality = KING       face = up   \n",
      "position    1 suit = heart      color = red        number =    12 speciality = QUEEN      face = up   \n",
      "position    2 suit = spade      color = black      number =    11 speciality = JACK       face = up   \n",
      "position    3 suit = heart      color = red        number =    10 speciality = None       face = up   \n",
      "position    4 suit = club       color = black      number =     9 speciality = None       face = up   \n",
      "position    5 suit = diamond    color = red        number =     8 speciality = None       face = up   \n",
      "position    6 suit = spade      color = black      number =     7 speciality = None       face = up   \n",
      "position    7 suit = heart      color = red        number =     6 speciality = None       face = up   \n",
      "printing tableau number 6 ********************\n",
      "printing tableau number 7 ********************\n",
      "position    0 suit = heart      color = red        number =    13 speciality = KING       face = up   \n",
      "position    1 suit = club       color = black      number =    12 speciality = QUEEN      face = up   \n",
      "position    2 suit = heart      color = red        number =    11 speciality = JACK       face = up   \n",
      "position    3 suit = spade      color = black      number =    10 speciality = None       face = up   \n",
      "position    4 suit = heart      color = red        number =     9 speciality = None       face = up   \n",
      "position    5 suit = club       color = black      number =     8 speciality = None       face = up   \n"
     ]
    }
   ],
   "source": [
    "temp_en.get_foundation()\n",
    "print(\"********************************************************************************************************\")\n",
    "temp_en.get_tableau()"
   ]
  },
  {
   "cell_type": "code",
   "execution_count": 43,
   "metadata": {},
   "outputs": [
    {
     "name": "stdout",
     "output_type": "stream",
     "text": [
      "Debug is True\n"
     ]
    }
   ],
   "source": [
    "w,t = temp_en.step(3,debug=True,fp_flag=True)"
   ]
  },
  {
   "cell_type": "code",
   "execution_count": 44,
   "metadata": {},
   "outputs": [
    {
     "data": {
      "text/plain": [
       "(False, True)"
      ]
     },
     "execution_count": 44,
     "metadata": {},
     "output_type": "execute_result"
    }
   ],
   "source": [
    "w,t"
   ]
  },
  {
   "cell_type": "code",
   "execution_count": 15,
   "metadata": {},
   "outputs": [],
   "source": [
    "#foundation progression is not correct"
   ]
  },
  {
   "cell_type": "code",
   "execution_count": 15,
   "metadata": {},
   "outputs": [],
   "source": [
    "#\n",
    "l = [1,2,3]"
   ]
  },
  {
   "cell_type": "code",
   "execution_count": 16,
   "metadata": {},
   "outputs": [
    {
     "data": {
      "text/plain": [
       "[]"
      ]
     },
     "execution_count": 16,
     "metadata": {},
     "output_type": "execute_result"
    }
   ],
   "source": [
    "l[:0]"
   ]
  },
  {
   "cell_type": "code",
   "execution_count": null,
   "metadata": {},
   "outputs": [],
   "source": []
  }
 ],
 "metadata": {
  "kernelspec": {
   "display_name": "Python 3",
   "language": "python",
   "name": "python3"
  }
 },
 "nbformat": 4,
 "nbformat_minor": 4
}
