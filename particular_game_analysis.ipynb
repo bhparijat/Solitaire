{
 "cells": [
  {
   "cell_type": "code",
   "execution_count": 1,
   "metadata": {},
   "outputs": [],
   "source": [
    "import numpy as np\n",
    "import pandas as pd\n",
    "import matplotlib.pyplot as plt\n",
    "import random\n",
    "import time\n",
    "import unittest\n",
    "import tqdm.notebook as tq\n",
    "import solitaire_env_hard as solitaire_env_hard\n",
    "import sys\n",
    "import seaborn as sns\n",
    "import pickle as pkl\n",
    "import gp\n",
    "import tqdm.notebook as tq\n",
    "sys.setrecursionlimit(10**6)"
   ]
  },
  {
   "cell_type": "code",
   "execution_count": 2,
   "metadata": {},
   "outputs": [],
   "source": [
    "with open(\"games/run_hardgame_2020-05-25 21:06:04.113807.pkl\",\"rb\") as file:\n",
    "    run_data = pkl.load(file)"
   ]
  },
  {
   "cell_type": "code",
   "execution_count": 3,
   "metadata": {},
   "outputs": [],
   "source": [
    "actions_matrix = run_data['actions_matrix']"
   ]
  },
  {
   "cell_type": "code",
   "execution_count": 4,
   "metadata": {},
   "outputs": [],
   "source": [
    "iterations_used_per_game = run_data['iterations_used_per_game']\n",
    "it = pd.DataFrame(data = {\"iterations\":iterations_used_per_game})['iterations'].value_counts()"
   ]
  },
  {
   "cell_type": "markdown",
   "metadata": {},
   "source": [
    "## Maximum number of steps completed for any game"
   ]
  },
  {
   "cell_type": "code",
   "execution_count": 5,
   "metadata": {},
   "outputs": [
    {
     "data": {
      "text/plain": [
       "492"
      ]
     },
     "execution_count": 5,
     "metadata": {},
     "output_type": "execute_result"
    }
   ],
   "source": [
    "max_action_take = max(it.index)\n",
    "max_action_take "
   ]
  },
  {
   "cell_type": "markdown",
   "metadata": {},
   "source": [
    "## Game that resulted into victory with smallest number of steps"
   ]
  },
  {
   "cell_type": "code",
   "execution_count": 6,
   "metadata": {},
   "outputs": [
    {
     "data": {
      "text/plain": [
       "(959, 61)"
      ]
     },
     "execution_count": 6,
     "metadata": {},
     "output_type": "execute_result"
    }
   ],
   "source": [
    "smallest_steps = 20000\n",
    "smallest_action_seq = None\n",
    "smallest_gno = None\n",
    "for game,actions,end_state,start_state,game_states,reason in actions_matrix:\n",
    "    if reason =='won' and len(actions)<smallest_steps:\n",
    "        smallest_gno = game\n",
    "        smallest_steps = len(actions)\n",
    "        smallest_action_seq = actions\n",
    "smallest_gno,smallest_steps"
   ]
  },
  {
   "cell_type": "markdown",
   "metadata": {},
   "source": [
    "### Smallest Action Sequence for a Win"
   ]
  },
  {
   "cell_type": "code",
   "execution_count": 7,
   "metadata": {},
   "outputs": [
    {
     "data": {
      "text/plain": [
       "'0011101011220111323320010011120010001101111111110111131111111'"
      ]
     },
     "execution_count": 7,
     "metadata": {},
     "output_type": "execute_result"
    }
   ],
   "source": [
    "\"\".join([str(x) for x in smallest_action_seq])"
   ]
  },
  {
   "cell_type": "code",
   "execution_count": 8,
   "metadata": {},
   "outputs": [
    {
     "data": {
      "text/plain": [
       "{0: 16, 1: 36, 2: 5, 3: 4, 4: 0, 5: 0}"
      ]
     },
     "execution_count": 8,
     "metadata": {},
     "output_type": "execute_result"
    }
   ],
   "source": [
    "action_freq = {0:0,1:0,2:0,3:0,4:0,5:0}\n",
    "for x in smallest_action_seq:\n",
    "    action_freq[x]+=1\n",
    "    \n",
    "action_freq"
   ]
  },
  {
   "cell_type": "markdown",
   "metadata": {},
   "source": [
    "## Game that resulted into victory with maximum number of steps"
   ]
  },
  {
   "cell_type": "code",
   "execution_count": 9,
   "metadata": {},
   "outputs": [
    {
     "data": {
      "text/plain": [
       "(60, 442)"
      ]
     },
     "execution_count": 9,
     "metadata": {},
     "output_type": "execute_result"
    }
   ],
   "source": [
    "longest_steps = 0\n",
    "longest_action_seq = None\n",
    "longest_gno = None\n",
    "longest_start_state = None\n",
    "for game,actions,end_state,start_state,game_states,reason in actions_matrix:\n",
    "    if reason =='won' and len(actions)>longest_steps:\n",
    "        longest_gno = game\n",
    "        longest_steps = len(actions)\n",
    "        longest_action_seq = actions\n",
    "        longest_start_state = start_state\n",
    "longest_gno,longest_steps"
   ]
  },
  {
   "cell_type": "markdown",
   "metadata": {},
   "source": [
    "### Longest Action Sequence for a Win"
   ]
  },
  {
   "cell_type": "code",
   "execution_count": 10,
   "metadata": {},
   "outputs": [
    {
     "data": {
      "text/plain": [
       "'1111123223103313320445112244511244511323324451140233334441144511144415011424414144415111444114414451114415144144141514451545151114044411414441411144411511244141444114415451524515111444451111444511114444144511114414451114414414451111441514414414411511444115144144144141151144144411451113441444141114451144451114511441514441144411514441411451445111451444151144451545151144451114441151144144415111322111111111111231111111111111111111111111111111'"
      ]
     },
     "execution_count": 10,
     "metadata": {},
     "output_type": "execute_result"
    }
   ],
   "source": [
    "\"\".join([str(x) for x in longest_action_seq])"
   ]
  },
  {
   "cell_type": "code",
   "execution_count": 11,
   "metadata": {},
   "outputs": [
    {
     "data": {
      "text/plain": [
       "{0: 5, 1: 203, 2: 16, 3: 16, 4: 156, 5: 46}"
      ]
     },
     "execution_count": 11,
     "metadata": {},
     "output_type": "execute_result"
    }
   ],
   "source": [
    "action_freq = {0:0,1:0,2:0,3:0,4:0,5:0}\n",
    "for x in longest_action_seq:\n",
    "    action_freq[x]+=1\n",
    "    \n",
    "action_freq"
   ]
  },
  {
   "cell_type": "markdown",
   "metadata": {},
   "source": [
    "## Replay games that were won"
   ]
  },
  {
   "cell_type": "code",
   "execution_count": 12,
   "metadata": {},
   "outputs": [
    {
     "name": "stdout",
     "output_type": "stream",
     "text": [
      "272\n"
     ]
    }
   ],
   "source": [
    "games_won_start_state = []\n",
    "for game,actions,end_state,start_state,game_states,reason in actions_matrix:\n",
    "    if reason =='won':\n",
    "        games_won_start_state.append(start_state)\n",
    "number_of_wins =  len(games_won_start_state)      \n",
    "print(number_of_wins)"
   ]
  },
  {
   "cell_type": "code",
   "execution_count": 13,
   "metadata": {},
   "outputs": [
    {
     "data": {
      "application/vnd.jupyter.widget-view+json": {
       "model_id": "829a9edb12844e4c85b5ba37f48717cf",
       "version_major": 2,
       "version_minor": 0
      },
      "text/plain": [
       "HBox(children=(FloatProgress(value=0.0, max=272.0), HTML(value='')))"
      ]
     },
     "metadata": {},
     "output_type": "display_data"
    },
    {
     "name": "stdout",
     "output_type": "stream",
     "text": [
      "\n",
      "158\n"
     ]
    }
   ],
   "source": [
    "win_actions_matrix = [[] for _ in range(number_of_wins)]\n",
    "\n",
    "count = 0\n",
    "\n",
    "for i in tq.tqdm(range(number_of_wins)):\n",
    "    \n",
    "    game_start_state = games_won_start_state[i]\n",
    "    env = solitaire_env_hard.env()\n",
    "    \n",
    "    env.state = game_start_state\n",
    "    action_freq = {0:0,1:0,2:0,3:0,4:0,5:0}\n",
    "    \n",
    "    _,won = gp.greedy_policy(en=env,game=i,action_freq=action_freq,actions_matrix=win_actions_matrix,fp_flag=True)\n",
    "    \n",
    "    if won == True:\n",
    "        count+=1\n",
    "        \n",
    "print(count)\n",
    "        "
   ]
  },
  {
   "cell_type": "markdown",
   "metadata": {},
   "source": [
    "### Percentage of Re-wins"
   ]
  },
  {
   "cell_type": "code",
   "execution_count": 14,
   "metadata": {},
   "outputs": [
    {
     "data": {
      "text/plain": [
       "58.088235294117645"
      ]
     },
     "execution_count": 14,
     "metadata": {},
     "output_type": "execute_result"
    }
   ],
   "source": [
    "count*100/number_of_wins"
   ]
  },
  {
   "cell_type": "markdown",
   "metadata": {},
   "source": [
    "## Replay games that were Lost"
   ]
  },
  {
   "cell_type": "code",
   "execution_count": 15,
   "metadata": {},
   "outputs": [
    {
     "name": "stdout",
     "output_type": "stream",
     "text": [
      "728\n",
      "{'No action could be taken': 728}\n"
     ]
    }
   ],
   "source": [
    "games_lost_start_state = []\n",
    "reasons = {}\n",
    "for game,actions,end_state,start_state,game_states,reason in actions_matrix:\n",
    "    if reason !='won':\n",
    "        if reason not in reasons:\n",
    "            reasons[reason] = 0\n",
    "            \n",
    "        reasons[reason]+=1\n",
    "        games_lost_start_state.append(start_state)\n",
    "number_of_losses =  len(games_lost_start_state)      \n",
    "print(number_of_losses)\n",
    "print(reasons)"
   ]
  },
  {
   "cell_type": "code",
   "execution_count": 16,
   "metadata": {},
   "outputs": [
    {
     "data": {
      "application/vnd.jupyter.widget-view+json": {
       "model_id": "26e981fb8a164327b5bd9eb84dfba1c4",
       "version_major": 2,
       "version_minor": 0
      },
      "text/plain": [
       "HBox(children=(FloatProgress(value=0.0, max=728.0), HTML(value='')))"
      ]
     },
     "metadata": {},
     "output_type": "display_data"
    },
    {
     "name": "stdout",
     "output_type": "stream",
     "text": [
      "\n",
      "130\n"
     ]
    }
   ],
   "source": [
    "lost_actions_matrix = [[] for _ in range(number_of_losses)]\n",
    "\n",
    "count = 0\n",
    "\n",
    "for i in tq.tqdm(range(number_of_losses)):\n",
    "    \n",
    "    game_start_state = games_lost_start_state[i]\n",
    "    env = solitaire_env_hard.env()\n",
    "    \n",
    "    env.state = game_start_state\n",
    "    action_freq = {0:0,1:0,2:0,3:0,4:0,5:0}\n",
    "    \n",
    "    _,won = gp.greedy_policy(en=env,game=i,action_freq=action_freq,actions_matrix=lost_actions_matrix,fp_flag=True)\n",
    "    \n",
    "    if won == True:\n",
    "        count+=1\n",
    "        \n",
    "print(count)\n",
    "        "
   ]
  },
  {
   "cell_type": "markdown",
   "metadata": {},
   "source": [
    "### Wins after Retry"
   ]
  },
  {
   "cell_type": "code",
   "execution_count": 17,
   "metadata": {},
   "outputs": [
    {
     "data": {
      "text/plain": [
       "17.857142857142858"
      ]
     },
     "execution_count": 17,
     "metadata": {},
     "output_type": "execute_result"
    }
   ],
   "source": [
    "count*100/number_of_losses"
   ]
  },
  {
   "cell_type": "code",
   "execution_count": null,
   "metadata": {},
   "outputs": [],
   "source": []
  },
  {
   "cell_type": "markdown",
   "metadata": {},
   "source": [
    "### Retry won Game with Longest sequence of actions"
   ]
  },
  {
   "cell_type": "code",
   "execution_count": 18,
   "metadata": {},
   "outputs": [
    {
     "data": {
      "application/vnd.jupyter.widget-view+json": {
       "model_id": "94449874c6734cb7b2b77888a83406d9",
       "version_major": 2,
       "version_minor": 0
      },
      "text/plain": [
       "HBox(children=(FloatProgress(value=0.0, max=20.0), HTML(value='')))"
      ]
     },
     "metadata": {},
     "output_type": "display_data"
    },
    {
     "name": "stdout",
     "output_type": "stream",
     "text": [
      "\n"
     ]
    }
   ],
   "source": [
    "retry_output = []\n",
    "number_of_retries = 20\n",
    "retry_actions_matrix = [[] for _ in range(number_of_retries)]\n",
    "\n",
    "for i in tq.tqdm(range(number_of_retries)):\n",
    "    env = solitaire_env_hard.env()\n",
    "    env.state = longest_start_state\n",
    "    action_freq = {0:0,1:0,2:0,3:0,4:0,5:0}\n",
    "    \n",
    "    _,won = gp.greedy_policy(en=env,game=i,action_freq=action_freq,actions_matrix=retry_actions_matrix,fp_flag=True)\n",
    "    \n",
    "    retry_output.append(int(won))"
   ]
  },
  {
   "cell_type": "code",
   "execution_count": 19,
   "metadata": {},
   "outputs": [
    {
     "name": "stdout",
     "output_type": "stream",
     "text": [
      "6\n"
     ]
    }
   ],
   "source": [
    "print(sum(retry_output))"
   ]
  },
  {
   "cell_type": "markdown",
   "metadata": {},
   "source": [
    "### Retry Lost Game with Longest sequence of actions"
   ]
  },
  {
   "cell_type": "code",
   "execution_count": 20,
   "metadata": {},
   "outputs": [
    {
     "data": {
      "text/plain": [
       "(842, 492)"
      ]
     },
     "execution_count": 20,
     "metadata": {},
     "output_type": "execute_result"
    }
   ],
   "source": [
    "longest_steps_for_loss = 0\n",
    "longest_action_seq_for_loss = None\n",
    "longest_gno_for_loss = None\n",
    "longest_start_state_for_loss = None\n",
    "for game,actions,end_state,start_state,game_states,reason in actions_matrix:\n",
    "    if reason !='won' and len(actions)>longest_steps_for_loss:\n",
    "        longest_gno_for_loss = game\n",
    "        longest_steps_for_loss = len(actions)\n",
    "        longest_action_seq_for_loss = actions\n",
    "        longest_start_state_for_loss = start_state\n",
    "longest_gno_for_loss,longest_steps_for_loss"
   ]
  },
  {
   "cell_type": "code",
   "execution_count": 21,
   "metadata": {},
   "outputs": [
    {
     "data": {
      "application/vnd.jupyter.widget-view+json": {
       "model_id": "15c6df4496224b85928e3a1b8a004511",
       "version_major": 2,
       "version_minor": 0
      },
      "text/plain": [
       "HBox(children=(FloatProgress(value=0.0), HTML(value='')))"
      ]
     },
     "metadata": {},
     "output_type": "display_data"
    },
    {
     "name": "stdout",
     "output_type": "stream",
     "text": [
      "\n",
      "2\n"
     ]
    }
   ],
   "source": [
    "retry_output = []\n",
    "number_of_retries = 100\n",
    "retry_actions_matrix = [[] for _ in range(number_of_retries)]\n",
    "\n",
    "for i in tq.tqdm(range(number_of_retries)):\n",
    "    env = solitaire_env_hard.env()\n",
    "    env.state = longest_start_state_for_loss\n",
    "    action_freq = {0:0,1:0,2:0,3:0,4:0,5:0}\n",
    "    \n",
    "    _,won = gp.greedy_policy(en=env,game=i,action_freq=action_freq,actions_matrix=retry_actions_matrix,fp_flag=True)\n",
    "    \n",
    "    retry_output.append(int(won))\n",
    "    \n",
    "print(sum(retry_output))"
   ]
  },
  {
   "cell_type": "code",
   "execution_count": null,
   "metadata": {},
   "outputs": [],
   "source": []
  },
  {
   "cell_type": "markdown",
   "metadata": {},
   "source": [
    "### Retry Every Game Game X number of times"
   ]
  },
  {
   "cell_type": "code",
   "execution_count": 22,
   "metadata": {},
   "outputs": [],
   "source": [
    "import tqdm\n",
    "def replay_each_game(actions_matrix = None,max_steps=100):\n",
    "\n",
    "    results_for_each_game = [[] for _ in range(len(actions_matrix))]\n",
    "\n",
    "    for k  in tqdm.tqdm(range(len(actions_matrix))):\n",
    "\n",
    "        game,actions,end_state,start_state,game_states,reason = actions_matrix[k]\n",
    "\n",
    "        not_won = True\n",
    "\n",
    "        i = 0\n",
    "        game_actions_matrix = [[] for _ in range(max_steps)]\n",
    "        while not_won and i<max_steps:\n",
    "\n",
    "            env = solitaire_env_hard.env()\n",
    "            env.state = start_state\n",
    "            action_freq = {0:0,1:0,2:0,3:0,4:0,5:0}\n",
    "\n",
    "            _,won = gp.greedy_policy(en=env,game=i,action_freq=action_freq,actions_matrix=game_actions_matrix,fp_flag=True)\n",
    "\n",
    "            results_for_each_game[k].append(won)\n",
    "            not_won = (won == False)\n",
    "            i+=1\n",
    "       \n",
    "    \n",
    "    times_tried = [len(x) for x in results_for_each_game]\n",
    "    games_won = [x for x in times_tried if x<max_steps-1]\n",
    "    print(\"games won\",len(games_won))\n",
    "    sns.lineplot(x=range(len(times_tried)),y=times_tried)\n",
    "    \n",
    "    return results_for_each_game\n",
    "    "
   ]
  },
  {
   "cell_type": "code",
   "execution_count": 23,
   "metadata": {},
   "outputs": [],
   "source": [
    "#res = replay_each_game(actions_matrix[:500],max_steps=150)\n"
   ]
  },
  {
   "cell_type": "code",
   "execution_count": null,
   "metadata": {},
   "outputs": [],
   "source": []
  },
  {
   "cell_type": "code",
   "execution_count": 24,
   "metadata": {},
   "outputs": [
    {
     "name": "stderr",
     "output_type": "stream",
     "text": [
      "100%|██████████| 500/500 [03:52<00:00,  2.15it/s]\n"
     ]
    },
    {
     "name": "stdout",
     "output_type": "stream",
     "text": [
      "games won 415\n"
     ]
    },
    {
     "data": {
      "image/png": "[encoded data removed]",
      "text/plain": [
       "<Figure size 432x288 with 1 Axes>"
      ]
     },
     "metadata": {
      "needs_background": "light"
     },
     "output_type": "display_data"
    }
   ],
   "source": [
    "res = replay_each_game(actions_matrix[500:],max_steps=150)\n"
   ]
  },
  {
   "cell_type": "code",
   "execution_count": null,
   "metadata": {},
   "outputs": [],
   "source": []
  },
  {
   "cell_type": "code",
   "execution_count": null,
   "metadata": {},
   "outputs": [],
   "source": []
  },
  {
   "cell_type": "markdown",
   "metadata": {},
   "source": [
    "### Replay a particular game"
   ]
  },
  {
   "cell_type": "code",
   "execution_count": 25,
   "metadata": {},
   "outputs": [],
   "source": [
    "class replay_game:\n",
    "    \n",
    "    def __init__(self,gno=0):\n",
    "        \n",
    "        self.temp_en = solitaire_env_hard.env()\n",
    "        self.action_number = 0\n",
    "        action_type = {0:'tableau_to_foundation_reveal',\\\n",
    "               1:'to_foundation_stack',2:'tableau_to_tableau_reveal',\\\n",
    "               3:'pile_to_tableau',\\\n",
    "                4:'foundation_to_tableau',\\\n",
    "               5:'tableau_to_tableau_not_reveal'\\\n",
    "              }\n",
    "    \n",
    "        for game_no,action_seq,end_state,start_state,state_seq,how_ends in actions_matrix:\n",
    "            if game_no == gno:\n",
    "                break;\n",
    "        print(\"Reason game ended...   \",how_ends)\n",
    "        print(\"Length of action sequence is.. \",len(action_seq))\n",
    "        action_replay = \"\".join([str(x) for x in action_seq])\n",
    "        \n",
    "        self.action_replay = [int(x) for x in action_replay]\n",
    "        \n",
    "        self.temp_en.state = start_state\n",
    "        self.start_state = start_state\n",
    "        \n",
    "        self.end_state = end_state\n",
    "        \n",
    "        \n",
    "        self.temp_en.state = self.temp_en.copy_state()\n",
    "        \n",
    "        self.state_seq = state_seq\n",
    "        \n",
    "        self.action_seq = [action_type[int(x)] for x in action_replay]\n",
    "        \n",
    "        print(\"starting state.. \\n\")\n",
    "        \n",
    "        print(\"***********************************pile*****************************************\")\n",
    "        self.temp_en.get_pile()\n",
    "        print(\"\\n\\n\\n\\n\\n\\n\\n\\n\")\n",
    "        print(\"*****************************foundation*****************************************\")\n",
    "        \n",
    "        self.temp_en.get_foundation()\n",
    "        print(\"\\n\\n\\n\\n\\n\\n\\n\\n\")\n",
    "        print(\"******************************tableau*******************************************\")\n",
    "        \n",
    "        self.temp_en.get_tableau()\n",
    "        print(\"\\n\\n\\n\\n\\n\\n\\n\\n\")\n",
    "        \n",
    "    def next_state(self):\n",
    "        \n",
    "        print(\"action number..  \", self.action_number)\n",
    "        \n",
    "        print(\"action taken {} : description {} \".format(self.action_replay[self.action_number],self.action_seq[self.action_number]))\n",
    "        self.action_number +=1\n",
    "        self.temp_en = solitaire_env_hard.env()\n",
    "        \n",
    "        self.temp_en.state = self.state_seq[self.action_number]\n",
    "        \n",
    "        self.temp_en.state = self.temp_en.copy_state()\n",
    "        \n",
    "        print(\"starting state.. \\n\")\n",
    "        \n",
    "        print(\"***********************************pile*****************************************\")\n",
    "        self.temp_en.get_pile()\n",
    "        print(\"\\n\\n\\n\\n\\n\\n\\n\\n\")\n",
    "        \n",
    "        \n",
    "        print(\"*****************************foundation*****************************************\")\n",
    "        \n",
    "        self.temp_en.get_foundation()\n",
    "        print(\"\\n\\n\\n\\n\\n\\n\\n\\n\")\n",
    "            \n",
    "            \n",
    "        print(\"******************************tableau*******************************************\")\n",
    "        \n",
    "        self.temp_en.get_tableau()\n",
    "        print(\"\\n\\n\\n\\n\\n\\n\\n\\n\")\n",
    "        \n",
    "        \n",
    "        \n",
    "        \n",
    "    def goto_state(self,n):\n",
    "        self.action_number = n"
   ]
  },
  {
   "cell_type": "code",
   "execution_count": null,
   "metadata": {},
   "outputs": [],
   "source": []
  },
  {
   "cell_type": "code",
   "execution_count": null,
   "metadata": {},
   "outputs": [],
   "source": []
  },
  {
   "cell_type": "code",
   "execution_count": null,
   "metadata": {},
   "outputs": [],
   "source": []
  },
  {
   "cell_type": "code",
   "execution_count": 26,
   "metadata": {
    "scrolled": true
   },
   "outputs": [],
   "source": [
    "#game_replay = replay_game(gno = smallest_gno)"
   ]
  },
  {
   "cell_type": "code",
   "execution_count": 27,
   "metadata": {
    "scrolled": true
   },
   "outputs": [],
   "source": [
    "#game_replay.goto_state(73)\n",
    "#game_replay.next_state()\n",
    "#foundation progression"
   ]
  },
  {
   "cell_type": "code",
   "execution_count": 28,
   "metadata": {
    "scrolled": true
   },
   "outputs": [],
   "source": [
    "#game_replay.next_state()"
   ]
  },
  {
   "cell_type": "code",
   "execution_count": 29,
   "metadata": {},
   "outputs": [],
   "source": [
    "# Tableau to foundation reveal #gamestate"
   ]
  },
  {
   "cell_type": "code",
   "execution_count": null,
   "metadata": {},
   "outputs": [],
   "source": []
  },
  {
   "cell_type": "code",
   "execution_count": null,
   "metadata": {},
   "outputs": [],
   "source": []
  },
  {
   "cell_type": "code",
   "execution_count": null,
   "metadata": {},
   "outputs": [],
   "source": []
  },
  {
   "cell_type": "code",
   "execution_count": null,
   "metadata": {},
   "outputs": [],
   "source": []
  },
  {
   "cell_type": "code",
   "execution_count": null,
   "metadata": {},
   "outputs": [],
   "source": []
  },
  {
   "cell_type": "code",
   "execution_count": 30,
   "metadata": {},
   "outputs": [],
   "source": [
    "# temp_en = solitaire_env.env()\n",
    "\n",
    "# temp_en.state = game_replay.temp_en.state"
   ]
  },
  {
   "cell_type": "code",
   "execution_count": 31,
   "metadata": {},
   "outputs": [],
   "source": [
    "#temp_en.get_pile()"
   ]
  },
  {
   "cell_type": "code",
   "execution_count": 32,
   "metadata": {},
   "outputs": [],
   "source": [
    "# temp_en.get_foundation()\n",
    "# print(\"********************************************************************************************************\")\n",
    "# temp_en.get_tableau()"
   ]
  },
  {
   "cell_type": "code",
   "execution_count": 33,
   "metadata": {},
   "outputs": [],
   "source": [
    "#w,t = temp_en.step(3,debug=True,fp_flag=True)"
   ]
  },
  {
   "cell_type": "code",
   "execution_count": 34,
   "metadata": {},
   "outputs": [],
   "source": [
    "#w,t"
   ]
  },
  {
   "cell_type": "code",
   "execution_count": 35,
   "metadata": {},
   "outputs": [],
   "source": [
    "#foundation progression is not correct"
   ]
  },
  {
   "cell_type": "code",
   "execution_count": 36,
   "metadata": {},
   "outputs": [],
   "source": [
    "#\n",
    "#l = [1,2,3]"
   ]
  },
  {
   "cell_type": "code",
   "execution_count": 37,
   "metadata": {},
   "outputs": [],
   "source": [
    "#l[:0]"
   ]
  },
  {
   "cell_type": "markdown",
   "metadata": {},
   "source": [
    "## Action Types"
   ]
  },
  {
   "cell_type": "markdown",
   "metadata": {},
   "source": [
    "## 1. Tableau to Foundation Reveal   \n",
    "from_tableau_number   \n",
    "to_foundation_number   \n",
    "moved card"
   ]
  },
  {
   "cell_type": "markdown",
   "metadata": {},
   "source": [
    "## 2. To Foundation Stack\n",
    "Type pile:   \n",
    "from_pile_position    \n",
    "to_foundation_number     \n",
    "moved card     \n",
    "     \n",
    "Type tableau:   \n",
    "from_tableau_number    \n",
    "to_foundation_number     \n",
    "moved_card    "
   ]
  },
  {
   "cell_type": "markdown",
   "metadata": {},
   "source": [
    "## 3. Tableau To Tableau Reveal\n",
    "from_tableau_number    \n",
    "to_tableau_number     \n",
    "from_tableau_position     \n",
    "card_stack_moved     "
   ]
  },
  {
   "cell_type": "markdown",
   "metadata": {},
   "source": [
    "## 4. Pile to Tableau     \n",
    "\n",
    "from_pile_position    \n",
    "to_tableau_number    \n",
    "moved_card     "
   ]
  },
  {
   "cell_type": "markdown",
   "metadata": {},
   "source": [
    "## 5. Foundation to Tableau\n",
    "from_foundation_number    \n",
    "to_tableau_number     \n",
    "moved_card      "
   ]
  },
  {
   "cell_type": "markdown",
   "metadata": {},
   "source": [
    "## 6. Tableau to Tableau Reveal\n",
    "from_tableau_number   \n",
    "to_tableau_number    \n",
    "from_tableau_position    \n",
    "card_stack_moved     "
   ]
  },
  {
   "cell_type": "code",
   "execution_count": null,
   "metadata": {},
   "outputs": [],
   "source": []
  }
 ],
 "metadata": {
  "kernelspec": {
   "display_name": "Python 3",
   "language": "python",
   "name": "python3"
  },
  "language_info": {
   "codemirror_mode": {
    "name": "ipython",
    "version": 3
   },
   "file_extension": ".py",
   "mimetype": "text/x-python",
   "name": "python",
   "nbconvert_exporter": "python",
   "pygments_lexer": "ipython3",
   "version": "3.7.7"
  }
 },
 "nbformat": 4,
 "nbformat_minor": 4
}
