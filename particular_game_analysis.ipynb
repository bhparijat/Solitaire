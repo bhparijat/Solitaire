{
 "cells": [
  {
   "cell_type": "code",
   "execution_count": 96,
   "metadata": {},
   "outputs": [],
   "source": [
    "import numpy as np\n",
    "import pandas as pd\n",
    "import matplotlib.pyplot as plt\n",
    "import random\n",
    "import time\n",
    "import unittest\n",
    "import tqdm.notebook as tq\n",
    "import solitaire_env\n",
    "import sys\n",
    "import seaborn as sns\n",
    "import pickle as pkl\n",
    "import gp\n",
    "sys.setrecursionlimit(10**6)"
   ]
  },
  {
   "cell_type": "code",
   "execution_count": 98,
   "metadata": {},
   "outputs": [],
   "source": [
    "with open(\"games/run_2020-05-04 00:01:46.835706.pkl\",\"rb\") as file:\n",
    "    run_data = pkl.load(file)"
   ]
  },
  {
   "cell_type": "code",
   "execution_count": 99,
   "metadata": {},
   "outputs": [],
   "source": [
    "actions_matrix = run_data['actions_matrix']"
   ]
  },
  {
   "cell_type": "code",
   "execution_count": 100,
   "metadata": {},
   "outputs": [],
   "source": [
    "iterations_used_per_game = run_data['iterations_used_per_game']\n",
    "it = pd.DataFrame(data = {\"iterations\":iterations_used_per_game})['iterations'].value_counts()"
   ]
  },
  {
   "cell_type": "code",
   "execution_count": 101,
   "metadata": {},
   "outputs": [
    {
     "data": {
      "text/plain": [
       "99"
      ]
     },
     "execution_count": 101,
     "metadata": {},
     "output_type": "execute_result"
    }
   ],
   "source": [
    "max_action_take = max(it.index)\n",
    "max_action_take"
   ]
  },
  {
   "cell_type": "code",
   "execution_count": 159,
   "metadata": {},
   "outputs": [],
   "source": [
    "class replay_game:\n",
    "    \n",
    "    def __init__(self,gno=0):\n",
    "        \n",
    "        self.temp_en = solitaire_env.env()\n",
    "        self.action_number = 0\n",
    "        action_type = {0:'tableau_to_foundation_reveal',\\\n",
    "               1:'to_foundation_stack',2:'tableau_to_tableau_reveal',\\\n",
    "               3:'pile_to_tableau',\\\n",
    "                4:'foundation_to_tableau',\\\n",
    "               5:'tableau_to_tableau_not_reveal'\\\n",
    "              }\n",
    "    \n",
    "        for game_no,action_seq,end_state,start_state,state_seq,how_ends in actions_matrix:\n",
    "            if game_no == gno:\n",
    "                break;\n",
    "        print(\"Reason game ended...   \",how_ends)\n",
    "        print(\"Length of action sequence is.. \",len(action_seq))\n",
    "        action_replay = \"\".join([str(x) for x in action_seq])\n",
    "        action_replay = [action_type[int(x)] for x in action_replay]\n",
    "        \n",
    "        self.temp_en.state = start_state\n",
    "        self.start_state = start_state\n",
    "        temp_en.state = temp_en.copy_state()\n",
    "        \n",
    "        self.state_seq = state_seq\n",
    "        \n",
    "        self.action_seq = action_replay\n",
    "        \n",
    "        print(\"starting state.. \\n\")\n",
    "        \n",
    "        print(\"***********************************pile*****************************************\")\n",
    "        temp_en.get_pile()\n",
    "        print(\"\\n\\n\\n\\n\\n\\n\\n\\n\")\n",
    "        print(\"*****************************foundation*****************************************\")\n",
    "        \n",
    "        temp_en.get_foundation()\n",
    "        print(\"\\n\\n\\n\\n\\n\\n\\n\\n\")\n",
    "        print(\"******************************tableau*******************************************\")\n",
    "        \n",
    "        temp_en.get_tableau()\n",
    "        print(\"\\n\\n\\n\\n\\n\\n\\n\\n\")\n",
    "        \n",
    "    def next_state(self):\n",
    "        \n",
    "        print(\"action number..  \", self.action_number)\n",
    "        \n",
    "        print(\"action taken..   \",self.action_seq[self.action_number])\n",
    "        self.temp_en = solitaire_env.env()\n",
    "        \n",
    "        self.temp_en.state = self.state_seq[self.action_number]\n",
    "        \n",
    "        self.temp_en.state = temp_en.copy_state()\n",
    "        \n",
    "        print(\"starting state.. \\n\")\n",
    "        \n",
    "        print(\"***********************************pile*****************************************\")\n",
    "        temp_en.get_pile()\n",
    "        print(\"\\n\\n\\n\\n\\n\\n\\n\\n\")\n",
    "        \n",
    "        \n",
    "        print(\"*****************************foundation*****************************************\")\n",
    "        \n",
    "        temp_en.get_foundation()\n",
    "        print(\"\\n\\n\\n\\n\\n\\n\\n\\n\")\n",
    "            \n",
    "            \n",
    "        print(\"******************************tableau*******************************************\")\n",
    "        \n",
    "        temp_en.get_tableau()\n",
    "        print(\"\\n\\n\\n\\n\\n\\n\\n\\n\")\n",
    "        \n",
    "        self.action_number +=1\n",
    "        \n",
    "        \n",
    "    def goto_state(self,n):\n",
    "        self.action_number = n"
   ]
  },
  {
   "cell_type": "code",
   "execution_count": null,
   "metadata": {},
   "outputs": [],
   "source": []
  },
  {
   "cell_type": "code",
   "execution_count": null,
   "metadata": {},
   "outputs": [],
   "source": []
  },
  {
   "cell_type": "code",
   "execution_count": null,
   "metadata": {},
   "outputs": [],
   "source": []
  },
  {
   "cell_type": "code",
   "execution_count": 163,
   "metadata": {},
   "outputs": [
    {
     "name": "stdout",
     "output_type": "stream",
     "text": [
      "Reason game ended...    No action could be taken\n",
      "Length of action sequence is..  99\n",
      "starting state.. \n",
      "\n",
      "***********************************pile*****************************************\n",
      "\n",
      "\n",
      "\n",
      "\n",
      "\n",
      "\n",
      "\n",
      "\n",
      "\n",
      "*****************************foundation*****************************************\n",
      "printing foundation number 1 ********************\n",
      "suit = club       color = black      number =     1 speciality = ACE        face = up   \n",
      "suit = club       color = black      number =     2 speciality = None       face = up   \n",
      "suit = club       color = black      number =     3 speciality = None       face = up   \n",
      "suit = club       color = black      number =     4 speciality = None       face = up   \n",
      "suit = club       color = black      number =     5 speciality = None       face = up   \n",
      "suit = club       color = black      number =     6 speciality = None       face = up   \n",
      "suit = club       color = black      number =     7 speciality = None       face = up   \n",
      "suit = club       color = black      number =     8 speciality = None       face = up   \n",
      "printing foundation number 2 ********************\n",
      "suit = heart      color = red        number =     1 speciality = ACE        face = up   \n",
      "suit = heart      color = red        number =     2 speciality = None       face = up   \n",
      "printing foundation number 3 ********************\n",
      "suit = diamond    color = red        number =     1 speciality = ACE        face = up   \n",
      "suit = diamond    color = red        number =     2 speciality = None       face = up   \n",
      "suit = diamond    color = red        number =     3 speciality = None       face = up   \n",
      "suit = diamond    color = red        number =     4 speciality = None       face = up   \n",
      "suit = diamond    color = red        number =     5 speciality = None       face = up   \n",
      "suit = diamond    color = red        number =     6 speciality = None       face = up   \n",
      "suit = diamond    color = red        number =     7 speciality = None       face = up   \n",
      "printing foundation number 4 ********************\n",
      "suit = spade      color = black      number =     1 speciality = ACE        face = up   \n",
      "suit = spade      color = black      number =     2 speciality = None       face = up   \n",
      "\n",
      "\n",
      "\n",
      "\n",
      "\n",
      "\n",
      "\n",
      "\n",
      "\n",
      "******************************tableau*******************************************\n",
      "printing tableau number 1 ********************\n",
      "suit = club       color = black      number =    13 speciality = KING       face = up   \n",
      "suit = heart      color = red        number =    12 speciality = QUEEN      face = up   \n",
      "suit = spade      color = black      number =    11 speciality = JACK       face = up   \n",
      "suit = heart      color = red        number =    10 speciality = None       face = up   \n",
      "suit = spade      color = black      number =     9 speciality = None       face = up   \n",
      "suit = diamond    color = red        number =     8 speciality = None       face = up   \n",
      "printing tableau number 2 ********************\n",
      "suit = diamond    color = red        number =    13 speciality = KING       face = up   \n",
      "suit = spade      color = black      number =    12 speciality = QUEEN      face = up   \n",
      "printing tableau number 3 ********************\n",
      "suit = spade      color = black      number =     3 speciality = None       face = down \n",
      "suit = heart      color = red        number =    13 speciality = KING       face = up   \n",
      "suit = club       color = black      number =    12 speciality = QUEEN      face = up   \n",
      "suit = heart      color = red        number =    11 speciality = JACK       face = up   \n",
      "suit = club       color = black      number =    10 speciality = None       face = up   \n",
      "suit = diamond    color = red        number =     9 speciality = None       face = up   \n",
      "suit = spade      color = black      number =     8 speciality = None       face = up   \n",
      "suit = heart      color = red        number =     7 speciality = None       face = up   \n",
      "suit = spade      color = black      number =     6 speciality = None       face = up   \n",
      "suit = heart      color = red        number =     5 speciality = None       face = up   \n",
      "suit = spade      color = black      number =     4 speciality = None       face = up   \n",
      "suit = heart      color = red        number =     3 speciality = None       face = up   \n",
      "printing tableau number 4 ********************\n",
      "suit = spade      color = black      number =    13 speciality = KING       face = up   \n",
      "suit = diamond    color = red        number =    12 speciality = QUEEN      face = up   \n",
      "suit = club       color = black      number =    11 speciality = JACK       face = up   \n",
      "suit = diamond    color = red        number =    10 speciality = None       face = up   \n",
      "suit = club       color = black      number =     9 speciality = None       face = up   \n",
      "suit = heart      color = red        number =     8 speciality = None       face = up   \n",
      "suit = spade      color = black      number =     7 speciality = None       face = up   \n",
      "suit = heart      color = red        number =     6 speciality = None       face = up   \n",
      "suit = spade      color = black      number =     5 speciality = None       face = up   \n",
      "suit = heart      color = red        number =     4 speciality = None       face = up   \n",
      "printing tableau number 5 ********************\n",
      "printing tableau number 6 ********************\n",
      "suit = diamond    color = red        number =    11 speciality = JACK       face = up   \n",
      "suit = spade      color = black      number =    10 speciality = None       face = up   \n",
      "suit = heart      color = red        number =     9 speciality = None       face = up   \n",
      "printing tableau number 7 ********************\n",
      "\n",
      "\n",
      "\n",
      "\n",
      "\n",
      "\n",
      "\n",
      "\n",
      "\n"
     ]
    }
   ],
   "source": [
    "game_replay = replay_game(gno = 636)"
   ]
  },
  {
   "cell_type": "code",
   "execution_count": 169,
   "metadata": {},
   "outputs": [
    {
     "name": "stdout",
     "output_type": "stream",
     "text": [
      "suit = diamond    color = red        number =     1 speciality = ACE        face = up   \n",
      "suit = spade      color = black      number =    10 speciality = None       face = up   \n",
      "suit = heart      color = red        number =     1 speciality = ACE        face = up   \n",
      "suit = heart      color = red        number =     4 speciality = None       face = up   \n",
      "suit = club       color = black      number =     6 speciality = None       face = up   \n",
      "suit = heart      color = red        number =     9 speciality = None       face = up   \n",
      "suit = diamond    color = red        number =     6 speciality = None       face = up   \n",
      "suit = spade      color = black      number =     1 speciality = ACE        face = up   \n",
      "suit = club       color = black      number =     8 speciality = None       face = up   \n",
      "suit = spade      color = black      number =     2 speciality = None       face = up   \n",
      "suit = spade      color = black      number =    13 speciality = KING       face = up   \n",
      "suit = spade      color = black      number =     4 speciality = None       face = up   \n",
      "suit = club       color = black      number =    12 speciality = QUEEN      face = up   \n",
      "suit = spade      color = black      number =     9 speciality = None       face = up   \n",
      "suit = heart      color = red        number =     3 speciality = None       face = up   \n",
      "suit = diamond    color = red        number =    12 speciality = QUEEN      face = up   \n",
      "suit = diamond    color = red        number =    13 speciality = KING       face = up   \n",
      "suit = spade      color = black      number =     5 speciality = None       face = up   \n",
      "suit = club       color = black      number =     4 speciality = None       face = up   \n",
      "suit = heart      color = red        number =     7 speciality = None       face = up   \n",
      "suit = diamond    color = red        number =    10 speciality = None       face = up   \n",
      "suit = diamond    color = red        number =     3 speciality = None       face = up   \n",
      "suit = diamond    color = red        number =     9 speciality = None       face = up   \n",
      "suit = heart      color = red        number =     5 speciality = None       face = up   \n"
     ]
    }
   ],
   "source": [
    "start_en = solitaire_env.env()\n",
    "start_en.state = game_replay.start_state\n",
    "start_en.get_pile()"
   ]
  },
  {
   "cell_type": "code",
   "execution_count": 170,
   "metadata": {},
   "outputs": [
    {
     "name": "stdout",
     "output_type": "stream",
     "text": [
      "printing foundation number 1 ********************\n",
      "printing foundation number 2 ********************\n",
      "printing foundation number 3 ********************\n",
      "printing foundation number 4 ********************\n"
     ]
    }
   ],
   "source": [
    "start_en.get_foundation()"
   ]
  },
  {
   "cell_type": "code",
   "execution_count": 171,
   "metadata": {},
   "outputs": [
    {
     "name": "stdout",
     "output_type": "stream",
     "text": [
      "printing tableau number 1 ********************\n",
      "suit = club       color = black      number =    13 speciality = KING       face = up   \n",
      "printing tableau number 2 ********************\n",
      "suit = heart      color = red        number =     2 speciality = None       face = down \n",
      "suit = club       color = black      number =     2 speciality = None       face = up   \n",
      "printing tableau number 3 ********************\n",
      "suit = spade      color = black      number =     3 speciality = None       face = down \n",
      "suit = heart      color = red        number =    13 speciality = KING       face = down \n",
      "suit = heart      color = red        number =    10 speciality = None       face = up   \n",
      "printing tableau number 4 ********************\n",
      "suit = diamond    color = red        number =     2 speciality = None       face = down \n",
      "suit = heart      color = red        number =    11 speciality = JACK       face = down \n",
      "suit = spade      color = black      number =    11 speciality = JACK       face = down \n",
      "suit = club       color = black      number =     1 speciality = ACE        face = up   \n",
      "printing tableau number 5 ********************\n",
      "suit = club       color = black      number =     3 speciality = None       face = down \n",
      "suit = club       color = black      number =     7 speciality = None       face = down \n",
      "suit = club       color = black      number =     9 speciality = None       face = down \n",
      "suit = spade      color = black      number =     6 speciality = None       face = down \n",
      "suit = club       color = black      number =    10 speciality = None       face = up   \n",
      "printing tableau number 6 ********************\n",
      "suit = diamond    color = red        number =    11 speciality = JACK       face = down \n",
      "suit = heart      color = red        number =     6 speciality = None       face = down \n",
      "suit = diamond    color = red        number =     4 speciality = None       face = down \n",
      "suit = heart      color = red        number =     8 speciality = None       face = down \n",
      "suit = club       color = black      number =    11 speciality = JACK       face = down \n",
      "suit = diamond    color = red        number =     8 speciality = None       face = up   \n",
      "printing tableau number 7 ********************\n",
      "suit = club       color = black      number =     5 speciality = None       face = down \n",
      "suit = spade      color = black      number =     7 speciality = None       face = down \n",
      "suit = diamond    color = red        number =     5 speciality = None       face = down \n",
      "suit = diamond    color = red        number =     7 speciality = None       face = down \n",
      "suit = spade      color = black      number =    12 speciality = QUEEN      face = down \n",
      "suit = spade      color = black      number =     8 speciality = None       face = down \n",
      "suit = heart      color = red        number =    12 speciality = QUEEN      face = up   \n"
     ]
    }
   ],
   "source": [
    "start_en.get_tableau()"
   ]
  },
  {
   "cell_type": "code",
   "execution_count": 138,
   "metadata": {},
   "outputs": [],
   "source": [
    "#end_en.get_foundation()"
   ]
  },
  {
   "cell_type": "code",
   "execution_count": 139,
   "metadata": {},
   "outputs": [],
   "source": [
    "#end_en.get_tableau()"
   ]
  },
  {
   "cell_type": "code",
   "execution_count": 140,
   "metadata": {},
   "outputs": [],
   "source": [
    "#end_en.get_pile()"
   ]
  },
  {
   "cell_type": "code",
   "execution_count": 141,
   "metadata": {},
   "outputs": [],
   "source": [
    "# w,t = end_en.step(1,fp_flag=True,debug=True)\n",
    "# w,t"
   ]
  },
  {
   "cell_type": "code",
   "execution_count": null,
   "metadata": {},
   "outputs": [],
   "source": []
  }
 ],
 "metadata": {
  "kernelspec": {
   "display_name": "Python 3",
   "language": "python",
   "name": "python3"
  },
  "language_info": {
   "codemirror_mode": {
    "name": "ipython",
    "version": 3
   },
   "file_extension": ".py",
   "mimetype": "text/x-python",
   "name": "python",
   "nbconvert_exporter": "python",
   "pygments_lexer": "ipython3",
   "version": "3.6.10"
  }
 },
 "nbformat": 4,
 "nbformat_minor": 4
}
