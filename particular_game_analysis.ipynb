{
 "cells": [
  {
   "cell_type": "code",
   "execution_count": 2,
   "metadata": {},
   "outputs": [],
   "source": [
    "import numpy as np\n",
    "import pandas as pd\n",
    "import matplotlib.pyplot as plt\n",
    "import random\n",
    "import time\n",
    "import unittest\n",
    "import tqdm.notebook as tq\n",
    "import solitaire_env\n",
    "import sys\n",
    "import seaborn as sns\n",
    "import pickle as pkl\n",
    "import gp\n",
    "sys.setrecursionlimit(10**6)"
   ]
  },
  {
   "cell_type": "code",
   "execution_count": 4,
   "metadata": {},
   "outputs": [],
   "source": [
    "with open(\"games/run_2020-05-03 07:17:14.501735.pkl\",\"rb\") as file:\n",
    "    run_data = pkl.load(file)"
   ]
  },
  {
   "cell_type": "code",
   "execution_count": 5,
   "metadata": {},
   "outputs": [],
   "source": [
    "actions_matrix = run_data['actions_matrix']"
   ]
  },
  {
   "cell_type": "code",
   "execution_count": 6,
   "metadata": {},
   "outputs": [],
   "source": [
    "iterations_used_per_game = run_data['iterations_used_per_game']\n",
    "it = pd.DataFrame(data = {\"iterations\":iterations_used_per_game})['iterations'].value_counts()"
   ]
  },
  {
   "cell_type": "code",
   "execution_count": 7,
   "metadata": {},
   "outputs": [
    {
     "data": {
      "text/plain": [
       "96"
      ]
     },
     "execution_count": 7,
     "metadata": {},
     "output_type": "execute_result"
    }
   ],
   "source": [
    "max_action_take = max(it.index)\n",
    "max_action_take"
   ]
  },
  {
   "cell_type": "code",
   "execution_count": 8,
   "metadata": {},
   "outputs": [],
   "source": [
    "for game_no,action_seq,end_state,start_state,won in actions_matrix:\n",
    "    if len(action_seq) == max_action_take:\n",
    "        break;"
   ]
  },
  {
   "cell_type": "code",
   "execution_count": 9,
   "metadata": {},
   "outputs": [
    {
     "data": {
      "text/plain": [
       "(847, False, 96)"
      ]
     },
     "execution_count": 9,
     "metadata": {},
     "output_type": "execute_result"
    }
   ],
   "source": [
    "game_no,won,len(action_seq)"
   ]
  },
  {
   "cell_type": "code",
   "execution_count": null,
   "metadata": {},
   "outputs": [],
   "source": []
  },
  {
   "cell_type": "code",
   "execution_count": 10,
   "metadata": {},
   "outputs": [
    {
     "data": {
      "text/plain": [
       "'111010222001111222203333323211111111132220111111111111134441142044441411134344144414144111444411'"
      ]
     },
     "execution_count": 10,
     "metadata": {},
     "output_type": "execute_result"
    }
   ],
   "source": [
    "\"\".join([str(x) for x in action_seq])"
   ]
  },
  {
   "cell_type": "code",
   "execution_count": null,
   "metadata": {},
   "outputs": [],
   "source": []
  },
  {
   "cell_type": "code",
   "execution_count": null,
   "metadata": {},
   "outputs": [],
   "source": []
  },
  {
   "cell_type": "code",
   "execution_count": 11,
   "metadata": {},
   "outputs": [
    {
     "name": "stdout",
     "output_type": "stream",
     "text": [
      "printing foundation number 1 ********************\n",
      "printing foundation number 2 ********************\n",
      "printing foundation number 3 ********************\n",
      "printing foundation number 4 ********************\n"
     ]
    }
   ],
   "source": [
    "start_env = solitaire_env.env()\n",
    "start_env.state = start_env.generate_deep_copy_state(start_state)\n",
    "\n",
    "start_env.get_foundation()"
   ]
  },
  {
   "cell_type": "code",
   "execution_count": 12,
   "metadata": {},
   "outputs": [
    {
     "name": "stdout",
     "output_type": "stream",
     "text": [
      "suit = diamond    color = red        number =    10 speciality = None       face = up   \n",
      "suit = club       color = black      number =     6 speciality = None       face = up   \n",
      "suit = spade      color = black      number =     7 speciality = None       face = up   \n",
      "suit = club       color = black      number =     7 speciality = None       face = up   \n",
      "suit = heart      color = red        number =     7 speciality = None       face = up   \n",
      "suit = club       color = black      number =     1 speciality = ACE        face = up   \n",
      "suit = diamond    color = red        number =     4 speciality = None       face = up   \n",
      "suit = diamond    color = red        number =    11 speciality = JACK       face = up   \n",
      "suit = diamond    color = red        number =     6 speciality = None       face = up   \n",
      "suit = heart      color = red        number =     8 speciality = None       face = up   \n",
      "suit = club       color = black      number =    10 speciality = None       face = up   \n",
      "suit = spade      color = black      number =     2 speciality = None       face = up   \n",
      "suit = diamond    color = red        number =     8 speciality = None       face = up   \n",
      "suit = club       color = black      number =     2 speciality = None       face = up   \n",
      "suit = club       color = black      number =    11 speciality = JACK       face = up   \n",
      "suit = club       color = black      number =     8 speciality = None       face = up   \n",
      "suit = heart      color = red        number =     2 speciality = None       face = up   \n",
      "suit = diamond    color = red        number =    13 speciality = KING       face = up   \n",
      "suit = diamond    color = red        number =     3 speciality = None       face = up   \n",
      "suit = heart      color = red        number =    13 speciality = KING       face = up   \n",
      "suit = spade      color = black      number =     5 speciality = None       face = up   \n",
      "suit = heart      color = red        number =     1 speciality = ACE        face = up   \n",
      "suit = spade      color = black      number =    11 speciality = JACK       face = up   \n",
      "suit = spade      color = black      number =     3 speciality = None       face = up   \n"
     ]
    }
   ],
   "source": [
    "start_env.get_pile()"
   ]
  },
  {
   "cell_type": "code",
   "execution_count": 13,
   "metadata": {},
   "outputs": [
    {
     "name": "stdout",
     "output_type": "stream",
     "text": [
      "printing tableau number 1 ********************\n",
      "suit = club       color = black      number =    13 speciality = KING       face = up   \n",
      "printing tableau number 2 ********************\n",
      "suit = heart      color = red        number =     6 speciality = None       face = down \n",
      "suit = spade      color = black      number =     6 speciality = None       face = up   \n",
      "printing tableau number 3 ********************\n",
      "suit = diamond    color = red        number =     2 speciality = None       face = down \n",
      "suit = spade      color = black      number =    10 speciality = None       face = down \n",
      "suit = spade      color = black      number =     4 speciality = None       face = up   \n",
      "printing tableau number 4 ********************\n",
      "suit = heart      color = red        number =     5 speciality = None       face = down \n",
      "suit = spade      color = black      number =    13 speciality = KING       face = down \n",
      "suit = club       color = black      number =    12 speciality = QUEEN      face = down \n",
      "suit = diamond    color = red        number =     5 speciality = None       face = up   \n",
      "printing tableau number 5 ********************\n",
      "suit = heart      color = red        number =    11 speciality = JACK       face = down \n",
      "suit = heart      color = red        number =     4 speciality = None       face = down \n",
      "suit = heart      color = red        number =     9 speciality = None       face = down \n",
      "suit = club       color = black      number =     9 speciality = None       face = down \n",
      "suit = spade      color = black      number =     8 speciality = None       face = up   \n",
      "printing tableau number 6 ********************\n",
      "suit = club       color = black      number =     5 speciality = None       face = down \n",
      "suit = spade      color = black      number =     9 speciality = None       face = down \n",
      "suit = heart      color = red        number =    10 speciality = None       face = down \n",
      "suit = heart      color = red        number =    12 speciality = QUEEN      face = down \n",
      "suit = diamond    color = red        number =    12 speciality = QUEEN      face = down \n",
      "suit = heart      color = red        number =     3 speciality = None       face = up   \n",
      "printing tableau number 7 ********************\n",
      "suit = spade      color = black      number =    12 speciality = QUEEN      face = down \n",
      "suit = club       color = black      number =     4 speciality = None       face = down \n",
      "suit = diamond    color = red        number =     7 speciality = None       face = down \n",
      "suit = spade      color = black      number =     1 speciality = ACE        face = down \n",
      "suit = diamond    color = red        number =     1 speciality = ACE        face = down \n",
      "suit = diamond    color = red        number =     9 speciality = None       face = down \n",
      "suit = club       color = black      number =     3 speciality = None       face = up   \n"
     ]
    }
   ],
   "source": [
    "start_env.get_tableau()"
   ]
  },
  {
   "cell_type": "code",
   "execution_count": null,
   "metadata": {},
   "outputs": [],
   "source": []
  },
  {
   "cell_type": "code",
   "execution_count": 52,
   "metadata": {},
   "outputs": [],
   "source": [
    "default_action_matrix = [0]\n",
    "default_action_freq = {0:0,1:0,2:0,3:0,4:0,5:0}"
   ]
  },
  {
   "cell_type": "code",
   "execution_count": 53,
   "metadata": {},
   "outputs": [],
   "source": [
    "steps,won = greedy_policy.greedy_policy(start_env,20000,default_action_freq,default_action_matrix,0,fp_flag=True)"
   ]
  },
  {
   "cell_type": "code",
   "execution_count": 54,
   "metadata": {},
   "outputs": [
    {
     "data": {
      "text/plain": [
       "(124, False)"
      ]
     },
     "execution_count": 54,
     "metadata": {},
     "output_type": "execute_result"
    }
   ],
   "source": [
    "steps,won"
   ]
  },
  {
   "cell_type": "code",
   "execution_count": null,
   "metadata": {},
   "outputs": [],
   "source": []
  },
  {
   "cell_type": "code",
   "execution_count": 102,
   "metadata": {},
   "outputs": [],
   "source": [
    "\n",
    "takes = []\n",
    "for a in action_seq:\n",
    "    action = int(a)\n",
    "    w,t = start_env.step(action,fp_flag=True)\n",
    "    takes.append(int(t))"
   ]
  },
  {
   "cell_type": "code",
   "execution_count": 103,
   "metadata": {},
   "outputs": [
    {
     "name": "stdout",
     "output_type": "stream",
     "text": [
      "[1, 1, 1, 1, 1, 0, 0, 0, 1, 1, 0, 0, 1, 1, 1, 1, 1, 1, 1, 1, 1, 1, 1, 1, 1, 1, 0, 1, 1, 1, 1, 1, 1, 1, 0, 1, 0, 0, 0, 0, 0, 0, 0, 0, 0, 0, 0, 0, 0, 0, 0, 0, 0, 0, 0, 0, 0, 0, 0, 0, 0, 0, 0, 0, 0, 0, 0, 0, 0, 0, 0, 0, 0, 0, 0, 0, 0, 0, 0, 0, 0, 0, 0, 0, 0, 0, 0, 0, 0, 0, 0, 0, 0, 0, 0, 0, 0, 0, 0, 0, 0, 0, 0, 0, 0, 0, 0, 0, 0, 0, 0, 0, 0]\n"
     ]
    },
    {
     "data": {
      "text/plain": [
       "(None, 29)"
      ]
     },
     "execution_count": 103,
     "metadata": {},
     "output_type": "execute_result"
    }
   ],
   "source": [
    "print(takes),sum(takes)"
   ]
  },
  {
   "cell_type": "code",
   "execution_count": 104,
   "metadata": {},
   "outputs": [
    {
     "data": {
      "text/plain": [
       "29"
      ]
     },
     "execution_count": 104,
     "metadata": {},
     "output_type": "execute_result"
    }
   ],
   "source": [
    "sum(takes)"
   ]
  },
  {
   "cell_type": "code",
   "execution_count": null,
   "metadata": {},
   "outputs": [],
   "source": []
  },
  {
   "cell_type": "code",
   "execution_count": 105,
   "metadata": {},
   "outputs": [
    {
     "name": "stdout",
     "output_type": "stream",
     "text": [
      "printing foundation number 1 ********************\n",
      "suit = club       color = black      number =     1 speciality = ACE        face = up   \n",
      "suit = club       color = black      number =     2 speciality = None       face = up   \n",
      "printing foundation number 2 ********************\n",
      "suit = heart      color = red        number =     1 speciality = ACE        face = up   \n",
      "suit = heart      color = red        number =     2 speciality = None       face = up   \n",
      "printing foundation number 3 ********************\n",
      "suit = diamond    color = red        number =     1 speciality = ACE        face = up   \n",
      "suit = diamond    color = red        number =     2 speciality = None       face = up   \n",
      "suit = diamond    color = red        number =     3 speciality = None       face = up   \n",
      "suit = diamond    color = red        number =     4 speciality = None       face = up   \n",
      "suit = diamond    color = red        number =     5 speciality = None       face = up   \n",
      "suit = diamond    color = red        number =     6 speciality = None       face = up   \n",
      "printing foundation number 4 ********************\n"
     ]
    }
   ],
   "source": [
    "start_env.get_foundation()"
   ]
  },
  {
   "cell_type": "code",
   "execution_count": 106,
   "metadata": {},
   "outputs": [
    {
     "name": "stdout",
     "output_type": "stream",
     "text": [
      "suit = diamond    color = red        number =    13 speciality = KING       face = up   \n",
      "suit = heart      color = red        number =     9 speciality = None       face = up   \n",
      "suit = spade      color = black      number =    11 speciality = JACK       face = up   \n",
      "suit = heart      color = red        number =    12 speciality = QUEEN      face = up   \n",
      "suit = club       color = black      number =    13 speciality = KING       face = up   \n",
      "suit = diamond    color = red        number =    10 speciality = None       face = up   \n",
      "suit = spade      color = black      number =     9 speciality = None       face = up   \n",
      "suit = spade      color = black      number =     4 speciality = None       face = up   \n"
     ]
    }
   ],
   "source": [
    "start_env.get_pile()"
   ]
  },
  {
   "cell_type": "code",
   "execution_count": 107,
   "metadata": {},
   "outputs": [
    {
     "name": "stdout",
     "output_type": "stream",
     "text": [
      "printing tableau number 1 ********************\n",
      "suit = club       color = black      number =     5 speciality = None       face = up   \n",
      "printing tableau number 2 ********************\n",
      "suit = club       color = black      number =     7 speciality = None       face = down \n",
      "suit = heart      color = red        number =    13 speciality = KING       face = up   \n",
      "suit = club       color = black      number =    12 speciality = QUEEN      face = up   \n",
      "suit = heart      color = red        number =    11 speciality = JACK       face = up   \n",
      "suit = club       color = black      number =    10 speciality = None       face = up   \n",
      "suit = diamond    color = red        number =     9 speciality = None       face = up   \n",
      "suit = spade      color = black      number =     8 speciality = None       face = up   \n",
      "suit = heart      color = red        number =     7 speciality = None       face = up   \n",
      "suit = spade      color = black      number =     6 speciality = None       face = up   \n",
      "printing tableau number 3 ********************\n",
      "suit = heart      color = red        number =     6 speciality = None       face = up   \n",
      "suit = spade      color = black      number =     5 speciality = None       face = up   \n",
      "printing tableau number 4 ********************\n",
      "suit = spade      color = black      number =     1 speciality = ACE        face = down \n",
      "suit = heart      color = red        number =     8 speciality = None       face = up   \n",
      "suit = spade      color = black      number =     7 speciality = None       face = up   \n",
      "printing tableau number 5 ********************\n",
      "suit = spade      color = black      number =    13 speciality = KING       face = up   \n",
      "suit = diamond    color = red        number =    12 speciality = QUEEN      face = up   \n",
      "suit = club       color = black      number =    11 speciality = JACK       face = up   \n",
      "suit = heart      color = red        number =    10 speciality = None       face = up   \n",
      "suit = club       color = black      number =     9 speciality = None       face = up   \n",
      "suit = diamond    color = red        number =     8 speciality = None       face = up   \n",
      "printing tableau number 6 ********************\n",
      "suit = heart      color = red        number =     4 speciality = None       face = down \n",
      "suit = diamond    color = red        number =     7 speciality = None       face = down \n",
      "suit = spade      color = black      number =     2 speciality = None       face = down \n",
      "suit = spade      color = black      number =    12 speciality = QUEEN      face = up   \n",
      "suit = diamond    color = red        number =    11 speciality = JACK       face = up   \n",
      "printing tableau number 7 ********************\n",
      "suit = club       color = black      number =     8 speciality = None       face = down \n",
      "suit = spade      color = black      number =     3 speciality = None       face = down \n",
      "suit = club       color = black      number =     3 speciality = None       face = down \n",
      "suit = heart      color = red        number =     3 speciality = None       face = down \n",
      "suit = spade      color = black      number =    10 speciality = None       face = down \n",
      "suit = club       color = black      number =     6 speciality = None       face = up   \n",
      "suit = heart      color = red        number =     5 speciality = None       face = up   \n",
      "suit = club       color = black      number =     4 speciality = None       face = up   \n"
     ]
    }
   ],
   "source": [
    "start_env.get_tableau()"
   ]
  },
  {
   "cell_type": "code",
   "execution_count": null,
   "metadata": {},
   "outputs": [],
   "source": []
  },
  {
   "cell_type": "code",
   "execution_count": null,
   "metadata": {},
   "outputs": [],
   "source": []
  },
  {
   "cell_type": "code",
   "execution_count": null,
   "metadata": {},
   "outputs": [],
   "source": []
  },
  {
   "cell_type": "code",
   "execution_count": null,
   "metadata": {},
   "outputs": [],
   "source": []
  },
  {
   "cell_type": "code",
   "execution_count": 14,
   "metadata": {},
   "outputs": [],
   "source": [
    "end_en = solitaire_env.env()\n",
    "end_en.state = end_state\n",
    "end_en.state = end_en.copy_state()\n"
   ]
  },
  {
   "cell_type": "code",
   "execution_count": 19,
   "metadata": {},
   "outputs": [
    {
     "name": "stdout",
     "output_type": "stream",
     "text": [
      "printing foundation number 1 ********************\n",
      "suit = club       color = black      number =     1 speciality = ACE        face = up   \n",
      "suit = club       color = black      number =     2 speciality = None       face = up   \n",
      "suit = club       color = black      number =     3 speciality = None       face = up   \n",
      "suit = club       color = black      number =     4 speciality = None       face = up   \n",
      "printing foundation number 2 ********************\n",
      "suit = heart      color = red        number =     1 speciality = ACE        face = up   \n",
      "suit = heart      color = red        number =     2 speciality = None       face = up   \n",
      "suit = heart      color = red        number =     3 speciality = None       face = up   \n",
      "printing foundation number 3 ********************\n",
      "suit = diamond    color = red        number =     1 speciality = ACE        face = up   \n",
      "suit = diamond    color = red        number =     2 speciality = None       face = up   \n",
      "suit = diamond    color = red        number =     3 speciality = None       face = up   \n",
      "suit = diamond    color = red        number =     4 speciality = None       face = up   \n",
      "suit = diamond    color = red        number =     5 speciality = None       face = up   \n",
      "suit = diamond    color = red        number =     6 speciality = None       face = up   \n",
      "suit = diamond    color = red        number =     7 speciality = None       face = up   \n",
      "suit = diamond    color = red        number =     8 speciality = None       face = up   \n",
      "suit = diamond    color = red        number =     9 speciality = None       face = up   \n",
      "suit = diamond    color = red        number =    10 speciality = None       face = up   \n",
      "printing foundation number 4 ********************\n",
      "suit = spade      color = black      number =     1 speciality = ACE        face = up   \n",
      "suit = spade      color = black      number =     2 speciality = None       face = up   \n",
      "suit = spade      color = black      number =     3 speciality = None       face = up   \n",
      "suit = spade      color = black      number =     4 speciality = None       face = up   \n",
      "suit = spade      color = black      number =     5 speciality = None       face = up   \n",
      "suit = spade      color = black      number =     6 speciality = None       face = up   \n",
      "suit = spade      color = black      number =     7 speciality = None       face = up   \n",
      "suit = spade      color = black      number =     8 speciality = None       face = up   \n",
      "suit = spade      color = black      number =     9 speciality = None       face = up   \n",
      "suit = spade      color = black      number =    10 speciality = None       face = up   \n",
      "suit = spade      color = black      number =    11 speciality = JACK       face = up   \n",
      "suit = spade      color = black      number =    12 speciality = QUEEN      face = up   \n"
     ]
    }
   ],
   "source": [
    "end_en.get_foundation()"
   ]
  },
  {
   "cell_type": "code",
   "execution_count": 20,
   "metadata": {},
   "outputs": [
    {
     "name": "stdout",
     "output_type": "stream",
     "text": [
      "printing tableau number 1 ********************\n",
      "suit = club       color = black      number =    13 speciality = KING       face = up   \n",
      "suit = diamond    color = red        number =    12 speciality = QUEEN      face = up   \n",
      "suit = club       color = black      number =    11 speciality = JACK       face = up   \n",
      "suit = heart      color = red        number =    10 speciality = None       face = up   \n",
      "suit = club       color = black      number =     9 speciality = None       face = up   \n",
      "suit = heart      color = red        number =     8 speciality = None       face = up   \n",
      "suit = club       color = black      number =     7 speciality = None       face = up   \n",
      "printing tableau number 2 ********************\n",
      "suit = heart      color = red        number =     6 speciality = None       face = up   \n",
      "suit = club       color = black      number =     5 speciality = None       face = up   \n",
      "suit = heart      color = red        number =     4 speciality = None       face = up   \n",
      "printing tableau number 3 ********************\n",
      "suit = heart      color = red        number =    13 speciality = KING       face = up   \n",
      "suit = club       color = black      number =    12 speciality = QUEEN      face = up   \n",
      "suit = diamond    color = red        number =    11 speciality = JACK       face = up   \n",
      "suit = club       color = black      number =    10 speciality = None       face = up   \n",
      "suit = heart      color = red        number =     9 speciality = None       face = up   \n",
      "suit = club       color = black      number =     8 speciality = None       face = up   \n",
      "suit = heart      color = red        number =     7 speciality = None       face = up   \n",
      "suit = club       color = black      number =     6 speciality = None       face = up   \n",
      "printing tableau number 4 ********************\n",
      "suit = heart      color = red        number =     5 speciality = None       face = down \n",
      "suit = spade      color = black      number =    13 speciality = KING       face = up   \n",
      "suit = heart      color = red        number =    12 speciality = QUEEN      face = up   \n",
      "printing tableau number 5 ********************\n",
      "suit = heart      color = red        number =    11 speciality = JACK       face = up   \n",
      "printing tableau number 6 ********************\n",
      "printing tableau number 7 ********************\n",
      "suit = diamond    color = red        number =    13 speciality = KING       face = up   \n"
     ]
    }
   ],
   "source": [
    "end_en.get_tableau()"
   ]
  },
  {
   "cell_type": "code",
   "execution_count": 21,
   "metadata": {},
   "outputs": [],
   "source": [
    "end_en.get_pile()"
   ]
  },
  {
   "cell_type": "code",
   "execution_count": 22,
   "metadata": {},
   "outputs": [
    {
     "data": {
      "text/plain": [
       "(False, True)"
      ]
     },
     "execution_count": 22,
     "metadata": {},
     "output_type": "execute_result"
    }
   ],
   "source": [
    "w,t = end_en.step(1,fp_flag=True)\n",
    "w,t"
   ]
  },
  {
   "cell_type": "code",
   "execution_count": 24,
   "metadata": {},
   "outputs": [
    {
     "name": "stdout",
     "output_type": "stream",
     "text": [
      "printing foundation number 1 ********************\n",
      "suit = club       color = black      number =     1 speciality = ACE        face = up   \n",
      "suit = club       color = black      number =     2 speciality = None       face = up   \n",
      "suit = club       color = black      number =     3 speciality = None       face = up   \n",
      "suit = club       color = black      number =     4 speciality = None       face = up   \n",
      "printing foundation number 2 ********************\n",
      "suit = heart      color = red        number =     1 speciality = ACE        face = up   \n",
      "suit = heart      color = red        number =     2 speciality = None       face = up   \n",
      "suit = heart      color = red        number =     3 speciality = None       face = up   \n",
      "suit = heart      color = red        number =     4 speciality = None       face = up   \n",
      "printing foundation number 3 ********************\n",
      "suit = diamond    color = red        number =     1 speciality = ACE        face = up   \n",
      "suit = diamond    color = red        number =     2 speciality = None       face = up   \n",
      "suit = diamond    color = red        number =     3 speciality = None       face = up   \n",
      "suit = diamond    color = red        number =     4 speciality = None       face = up   \n",
      "suit = diamond    color = red        number =     5 speciality = None       face = up   \n",
      "suit = diamond    color = red        number =     6 speciality = None       face = up   \n",
      "suit = diamond    color = red        number =     7 speciality = None       face = up   \n",
      "suit = diamond    color = red        number =     8 speciality = None       face = up   \n",
      "suit = diamond    color = red        number =     9 speciality = None       face = up   \n",
      "suit = diamond    color = red        number =    10 speciality = None       face = up   \n",
      "printing foundation number 4 ********************\n",
      "suit = spade      color = black      number =     1 speciality = ACE        face = up   \n",
      "suit = spade      color = black      number =     2 speciality = None       face = up   \n",
      "suit = spade      color = black      number =     3 speciality = None       face = up   \n",
      "suit = spade      color = black      number =     4 speciality = None       face = up   \n",
      "suit = spade      color = black      number =     5 speciality = None       face = up   \n",
      "suit = spade      color = black      number =     6 speciality = None       face = up   \n",
      "suit = spade      color = black      number =     7 speciality = None       face = up   \n",
      "suit = spade      color = black      number =     8 speciality = None       face = up   \n",
      "suit = spade      color = black      number =     9 speciality = None       face = up   \n",
      "suit = spade      color = black      number =    10 speciality = None       face = up   \n",
      "suit = spade      color = black      number =    11 speciality = JACK       face = up   \n",
      "suit = spade      color = black      number =    12 speciality = QUEEN      face = up   \n"
     ]
    }
   ],
   "source": [
    "end_en.get_foundation()"
   ]
  },
  {
   "cell_type": "code",
   "execution_count": 25,
   "metadata": {},
   "outputs": [
    {
     "name": "stdout",
     "output_type": "stream",
     "text": [
      "printing tableau number 1 ********************\n",
      "suit = club       color = black      number =    13 speciality = KING       face = up   \n",
      "suit = diamond    color = red        number =    12 speciality = QUEEN      face = up   \n",
      "suit = club       color = black      number =    11 speciality = JACK       face = up   \n",
      "suit = heart      color = red        number =    10 speciality = None       face = up   \n",
      "suit = club       color = black      number =     9 speciality = None       face = up   \n",
      "suit = heart      color = red        number =     8 speciality = None       face = up   \n",
      "suit = club       color = black      number =     7 speciality = None       face = up   \n",
      "printing tableau number 2 ********************\n",
      "suit = heart      color = red        number =     6 speciality = None       face = up   \n",
      "suit = club       color = black      number =     5 speciality = None       face = up   \n",
      "printing tableau number 3 ********************\n",
      "suit = heart      color = red        number =    13 speciality = KING       face = up   \n",
      "suit = club       color = black      number =    12 speciality = QUEEN      face = up   \n",
      "suit = diamond    color = red        number =    11 speciality = JACK       face = up   \n",
      "suit = club       color = black      number =    10 speciality = None       face = up   \n",
      "suit = heart      color = red        number =     9 speciality = None       face = up   \n",
      "suit = club       color = black      number =     8 speciality = None       face = up   \n",
      "suit = heart      color = red        number =     7 speciality = None       face = up   \n",
      "suit = club       color = black      number =     6 speciality = None       face = up   \n",
      "printing tableau number 4 ********************\n",
      "suit = heart      color = red        number =     5 speciality = None       face = down \n",
      "suit = spade      color = black      number =    13 speciality = KING       face = up   \n",
      "suit = heart      color = red        number =    12 speciality = QUEEN      face = up   \n",
      "printing tableau number 5 ********************\n",
      "suit = heart      color = red        number =    11 speciality = JACK       face = up   \n",
      "printing tableau number 6 ********************\n",
      "printing tableau number 7 ********************\n",
      "suit = diamond    color = red        number =    13 speciality = KING       face = up   \n"
     ]
    }
   ],
   "source": [
    "end_en.get_tableau()"
   ]
  },
  {
   "cell_type": "code",
   "execution_count": 26,
   "metadata": {},
   "outputs": [
    {
     "data": {
      "text/plain": [
       "(False, True)"
      ]
     },
     "execution_count": 26,
     "metadata": {},
     "output_type": "execute_result"
    }
   ],
   "source": [
    "w,t = end_en.step(4,fp_flag=True)\n",
    "w,t"
   ]
  },
  {
   "cell_type": "code",
   "execution_count": 27,
   "metadata": {},
   "outputs": [
    {
     "name": "stdout",
     "output_type": "stream",
     "text": [
      "printing foundation number 1 ********************\n",
      "suit = club       color = black      number =     1 speciality = ACE        face = up   \n",
      "suit = club       color = black      number =     2 speciality = None       face = up   \n",
      "suit = club       color = black      number =     3 speciality = None       face = up   \n",
      "suit = club       color = black      number =     4 speciality = None       face = up   \n",
      "printing foundation number 2 ********************\n",
      "suit = heart      color = red        number =     1 speciality = ACE        face = up   \n",
      "suit = heart      color = red        number =     2 speciality = None       face = up   \n",
      "suit = heart      color = red        number =     3 speciality = None       face = up   \n",
      "printing foundation number 3 ********************\n",
      "suit = diamond    color = red        number =     1 speciality = ACE        face = up   \n",
      "suit = diamond    color = red        number =     2 speciality = None       face = up   \n",
      "suit = diamond    color = red        number =     3 speciality = None       face = up   \n",
      "suit = diamond    color = red        number =     4 speciality = None       face = up   \n",
      "suit = diamond    color = red        number =     5 speciality = None       face = up   \n",
      "suit = diamond    color = red        number =     6 speciality = None       face = up   \n",
      "suit = diamond    color = red        number =     7 speciality = None       face = up   \n",
      "suit = diamond    color = red        number =     8 speciality = None       face = up   \n",
      "suit = diamond    color = red        number =     9 speciality = None       face = up   \n",
      "suit = diamond    color = red        number =    10 speciality = None       face = up   \n",
      "printing foundation number 4 ********************\n",
      "suit = spade      color = black      number =     1 speciality = ACE        face = up   \n",
      "suit = spade      color = black      number =     2 speciality = None       face = up   \n",
      "suit = spade      color = black      number =     3 speciality = None       face = up   \n",
      "suit = spade      color = black      number =     4 speciality = None       face = up   \n",
      "suit = spade      color = black      number =     5 speciality = None       face = up   \n",
      "suit = spade      color = black      number =     6 speciality = None       face = up   \n",
      "suit = spade      color = black      number =     7 speciality = None       face = up   \n",
      "suit = spade      color = black      number =     8 speciality = None       face = up   \n",
      "suit = spade      color = black      number =     9 speciality = None       face = up   \n",
      "suit = spade      color = black      number =    10 speciality = None       face = up   \n",
      "suit = spade      color = black      number =    11 speciality = JACK       face = up   \n",
      "suit = spade      color = black      number =    12 speciality = QUEEN      face = up   \n"
     ]
    }
   ],
   "source": [
    "end_en.get_foundation()"
   ]
  },
  {
   "cell_type": "code",
   "execution_count": 28,
   "metadata": {},
   "outputs": [
    {
     "name": "stdout",
     "output_type": "stream",
     "text": [
      "printing tableau number 1 ********************\n",
      "suit = club       color = black      number =    13 speciality = KING       face = up   \n",
      "suit = diamond    color = red        number =    12 speciality = QUEEN      face = up   \n",
      "suit = club       color = black      number =    11 speciality = JACK       face = up   \n",
      "suit = heart      color = red        number =    10 speciality = None       face = up   \n",
      "suit = club       color = black      number =     9 speciality = None       face = up   \n",
      "suit = heart      color = red        number =     8 speciality = None       face = up   \n",
      "suit = club       color = black      number =     7 speciality = None       face = up   \n",
      "printing tableau number 2 ********************\n",
      "suit = heart      color = red        number =     6 speciality = None       face = up   \n",
      "suit = club       color = black      number =     5 speciality = None       face = up   \n",
      "suit = heart      color = red        number =     4 speciality = None       face = up   \n",
      "printing tableau number 3 ********************\n",
      "suit = heart      color = red        number =    13 speciality = KING       face = up   \n",
      "suit = club       color = black      number =    12 speciality = QUEEN      face = up   \n",
      "suit = diamond    color = red        number =    11 speciality = JACK       face = up   \n",
      "suit = club       color = black      number =    10 speciality = None       face = up   \n",
      "suit = heart      color = red        number =     9 speciality = None       face = up   \n",
      "suit = club       color = black      number =     8 speciality = None       face = up   \n",
      "suit = heart      color = red        number =     7 speciality = None       face = up   \n",
      "suit = club       color = black      number =     6 speciality = None       face = up   \n",
      "printing tableau number 4 ********************\n",
      "suit = heart      color = red        number =     5 speciality = None       face = down \n",
      "suit = spade      color = black      number =    13 speciality = KING       face = up   \n",
      "suit = heart      color = red        number =    12 speciality = QUEEN      face = up   \n",
      "printing tableau number 5 ********************\n",
      "suit = heart      color = red        number =    11 speciality = JACK       face = up   \n",
      "printing tableau number 6 ********************\n",
      "printing tableau number 7 ********************\n",
      "suit = diamond    color = red        number =    13 speciality = KING       face = up   \n"
     ]
    }
   ],
   "source": [
    "end_en.get_tableau()"
   ]
  },
  {
   "cell_type": "code",
   "execution_count": 31,
   "metadata": {},
   "outputs": [
    {
     "data": {
      "text/plain": [
       "(False, False)"
      ]
     },
     "execution_count": 31,
     "metadata": {},
     "output_type": "execute_result"
    }
   ],
   "source": [
    "w,t = end_en.step(1,fp_flag=True)\n",
    "w,t"
   ]
  },
  {
   "cell_type": "code",
   "execution_count": 30,
   "metadata": {},
   "outputs": [
    {
     "name": "stdout",
     "output_type": "stream",
     "text": [
      "printing foundation number 1 ********************\n",
      "suit = club       color = black      number =     1 speciality = ACE        face = up   \n",
      "suit = club       color = black      number =     2 speciality = None       face = up   \n",
      "suit = club       color = black      number =     3 speciality = None       face = up   \n",
      "suit = club       color = black      number =     4 speciality = None       face = up   \n",
      "printing foundation number 2 ********************\n",
      "suit = heart      color = red        number =     1 speciality = ACE        face = up   \n",
      "suit = heart      color = red        number =     2 speciality = None       face = up   \n",
      "suit = heart      color = red        number =     3 speciality = None       face = up   \n",
      "printing foundation number 3 ********************\n",
      "suit = diamond    color = red        number =     1 speciality = ACE        face = up   \n",
      "suit = diamond    color = red        number =     2 speciality = None       face = up   \n",
      "suit = diamond    color = red        number =     3 speciality = None       face = up   \n",
      "suit = diamond    color = red        number =     4 speciality = None       face = up   \n",
      "suit = diamond    color = red        number =     5 speciality = None       face = up   \n",
      "suit = diamond    color = red        number =     6 speciality = None       face = up   \n",
      "suit = diamond    color = red        number =     7 speciality = None       face = up   \n",
      "suit = diamond    color = red        number =     8 speciality = None       face = up   \n",
      "suit = diamond    color = red        number =     9 speciality = None       face = up   \n",
      "suit = diamond    color = red        number =    10 speciality = None       face = up   \n",
      "printing foundation number 4 ********************\n",
      "suit = spade      color = black      number =     1 speciality = ACE        face = up   \n",
      "suit = spade      color = black      number =     2 speciality = None       face = up   \n",
      "suit = spade      color = black      number =     3 speciality = None       face = up   \n",
      "suit = spade      color = black      number =     4 speciality = None       face = up   \n",
      "suit = spade      color = black      number =     5 speciality = None       face = up   \n",
      "suit = spade      color = black      number =     6 speciality = None       face = up   \n",
      "suit = spade      color = black      number =     7 speciality = None       face = up   \n",
      "suit = spade      color = black      number =     8 speciality = None       face = up   \n",
      "suit = spade      color = black      number =     9 speciality = None       face = up   \n",
      "suit = spade      color = black      number =    10 speciality = None       face = up   \n",
      "suit = spade      color = black      number =    11 speciality = JACK       face = up   \n",
      "suit = spade      color = black      number =    12 speciality = QUEEN      face = up   \n"
     ]
    }
   ],
   "source": [
    "end_en.get_foundation()"
   ]
  },
  {
   "cell_type": "code",
   "execution_count": 103,
   "metadata": {},
   "outputs": [
    {
     "name": "stdout",
     "output_type": "stream",
     "text": [
      "printing tableau number 1 ********************\n",
      "printing tableau number 2 ********************\n",
      "suit = club       color = black      number =    13 speciality = KING       face = up   \n",
      "printing tableau number 3 ********************\n",
      "suit = club       color = black      number =    12 speciality = QUEEN      face = up   \n",
      "suit = heart      color = red        number =    11 speciality = JACK       face = up   \n",
      "suit = spade      color = black      number =    10 speciality = None       face = up   \n",
      "suit = diamond    color = red        number =     9 speciality = None       face = up   \n",
      "suit = spade      color = black      number =     8 speciality = None       face = up   \n",
      "suit = heart      color = red        number =     7 speciality = None       face = up   \n",
      "suit = spade      color = black      number =     6 speciality = None       face = up   \n",
      "suit = heart      color = red        number =     5 speciality = None       face = up   \n",
      "printing tableau number 4 ********************\n",
      "suit = heart      color = red        number =     9 speciality = None       face = up   \n",
      "printing tableau number 5 ********************\n",
      "suit = heart      color = red        number =    12 speciality = QUEEN      face = up   \n",
      "printing tableau number 6 ********************\n",
      "suit = heart      color = red        number =     8 speciality = None       face = down \n",
      "suit = heart      color = red        number =    13 speciality = KING       face = down \n",
      "suit = diamond    color = red        number =    13 speciality = KING       face = down \n",
      "suit = diamond    color = red        number =    10 speciality = None       face = down \n",
      "suit = spade      color = black      number =    13 speciality = KING       face = up   \n",
      "suit = diamond    color = red        number =    12 speciality = QUEEN      face = up   \n",
      "suit = spade      color = black      number =    11 speciality = JACK       face = up   \n",
      "suit = heart      color = red        number =    10 speciality = None       face = up   \n",
      "suit = spade      color = black      number =     9 speciality = None       face = up   \n",
      "suit = diamond    color = red        number =     8 speciality = None       face = up   \n",
      "suit = spade      color = black      number =     7 speciality = None       face = up   \n",
      "suit = heart      color = red        number =     6 speciality = None       face = up   \n",
      "printing tableau number 7 ********************\n"
     ]
    }
   ],
   "source": [
    "end_en.get_tableau()"
   ]
  },
  {
   "cell_type": "code",
   "execution_count": null,
   "metadata": {},
   "outputs": [],
   "source": []
  }
 ],
 "metadata": {
  "kernelspec": {
   "display_name": "Python 3",
   "language": "python",
   "name": "python3"
  },
  "language_info": {
   "codemirror_mode": {
    "name": "ipython",
    "version": 3
   },
   "file_extension": ".py",
   "mimetype": "text/x-python",
   "name": "python",
   "nbconvert_exporter": "python",
   "pygments_lexer": "ipython3",
   "version": "3.6.10"
  }
 },
 "nbformat": 4,
 "nbformat_minor": 4
}
