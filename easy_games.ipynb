{
 "cells": [
  {
   "cell_type": "code",
   "execution_count": 46,
   "metadata": {},
   "outputs": [],
   "source": [
    "import solitaire_env\n",
    "from tqdm import tqdm\n",
    "import time\n",
    "import random"
   ]
  },
  {
   "cell_type": "code",
   "execution_count": 47,
   "metadata": {},
   "outputs": [],
   "source": [
    "suit = {0:'club',1:'heart',2:'diamond',3:'spade'}\n",
    "\n",
    "speciality = {1:'ACE',11:'KING',12:'QUEEN',13:'JACK'}\n",
    "\n",
    "color = {'club':'black','spade':'black','diamond':'red','heart':'red'}"
   ]
  },
  {
   "cell_type": "code",
   "execution_count": 48,
   "metadata": {},
   "outputs": [],
   "source": [
    "easy_game_1 = None\n",
    "\n",
    "easy_game_1 = solitaire_env.state()\n",
    "\n",
    "\n",
    "for i in range(2,11):\n",
    "    speciality[i]=None\n",
    "\n",
    "for j in range(4):\n",
    "    for i in range(1,14):\n",
    "        \n",
    "        easy_game_1.foundation[j].append(solitaire_env.card(color[suit[j]],suit[j],i,speciality[i],'face-up'))\n",
    "\n",
    "        \n",
    "for i in range(7):\n",
    "    easy_game_1.tableau[i] = []\n",
    "    \n",
    "easy_game_1.pile = []\n",
    "\n",
    "for i in range(4):\n",
    "    easy_game_1.pile.append(easy_game_1.foundation[i].pop())\n",
    "    "
   ]
  },
  {
   "cell_type": "code",
   "execution_count": 49,
   "metadata": {},
   "outputs": [],
   "source": [
    "easy_game_2 = None\n",
    "\n",
    "easy_game_2 = solitaire_env.state()\n",
    "\n",
    "for i in range(2,11):\n",
    "    speciality[i]=None\n",
    "\n",
    "for j in range(4):\n",
    "    for i in range(1,14):\n",
    "        \n",
    "        easy_game_2.foundation[j].append(solitaire_env.card(color[suit[j]],suit[j],i,speciality[i],'face-up'))\n",
    "\n",
    "        \n",
    "for i in range(7):\n",
    "    easy_game_2.tableau[i] = []\n",
    "    \n",
    "easy_game_2.pile = []\n",
    "\n",
    "\n",
    "for i in range(4):\n",
    "    easy_game_2.pile.append(easy_game_1.foundation[i].pop())\n",
    "    \n",
    "\n",
    "    \n",
    "for j in range(4):\n",
    "    easy_game_2.tableau[j].append(easy_game_1.foundation[j].pop())\n",
    "    \n"
   ]
  },
  {
   "cell_type": "code",
   "execution_count": 50,
   "metadata": {},
   "outputs": [],
   "source": [
    "easy_game_3 = None\n",
    "\n",
    "easy_game_3 = solitaire_env.state()\n",
    "\n",
    "for i in range(2,11):\n",
    "    speciality[i]=None\n",
    "\n",
    "for j in range(4):\n",
    "    for i in range(1,14):\n",
    "        \n",
    "        easy_game_3.foundation[j].append(solitaire_env.card(color[suit[j]],suit[j],i,speciality[i],'face-up'))\n",
    "\n",
    "        \n",
    "for i in range(7):\n",
    "    easy_game_3.tableau[i] = []\n",
    "    \n",
    "    \n",
    "easy_game_3.pile = []\n",
    "        \n",
    "for i in range(4):\n",
    "    for j in range(13):\n",
    "        easy_game_3.pile.append(easy_game_3.foundation[i].pop())"
   ]
  },
  {
   "cell_type": "code",
   "execution_count": 71,
   "metadata": {},
   "outputs": [
    {
     "name": "stdout",
     "output_type": "stream",
     "text": [
      "0 red black 9 8\n",
      "1 red black 6 5\n",
      "3 black red 4 3\n",
      "4 red black 6 5\n",
      "5 black red 9 8\n",
      "0 black red 8 7\n",
      "1 black red 5 4\n",
      "3 red black 3 2\n",
      "4 black red 5 4\n",
      "5 red black 8 7\n",
      "0 red black 7 6\n",
      "1 red black 4 3\n",
      "3 black red 2 1\n",
      "4 red black 4 3\n",
      "0 black red 6 5\n",
      "1 black red 3 2\n",
      "4 black red 3 2\n",
      "0 red black 5 4\n",
      "0 black red 4 3\n",
      "0 red black 3 2\n",
      "0 black red 2 1\n"
     ]
    }
   ],
   "source": [
    "easy_game_4 = solitaire_env.state()\n",
    "\n",
    "for i in range(2,11):\n",
    "    speciality[i]=None\n",
    "    \n",
    "    \n",
    "for i in range(7):\n",
    "    easy_game_4.tableau[i] = []\n",
    "    \n",
    "    \n",
    "easy_game_4.pile = []\n",
    "    \n",
    "for j in range(4):\n",
    "    for i in range(1,14):\n",
    "        easy_game_4.pile.append(solitaire_env.card(color[suit[j]],suit[j],i,speciality[i],'face-up'))\n",
    "        \n",
    "for i in range(7):\n",
    "    \n",
    "    ind = random.sample(range(len(easy_game_4.pile)),1)[0]\n",
    "    \n",
    "    card_to_move = easy_game_4.pile.pop(ind)\n",
    "    \n",
    "    easy_game_4.tableau[i].append(card_to_move)\n",
    "    \n",
    "    \n",
    "\n",
    "\n",
    "\n",
    "moving = True\n",
    "while moving:\n",
    "    \n",
    "    moving = False\n",
    "    for i in range(7):\n",
    "\n",
    "        cd1 = easy_game_4.tableau[i][-1]\n",
    "        \n",
    "        \n",
    "        found_compatible = False\n",
    "        \n",
    "        ind,cd2 = None, None\n",
    "        for ind,cd2 in enumerate(easy_game_4.pile):\n",
    "\n",
    "            if cd1.color != cd2.color and cd1.number == (cd2.number + 1):\n",
    "                \n",
    "                \n",
    "                found_compatible = True\n",
    "                break\n",
    "        \n",
    "        if found_compatible == True:\n",
    "            \n",
    "            easy_game_4.pile.pop(ind)\n",
    "\n",
    "            easy_game_4.tableau[i].append(cd2)\n",
    "            \n",
    "            print(i,cd1.color,cd2.color,cd1.number,cd2.number)\n",
    "            moving = True\n",
    "\n",
    "        \n",
    "        "
   ]
  },
  {
   "cell_type": "code",
   "execution_count": 100,
   "metadata": {
    "scrolled": false
   },
   "outputs": [
    {
     "name": "stdout",
     "output_type": "stream",
     "text": [
      "0 red black 6 5\n",
      "1 black red 4 3\n",
      "2 red black 12 11\n",
      "3 red black 5 4\n",
      "4 red black 11 10\n",
      "5 red black 6 5\n",
      "6 red black 7 6\n",
      "0 black red 5 4\n",
      "1 red black 3 2\n",
      "2 black red 11 10\n",
      "3 black red 4 3\n",
      "4 black red 10 9\n",
      "5 black red 5 4\n",
      "6 black red 6 5\n",
      "0 red black 4 3\n",
      "1 black red 2 1\n",
      "2 red black 10 9\n",
      "3 red black 3 2\n",
      "4 red black 9 8\n",
      "5 red black 4 3\n",
      "0 black red 3 2\n",
      "2 black red 9 8\n",
      "3 black red 2 1\n",
      "4 black red 8 7\n",
      "5 black red 3 2\n",
      "0 red black 2 1\n",
      "2 red black 8 7\n",
      "4 red black 7 6\n",
      "5 red black 2 1\n"
     ]
    }
   ],
   "source": [
    "easy_game_5 = solitaire_env.state()\n",
    "\n",
    "for i in range(2,11):\n",
    "    speciality[i]=None\n",
    "    \n",
    "    \n",
    "for i in range(7):\n",
    "    easy_game_5.tableau[i] = []\n",
    "    \n",
    "    \n",
    "easy_game_5.pile = []\n",
    "    \n",
    "for j in range(4):\n",
    "    for i in range(1,14):\n",
    "        easy_game_5.pile.append(solitaire_env.card(color[suit[j]],suit[j],i,speciality[i],'up'))\n",
    "        \n",
    "for i in range(7):\n",
    "    \n",
    "    ind = random.sample(range(len(easy_game_5.pile)),1)[0]\n",
    "    \n",
    "    card_to_move = easy_game_5.pile.pop(ind)\n",
    "    \n",
    "    easy_game_5.tableau[i].append(card_to_move)\n",
    "    \n",
    "    \n",
    "\n",
    "\n",
    "\n",
    "moving = True\n",
    "while moving:\n",
    "    \n",
    "    moving = False\n",
    "    for i in range(7):\n",
    "\n",
    "        cd1 = easy_game_5.tableau[i][-1]\n",
    "        \n",
    "        \n",
    "        found_compatible = False\n",
    "        \n",
    "        ind,cd2 = None, None\n",
    "        for ind,cd2 in enumerate(easy_game_5.pile):\n",
    "\n",
    "            if cd1.color != cd2.color and cd1.number == (cd2.number + 1):\n",
    "                \n",
    "                \n",
    "                found_compatible = True\n",
    "                break\n",
    "        \n",
    "        if found_compatible == True:\n",
    "            \n",
    "            easy_game_5.pile.pop(ind)\n",
    "\n",
    "            easy_game_5.tableau[i].append(cd2)\n",
    "            \n",
    "            print(i,cd1.color,cd2.color,cd1.number,cd2.number)\n",
    "            moving = True\n",
    "\n",
    "        \n",
    "for i in range(7):\n",
    "    \n",
    "    for cd in easy_game_5.tableau[i]:\n",
    "        cd.face = 'down'\n",
    "        \n",
    "        \n",
    "        \n",
    "    easy_game_5.tableau[i][-1].face = 'up'"
   ]
  },
  {
   "cell_type": "code",
   "execution_count": 101,
   "metadata": {},
   "outputs": [],
   "source": [
    "#print(easy_game_3.tableau,easy_game_3.foundation)"
   ]
  },
  {
   "cell_type": "code",
   "execution_count": null,
   "metadata": {},
   "outputs": [],
   "source": []
  },
  {
   "cell_type": "code",
   "execution_count": 102,
   "metadata": {},
   "outputs": [],
   "source": [
    "def greedy_policy_search(easy_en = None):\n",
    "    \n",
    "    start = time.time()\n",
    "    different_states = []\n",
    "    \n",
    "    count = 0 \n",
    "    number_of_games = 0\n",
    "    en = easy_en\n",
    "    tot = 20000\n",
    "    \n",
    "    won,taken = False,True\n",
    "    number_of_actions = 0\n",
    "\n",
    "    action_type = {0:'tableau_to_foundation_reveal',\\\n",
    "                   1:'to_foundation_stack',2:'tableau_to_tableau_reveal',\\\n",
    "                   3:'pile_to_tableau',\\\n",
    "                    4:'foundation_to_tableau',\\\n",
    "                   5:'tableau_to_tableau_not_reveal'\\\n",
    "                  }\n",
    "\n",
    "    action_freq = {0:0,1:0,2:0,3:0,4:0,5:0}\n",
    "\n",
    "    while number_of_actions < tot and won == False:\n",
    "\n",
    "        action = 0\n",
    "        while taken == True and number_of_actions < tot and won == False:\n",
    "            won,taken = en.step(action)\n",
    "            number_of_actions+=1\n",
    "            action_freq[0]+=1\n",
    "\n",
    "        action +=1\n",
    "        taken = True\n",
    "\n",
    "        while taken == True and number_of_actions < tot and won == False:\n",
    "            won,taken = en.step(action)\n",
    "            number_of_actions+=1\n",
    "            action_freq[1]+=1\n",
    "        action +=1\n",
    "        taken = True\n",
    "        while taken == True and number_of_actions < tot and won == False:\n",
    "            won,taken = en.step(action)\n",
    "\n",
    "            number_of_actions+=1\n",
    "            action_freq[2]+=1\n",
    "        action +=1\n",
    "        taken = True\n",
    "        while taken == True and number_of_actions < tot and won == False:\n",
    "            won,taken = en.step(action)\n",
    "            number_of_actions+=1\n",
    "            action_freq[3]+=1\n",
    "        action +=1\n",
    "        taken = True\n",
    "        while taken == True and number_of_actions < tot and won == False:\n",
    "            won,taken = en.step(action)\n",
    "            number_of_actions+=1\n",
    "            action_freq[4]+=1\n",
    "\n",
    "\n",
    "        action +=1\n",
    "        taken = True\n",
    "        while taken == True and number_of_actions < tot and won == False:\n",
    "            won,taken = en.step(action)\n",
    "            number_of_actions+=1\n",
    "            action_freq[5]+=1\n",
    "\n",
    "\n",
    "\n",
    "        if won:\n",
    "            count+=1\n",
    "\n",
    "    different_states.append(len(en.hashable_map.keys()))\n",
    "    if number_of_games%100 == 0:\n",
    "        print(count,number_of_games)\n",
    "\n",
    "    print(\"wins:\",count)\n",
    "    print(\"time taken : \",time.time()-start)\n",
    "    \n",
    "    return different_states,number_of_games,number_of_actions,action_freq,action_type"
   ]
  },
  {
   "cell_type": "code",
   "execution_count": 103,
   "metadata": {},
   "outputs": [
    {
     "name": "stdout",
     "output_type": "stream",
     "text": [
      "suit = club       color = black      number =    12 speciality = QUEEN      face = up   \n",
      "suit = club       color = black      number =    13 speciality = JACK       face = up   \n",
      "suit = heart      color = red        number =    12 speciality = QUEEN      face = up   \n",
      "suit = heart      color = red        number =    13 speciality = JACK       face = up   \n",
      "suit = diamond    color = red        number =     8 speciality = None       face = up   \n",
      "suit = diamond    color = red        number =     9 speciality = None       face = up   \n",
      "suit = diamond    color = red        number =    10 speciality = None       face = up   \n",
      "suit = diamond    color = red        number =    11 speciality = KING       face = up   \n",
      "suit = diamond    color = red        number =    13 speciality = JACK       face = up   \n",
      "suit = spade      color = black      number =     7 speciality = None       face = up   \n",
      "suit = spade      color = black      number =     8 speciality = None       face = up   \n",
      "suit = spade      color = black      number =     9 speciality = None       face = up   \n",
      "suit = spade      color = black      number =    10 speciality = None       face = up   \n",
      "suit = spade      color = black      number =    11 speciality = KING       face = up   \n",
      "suit = spade      color = black      number =    12 speciality = QUEEN      face = up   \n",
      "suit = spade      color = black      number =    13 speciality = JACK       face = up   \n",
      "printing foundation number 1 ********************\n",
      "printing foundation number 2 ********************\n",
      "printing foundation number 3 ********************\n",
      "printing foundation number 4 ********************\n"
     ]
    }
   ],
   "source": [
    "easy_en = solitaire_env.env()\n",
    "easy_en.state = easy_game_5\n",
    "\n",
    "\n",
    "easy_en.get_pile()\n",
    "\n",
    "easy_en.get_foundation()"
   ]
  },
  {
   "cell_type": "code",
   "execution_count": 104,
   "metadata": {},
   "outputs": [
    {
     "name": "stdout",
     "output_type": "stream",
     "text": [
      "printing tableau number 1 ********************\n",
      "suit = heart      color = red        number =     6 speciality = None       face = down \n",
      "suit = club       color = black      number =     5 speciality = None       face = down \n",
      "suit = heart      color = red        number =     4 speciality = None       face = down \n",
      "suit = club       color = black      number =     3 speciality = None       face = down \n",
      "suit = heart      color = red        number =     2 speciality = None       face = down \n",
      "suit = club       color = black      number =     1 speciality = ACE        face = up   \n",
      "printing tableau number 2 ********************\n",
      "suit = spade      color = black      number =     4 speciality = None       face = down \n",
      "suit = heart      color = red        number =     3 speciality = None       face = down \n",
      "suit = club       color = black      number =     2 speciality = None       face = down \n",
      "suit = heart      color = red        number =     1 speciality = ACE        face = up   \n",
      "printing tableau number 3 ********************\n",
      "suit = diamond    color = red        number =    12 speciality = QUEEN      face = down \n",
      "suit = club       color = black      number =    11 speciality = KING       face = down \n",
      "suit = heart      color = red        number =    10 speciality = None       face = down \n",
      "suit = club       color = black      number =     9 speciality = None       face = down \n",
      "suit = heart      color = red        number =     8 speciality = None       face = down \n",
      "suit = club       color = black      number =     7 speciality = None       face = up   \n",
      "printing tableau number 4 ********************\n",
      "suit = heart      color = red        number =     5 speciality = None       face = down \n",
      "suit = club       color = black      number =     4 speciality = None       face = down \n",
      "suit = diamond    color = red        number =     3 speciality = None       face = down \n",
      "suit = spade      color = black      number =     2 speciality = None       face = down \n",
      "suit = diamond    color = red        number =     1 speciality = ACE        face = up   \n",
      "printing tableau number 5 ********************\n",
      "suit = heart      color = red        number =    11 speciality = KING       face = down \n",
      "suit = club       color = black      number =    10 speciality = None       face = down \n",
      "suit = heart      color = red        number =     9 speciality = None       face = down \n",
      "suit = club       color = black      number =     8 speciality = None       face = down \n",
      "suit = heart      color = red        number =     7 speciality = None       face = down \n",
      "suit = spade      color = black      number =     6 speciality = None       face = up   \n",
      "printing tableau number 6 ********************\n",
      "suit = diamond    color = red        number =     6 speciality = None       face = down \n",
      "suit = spade      color = black      number =     5 speciality = None       face = down \n",
      "suit = diamond    color = red        number =     4 speciality = None       face = down \n",
      "suit = spade      color = black      number =     3 speciality = None       face = down \n",
      "suit = diamond    color = red        number =     2 speciality = None       face = down \n",
      "suit = spade      color = black      number =     1 speciality = ACE        face = up   \n",
      "printing tableau number 7 ********************\n",
      "suit = diamond    color = red        number =     7 speciality = None       face = down \n",
      "suit = club       color = black      number =     6 speciality = None       face = down \n",
      "suit = diamond    color = red        number =     5 speciality = None       face = up   \n"
     ]
    }
   ],
   "source": [
    "easy_en.get_tableau()"
   ]
  },
  {
   "cell_type": "code",
   "execution_count": 105,
   "metadata": {},
   "outputs": [
    {
     "name": "stdout",
     "output_type": "stream",
     "text": [
      "1 0\n",
      "wins: 1\n",
      "time taken :  0.01592111587524414\n"
     ]
    }
   ],
   "source": [
    "different_states,number_of_games,number_of_actions,action_freq,action_type = greedy_policy_search(easy_en= easy_en)"
   ]
  },
  {
   "cell_type": "code",
   "execution_count": 106,
   "metadata": {},
   "outputs": [
    {
     "data": {
      "text/plain": [
       "{0: 20, 1: 33, 2: 0, 3: 0, 4: 0, 5: 0}"
      ]
     },
     "execution_count": 106,
     "metadata": {},
     "output_type": "execute_result"
    }
   ],
   "source": [
    "action_freq"
   ]
  },
  {
   "cell_type": "code",
   "execution_count": 107,
   "metadata": {},
   "outputs": [
    {
     "data": {
      "text/plain": [
       "53"
      ]
     },
     "execution_count": 107,
     "metadata": {},
     "output_type": "execute_result"
    }
   ],
   "source": [
    "number_of_actions"
   ]
  },
  {
   "cell_type": "code",
   "execution_count": 108,
   "metadata": {},
   "outputs": [
    {
     "data": {
      "text/plain": [
       "{0: 'tableau_to_foundation_reveal',\n",
       " 1: 'to_foundation_stack',\n",
       " 2: 'tableau_to_tableau_reveal',\n",
       " 3: 'pile_to_tableau',\n",
       " 4: 'foundation_to_tableau',\n",
       " 5: 'tableau_to_tableau_not_reveal'}"
      ]
     },
     "execution_count": 108,
     "metadata": {},
     "output_type": "execute_result"
    }
   ],
   "source": [
    "action_type"
   ]
  },
  {
   "cell_type": "code",
   "execution_count": null,
   "metadata": {},
   "outputs": [],
   "source": []
  }
 ],
 "metadata": {
  "kernelspec": {
   "display_name": "Python 3",
   "language": "python",
   "name": "python3"
  },
  "language_info": {
   "codemirror_mode": {
    "name": "ipython",
    "version": 3
   },
   "file_extension": ".py",
   "mimetype": "text/x-python",
   "name": "python",
   "nbconvert_exporter": "python",
   "pygments_lexer": "ipython3",
   "version": "3.7.5"
  }
 },
 "nbformat": 4,
 "nbformat_minor": 2
}
